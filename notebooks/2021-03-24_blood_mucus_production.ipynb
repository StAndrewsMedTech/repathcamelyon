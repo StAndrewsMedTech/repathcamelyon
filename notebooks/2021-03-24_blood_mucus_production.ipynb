{
 "cells": [
  {
   "cell_type": "code",
   "execution_count": 1,
   "metadata": {},
   "outputs": [],
   "source": [
    "from repath.preprocess.tissue_detection.blood_mucus import get_slides_annots\n",
    "import repath.data.datasets.bloodmucus as bloodm\n",
    "\n",
    "level = 7\n",
    "dset = bloodm.training()\n",
    "\n",
    "#thumbz, annotz = get_slides_annots(dset, level)\n"
   ]
  },
  {
   "cell_type": "code",
   "execution_count": 2,
   "metadata": {},
   "outputs": [],
   "source": [
    "from PIL import Image\n",
    "import numpy as np\n",
    "\n",
    "def show_np(arr_in):\n",
    "    return Image.fromarray(np.array(arr_in, dtype=np.uint8))\n",
    "\n",
    "#show_np(annotz[0]*50)\n"
   ]
  },
  {
   "cell_type": "code",
   "execution_count": 3,
   "metadata": {},
   "outputs": [
    {
     "ename": "KeyboardInterrupt",
     "evalue": "",
     "output_type": "error",
     "traceback": [
      "\u001b[0;31m---------------------------------------------------------------------------\u001b[0m",
      "\u001b[0;31mKeyboardInterrupt\u001b[0m                         Traceback (most recent call last)",
      "\u001b[0;32m<ipython-input-3-936e32e15966>\u001b[0m in \u001b[0;36m<module>\u001b[0;34m\u001b[0m\n\u001b[1;32m      1\u001b[0m \u001b[0;32mfrom\u001b[0m \u001b[0mrepath\u001b[0m\u001b[0;34m.\u001b[0m\u001b[0mexperiments\u001b[0m\u001b[0;34m.\u001b[0m\u001b[0mbloodmuc\u001b[0m \u001b[0;32mimport\u001b[0m \u001b[0;34m*\u001b[0m\u001b[0;34m\u001b[0m\u001b[0;34m\u001b[0m\u001b[0m\n\u001b[1;32m      2\u001b[0m \u001b[0;34m\u001b[0m\u001b[0m\n\u001b[0;32m----> 3\u001b[0;31m \u001b[0mtrain_classifier\u001b[0m\u001b[0;34m(\u001b[0m\u001b[0;34m)\u001b[0m\u001b[0;34m\u001b[0m\u001b[0;34m\u001b[0m\u001b[0m\n\u001b[0m",
      "\u001b[0;32m~/repath/repath/experiments/bloodmuc.py\u001b[0m in \u001b[0;36mtrain_classifier\u001b[0;34m()\u001b[0m\n\u001b[1;32m     44\u001b[0m     \u001b[0mmorphology_transforms\u001b[0m \u001b[0;34m=\u001b[0m \u001b[0;34m[\u001b[0m\u001b[0mmorphology_transform1\u001b[0m\u001b[0;34m,\u001b[0m \u001b[0mmorphology_transform2\u001b[0m\u001b[0;34m]\u001b[0m\u001b[0;34m\u001b[0m\u001b[0;34m\u001b[0m\u001b[0m\n\u001b[1;32m     45\u001b[0m     \u001b[0mtissue_detector\u001b[0m \u001b[0;34m=\u001b[0m \u001b[0mTissueDetectorGreyScale\u001b[0m\u001b[0;34m(\u001b[0m\u001b[0mgrey_level\u001b[0m\u001b[0;34m=\u001b[0m\u001b[0;36m0.85\u001b[0m\u001b[0;34m,\u001b[0m \u001b[0mmorph_transform\u001b[0m \u001b[0;34m=\u001b[0m \u001b[0mmorphology_transforms\u001b[0m\u001b[0;34m)\u001b[0m\u001b[0;34m\u001b[0m\u001b[0;34m\u001b[0m\u001b[0m\n\u001b[0;32m---> 46\u001b[0;31m     \u001b[0mfiltered_thumbz\u001b[0m \u001b[0;34m=\u001b[0m \u001b[0mapply_tissue_detection\u001b[0m\u001b[0;34m(\u001b[0m\u001b[0mthumbz\u001b[0m\u001b[0;34m,\u001b[0m \u001b[0mtissue_detector\u001b[0m\u001b[0;34m)\u001b[0m\u001b[0;34m\u001b[0m\u001b[0;34m\u001b[0m\u001b[0m\n\u001b[0m\u001b[1;32m     47\u001b[0m \u001b[0;34m\u001b[0m\u001b[0m\n\u001b[1;32m     48\u001b[0m     \u001b[0;31m### classifier specific\u001b[0m\u001b[0;34m\u001b[0m\u001b[0;34m\u001b[0m\u001b[0;34m\u001b[0m\u001b[0m\n",
      "\u001b[0;32m~/repath/repath/preprocess/tissue_detection/blood_mucus.py\u001b[0m in \u001b[0;36mapply_tissue_detection\u001b[0;34m(thumbz, tissue_detector)\u001b[0m\n\u001b[1;32m     54\u001b[0m \u001b[0;34m\u001b[0m\u001b[0m\n\u001b[1;32m     55\u001b[0m     \u001b[0;32mfor\u001b[0m \u001b[0mtt\u001b[0m \u001b[0;32min\u001b[0m \u001b[0mthumbz\u001b[0m\u001b[0;34m:\u001b[0m\u001b[0;34m\u001b[0m\u001b[0;34m\u001b[0m\u001b[0m\n\u001b[0;32m---> 56\u001b[0;31m         \u001b[0mtissue_mask\u001b[0m \u001b[0;34m=\u001b[0m \u001b[0mtissue_detector\u001b[0m\u001b[0;34m(\u001b[0m\u001b[0mtt\u001b[0m\u001b[0;34m)\u001b[0m\u001b[0;34m\u001b[0m\u001b[0;34m\u001b[0m\u001b[0m\n\u001b[0m\u001b[1;32m     57\u001b[0m         \u001b[0mthree_d_mask\u001b[0m \u001b[0;34m=\u001b[0m \u001b[0mnp\u001b[0m\u001b[0;34m.\u001b[0m\u001b[0mexpand_dims\u001b[0m\u001b[0;34m(\u001b[0m\u001b[0mtissue_mask\u001b[0m\u001b[0;34m,\u001b[0m \u001b[0maxis\u001b[0m\u001b[0;34m=\u001b[0m\u001b[0;34m-\u001b[0m\u001b[0;36m1\u001b[0m\u001b[0;34m)\u001b[0m\u001b[0;34m\u001b[0m\u001b[0;34m\u001b[0m\u001b[0m\n\u001b[1;32m     58\u001b[0m         \u001b[0mthree_d_mask\u001b[0m \u001b[0;34m=\u001b[0m \u001b[0mnp\u001b[0m\u001b[0;34m.\u001b[0m\u001b[0mdstack\u001b[0m\u001b[0;34m(\u001b[0m\u001b[0;34m(\u001b[0m\u001b[0mthree_d_mask\u001b[0m\u001b[0;34m,\u001b[0m \u001b[0mthree_d_mask\u001b[0m\u001b[0;34m,\u001b[0m \u001b[0mthree_d_mask\u001b[0m\u001b[0;34m)\u001b[0m\u001b[0;34m)\u001b[0m\u001b[0;34m\u001b[0m\u001b[0;34m\u001b[0m\u001b[0m\n",
      "\u001b[0;32m~/repath/repath/preprocess/tissue_detection/tissue_detector.py\u001b[0m in \u001b[0;36m__call__\u001b[0;34m(self, image)\u001b[0m\n\u001b[1;32m    209\u001b[0m         \u001b[0;31m# apply morphological transforms\u001b[0m\u001b[0;34m\u001b[0m\u001b[0;34m\u001b[0m\u001b[0;34m\u001b[0m\u001b[0m\n\u001b[1;32m    210\u001b[0m         \u001b[0;32mfor\u001b[0m \u001b[0mmt\u001b[0m \u001b[0;32min\u001b[0m \u001b[0mself\u001b[0m\u001b[0;34m.\u001b[0m\u001b[0mmorph_transform\u001b[0m\u001b[0;34m:\u001b[0m\u001b[0;34m\u001b[0m\u001b[0;34m\u001b[0m\u001b[0m\n\u001b[0;32m--> 211\u001b[0;31m             \u001b[0mnp_mask\u001b[0m \u001b[0;34m=\u001b[0m \u001b[0mmt\u001b[0m\u001b[0;34m(\u001b[0m\u001b[0mnp_mask\u001b[0m\u001b[0;34m)\u001b[0m\u001b[0;34m\u001b[0m\u001b[0;34m\u001b[0m\u001b[0m\n\u001b[0m\u001b[1;32m    212\u001b[0m \u001b[0;34m\u001b[0m\u001b[0m\n\u001b[1;32m    213\u001b[0m         \u001b[0;32mreturn\u001b[0m \u001b[0mnp_mask\u001b[0m\u001b[0;34m\u001b[0m\u001b[0;34m\u001b[0m\u001b[0m\n",
      "\u001b[0;32m~/repath/repath/preprocess/tissue_detection/tissue_detector.py\u001b[0m in \u001b[0;36m__call__\u001b[0;34m(self, image)\u001b[0m\n\u001b[1;32m     66\u001b[0m         \u001b[0mpixels_to_expand\u001b[0m \u001b[0;34m=\u001b[0m \u001b[0mmath\u001b[0m\u001b[0;34m.\u001b[0m\u001b[0mceil\u001b[0m\u001b[0;34m(\u001b[0m\u001b[0mself\u001b[0m\u001b[0;34m.\u001b[0m\u001b[0mexpand_size\u001b[0m \u001b[0;34m/\u001b[0m \u001b[0marea_of_pixel\u001b[0m\u001b[0;34m)\u001b[0m\u001b[0;34m\u001b[0m\u001b[0;34m\u001b[0m\u001b[0m\n\u001b[1;32m     67\u001b[0m         \u001b[0mneighbourhood\u001b[0m \u001b[0;34m=\u001b[0m \u001b[0mnp\u001b[0m\u001b[0;34m.\u001b[0m\u001b[0mones\u001b[0m\u001b[0;34m(\u001b[0m\u001b[0;34m(\u001b[0m\u001b[0mpixels_to_expand\u001b[0m\u001b[0;34m,\u001b[0m \u001b[0mpixels_to_expand\u001b[0m\u001b[0;34m)\u001b[0m\u001b[0;34m)\u001b[0m\u001b[0;34m\u001b[0m\u001b[0;34m\u001b[0m\u001b[0m\n\u001b[0;32m---> 68\u001b[0;31m         \u001b[0mmask_out\u001b[0m \u001b[0;34m=\u001b[0m \u001b[0mbinary_closing\u001b[0m\u001b[0;34m(\u001b[0m\u001b[0mimage\u001b[0m\u001b[0;34m,\u001b[0m \u001b[0mneighbourhood\u001b[0m\u001b[0;34m)\u001b[0m\u001b[0;34m\u001b[0m\u001b[0;34m\u001b[0m\u001b[0m\n\u001b[0m\u001b[1;32m     69\u001b[0m         \u001b[0;32mreturn\u001b[0m \u001b[0mmask_out\u001b[0m\u001b[0;34m\u001b[0m\u001b[0;34m\u001b[0m\u001b[0m\n\u001b[1;32m     70\u001b[0m \u001b[0;34m\u001b[0m\u001b[0m\n",
      "\u001b[0;32m~/anaconda3/envs/repath/lib/python3.6/site-packages/skimage/morphology/misc.py\u001b[0m in \u001b[0;36mfunc_out\u001b[0;34m(image, selem, *args, **kwargs)\u001b[0m\n\u001b[1;32m     37\u001b[0m         \u001b[0;32mif\u001b[0m \u001b[0mselem\u001b[0m \u001b[0;32mis\u001b[0m \u001b[0;32mNone\u001b[0m\u001b[0;34m:\u001b[0m\u001b[0;34m\u001b[0m\u001b[0;34m\u001b[0m\u001b[0m\n\u001b[1;32m     38\u001b[0m             \u001b[0mselem\u001b[0m \u001b[0;34m=\u001b[0m \u001b[0m_default_selem\u001b[0m\u001b[0;34m(\u001b[0m\u001b[0mimage\u001b[0m\u001b[0;34m.\u001b[0m\u001b[0mndim\u001b[0m\u001b[0;34m)\u001b[0m\u001b[0;34m\u001b[0m\u001b[0;34m\u001b[0m\u001b[0m\n\u001b[0;32m---> 39\u001b[0;31m         \u001b[0;32mreturn\u001b[0m \u001b[0mfunc\u001b[0m\u001b[0;34m(\u001b[0m\u001b[0mimage\u001b[0m\u001b[0;34m,\u001b[0m \u001b[0mselem\u001b[0m\u001b[0;34m=\u001b[0m\u001b[0mselem\u001b[0m\u001b[0;34m,\u001b[0m \u001b[0;34m*\u001b[0m\u001b[0margs\u001b[0m\u001b[0;34m,\u001b[0m \u001b[0;34m**\u001b[0m\u001b[0mkwargs\u001b[0m\u001b[0;34m)\u001b[0m\u001b[0;34m\u001b[0m\u001b[0;34m\u001b[0m\u001b[0m\n\u001b[0m\u001b[1;32m     40\u001b[0m \u001b[0;34m\u001b[0m\u001b[0m\n\u001b[1;32m     41\u001b[0m     \u001b[0;32mreturn\u001b[0m \u001b[0mfunc_out\u001b[0m\u001b[0;34m\u001b[0m\u001b[0;34m\u001b[0m\u001b[0m\n",
      "\u001b[0;32m~/anaconda3/envs/repath/lib/python3.6/site-packages/skimage/morphology/binary.py\u001b[0m in \u001b[0;36mbinary_closing\u001b[0;34m(image, selem, out)\u001b[0m\n\u001b[1;32m    143\u001b[0m     \"\"\"\n\u001b[1;32m    144\u001b[0m     \u001b[0mdilated\u001b[0m \u001b[0;34m=\u001b[0m \u001b[0mbinary_dilation\u001b[0m\u001b[0;34m(\u001b[0m\u001b[0mimage\u001b[0m\u001b[0;34m,\u001b[0m \u001b[0mselem\u001b[0m\u001b[0;34m)\u001b[0m\u001b[0;34m\u001b[0m\u001b[0;34m\u001b[0m\u001b[0m\n\u001b[0;32m--> 145\u001b[0;31m     \u001b[0mout\u001b[0m \u001b[0;34m=\u001b[0m \u001b[0mbinary_erosion\u001b[0m\u001b[0;34m(\u001b[0m\u001b[0mdilated\u001b[0m\u001b[0;34m,\u001b[0m \u001b[0mselem\u001b[0m\u001b[0;34m,\u001b[0m \u001b[0mout\u001b[0m\u001b[0;34m=\u001b[0m\u001b[0mout\u001b[0m\u001b[0;34m)\u001b[0m\u001b[0;34m\u001b[0m\u001b[0;34m\u001b[0m\u001b[0m\n\u001b[0m\u001b[1;32m    146\u001b[0m     \u001b[0;32mreturn\u001b[0m \u001b[0mout\u001b[0m\u001b[0;34m\u001b[0m\u001b[0;34m\u001b[0m\u001b[0m\n",
      "\u001b[0;32m~/anaconda3/envs/repath/lib/python3.6/site-packages/skimage/morphology/misc.py\u001b[0m in \u001b[0;36mfunc_out\u001b[0;34m(image, selem, *args, **kwargs)\u001b[0m\n\u001b[1;32m     37\u001b[0m         \u001b[0;32mif\u001b[0m \u001b[0mselem\u001b[0m \u001b[0;32mis\u001b[0m \u001b[0;32mNone\u001b[0m\u001b[0;34m:\u001b[0m\u001b[0;34m\u001b[0m\u001b[0;34m\u001b[0m\u001b[0m\n\u001b[1;32m     38\u001b[0m             \u001b[0mselem\u001b[0m \u001b[0;34m=\u001b[0m \u001b[0m_default_selem\u001b[0m\u001b[0;34m(\u001b[0m\u001b[0mimage\u001b[0m\u001b[0;34m.\u001b[0m\u001b[0mndim\u001b[0m\u001b[0;34m)\u001b[0m\u001b[0;34m\u001b[0m\u001b[0;34m\u001b[0m\u001b[0m\n\u001b[0;32m---> 39\u001b[0;31m         \u001b[0;32mreturn\u001b[0m \u001b[0mfunc\u001b[0m\u001b[0;34m(\u001b[0m\u001b[0mimage\u001b[0m\u001b[0;34m,\u001b[0m \u001b[0mselem\u001b[0m\u001b[0;34m=\u001b[0m\u001b[0mselem\u001b[0m\u001b[0;34m,\u001b[0m \u001b[0;34m*\u001b[0m\u001b[0margs\u001b[0m\u001b[0;34m,\u001b[0m \u001b[0;34m**\u001b[0m\u001b[0mkwargs\u001b[0m\u001b[0;34m)\u001b[0m\u001b[0;34m\u001b[0m\u001b[0;34m\u001b[0m\u001b[0m\n\u001b[0m\u001b[1;32m     40\u001b[0m \u001b[0;34m\u001b[0m\u001b[0m\n\u001b[1;32m     41\u001b[0m     \u001b[0;32mreturn\u001b[0m \u001b[0mfunc_out\u001b[0m\u001b[0;34m\u001b[0m\u001b[0;34m\u001b[0m\u001b[0m\n",
      "\u001b[0;32m~/anaconda3/envs/repath/lib/python3.6/site-packages/skimage/morphology/binary.py\u001b[0m in \u001b[0;36mbinary_erosion\u001b[0;34m(image, selem, out)\u001b[0m\n\u001b[1;32m     40\u001b[0m     \u001b[0;32mif\u001b[0m \u001b[0mout\u001b[0m \u001b[0;32mis\u001b[0m \u001b[0;32mNone\u001b[0m\u001b[0;34m:\u001b[0m\u001b[0;34m\u001b[0m\u001b[0;34m\u001b[0m\u001b[0m\n\u001b[1;32m     41\u001b[0m         \u001b[0mout\u001b[0m \u001b[0;34m=\u001b[0m \u001b[0mnp\u001b[0m\u001b[0;34m.\u001b[0m\u001b[0mempty\u001b[0m\u001b[0;34m(\u001b[0m\u001b[0mimage\u001b[0m\u001b[0;34m.\u001b[0m\u001b[0mshape\u001b[0m\u001b[0;34m,\u001b[0m \u001b[0mdtype\u001b[0m\u001b[0;34m=\u001b[0m\u001b[0mnp\u001b[0m\u001b[0;34m.\u001b[0m\u001b[0mbool\u001b[0m\u001b[0;34m)\u001b[0m\u001b[0;34m\u001b[0m\u001b[0;34m\u001b[0m\u001b[0m\n\u001b[0;32m---> 42\u001b[0;31m     \u001b[0mndi\u001b[0m\u001b[0;34m.\u001b[0m\u001b[0mbinary_erosion\u001b[0m\u001b[0;34m(\u001b[0m\u001b[0mimage\u001b[0m\u001b[0;34m,\u001b[0m \u001b[0mstructure\u001b[0m\u001b[0;34m=\u001b[0m\u001b[0mselem\u001b[0m\u001b[0;34m,\u001b[0m \u001b[0moutput\u001b[0m\u001b[0;34m=\u001b[0m\u001b[0mout\u001b[0m\u001b[0;34m,\u001b[0m \u001b[0mborder_value\u001b[0m\u001b[0;34m=\u001b[0m\u001b[0;32mTrue\u001b[0m\u001b[0;34m)\u001b[0m\u001b[0;34m\u001b[0m\u001b[0;34m\u001b[0m\u001b[0m\n\u001b[0m\u001b[1;32m     43\u001b[0m     \u001b[0;32mreturn\u001b[0m \u001b[0mout\u001b[0m\u001b[0;34m\u001b[0m\u001b[0;34m\u001b[0m\u001b[0m\n\u001b[1;32m     44\u001b[0m \u001b[0;34m\u001b[0m\u001b[0m\n",
      "\u001b[0;32m~/anaconda3/envs/repath/lib/python3.6/site-packages/scipy/ndimage/morphology.py\u001b[0m in \u001b[0;36mbinary_erosion\u001b[0;34m(input, structure, iterations, mask, output, border_value, origin, brute_force)\u001b[0m\n\u001b[1;32m    385\u001b[0m     \"\"\"\n\u001b[1;32m    386\u001b[0m     return _binary_erosion(input, structure, iterations, mask,\n\u001b[0;32m--> 387\u001b[0;31m                            output, border_value, origin, 0, brute_force)\n\u001b[0m\u001b[1;32m    388\u001b[0m \u001b[0;34m\u001b[0m\u001b[0m\n\u001b[1;32m    389\u001b[0m \u001b[0;34m\u001b[0m\u001b[0m\n",
      "\u001b[0;32m~/anaconda3/envs/repath/lib/python3.6/site-packages/scipy/ndimage/morphology.py\u001b[0m in \u001b[0;36m_binary_erosion\u001b[0;34m(input, structure, iterations, mask, output, border_value, origin, invert, brute_force)\u001b[0m\n\u001b[1;32m    252\u001b[0m     \u001b[0;32mif\u001b[0m \u001b[0miterations\u001b[0m \u001b[0;34m==\u001b[0m \u001b[0;36m1\u001b[0m\u001b[0;34m:\u001b[0m\u001b[0;34m\u001b[0m\u001b[0;34m\u001b[0m\u001b[0m\n\u001b[1;32m    253\u001b[0m         _nd_image.binary_erosion(input, structure, mask, output,\n\u001b[0;32m--> 254\u001b[0;31m                                  border_value, origin, invert, cit, 0)\n\u001b[0m\u001b[1;32m    255\u001b[0m         \u001b[0;32mreturn\u001b[0m \u001b[0moutput\u001b[0m\u001b[0;34m\u001b[0m\u001b[0;34m\u001b[0m\u001b[0m\n\u001b[1;32m    256\u001b[0m     \u001b[0;32melif\u001b[0m \u001b[0mcit\u001b[0m \u001b[0;32mand\u001b[0m \u001b[0;32mnot\u001b[0m \u001b[0mbrute_force\u001b[0m\u001b[0;34m:\u001b[0m\u001b[0;34m\u001b[0m\u001b[0;34m\u001b[0m\u001b[0m\n",
      "\u001b[0;31mKeyboardInterrupt\u001b[0m: "
     ]
    }
   ],
   "source": [
    "from repath.experiments.bloodmuc import *\n",
    "\n",
    "train_classifier()\n"
   ]
  },
  {
   "cell_type": "code",
   "execution_count": 4,
   "metadata": {},
   "outputs": [],
   "source": [
    "import json\n",
    "from joblib import dump, load\n",
    "from pathlib import Path\n",
    "\n",
    "import cv2\n",
    "import numpy as np\n",
    "import pandas as pd\n",
    "from PIL import Image\n",
    "from sklearn.ensemble import RandomForestClassifier\n",
    "\n",
    "import repath.data.datasets.bloodmucus as bloodm\n",
    "from repath.preprocess.patching import GridPatchFinder, SlidesIndex, CombinedIndex\n",
    "from repath.preprocess.tissue_detection import TissueDetectorGreyScale, SizedClosingTransform, FillHolesTransform\n",
    "from repath.preprocess.tissue_detection.blood_mucus import get_slides_annots, apply_tissue_detection, get_features_list, fit_segmenter_multi, predict_segmenter, get_features, pool_blood_mucus\n",
    "from repath.utils.paths import project_root\n",
    "from repath.utils.seeds import set_seed\n",
    "\n",
    "\"\"\"\n",
    "Global stuff\n",
    "\"\"\"\n",
    "experiment_name = \"bloodmucus\"\n",
    "experiment_root = project_root() / \"experiments\" / experiment_name\n",
    "\n",
    "global_seed = 123"
   ]
  },
  {
   "cell_type": "code",
   "execution_count": null,
   "metadata": {},
   "outputs": [],
   "source": [
    "# # set values\n",
    "# set_seed(global_seed)\n",
    "# level_label = 6\n",
    "thumb_level = 7\n",
    "\n",
    "# # read in slides and annotations for training\n",
    "dset = bloodm.blood_mucus()\n",
    "# thumbz, annotz = get_slides_annots(dset, level_label)\n",
    "thumbz_out, annotz_out = get_slides_annots(dset, thumb_level)\n",
    "\n",
    "# ## temp for debugging\n",
    "# thumbz = thumbz[20:]\n",
    "# annotz = annotz[20:]\n",
    "# thumbz_out = thumbz_out[20:]\n",
    "# annotz_out = annotz_out[20:]\n",
    "\n",
    "# # apply tissue detection\n",
    "# morphology_transform1 = SizedClosingTransform(level_in=level_label)\n",
    "# morphology_transform2 = FillHolesTransform(level_in=level_label)\n",
    "# morphology_transforms = [morphology_transform1, morphology_transform2]\n",
    "# tissue_detector = TissueDetectorGreyScale(grey_level=0.85, morph_transform = morphology_transforms)\n",
    "# filtered_thumbz = apply_tissue_detection(thumbz, tissue_detector)\n",
    "\n",
    "# # get features\n",
    "# featz = get_features_list(filtered_thumbz)\n",
    "\n",
    "# # load classifier\n",
    "# clf = load(experiment_root / 'rforest.joblib')\n",
    "\n",
    "# # settings\n",
    "# patch_level = 0\n",
    "# patch_size = 2**thumb_level\n",
    "# stride = patch_size\n",
    "# scale_factor = 2 ** (level_label - patch_level)\n",
    "# kernel_size = int(patch_size / scale_factor)\n",
    "# label_level_stride = int(stride / scale_factor)\n",
    "\n",
    "# # set output directories\n",
    "# labels_dir = experiment_root / 'labels'\n",
    "# labels_dir.mkdir(parents=True, exist_ok=True)\n",
    "# tissue_dir = experiment_root / 'tissue'\n",
    "# tissue_dir.mkdir(parents=True, exist_ok=True)\n",
    "# bloodm_dir = experiment_root / 'bloodm'\n",
    "# bloodm_dir.mkdir(parents=True, exist_ok=True)\n",
    "# annot_out_dir = experiment_root / 'annot_out'\n",
    "# annot_out_dir.mkdir(parents=True, exist_ok=True)"
   ]
  },
  {
   "cell_type": "code",
   "execution_count": null,
   "metadata": {},
   "outputs": [],
   "source": [
    "# for idx, thumb in enumerate(thumbz):\n",
    "#     features = get_features(thumb)\n",
    "#     output = predict_segmenter(features, clf)\n",
    "#     tissue_mask = tissue_detector(thumb)\n",
    "#     filtered_output = np.where(np.logical_not(tissue_mask), 0, output)\n",
    "#     output_labels = pool_blood_mucus(filtered_output, kernel_size, label_level_stride, 0)\n",
    "#     # create image with just tissue \n",
    "#     thumb_out = thumbz_out[idx]\n",
    "#     if thumb_out.shape[0:2] != output_labels.shape:\n",
    "#         output_labels = output_labels[0:thumb_out.shape[0], 0:thumb_out.shape[1]]\n",
    "#     tissue_output = np.where(np.expand_dims(output_labels, axis=-1) == 1, thumb_out, 255)\n",
    "#     # create image with jsut blood mucus\n",
    "#     bloodm_output = np.where(np.expand_dims(output_labels, axis=-1) == 2, thumb_out, 255)\n",
    "#     # convert to pil images and write\n",
    "#     filename = str(idx) + '.png'\n",
    "#     labels_image = Image.fromarray(np.array(output_labels*100, dtype=np.uint8))\n",
    "#     labels_image.save(labels_dir / filename)\n",
    "#     annot_out_image = Image.fromarray(np.array(annotz_out[idx]*50, dtype=np.uint8))\n",
    "#     annot_out_image.save(annot_out_dir / filename)\n",
    "#     tissue_image = Image.fromarray(np.array(tissue_output, dtype=np.uint8))\n",
    "#     tissue_image.save(tissue_dir / filename)\n",
    "#     bloodm_image = Image.fromarray(np.array(bloodm_output, dtype=np.uint8))\n",
    "#     bloodm_image.save(bloodm_dir / filename)\n",
    "#     print(idx)"
   ]
  },
  {
   "cell_type": "code",
   "execution_count": null,
   "metadata": {},
   "outputs": [],
   "source": [
    "annot_out = annotz_out[0]\n",
    "annot_out = np.expand_dims(annot_out, axis=-1)\n",
    "annot_out_cl = np.dstack((annot_out, annot_out, annot_out))\n",
    "tissue = np.array([255,255,255]).reshape((1,1,3))\n",
    "blood = np.array([255,0,0]).reshape((1,1,3))\n",
    "mucus = np.array([255,208,182]).reshape((1,1,3))\n",
    "blmuc = np.array([186,85,211]).reshape((1,1,3))\n",
    "annot_out_cl = np.where(annot_out == 1, tissue, annot_out_cl)\n",
    "annot_out_cl = np.where(annot_out == 2, blood, annot_out_cl)\n",
    "annot_out_cl = np.where(annot_out == 3, mucus, annot_out_cl)\n",
    "annot_out_cl = np.where(annot_out == 4, blmuc, annot_out_cl)"
   ]
  },
  {
   "cell_type": "code",
   "execution_count": null,
   "metadata": {},
   "outputs": [],
   "source": [
    "show_np(annot_out_cl)"
   ]
  },
  {
   "cell_type": "code",
   "execution_count": null,
   "metadata": {},
   "outputs": [],
   "source": [
    "# lab_im = Image.open(labels_dir / \"0.png\")\n",
    "# tis_im = Image.open(tissue_dir / \"0.png\")\n",
    "# blm_im = Image.open(bloodm_dir / \"0.png\")\n",
    "# ann_im = Image.open(annot_out_dir / \"0.png\")"
   ]
  },
  {
   "cell_type": "code",
   "execution_count": null,
   "metadata": {},
   "outputs": [],
   "source": [
    "# def get_concat_h(im1, im2):\n",
    "#     dst = Image.new('RGB', (im1.width + im2.width, im1.height))\n",
    "#     dst.paste(im1, (0, 0))\n",
    "#     dst.paste(im2, (im1.width, 0))\n",
    "#     return dst\n",
    "\n",
    "# def get_concat_v(im1, im2):\n",
    "#     dst = Image.new('RGB', (im1.width, im1.height + im2.height))\n",
    "#     dst.paste(im1, (0, 0))\n",
    "#     dst.paste(im2, (0, im1.height))\n",
    "#     return dst\n",
    "\n",
    "# top_row = get_concat_h(lab_im, tis_im)#.save('data/dst/pillow_concat_h.jpg')\n",
    "# low_row = get_concat_h(blm_im, ann_im)#.save('data/dst/pillow_concat_h.jpg')\n",
    "# get_concat_v(top_row, low_row)#.save('data/dst/pillow_concat_v.jpg')\n"
   ]
  },
  {
   "cell_type": "code",
   "execution_count": 1,
   "metadata": {},
   "outputs": [
    {
     "name": "stdout",
     "output_type": "stream",
     "text": [
      "0\n",
      "1\n",
      "2\n",
      "3\n",
      "4\n",
      "5\n"
     ]
    },
    {
     "data": {
      "image/png": "[encoded data removed]",
      "text/plain": [
       "<Figure size 576x576 with 1 Axes>"
      ]
     },
     "metadata": {
      "needs_background": "light"
     },
     "output_type": "display_data"
    },
    {
     "data": {
      "image/png": "[encoded data removed]",
      "text/plain": [
       "<Figure size 576x576 with 1 Axes>"
      ]
     },
     "metadata": {
      "needs_background": "light"
     },
     "output_type": "display_data"
    }
   ],
   "source": [
    "from repath.experiments.bloodmuc import *\n",
    "\n",
    "predict_images()\n"
   ]
  },
  {
   "cell_type": "code",
   "execution_count": null,
   "metadata": {},
   "outputs": [],
   "source": [
    "mosaic_dir = experiment_root / 'mosaic'\n",
    "Image.open(mosaic_dir / \"9.png\")"
   ]
  },
  {
   "cell_type": "code",
   "execution_count": null,
   "metadata": {},
   "outputs": [],
   "source": [
    "import repath.data.datasets.bloodmucus as bloodm\n",
    "\n",
    "dset = bloodm.validation()"
   ]
  },
  {
   "cell_type": "code",
   "execution_count": null,
   "metadata": {},
   "outputs": [],
   "source": [
    "dset.paths"
   ]
  },
  {
   "cell_type": "code",
   "execution_count": null,
   "metadata": {},
   "outputs": [],
   "source": [
    "from repath.utils.paths import project_root\n",
    "\n",
    "experiment_name = \"bloodmucus\"\n",
    "experiment_root = project_root() / \"experiments\" / experiment_name\n",
    "\n",
    "json_path = project_root() / dset.root / dset.paths.annotation[5]\n",
    "\n",
    "json_path"
   ]
  },
  {
   "cell_type": "code",
   "execution_count": null,
   "metadata": {},
   "outputs": [],
   "source": [
    "anns = dset.load_annotations(json_path, \"background\")\n",
    "ann_areas = dset.load_annotated_area(json_path)\n",
    "len(ann_areas.annotations)"
   ]
  },
  {
   "cell_type": "code",
   "execution_count": null,
   "metadata": {},
   "outputs": [],
   "source": [
    "from PIL import Image\n",
    "import numpy as np\n",
    "\n",
    "def show_np(arr_in):\n",
    "    return Image.fromarray(np.array(arr_in, dtype=np.uint8))\n",
    "\n",
    "from repath.preprocess.tissue_detection.blood_mucus import get_slides_annots\n",
    "\n",
    "thumbz, annotz = get_slides_annots(dset, 6, \"background\")\n"
   ]
  },
  {
   "cell_type": "code",
   "execution_count": null,
   "metadata": {},
   "outputs": [],
   "source": [
    "show_np(thumbz[5])"
   ]
  },
  {
   "cell_type": "code",
   "execution_count": null,
   "metadata": {},
   "outputs": [],
   "source": [
    "show_np(anns.render(thumbz[5].shape[0:2], 64)*50)"
   ]
  },
  {
   "cell_type": "code",
   "execution_count": null,
   "metadata": {},
   "outputs": [],
   "source": [
    "show_np(ann_areas.render(thumbz[5].shape[0:2], 64)*50)"
   ]
  },
  {
   "cell_type": "code",
   "execution_count": null,
   "metadata": {},
   "outputs": [],
   "source": [
    "import json\n",
    "from joblib import dump, load\n",
    "from pathlib import Path\n",
    "\n",
    "import cv2\n",
    "import numpy as np\n",
    "import pandas as pd\n",
    "from PIL import Image\n",
    "from sklearn.ensemble import RandomForestClassifier\n",
    "\n",
    "import repath.data.datasets.bloodmucus as bloodm\n",
    "from repath.preprocess.patching import GridPatchFinder, SlidesIndex, CombinedIndex\n",
    "from repath.preprocess.tissue_detection import TissueDetectorGreyScale, SizedClosingTransform, FillHolesTransform\n",
    "from repath.preprocess.tissue_detection.blood_mucus import get_slides_annots, apply_tissue_detection, get_features_list, fit_segmenter_multi, predict_segmenter, get_features, pool_blood_mucus\n",
    "from repath.utils.convert import get_concat_h, get_concat_v\n",
    "from repath.utils.paths import project_root\n",
    "from repath.utils.seeds import set_seed\n",
    "\n",
    "\"\"\"\n",
    "Global stuff\n",
    "\"\"\"\n",
    "experiment_name = \"bloodmucus\"\n",
    "experiment_root = project_root() / \"experiments\" / experiment_name\n",
    "\n",
    "global_seed = 123\n",
    "\n",
    "level_label = 6\n",
    "thumb_level = 7\n",
    "\n",
    "# read in slides and annotations for training\n",
    "dset = bloodm.validation()\n",
    "# assume unlabeled annotations are the annotated area label as background for now\n",
    "thumbz, annotz = get_slides_annots(dset, level_label, \"background\")\n",
    "thumbz_out, annotz_out = get_slides_annots(dset, thumb_level, \"background\")\n",
    "\n",
    "\n",
    "# apply tissue detection\n",
    "morphology_transform1 = SizedClosingTransform(level_in=level_label)\n",
    "morphology_transform2 = FillHolesTransform(level_in=level_label)\n",
    "morphology_transforms = [morphology_transform1, morphology_transform2]\n",
    "tissue_detector = TissueDetectorGreyScale(grey_level=0.85, morph_transform = morphology_transforms)\n",
    "filtered_thumbz = apply_tissue_detection(thumbz, tissue_detector)\n",
    "\n",
    "# get features\n",
    "featz = get_features_list(filtered_thumbz)\n",
    "\n",
    "# set output directories\n",
    "labels_dir = experiment_root / 'labels'\n",
    "labels_dir.mkdir(parents=True, exist_ok=True)\n",
    "tissue_dir = experiment_root / 'tissue'\n",
    "tissue_dir.mkdir(parents=True, exist_ok=True)\n",
    "bloodm_dir = experiment_root / 'bloodm'\n",
    "bloodm_dir.mkdir(parents=True, exist_ok=True)\n",
    "annot_out_dir = experiment_root / 'annot_out'\n",
    "annot_out_dir.mkdir(parents=True, exist_ok=True)\n",
    "mosaic_dir = experiment_root / 'mosaic'\n",
    "mosaic_dir.mkdir(parents=True, exist_ok=True)\n",
    "\n",
    "### classifier specific \n",
    "# load classifier\n",
    "clf = load(experiment_root / 'rforest.joblib')\n",
    "# settings for classifier\n",
    "patch_level = 0\n",
    "patch_size = 2**thumb_level\n",
    "stride = patch_size\n",
    "scale_factor = 2 ** (level_label - patch_level)\n",
    "kernel_size = int(patch_size / scale_factor)\n",
    "label_level_stride = int(stride / scale_factor)"
   ]
  },
  {
   "cell_type": "code",
   "execution_count": null,
   "metadata": {},
   "outputs": [],
   "source": [
    "idx = 0\n",
    "thumb = thumbz[0]\n",
    "\n",
    "### classifier specific\n",
    "features = get_features(thumb)\n",
    "output = predict_segmenter(features, clf)\n",
    "tissue_mask = tissue_detector(thumb)\n",
    "filtered_output = np.where(np.logical_not(tissue_mask), 0, output)\n",
    "output_labels = pool_blood_mucus(filtered_output, kernel_size, label_level_stride, 0)\n",
    "\n",
    "### generic can be reused for multiple classifiers\n",
    "# create image with just tissue \n",
    "thumb_out = thumbz_out[idx]\n",
    "if thumb_out.shape[0:2] != output_labels.shape:\n",
    "    output_labels = output_labels[0:thumb_out.shape[0], 0:thumb_out.shape[1]]\n",
    "tissue_output = np.where(np.expand_dims(output_labels, axis=-1) == 1, thumb_out, 255)\n",
    "# create image with jsut blood mucus\n",
    "bloodm_output = np.where(np.expand_dims(output_labels, axis=-1) == 2, thumb_out, 255)\n",
    "# convert to pil images and write\n",
    "filename = str(idx) + '.png'\n",
    "labels_image = Image.fromarray(np.array(output_labels*100, dtype=np.uint8))\n",
    "labels_image.save(labels_dir / filename)\n",
    "# make annot image coloured\n",
    "annot_out = annotz_out[idx]\n",
    "annot_out = np.expand_dims(annot_out, axis=-1)\n",
    "annot_out_cl = np.dstack((annot_out, annot_out, annot_out))\n",
    "tissue = np.array([255,255,255]).reshape((1,1,3))\n",
    "blood = np.array([255,0,0]).reshape((1,1,3))\n",
    "mucus = np.array([255,208,182]).reshape((1,1,3))\n",
    "blmuc = np.array([186,85,211]).reshape((1,1,3))\n",
    "annot_out_cl = np.where(annot_out == 1, tissue, annot_out_cl)\n",
    "annot_out_cl = np.where(annot_out == 2, blood, annot_out_cl)\n",
    "annot_out_cl = np.where(annot_out == 3, mucus, annot_out_cl)\n",
    "annot_out_cl = np.where(annot_out == 4, blmuc, annot_out_cl)\n",
    "\n",
    "annot_out_image = Image.fromarray(np.array(annot_out_cl, dtype=np.uint8))\n",
    "annot_out_image.save(annot_out_dir / filename)\n",
    "tissue_image = Image.fromarray(np.array(tissue_output, dtype=np.uint8))\n",
    "tissue_image.save(tissue_dir / filename)\n",
    "bloodm_image = Image.fromarray(np.array(bloodm_output, dtype=np.uint8))\n",
    "bloodm_image.save(bloodm_dir / filename)\n",
    "top_row = get_concat_h(labels_image, tissue_image)\n",
    "low_row = get_concat_h(bloodm_image, annot_out_image)\n",
    "get_concat_v(top_row, low_row).save(mosaic_dir / filename)\n",
    "print(idx)"
   ]
  },
  {
   "cell_type": "code",
   "execution_count": null,
   "metadata": {},
   "outputs": [],
   "source": [
    "# get cut down area of annotations\n",
    "annot_area = np.expand_dims(ann_areas.render(thumb_out.shape[0:2], 128), axis=-1)\n",
    "print(np.max(annot_out))\n",
    "annots_cut_down = np.where(annot_area > 0, annot_out, 0)\n",
    "annots_cut_down_combined_bloodm = np.where(annots_cut_down > 1, 2, annots_cut_down)\n",
    "show_np(annots_cut_down_combined_bloodm[:,:,0]*100)"
   ]
  },
  {
   "cell_type": "code",
   "execution_count": null,
   "metadata": {},
   "outputs": [],
   "source": [
    "# get cut down area of predictions\n",
    "preds_cut_down = np.where(np.squeeze(annot_area) > 0, output_labels, 0)\n",
    "print(np.max(preds_cut_down))\n",
    "show_np(preds_cut_down*100)"
   ]
  },
  {
   "cell_type": "code",
   "execution_count": null,
   "metadata": {},
   "outputs": [],
   "source": [
    "acd_cbm = annots_cut_down_combined_bloodm[:, :, 0]\n",
    "black_area_calc = preds_cut_down.shape[0]*preds_cut_down.shape[0] - np.sum(ann_areas.render(thumb_out.shape[0:2], 128)>0)\n",
    "print(black_area_calc)\n",
    "tru0_pred0 = np.sum(np.logical_and(acd_cbm == 0, preds_cut_down == 0))\n",
    "tru0_pred1 = np.sum(np.logical_and(acd_cbm == 0, preds_cut_down == 1))\n",
    "tru0_pred2 = np.sum(np.logical_and(acd_cbm == 0, preds_cut_down == 2))\n",
    "tru1_pred0 = np.sum(np.logical_and(acd_cbm == 1, preds_cut_down == 0))\n",
    "tru1_pred1 = np.sum(np.logical_and(acd_cbm == 1, preds_cut_down == 1))\n",
    "tru1_pred2 = np.sum(np.logical_and(acd_cbm == 1, preds_cut_down == 2))\n",
    "tru2_pred0 = np.sum(np.logical_and(acd_cbm == 2, preds_cut_down == 0))\n",
    "tru2_pred1 = np.sum(np.logical_and(acd_cbm == 2, preds_cut_down == 1))\n",
    "tru2_pred2 = np.sum(np.logical_and(acd_cbm == 2, preds_cut_down == 2))\n",
    "\n",
    "cm = [[tru0_pred0, tru0_pred1, tru0_pred2],[tru1_pred0, tru1_pred1, tru1_pred2], [tru2_pred0, tru2_pred1, tru2_pred2]]\n",
    "cm\n"
   ]
  },
  {
   "cell_type": "code",
   "execution_count": null,
   "metadata": {},
   "outputs": [],
   "source": [
    "tru0_pred0 = np.sum(np.logical_and(acd_cbm == 0, np.logical_not(preds_cut_down == 1)))\n",
    "tru0_pred1 = np.sum(np.logical_and(acd_cbm == 0, preds_cut_down == 1))\n",
    "tru1_pred0 = np.sum(np.logical_and(acd_cbm == 1, np.logical_not(preds_cut_down == 1)))\n",
    "tru1_pred1 = np.sum(np.logical_and(acd_cbm == 1, preds_cut_down == 1))\n",
    "cm2 = [[tru0_pred0, tru0_pred1],[tru1_pred0, tru1_pred1]]\n",
    "cm2"
   ]
  },
  {
   "cell_type": "code",
   "execution_count": null,
   "metadata": {},
   "outputs": [],
   "source": [
    "pixvals = np.where(annot_area[:,:,0] > 0)\n",
    "minrw = min(pixvals[0])\n",
    "maxrw = max(pixvals[0])+1\n",
    "mincl = min(pixvals[1])\n",
    "maxcl = max(pixvals[1])+1\n",
    "cd_annots = annot_out[minrw:maxrw, mincl:maxcl, 0]\n",
    "show_np(cd_annots*50)"
   ]
  },
  {
   "cell_type": "code",
   "execution_count": null,
   "metadata": {},
   "outputs": [],
   "source": [
    "cd_preds = output_labels[minrw:maxrw, mincl:maxcl]\n",
    "show_np(cd_preds*100)"
   ]
  },
  {
   "cell_type": "code",
   "execution_count": null,
   "metadata": {},
   "outputs": [],
   "source": [
    "cd_annots = np.where(cd_annots > 1, 2, cd_annots)\n",
    "show_np(cd_annots*100)"
   ]
  }
 ],
 "metadata": {
  "kernelspec": {
   "display_name": "repath",
   "language": "python",
   "name": "repath"
  },
  "language_info": {
   "codemirror_mode": {
    "name": "ipython",
    "version": 3
   },
   "file_extension": ".py",
   "mimetype": "text/x-python",
   "name": "python",
   "nbconvert_exporter": "python",
   "pygments_lexer": "ipython3",
   "version": "3.6.9"
  }
 },
 "nbformat": 4,
 "nbformat_minor": 4
}
