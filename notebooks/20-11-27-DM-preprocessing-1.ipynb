{
 "cells": [
  {
   "cell_type": "code",
   "execution_count": 1,
   "metadata": {},
   "outputs": [
    {
     "data": {
      "text/html": [
       "<div>\n",
       "<style scoped>\n",
       "    .dataframe tbody tr th:only-of-type {\n",
       "        vertical-align: middle;\n",
       "    }\n",
       "\n",
       "    .dataframe tbody tr th {\n",
       "        vertical-align: top;\n",
       "    }\n",
       "\n",
       "    .dataframe thead th {\n",
       "        text-align: right;\n",
       "    }\n",
       "</style>\n",
       "<table border=\"1\" class=\"dataframe\">\n",
       "  <thead>\n",
       "    <tr style=\"text-align: right;\">\n",
       "      <th></th>\n",
       "      <th>slide</th>\n",
       "      <th>annotation</th>\n",
       "      <th>label</th>\n",
       "      <th>tags</th>\n",
       "    </tr>\n",
       "  </thead>\n",
       "  <tbody>\n",
       "    <tr>\n",
       "      <th>23</th>\n",
       "      <td>tumor/tumor_024.tif</td>\n",
       "      <td>lesion_annotations/tumor_024.xml</td>\n",
       "      <td>tumor</td>\n",
       "      <td></td>\n",
       "    </tr>\n",
       "    <tr>\n",
       "      <th>258</th>\n",
       "      <td>normal/normal_149.tif</td>\n",
       "      <td></td>\n",
       "      <td>normal</td>\n",
       "      <td></td>\n",
       "    </tr>\n",
       "    <tr>\n",
       "      <th>95</th>\n",
       "      <td>tumor/tumor_096.tif</td>\n",
       "      <td>lesion_annotations/tumor_096.xml</td>\n",
       "      <td>tumor</td>\n",
       "      <td></td>\n",
       "    </tr>\n",
       "  </tbody>\n",
       "</table>\n",
       "</div>"
      ],
      "text/plain": [
       "                     slide                        annotation   label tags\n",
       "23     tumor/tumor_024.tif  lesion_annotations/tumor_024.xml   tumor     \n",
       "258  normal/normal_149.tif                                    normal     \n",
       "95     tumor/tumor_096.tif  lesion_annotations/tumor_096.xml   tumor     "
      ]
     },
     "execution_count": 1,
     "metadata": {},
     "output_type": "execute_result"
    }
   ],
   "source": [
    "import repath.data.datasets.camelyon16 as camelyon16\n",
    "\n",
    "# import and load the Camelyon16 training set\n",
    "training_data = camelyon16.training_small()\n",
    "# testing_data = camelyon16.testing()\n",
    "training_data.paths"
   ]
  },
  {
   "cell_type": "code",
   "execution_count": 2,
   "metadata": {},
   "outputs": [
    {
     "name": "stdout",
     "output_type": "stream",
     "text": [
      "data/camelyon16/raw/training\n",
      "3\n"
     ]
    }
   ],
   "source": [
    "print(training_data.root)\n",
    "print(len(training_data))\n",
    "#for slide_path, annot_path in training_data:\n",
    "#    print(f\"{slide_path}, {annot_path}\")"
   ]
  },
  {
   "cell_type": "code",
   "execution_count": 3,
   "metadata": {},
   "outputs": [
    {
     "name": "stdout",
     "output_type": "stream",
     "text": [
      "indexing tumor_024.tif\n",
      "indexing normal_149.tif\n",
      "indexing tumor_096.tif\n"
     ]
    }
   ],
   "source": [
    "from repath.preprocess.tissue_detection import TissueDetectorOTSU\n",
    "from repath.preprocess.patching import GridPatchFinder\n",
    "from repath.preprocess.patching import PatchIndex\n",
    "\n",
    "# define a tissue detector and the patch finder for creating the patch index\n",
    "tissue_detector = TissueDetectorOTSU()\n",
    "patch_finder = GridPatchFinder(6, 0, 256, 256)\n",
    "\n",
    "# use the dataset to generate a patch index set for the training data\n",
    "training_patches = PatchIndex.for_dataset(training_data, tissue_detector, patch_finder)"
   ]
  },
  {
   "cell_type": "code",
   "execution_count": 4,
   "metadata": {},
   "outputs": [
    {
     "data": {
      "text/html": [
       "<div>\n",
       "<style scoped>\n",
       "    .dataframe tbody tr th:only-of-type {\n",
       "        vertical-align: middle;\n",
       "    }\n",
       "\n",
       "    .dataframe tbody tr th {\n",
       "        vertical-align: top;\n",
       "    }\n",
       "\n",
       "    .dataframe thead th {\n",
       "        text-align: right;\n",
       "    }\n",
       "</style>\n",
       "<table border=\"1\" class=\"dataframe\">\n",
       "  <thead>\n",
       "    <tr style=\"text-align: right;\">\n",
       "      <th></th>\n",
       "      <th>slide</th>\n",
       "      <th>background</th>\n",
       "      <th>normal</th>\n",
       "      <th>tumor</th>\n",
       "    </tr>\n",
       "  </thead>\n",
       "  <tbody>\n",
       "    <tr>\n",
       "      <th>0</th>\n",
       "      <td>tumor/tumor_024.tif</td>\n",
       "      <td>279152</td>\n",
       "      <td>50101</td>\n",
       "      <td>31</td>\n",
       "    </tr>\n",
       "    <tr>\n",
       "      <th>1</th>\n",
       "      <td>normal/normal_149.tif</td>\n",
       "      <td>321937</td>\n",
       "      <td>46095</td>\n",
       "      <td>0</td>\n",
       "    </tr>\n",
       "    <tr>\n",
       "      <th>2</th>\n",
       "      <td>tumor/tumor_096.tif</td>\n",
       "      <td>114635</td>\n",
       "      <td>28025</td>\n",
       "      <td>700</td>\n",
       "    </tr>\n",
       "  </tbody>\n",
       "</table>\n",
       "</div>"
      ],
      "text/plain": [
       "                   slide  background  normal  tumor\n",
       "0    tumor/tumor_024.tif      279152   50101     31\n",
       "1  normal/normal_149.tif      321937   46095      0\n",
       "2    tumor/tumor_096.tif      114635   28025    700"
      ]
     },
     "execution_count": 4,
     "metadata": {},
     "output_type": "execute_result"
    }
   ],
   "source": [
    "training_patches.summary()"
   ]
  },
  {
   "cell_type": "code",
   "execution_count": 5,
   "metadata": {},
   "outputs": [
    {
     "name": "stdout",
     "output_type": "stream",
     "text": [
      "/home/ubuntu/repath/experiments/repath/example_patches/tumor/tumor_024.csv\n",
      "/home/ubuntu/repath/experiments/repath/example_patches/normal/normal_149.csv\n",
      "/home/ubuntu/repath/experiments/repath/example_patches/tumor/tumor_096.csv\n"
     ]
    }
   ],
   "source": [
    "from repath.utils.paths import project_root\n",
    "\n",
    "training_patches.save(project_root() / 'experiments' / 'repath' / 'example_patches')"
   ]
  },
  {
   "cell_type": "code",
   "execution_count": 6,
   "metadata": {},
   "outputs": [
    {
     "name": "stdout",
     "output_type": "stream",
     "text": [
      "Pandas(Index=0, slide_path='tumor/tumor_024.tif', csv_path='tumor/tumor_024.csv', slide_label='tumor', tags=nan, level=0, patch_size=256, labels=\"{'background': 0, 'normal': 1, 'tumor': 2}\")\n",
      "nan\n",
      "Pandas(Index=1, slide_path='normal/normal_149.tif', csv_path='normal/normal_149.csv', slide_label='normal', tags=nan, level=0, patch_size=256, labels=\"{'background': 0, 'normal': 1, 'tumor': 2}\")\n",
      "nan\n",
      "Pandas(Index=2, slide_path='tumor/tumor_096.tif', csv_path='tumor/tumor_096.csv', slide_label='tumor', tags=nan, level=0, patch_size=256, labels=\"{'background': 0, 'normal': 1, 'tumor': 2}\")\n",
      "nan\n"
     ]
    }
   ],
   "source": [
    "loaded_patches = PatchIndex.load(training_data, project_root() / 'experiments' / 'repath' / 'example_patches')"
   ]
  },
  {
   "cell_type": "code",
   "execution_count": 7,
   "metadata": {},
   "outputs": [
    {
     "data": {
      "text/html": [
       "<div>\n",
       "<style scoped>\n",
       "    .dataframe tbody tr th:only-of-type {\n",
       "        vertical-align: middle;\n",
       "    }\n",
       "\n",
       "    .dataframe tbody tr th {\n",
       "        vertical-align: top;\n",
       "    }\n",
       "\n",
       "    .dataframe thead th {\n",
       "        text-align: right;\n",
       "    }\n",
       "</style>\n",
       "<table border=\"1\" class=\"dataframe\">\n",
       "  <thead>\n",
       "    <tr style=\"text-align: right;\">\n",
       "      <th></th>\n",
       "      <th>slide</th>\n",
       "      <th>background</th>\n",
       "      <th>normal</th>\n",
       "      <th>tumor</th>\n",
       "    </tr>\n",
       "  </thead>\n",
       "  <tbody>\n",
       "    <tr>\n",
       "      <th>0</th>\n",
       "      <td>tumor/tumor_024.tif</td>\n",
       "      <td>279152</td>\n",
       "      <td>50101</td>\n",
       "      <td>31</td>\n",
       "    </tr>\n",
       "    <tr>\n",
       "      <th>1</th>\n",
       "      <td>normal/normal_149.tif</td>\n",
       "      <td>321937</td>\n",
       "      <td>46095</td>\n",
       "      <td>0</td>\n",
       "    </tr>\n",
       "    <tr>\n",
       "      <th>2</th>\n",
       "      <td>tumor/tumor_096.tif</td>\n",
       "      <td>114635</td>\n",
       "      <td>28025</td>\n",
       "      <td>700</td>\n",
       "    </tr>\n",
       "  </tbody>\n",
       "</table>\n",
       "</div>"
      ],
      "text/plain": [
       "                   slide  background  normal  tumor\n",
       "0    tumor/tumor_024.tif      279152   50101     31\n",
       "1  normal/normal_149.tif      321937   46095      0\n",
       "2    tumor/tumor_096.tif      114635   28025    700"
      ]
     },
     "execution_count": 7,
     "metadata": {},
     "output_type": "execute_result"
    }
   ],
   "source": [
    "training_patches.summary()"
   ]
  },
  {
   "cell_type": "code",
   "execution_count": 8,
   "metadata": {},
   "outputs": [
    {
     "data": {
      "text/html": [
       "<div>\n",
       "<style scoped>\n",
       "    .dataframe tbody tr th:only-of-type {\n",
       "        vertical-align: middle;\n",
       "    }\n",
       "\n",
       "    .dataframe tbody tr th {\n",
       "        vertical-align: top;\n",
       "    }\n",
       "\n",
       "    .dataframe thead th {\n",
       "        text-align: right;\n",
       "    }\n",
       "</style>\n",
       "<table border=\"1\" class=\"dataframe\">\n",
       "  <thead>\n",
       "    <tr style=\"text-align: right;\">\n",
       "      <th></th>\n",
       "      <th>slide</th>\n",
       "      <th>background</th>\n",
       "      <th>normal</th>\n",
       "      <th>tumor</th>\n",
       "    </tr>\n",
       "  </thead>\n",
       "  <tbody>\n",
       "    <tr>\n",
       "      <th>0</th>\n",
       "      <td>tumor/tumor_024.tif</td>\n",
       "      <td>279152</td>\n",
       "      <td>50101</td>\n",
       "      <td>31</td>\n",
       "    </tr>\n",
       "    <tr>\n",
       "      <th>1</th>\n",
       "      <td>normal/normal_149.tif</td>\n",
       "      <td>321937</td>\n",
       "      <td>46095</td>\n",
       "      <td>0</td>\n",
       "    </tr>\n",
       "    <tr>\n",
       "      <th>2</th>\n",
       "      <td>tumor/tumor_096.tif</td>\n",
       "      <td>114635</td>\n",
       "      <td>28025</td>\n",
       "      <td>700</td>\n",
       "    </tr>\n",
       "  </tbody>\n",
       "</table>\n",
       "</div>"
      ],
      "text/plain": [
       "                   slide  background  normal  tumor\n",
       "0    tumor/tumor_024.tif      279152   50101     31\n",
       "1  normal/normal_149.tif      321937   46095      0\n",
       "2    tumor/tumor_096.tif      114635   28025    700"
      ]
     },
     "execution_count": 8,
     "metadata": {},
     "output_type": "execute_result"
    }
   ],
   "source": [
    "loaded_patches.summary()"
   ]
  },
  {
   "cell_type": "code",
   "execution_count": null,
   "metadata": {},
   "outputs": [],
   "source": []
  }
 ],
 "metadata": {
  "kernelspec": {
   "display_name": "repath",
   "language": "python",
   "name": "repath"
  },
  "language_info": {
   "codemirror_mode": {
    "name": "ipython",
    "version": 3
   },
   "file_extension": ".py",
   "mimetype": "text/x-python",
   "name": "python",
   "nbconvert_exporter": "python",
   "pygments_lexer": "ipython3",
   "version": "3.6.9"
  }
 },
 "nbformat": 4,
 "nbformat_minor": 4
}
