{
 "cells": [
  {
   "cell_type": "code",
   "execution_count": 1,
   "metadata": {},
   "outputs": [],
   "source": [
    "import pandas as pd"
   ]
  },
  {
   "cell_type": "code",
   "execution_count": 2,
   "metadata": {},
   "outputs": [],
   "source": [
    "#read cervical data\n",
    "cervical = pd.read_csv('/home/mahnaz/iCAIRD_DATA_ANALYSIS/iCAIRD_Cervical_Data.csv')"
   ]
  },
  {
   "cell_type": "code",
   "execution_count": 3,
   "metadata": {},
   "outputs": [
    {
     "data": {
      "text/html": [
       "<div>\n",
       "<style scoped>\n",
       "    .dataframe tbody tr th:only-of-type {\n",
       "        vertical-align: middle;\n",
       "    }\n",
       "\n",
       "    .dataframe tbody tr th {\n",
       "        vertical-align: top;\n",
       "    }\n",
       "\n",
       "    .dataframe thead th {\n",
       "        text-align: right;\n",
       "    }\n",
       "</style>\n",
       "<table border=\"1\" class=\"dataframe\">\n",
       "  <thead>\n",
       "    <tr style=\"text-align: right;\">\n",
       "      <th></th>\n",
       "      <th>ID</th>\n",
       "      <th>Image Filename</th>\n",
       "      <th>StudyID</th>\n",
       "      <th>Sample</th>\n",
       "      <th>Category</th>\n",
       "      <th>subCategory</th>\n",
       "      <th>BiobankID</th>\n",
       "      <th>StainingSiteID</th>\n",
       "      <th>StainingProtocol</th>\n",
       "      <th>train/valid/test</th>\n",
       "    </tr>\n",
       "  </thead>\n",
       "  <tbody>\n",
       "    <tr>\n",
       "      <th>0</th>\n",
       "      <td>4719</td>\n",
       "      <td>IC-CX-00001-01.isyntax</td>\n",
       "      <td>IC-CX-00001</td>\n",
       "      <td>Cervical</td>\n",
       "      <td>Normal/inflammation</td>\n",
       "      <td>Normal/inflammation</td>\n",
       "      <td>IC-CX-00001</td>\n",
       "      <td>3</td>\n",
       "      <td>paeds protocol</td>\n",
       "      <td>train</td>\n",
       "    </tr>\n",
       "    <tr>\n",
       "      <th>1</th>\n",
       "      <td>2396</td>\n",
       "      <td>IC-CX-00002-01.isyntax</td>\n",
       "      <td>IC-CX-00002</td>\n",
       "      <td>Cervical</td>\n",
       "      <td>Malignant</td>\n",
       "      <td>Other</td>\n",
       "      <td>IC-CX-00002</td>\n",
       "      <td>2</td>\n",
       "      <td>routine H&amp;E</td>\n",
       "      <td>train</td>\n",
       "    </tr>\n",
       "    <tr>\n",
       "      <th>2</th>\n",
       "      <td>2586</td>\n",
       "      <td>IC-CX-00002-02.isyntax</td>\n",
       "      <td>IC-CX-00002</td>\n",
       "      <td>Cervical</td>\n",
       "      <td>Malignant</td>\n",
       "      <td>Other</td>\n",
       "      <td>IC-CX-00003</td>\n",
       "      <td>7</td>\n",
       "      <td>muscle (hand staining protocol)</td>\n",
       "      <td>train</td>\n",
       "    </tr>\n",
       "    <tr>\n",
       "      <th>3</th>\n",
       "      <td>2358</td>\n",
       "      <td>IC-CX-00003-01.isyntax</td>\n",
       "      <td>IC-CX-00003</td>\n",
       "      <td>Cervical</td>\n",
       "      <td>High Grade</td>\n",
       "      <td>CIN 2</td>\n",
       "      <td>IC-CX-00004</td>\n",
       "      <td>1</td>\n",
       "      <td>routine H&amp;E</td>\n",
       "      <td>train</td>\n",
       "    </tr>\n",
       "    <tr>\n",
       "      <th>4</th>\n",
       "      <td>2596</td>\n",
       "      <td>IC-CX-00004-01.isyntax</td>\n",
       "      <td>IC-CX-00004</td>\n",
       "      <td>Cervical</td>\n",
       "      <td>Normal/inflammation</td>\n",
       "      <td>Normal/inflammation</td>\n",
       "      <td>IC-CX-00005</td>\n",
       "      <td>3</td>\n",
       "      <td>paeds protocol</td>\n",
       "      <td>train</td>\n",
       "    </tr>\n",
       "  </tbody>\n",
       "</table>\n",
       "</div>"
      ],
      "text/plain": [
       "     ID          Image Filename      StudyID    Sample             Category  \\\n",
       "0  4719  IC-CX-00001-01.isyntax  IC-CX-00001  Cervical  Normal/inflammation   \n",
       "1  2396  IC-CX-00002-01.isyntax  IC-CX-00002  Cervical            Malignant   \n",
       "2  2586  IC-CX-00002-02.isyntax  IC-CX-00002  Cervical            Malignant   \n",
       "3  2358  IC-CX-00003-01.isyntax  IC-CX-00003  Cervical           High Grade   \n",
       "4  2596  IC-CX-00004-01.isyntax  IC-CX-00004  Cervical  Normal/inflammation   \n",
       "\n",
       "           subCategory     BiobankID  StainingSiteID  \\\n",
       "0  Normal/inflammation  IC-CX-00001                3   \n",
       "1                Other  IC-CX-00002                2   \n",
       "2                Other  IC-CX-00003                7   \n",
       "3                CIN 2  IC-CX-00004                1   \n",
       "4  Normal/inflammation  IC-CX-00005                3   \n",
       "\n",
       "                  StainingProtocol train/valid/test  \n",
       "0                   paeds protocol            train  \n",
       "1                      routine H&E            train  \n",
       "2  muscle (hand staining protocol)            train  \n",
       "3                      routine H&E            train  \n",
       "4                   paeds protocol            train  "
      ]
     },
     "execution_count": 3,
     "metadata": {},
     "output_type": "execute_result"
    }
   ],
   "source": [
    "cervical.head()"
   ]
  },
  {
   "cell_type": "code",
   "execution_count": 4,
   "metadata": {
    "scrolled": true
   },
   "outputs": [
    {
     "name": "stdout",
     "output_type": "stream",
     "text": [
      "Total number of cervical train cases :1758\n"
     ]
    },
    {
     "data": {
      "text/html": [
       "<div>\n",
       "<style scoped>\n",
       "    .dataframe tbody tr th:only-of-type {\n",
       "        vertical-align: middle;\n",
       "    }\n",
       "\n",
       "    .dataframe tbody tr th {\n",
       "        vertical-align: top;\n",
       "    }\n",
       "\n",
       "    .dataframe thead th {\n",
       "        text-align: right;\n",
       "    }\n",
       "</style>\n",
       "<table border=\"1\" class=\"dataframe\">\n",
       "  <thead>\n",
       "    <tr style=\"text-align: right;\">\n",
       "      <th></th>\n",
       "      <th>ID</th>\n",
       "      <th>Image Filename</th>\n",
       "      <th>StudyID</th>\n",
       "      <th>Sample</th>\n",
       "      <th>Category</th>\n",
       "      <th>subCategory</th>\n",
       "      <th>BiobankID</th>\n",
       "      <th>StainingSiteID</th>\n",
       "      <th>StainingProtocol</th>\n",
       "      <th>train/valid/test</th>\n",
       "    </tr>\n",
       "  </thead>\n",
       "  <tbody>\n",
       "    <tr>\n",
       "      <th>0</th>\n",
       "      <td>4719</td>\n",
       "      <td>IC-CX-00001-01.isyntax</td>\n",
       "      <td>IC-CX-00001</td>\n",
       "      <td>Cervical</td>\n",
       "      <td>Normal/inflammation</td>\n",
       "      <td>Normal/inflammation</td>\n",
       "      <td>IC-CX-00001</td>\n",
       "      <td>3</td>\n",
       "      <td>paeds protocol</td>\n",
       "      <td>train</td>\n",
       "    </tr>\n",
       "    <tr>\n",
       "      <th>1</th>\n",
       "      <td>2396</td>\n",
       "      <td>IC-CX-00002-01.isyntax</td>\n",
       "      <td>IC-CX-00002</td>\n",
       "      <td>Cervical</td>\n",
       "      <td>Malignant</td>\n",
       "      <td>Other</td>\n",
       "      <td>IC-CX-00002</td>\n",
       "      <td>2</td>\n",
       "      <td>routine H&amp;E</td>\n",
       "      <td>train</td>\n",
       "    </tr>\n",
       "    <tr>\n",
       "      <th>2</th>\n",
       "      <td>2586</td>\n",
       "      <td>IC-CX-00002-02.isyntax</td>\n",
       "      <td>IC-CX-00002</td>\n",
       "      <td>Cervical</td>\n",
       "      <td>Malignant</td>\n",
       "      <td>Other</td>\n",
       "      <td>IC-CX-00003</td>\n",
       "      <td>7</td>\n",
       "      <td>muscle (hand staining protocol)</td>\n",
       "      <td>train</td>\n",
       "    </tr>\n",
       "    <tr>\n",
       "      <th>3</th>\n",
       "      <td>2358</td>\n",
       "      <td>IC-CX-00003-01.isyntax</td>\n",
       "      <td>IC-CX-00003</td>\n",
       "      <td>Cervical</td>\n",
       "      <td>High Grade</td>\n",
       "      <td>CIN 2</td>\n",
       "      <td>IC-CX-00004</td>\n",
       "      <td>1</td>\n",
       "      <td>routine H&amp;E</td>\n",
       "      <td>train</td>\n",
       "    </tr>\n",
       "    <tr>\n",
       "      <th>4</th>\n",
       "      <td>2596</td>\n",
       "      <td>IC-CX-00004-01.isyntax</td>\n",
       "      <td>IC-CX-00004</td>\n",
       "      <td>Cervical</td>\n",
       "      <td>Normal/inflammation</td>\n",
       "      <td>Normal/inflammation</td>\n",
       "      <td>IC-CX-00005</td>\n",
       "      <td>3</td>\n",
       "      <td>paeds protocol</td>\n",
       "      <td>train</td>\n",
       "    </tr>\n",
       "  </tbody>\n",
       "</table>\n",
       "</div>"
      ],
      "text/plain": [
       "     ID          Image Filename      StudyID    Sample             Category  \\\n",
       "0  4719  IC-CX-00001-01.isyntax  IC-CX-00001  Cervical  Normal/inflammation   \n",
       "1  2396  IC-CX-00002-01.isyntax  IC-CX-00002  Cervical            Malignant   \n",
       "2  2586  IC-CX-00002-02.isyntax  IC-CX-00002  Cervical            Malignant   \n",
       "3  2358  IC-CX-00003-01.isyntax  IC-CX-00003  Cervical           High Grade   \n",
       "4  2596  IC-CX-00004-01.isyntax  IC-CX-00004  Cervical  Normal/inflammation   \n",
       "\n",
       "           subCategory     BiobankID  StainingSiteID  \\\n",
       "0  Normal/inflammation  IC-CX-00001                3   \n",
       "1                Other  IC-CX-00002                2   \n",
       "2                Other  IC-CX-00003                7   \n",
       "3                CIN 2  IC-CX-00004                1   \n",
       "4  Normal/inflammation  IC-CX-00005                3   \n",
       "\n",
       "                  StainingProtocol train/valid/test  \n",
       "0                   paeds protocol            train  \n",
       "1                      routine H&E            train  \n",
       "2  muscle (hand staining protocol)            train  \n",
       "3                      routine H&E            train  \n",
       "4                   paeds protocol            train  "
      ]
     },
     "execution_count": 4,
     "metadata": {},
     "output_type": "execute_result"
    }
   ],
   "source": [
    "cervical_train = cervical[cervical['train/valid/test']=='train']\n",
    "print('Total number of cervical train cases :{}'.format(len(cervical_train)))\n",
    "cervical_train.head()"
   ]
  },
  {
   "cell_type": "code",
   "execution_count": 5,
   "metadata": {},
   "outputs": [
    {
     "name": "stdout",
     "output_type": "stream",
     "text": [
      "Total number of cervical test cases :845\n"
     ]
    },
    {
     "data": {
      "text/html": [
       "<div>\n",
       "<style scoped>\n",
       "    .dataframe tbody tr th:only-of-type {\n",
       "        vertical-align: middle;\n",
       "    }\n",
       "\n",
       "    .dataframe tbody tr th {\n",
       "        vertical-align: top;\n",
       "    }\n",
       "\n",
       "    .dataframe thead th {\n",
       "        text-align: right;\n",
       "    }\n",
       "</style>\n",
       "<table border=\"1\" class=\"dataframe\">\n",
       "  <thead>\n",
       "    <tr style=\"text-align: right;\">\n",
       "      <th></th>\n",
       "      <th>ID</th>\n",
       "      <th>Image Filename</th>\n",
       "      <th>StudyID</th>\n",
       "      <th>Sample</th>\n",
       "      <th>Category</th>\n",
       "      <th>subCategory</th>\n",
       "      <th>BiobankID</th>\n",
       "      <th>StainingSiteID</th>\n",
       "      <th>StainingProtocol</th>\n",
       "      <th>train/valid/test</th>\n",
       "    </tr>\n",
       "  </thead>\n",
       "  <tbody>\n",
       "    <tr>\n",
       "      <th>6</th>\n",
       "      <td>5195</td>\n",
       "      <td>IC-CX-00006-02.isyntax</td>\n",
       "      <td>IC-CX-00006</td>\n",
       "      <td>Cervical</td>\n",
       "      <td>Low Grade</td>\n",
       "      <td>HPV</td>\n",
       "      <td>IC-CX-00007</td>\n",
       "      <td>8</td>\n",
       "      <td>muscle (hand staining protocol)</td>\n",
       "      <td>test</td>\n",
       "    </tr>\n",
       "    <tr>\n",
       "      <th>7</th>\n",
       "      <td>511</td>\n",
       "      <td>IC-CX-00008-01.isyntax</td>\n",
       "      <td>IC-CX-00008</td>\n",
       "      <td>Cervical</td>\n",
       "      <td>Low Grade</td>\n",
       "      <td>CIN 1</td>\n",
       "      <td>IC-CX-00008</td>\n",
       "      <td>8</td>\n",
       "      <td>muscle (hand staining protocol)</td>\n",
       "      <td>test</td>\n",
       "    </tr>\n",
       "    <tr>\n",
       "      <th>10</th>\n",
       "      <td>2612</td>\n",
       "      <td>IC-CX-00012-01.isyntax</td>\n",
       "      <td>IC-CX-00012</td>\n",
       "      <td>Cervical</td>\n",
       "      <td>High Grade</td>\n",
       "      <td>CIN 2</td>\n",
       "      <td>IC-CX-00011</td>\n",
       "      <td>6</td>\n",
       "      <td>neuro (hand staining protocol)</td>\n",
       "      <td>test</td>\n",
       "    </tr>\n",
       "    <tr>\n",
       "      <th>16</th>\n",
       "      <td>5007</td>\n",
       "      <td>IC-CX-00019-01.isyntax</td>\n",
       "      <td>IC-CX-00019</td>\n",
       "      <td>Cervical</td>\n",
       "      <td>Low Grade</td>\n",
       "      <td>HPV</td>\n",
       "      <td>IC-CX-00017</td>\n",
       "      <td>8</td>\n",
       "      <td>muscle (hand staining protocol)</td>\n",
       "      <td>test</td>\n",
       "    </tr>\n",
       "    <tr>\n",
       "      <th>18</th>\n",
       "      <td>4422</td>\n",
       "      <td>IC-CX-00023-01.isyntax</td>\n",
       "      <td>IC-CX-00023</td>\n",
       "      <td>Cervical</td>\n",
       "      <td>Malignant</td>\n",
       "      <td>CGIN</td>\n",
       "      <td>IC-CX-00019</td>\n",
       "      <td>8</td>\n",
       "      <td>muscle (hand staining protocol)</td>\n",
       "      <td>test</td>\n",
       "    </tr>\n",
       "  </tbody>\n",
       "</table>\n",
       "</div>"
      ],
      "text/plain": [
       "      ID          Image Filename      StudyID    Sample    Category  \\\n",
       "6   5195  IC-CX-00006-02.isyntax  IC-CX-00006  Cervical   Low Grade   \n",
       "7    511  IC-CX-00008-01.isyntax  IC-CX-00008  Cervical   Low Grade   \n",
       "10  2612  IC-CX-00012-01.isyntax  IC-CX-00012  Cervical  High Grade   \n",
       "16  5007  IC-CX-00019-01.isyntax  IC-CX-00019  Cervical   Low Grade   \n",
       "18  4422  IC-CX-00023-01.isyntax  IC-CX-00023  Cervical   Malignant   \n",
       "\n",
       "   subCategory     BiobankID  StainingSiteID                 StainingProtocol  \\\n",
       "6          HPV  IC-CX-00007                8  muscle (hand staining protocol)   \n",
       "7        CIN 1  IC-CX-00008                8  muscle (hand staining protocol)   \n",
       "10       CIN 2  IC-CX-00011                6   neuro (hand staining protocol)   \n",
       "16         HPV  IC-CX-00017                8  muscle (hand staining protocol)   \n",
       "18        CGIN  IC-CX-00019                8  muscle (hand staining protocol)   \n",
       "\n",
       "   train/valid/test  \n",
       "6              test  \n",
       "7              test  \n",
       "10             test  \n",
       "16             test  \n",
       "18             test  "
      ]
     },
     "execution_count": 5,
     "metadata": {},
     "output_type": "execute_result"
    }
   ],
   "source": [
    "cervical_test = cervical[cervical['train/valid/test']=='test']\n",
    "print('Total number of cervical test cases :{}'.format(len(cervical_test)))\n",
    "cervical_test.head()"
   ]
  },
  {
   "cell_type": "markdown",
   "metadata": {},
   "source": [
    "## Check the whole Cervical Data"
   ]
  },
  {
   "cell_type": "code",
   "execution_count": 6,
   "metadata": {},
   "outputs": [
    {
     "name": "stdout",
     "output_type": "stream",
     "text": [
      "Cervical Data Main Categories Count:\n"
     ]
    },
    {
     "data": {
      "text/plain": [
       "Low Grade              714\n",
       "Normal/inflammation    644\n",
       "High Grade             629\n",
       "Malignant              616\n",
       "Name: Category, dtype: int64"
      ]
     },
     "execution_count": 6,
     "metadata": {},
     "output_type": "execute_result"
    }
   ],
   "source": [
    "#number of each categories in cervical data\n",
    "print('Cervical Data Main Categories Count:')\n",
    "cervical['Category'].value_counts()"
   ]
  },
  {
   "cell_type": "code",
   "execution_count": 7,
   "metadata": {},
   "outputs": [
    {
     "name": "stdout",
     "output_type": "stream",
     "text": [
      "Cervical Data Main Categories Count:\n"
     ]
    },
    {
     "data": {
      "text/plain": [
       "Normal/inflammation    644\n",
       "CIN 1                  363\n",
       "HPV                    351\n",
       "CIN 2                  331\n",
       "Squamous carcinoma     303\n",
       "CIN 3                  298\n",
       "Adenocarcinoma         126\n",
       "CGIN                   100\n",
       "Other                   87\n",
       "Name: subCategory, dtype: int64"
      ]
     },
     "execution_count": 7,
     "metadata": {},
     "output_type": "execute_result"
    }
   ],
   "source": [
    "#number of each sub-categories in cervical data\n",
    "print('Cervical Data Sub Categories Count:')\n",
    "cervical['subCategory'].value_counts()"
   ]
  },
  {
   "cell_type": "code",
   "execution_count": 8,
   "metadata": {},
   "outputs": [
    {
     "name": "stdout",
     "output_type": "stream",
     "text": [
      "Cervical Data Staining Sites Count:\n"
     ]
    },
    {
     "data": {
      "text/plain": [
       "7    330\n",
       "5    329\n",
       "2    329\n",
       "8    328\n",
       "3    324\n",
       "6    322\n",
       "4    321\n",
       "1    320\n",
       "Name: StainingSiteID, dtype: int64"
      ]
     },
     "execution_count": 8,
     "metadata": {},
     "output_type": "execute_result"
    }
   ],
   "source": [
    "#check the balance of cervical data over staining labs\n",
    "print('Cervical Data Staining Sites Count:')\n",
    "cervical['StainingSiteID'].value_counts()"
   ]
  },
  {
   "cell_type": "markdown",
   "metadata": {},
   "source": [
    "## Check the cervical train set"
   ]
  },
  {
   "cell_type": "code",
   "execution_count": 9,
   "metadata": {},
   "outputs": [
    {
     "name": "stdout",
     "output_type": "stream",
     "text": [
      "Cervical Train Data Main Categories Count:\n"
     ]
    },
    {
     "data": {
      "text/plain": [
       "Low Grade              491\n",
       "High Grade             433\n",
       "Normal/inflammation    418\n",
       "Malignant              416\n",
       "Name: Category, dtype: int64"
      ]
     },
     "execution_count": 9,
     "metadata": {},
     "output_type": "execute_result"
    }
   ],
   "source": [
    "#number of each categories in cervical train set\n",
    "print('Cervical Train Data Main Categories Count:')\n",
    "cervical_train['Category'].value_counts()"
   ]
  },
  {
   "cell_type": "code",
   "execution_count": 10,
   "metadata": {},
   "outputs": [
    {
     "name": "stdout",
     "output_type": "stream",
     "text": [
      "Cervical Train Data subCategories Count:\n"
     ]
    },
    {
     "data": {
      "text/plain": [
       "Normal/inflammation    418\n",
       "CIN 1                  266\n",
       "CIN 2                  231\n",
       "HPV                    225\n",
       "Squamous carcinoma     205\n",
       "CIN 3                  202\n",
       "Adenocarcinoma          87\n",
       "CGIN                    69\n",
       "Other                   55\n",
       "Name: subCategory, dtype: int64"
      ]
     },
     "execution_count": 10,
     "metadata": {},
     "output_type": "execute_result"
    }
   ],
   "source": [
    "#number of each sub-categories in cervical train set\n",
    "print('Cervical Train Data subCategories Count:')\n",
    "cervical_train['subCategory'].value_counts()"
   ]
  },
  {
   "cell_type": "code",
   "execution_count": 11,
   "metadata": {},
   "outputs": [
    {
     "name": "stdout",
     "output_type": "stream",
     "text": [
      "Cervical Train Data stain labs Count:\n"
     ]
    },
    {
     "data": {
      "text/plain": [
       "7    297\n",
       "5    296\n",
       "2    296\n",
       "3    292\n",
       "4    289\n",
       "1    288\n",
       "Name: StainingSiteID, dtype: int64"
      ]
     },
     "execution_count": 11,
     "metadata": {},
     "output_type": "execute_result"
    }
   ],
   "source": [
    "#check if the cervical train data is balanced over staining sites\n",
    "print('Cervical Train Data stain labs Count:')\n",
    "cervical_train['StainingSiteID'].value_counts()"
   ]
  },
  {
   "cell_type": "markdown",
   "metadata": {},
   "source": [
    "## Check the cervical test set"
   ]
  },
  {
   "cell_type": "code",
   "execution_count": 12,
   "metadata": {},
   "outputs": [
    {
     "name": "stdout",
     "output_type": "stream",
     "text": [
      "Cervical Test Data Main Categories Count:\n"
     ]
    },
    {
     "data": {
      "text/plain": [
       "Normal/inflammation    226\n",
       "Low Grade              223\n",
       "Malignant              200\n",
       "High Grade             196\n",
       "Name: Category, dtype: int64"
      ]
     },
     "execution_count": 12,
     "metadata": {},
     "output_type": "execute_result"
    }
   ],
   "source": [
    "#number of each categories in cervical test set\n",
    "print('Cervical Test Data Main Categories Count:')\n",
    "cervical_test['Category'].value_counts()"
   ]
  },
  {
   "cell_type": "code",
   "execution_count": 13,
   "metadata": {},
   "outputs": [
    {
     "name": "stdout",
     "output_type": "stream",
     "text": [
      "Cervical Test Data Sub Categories Count:\n"
     ]
    },
    {
     "data": {
      "text/plain": [
       "Normal/inflammation    226\n",
       "HPV                    126\n",
       "CIN 2                  100\n",
       "Squamous carcinoma      98\n",
       "CIN 1                   97\n",
       "CIN 3                   96\n",
       "Adenocarcinoma          39\n",
       "Other                   32\n",
       "CGIN                    31\n",
       "Name: subCategory, dtype: int64"
      ]
     },
     "execution_count": 13,
     "metadata": {},
     "output_type": "execute_result"
    }
   ],
   "source": [
    "#number of each sub-categories in cervical test set\n",
    "print('Cervical Test Data Sub Categories Count:')\n",
    "cervical_test['subCategory'].value_counts()"
   ]
  },
  {
   "cell_type": "code",
   "execution_count": 14,
   "metadata": {},
   "outputs": [
    {
     "name": "stdout",
     "output_type": "stream",
     "text": [
      "Cervical Test Data stain labs Count:\n"
     ]
    },
    {
     "data": {
      "text/plain": [
       "8    328\n",
       "6    322\n",
       "7     33\n",
       "5     33\n",
       "2     33\n",
       "4     32\n",
       "3     32\n",
       "1     32\n",
       "Name: StainingSiteID, dtype: int64"
      ]
     },
     "execution_count": 14,
     "metadata": {},
     "output_type": "execute_result"
    }
   ],
   "source": [
    "#check if the cervical testdata is balanced over staining sites\n",
    "print('Cervical Test Data stain labs Count:')\n",
    "cervical_test['StainingSiteID'].value_counts()"
   ]
  },
  {
   "cell_type": "markdown",
   "metadata": {},
   "source": [
    "## find the name of train samples based on each sub-category"
   ]
  },
  {
   "cell_type": "code",
   "execution_count": 15,
   "metadata": {},
   "outputs": [
    {
     "data": {
      "text/plain": [
       "225"
      ]
     },
     "execution_count": 15,
     "metadata": {},
     "output_type": "execute_result"
    }
   ],
   "source": [
    "cervical_train_hpv_samples_df = cervical_train[cervical_train['subCategory']=='HPV']\n",
    "cervical_train_hpv_filenames = cervical_train_hpv_samples_df['Image Filename']\n",
    "len(cervical_train_hpv_filenames)"
   ]
  },
  {
   "cell_type": "code",
   "execution_count": 16,
   "metadata": {},
   "outputs": [
    {
     "data": {
      "text/plain": [
       "126"
      ]
     },
     "execution_count": 16,
     "metadata": {},
     "output_type": "execute_result"
    }
   ],
   "source": [
    "cervical_test_hpv_samples_df = cervical_test[cervical_test['subCategory']=='HPV']\n",
    "cervical_test_hpv_filenames = cervical_test_hpv_samples_df['Image Filename']\n",
    "len(cervical_test_hpv_filenames)"
   ]
  },
  {
   "cell_type": "code",
   "execution_count": 17,
   "metadata": {},
   "outputs": [
    {
     "data": {
      "text/plain": [
       "266"
      ]
     },
     "execution_count": 17,
     "metadata": {},
     "output_type": "execute_result"
    }
   ],
   "source": [
    "cervical_train_cin1_samples_df = cervical_train[cervical_train['subCategory']=='CIN 1']\n",
    "cervical_train_cin1_filenames = cervical_train_cin1_samples_df['Image Filename']\n",
    "len(cervical_train_cin1_filenames)"
   ]
  },
  {
   "cell_type": "code",
   "execution_count": 18,
   "metadata": {},
   "outputs": [
    {
     "data": {
      "text/plain": [
       "97"
      ]
     },
     "execution_count": 18,
     "metadata": {},
     "output_type": "execute_result"
    }
   ],
   "source": [
    "cervical_test_cin1_samples_df = cervical_test[cervical_test['subCategory']=='CIN 1']\n",
    "cervical_test_cin1_filenames = cervical_test_cin1_samples_df['Image Filename']\n",
    "len(cervical_test_cin1_filenames)"
   ]
  },
  {
   "cell_type": "code",
   "execution_count": 19,
   "metadata": {},
   "outputs": [
    {
     "data": {
      "text/plain": [
       "231"
      ]
     },
     "execution_count": 19,
     "metadata": {},
     "output_type": "execute_result"
    }
   ],
   "source": [
    "cervical_train_cin2_samples_df = cervical_train[cervical_train['subCategory']=='CIN 2']\n",
    "cervical_train_cin2_filenames = cervical_train_cin2_samples_df['Image Filename']\n",
    "len(cervical_train_cin2_filenames)"
   ]
  },
  {
   "cell_type": "code",
   "execution_count": 20,
   "metadata": {},
   "outputs": [
    {
     "data": {
      "text/plain": [
       "100"
      ]
     },
     "execution_count": 20,
     "metadata": {},
     "output_type": "execute_result"
    }
   ],
   "source": [
    "cervical_test_cin2_samples_df = cervical_test[cervical_test['subCategory']=='CIN 2']\n",
    "cervical_test_cin2_filenames = cervical_test_cin2_samples_df['Image Filename']\n",
    "len(cervical_test_cin2_filenames)"
   ]
  },
  {
   "cell_type": "code",
   "execution_count": 21,
   "metadata": {},
   "outputs": [
    {
     "data": {
      "text/plain": [
       "202"
      ]
     },
     "execution_count": 21,
     "metadata": {},
     "output_type": "execute_result"
    }
   ],
   "source": [
    "cervical_train_cin3_samples_df = cervical_train[cervical_train['subCategory']=='CIN 3']\n",
    "cervical_train_cin3_filenames = cervical_train_cin3_samples_df['Image Filename']\n",
    "len(cervical_train_cin3_filenames)"
   ]
  },
  {
   "cell_type": "code",
   "execution_count": 22,
   "metadata": {},
   "outputs": [
    {
     "data": {
      "text/plain": [
       "96"
      ]
     },
     "execution_count": 22,
     "metadata": {},
     "output_type": "execute_result"
    }
   ],
   "source": [
    "cervical_test_cin3_samples_df = cervical_test[cervical_test['subCategory']=='CIN 3']\n",
    "cervical_test_cin3_filenames = cervical_test_cin3_samples_df['Image Filename']\n",
    "len(cervical_test_cin3_filenames)"
   ]
  },
  {
   "cell_type": "code",
   "execution_count": 23,
   "metadata": {},
   "outputs": [
    {
     "data": {
      "text/plain": [
       "69"
      ]
     },
     "execution_count": 23,
     "metadata": {},
     "output_type": "execute_result"
    }
   ],
   "source": [
    "cervical_train_cgin_samples_df = cervical_train[cervical_train['subCategory']=='CGIN']\n",
    "cervical_train_cgin_filenames = cervical_train_cgin_samples_df['Image Filename']\n",
    "len(cervical_train_cgin_filenames)"
   ]
  },
  {
   "cell_type": "code",
   "execution_count": 24,
   "metadata": {},
   "outputs": [
    {
     "data": {
      "text/plain": [
       "31"
      ]
     },
     "execution_count": 24,
     "metadata": {},
     "output_type": "execute_result"
    }
   ],
   "source": [
    "cervical_test_cgin_samples_df = cervical_test[cervical_test['subCategory']=='CGIN']\n",
    "cervical_test_cgin_filenames = cervical_test_cgin_samples_df['Image Filename']\n",
    "len(cervical_test_cgin_filenames)"
   ]
  },
  {
   "cell_type": "code",
   "execution_count": 25,
   "metadata": {},
   "outputs": [
    {
     "data": {
      "text/plain": [
       "55"
      ]
     },
     "execution_count": 25,
     "metadata": {},
     "output_type": "execute_result"
    }
   ],
   "source": [
    "cervical_train_other_samples_df = cervical_train[cervical_train['subCategory']=='Other']\n",
    "cervical_train_other_filenames = cervical_train_other_samples_df['Image Filename']\n",
    "len(cervical_train_other_filenames)"
   ]
  },
  {
   "cell_type": "code",
   "execution_count": 26,
   "metadata": {},
   "outputs": [
    {
     "data": {
      "text/plain": [
       "32"
      ]
     },
     "execution_count": 26,
     "metadata": {},
     "output_type": "execute_result"
    }
   ],
   "source": [
    "cervical_test_other_samples_df = cervical_test[cervical_test['subCategory']=='Other']\n",
    "cervical_test_other_filenames = cervical_test_other_samples_df['Image Filename']\n",
    "len(cervical_test_other_filenames)"
   ]
  },
  {
   "cell_type": "code",
   "execution_count": 27,
   "metadata": {},
   "outputs": [
    {
     "data": {
      "text/plain": [
       "205"
      ]
     },
     "execution_count": 27,
     "metadata": {},
     "output_type": "execute_result"
    }
   ],
   "source": [
    "cervical_train_squamouscarcinoma_samples_df = cervical_train[cervical_train['subCategory']=='Squamous carcinoma']\n",
    "cervical_train_squamouscarcinoma_filenames = cervical_train_squamouscarcinoma_samples_df['Image Filename']\n",
    "len(cervical_train_squamouscarcinoma_filenames)"
   ]
  },
  {
   "cell_type": "code",
   "execution_count": 28,
   "metadata": {},
   "outputs": [
    {
     "data": {
      "text/plain": [
       "98"
      ]
     },
     "execution_count": 28,
     "metadata": {},
     "output_type": "execute_result"
    }
   ],
   "source": [
    "cervical_test_squamouscarcinoma_samples_df = cervical_test[cervical_test['subCategory']=='Squamous carcinoma']\n",
    "cervical_test_squamouscarcinoma_filenames = cervical_test_squamouscarcinoma_samples_df['Image Filename']\n",
    "len(cervical_test_squamouscarcinoma_filenames)"
   ]
  },
  {
   "cell_type": "code",
   "execution_count": 29,
   "metadata": {},
   "outputs": [
    {
     "data": {
      "text/plain": [
       "87"
      ]
     },
     "execution_count": 29,
     "metadata": {},
     "output_type": "execute_result"
    }
   ],
   "source": [
    "cervical_train_adenocarcinoma_samples_df = cervical_train[cervical_train['subCategory']=='Adenocarcinoma']\n",
    "cervical_train_adenocarcinoma_filenames = cervical_train_adenocarcinoma_samples_df['Image Filename']\n",
    "len(cervical_train_adenocarcinoma_filenames)"
   ]
  },
  {
   "cell_type": "code",
   "execution_count": 30,
   "metadata": {},
   "outputs": [
    {
     "data": {
      "text/plain": [
       "39"
      ]
     },
     "execution_count": 30,
     "metadata": {},
     "output_type": "execute_result"
    }
   ],
   "source": [
    "cervical_test_adenocarcinoma_samples_df = cervical_test[cervical_test['subCategory']=='Adenocarcinoma']\n",
    "cervical_test_adenocarcinoma_filenames = cervical_test_adenocarcinoma_samples_df['Image Filename']\n",
    "len(cervical_test_adenocarcinoma_filenames)"
   ]
  },
  {
   "cell_type": "code",
   "execution_count": 31,
   "metadata": {},
   "outputs": [
    {
     "data": {
      "text/plain": [
       "418"
      ]
     },
     "execution_count": 31,
     "metadata": {},
     "output_type": "execute_result"
    }
   ],
   "source": [
    "cervical_train_normal_inflammation_samples_df = cervical_train[cervical_train['subCategory']=='Normal/inflammation']\n",
    "cervical_train_normal_inflammation_filenames = cervical_train_normal_inflammation_samples_df['Image Filename']\n",
    "len(cervical_train_normal_inflammation_filenames)"
   ]
  },
  {
   "cell_type": "code",
   "execution_count": 32,
   "metadata": {},
   "outputs": [
    {
     "data": {
      "text/plain": [
       "226"
      ]
     },
     "execution_count": 32,
     "metadata": {},
     "output_type": "execute_result"
    }
   ],
   "source": [
    "cervical_test_normal_inflammation_samples_df = cervical_test[cervical_test['subCategory']=='Normal/inflammation']\n",
    "cervical_test_normal_inflammation_filenames = cervical_test_normal_inflammation_samples_df['Image Filename']\n",
    "len(cervical_test_normal_inflammation_filenames)"
   ]
  }
 ],
 "metadata": {
  "kernelspec": {
   "display_name": "repath",
   "language": "python",
   "name": "repath"
  },
  "language_info": {
   "codemirror_mode": {
    "name": "ipython",
    "version": 3
   },
   "file_extension": ".py",
   "mimetype": "text/x-python",
   "name": "python",
   "nbconvert_exporter": "python",
   "pygments_lexer": "ipython3",
   "version": "3.6.12"
  }
 },
 "nbformat": 4,
 "nbformat_minor": 4
}
