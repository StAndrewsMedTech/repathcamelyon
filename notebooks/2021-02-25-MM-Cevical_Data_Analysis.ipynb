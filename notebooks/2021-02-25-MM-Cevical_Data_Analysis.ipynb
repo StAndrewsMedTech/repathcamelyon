{
 "cells": [
  {
   "cell_type": "code",
   "execution_count": 1,
   "metadata": {},
   "outputs": [],
   "source": [
    "import pandas as pd"
   ]
  },
  {
   "cell_type": "code",
   "execution_count": 2,
   "metadata": {},
   "outputs": [],
   "source": [
    "#read cervical data\n",
    "cervical = pd.read_csv('/home/mahnaz/iCAIRD_DATA_ANALYSIS/iCAIRD_Cervical_Data.csv')"
   ]
  },
  {
   "cell_type": "code",
   "execution_count": 3,
   "metadata": {},
   "outputs": [
    {
     "data": {
      "text/html": [
       "<div>\n",
       "<style scoped>\n",
       "    .dataframe tbody tr th:only-of-type {\n",
       "        vertical-align: middle;\n",
       "    }\n",
       "\n",
       "    .dataframe tbody tr th {\n",
       "        vertical-align: top;\n",
       "    }\n",
       "\n",
       "    .dataframe thead th {\n",
       "        text-align: right;\n",
       "    }\n",
       "</style>\n",
       "<table border=\"1\" class=\"dataframe\">\n",
       "  <thead>\n",
       "    <tr style=\"text-align: right;\">\n",
       "      <th></th>\n",
       "      <th>ID</th>\n",
       "      <th>Image Filename</th>\n",
       "      <th>StudyID</th>\n",
       "      <th>Sample</th>\n",
       "      <th>Category</th>\n",
       "      <th>subCategory</th>\n",
       "      <th>BiobankID</th>\n",
       "      <th>StainingSiteID</th>\n",
       "      <th>StainingProtocol</th>\n",
       "      <th>train/valid/test</th>\n",
       "    </tr>\n",
       "  </thead>\n",
       "  <tbody>\n",
       "    <tr>\n",
       "      <th>0</th>\n",
       "      <td>4719</td>\n",
       "      <td>IC-CX-00001-01.isyntax</td>\n",
       "      <td>IC-CX-00001</td>\n",
       "      <td>Cervical</td>\n",
       "      <td>normal_inflammation</td>\n",
       "      <td>normal_inflammation</td>\n",
       "      <td>IC-CX-00001_</td>\n",
       "      <td>3</td>\n",
       "      <td>paeds_protocol</td>\n",
       "      <td>train</td>\n",
       "    </tr>\n",
       "    <tr>\n",
       "      <th>1</th>\n",
       "      <td>2396</td>\n",
       "      <td>IC-CX-00002-01.isyntax</td>\n",
       "      <td>IC-CX-00002</td>\n",
       "      <td>Cervical</td>\n",
       "      <td>malignant</td>\n",
       "      <td>other</td>\n",
       "      <td>IC-CX-00002_</td>\n",
       "      <td>2</td>\n",
       "      <td>routine_H&amp;E</td>\n",
       "      <td>test</td>\n",
       "    </tr>\n",
       "    <tr>\n",
       "      <th>2</th>\n",
       "      <td>2586</td>\n",
       "      <td>IC-CX-00002-02.isyntax</td>\n",
       "      <td>IC-CX-00002</td>\n",
       "      <td>Cervical</td>\n",
       "      <td>malignant</td>\n",
       "      <td>other</td>\n",
       "      <td>IC-CX-00003_</td>\n",
       "      <td>7</td>\n",
       "      <td>muscle_(hand_staining_protocol)</td>\n",
       "      <td>test</td>\n",
       "    </tr>\n",
       "    <tr>\n",
       "      <th>3</th>\n",
       "      <td>2358</td>\n",
       "      <td>IC-CX-00003-01.isyntax</td>\n",
       "      <td>IC-CX-00003</td>\n",
       "      <td>Cervical</td>\n",
       "      <td>high_grade</td>\n",
       "      <td>cin2</td>\n",
       "      <td>IC-CX-00004_</td>\n",
       "      <td>1</td>\n",
       "      <td>routine_H&amp;E</td>\n",
       "      <td>train</td>\n",
       "    </tr>\n",
       "    <tr>\n",
       "      <th>4</th>\n",
       "      <td>2596</td>\n",
       "      <td>IC-CX-00004-01.isyntax</td>\n",
       "      <td>IC-CX-00004</td>\n",
       "      <td>Cervical</td>\n",
       "      <td>normal_inflammation</td>\n",
       "      <td>normal_inflammation</td>\n",
       "      <td>IC-CX-00005_</td>\n",
       "      <td>3</td>\n",
       "      <td>paeds_protocol</td>\n",
       "      <td>train</td>\n",
       "    </tr>\n",
       "  </tbody>\n",
       "</table>\n",
       "</div>"
      ],
      "text/plain": [
       "     ID          Image Filename      StudyID    Sample             Category  \\\n",
       "0  4719  IC-CX-00001-01.isyntax  IC-CX-00001  Cervical  normal_inflammation   \n",
       "1  2396  IC-CX-00002-01.isyntax  IC-CX-00002  Cervical            malignant   \n",
       "2  2586  IC-CX-00002-02.isyntax  IC-CX-00002  Cervical            malignant   \n",
       "3  2358  IC-CX-00003-01.isyntax  IC-CX-00003  Cervical           high_grade   \n",
       "4  2596  IC-CX-00004-01.isyntax  IC-CX-00004  Cervical  normal_inflammation   \n",
       "\n",
       "           subCategory     BiobankID  StainingSiteID  \\\n",
       "0  normal_inflammation  IC-CX-00001_               3   \n",
       "1                other  IC-CX-00002_               2   \n",
       "2                other  IC-CX-00003_               7   \n",
       "3                 cin2  IC-CX-00004_               1   \n",
       "4  normal_inflammation  IC-CX-00005_               3   \n",
       "\n",
       "                  StainingProtocol train/valid/test  \n",
       "0                   paeds_protocol            train  \n",
       "1                      routine_H&E             test  \n",
       "2  muscle_(hand_staining_protocol)             test  \n",
       "3                      routine_H&E            train  \n",
       "4                   paeds_protocol            train  "
      ]
     },
     "execution_count": 3,
     "metadata": {},
     "output_type": "execute_result"
    }
   ],
   "source": [
    "cervical.head()"
   ]
  },
  {
   "cell_type": "code",
   "execution_count": 4,
   "metadata": {
    "scrolled": true
   },
   "outputs": [
    {
     "name": "stdout",
     "output_type": "stream",
     "text": [
      "Total number of cervical train cases :1758\n"
     ]
    },
    {
     "data": {
      "text/html": [
       "<div>\n",
       "<style scoped>\n",
       "    .dataframe tbody tr th:only-of-type {\n",
       "        vertical-align: middle;\n",
       "    }\n",
       "\n",
       "    .dataframe tbody tr th {\n",
       "        vertical-align: top;\n",
       "    }\n",
       "\n",
       "    .dataframe thead th {\n",
       "        text-align: right;\n",
       "    }\n",
       "</style>\n",
       "<table border=\"1\" class=\"dataframe\">\n",
       "  <thead>\n",
       "    <tr style=\"text-align: right;\">\n",
       "      <th></th>\n",
       "      <th>ID</th>\n",
       "      <th>Image Filename</th>\n",
       "      <th>StudyID</th>\n",
       "      <th>Sample</th>\n",
       "      <th>Category</th>\n",
       "      <th>subCategory</th>\n",
       "      <th>BiobankID</th>\n",
       "      <th>StainingSiteID</th>\n",
       "      <th>StainingProtocol</th>\n",
       "      <th>train/valid/test</th>\n",
       "    </tr>\n",
       "  </thead>\n",
       "  <tbody>\n",
       "    <tr>\n",
       "      <th>0</th>\n",
       "      <td>4719</td>\n",
       "      <td>IC-CX-00001-01.isyntax</td>\n",
       "      <td>IC-CX-00001</td>\n",
       "      <td>Cervical</td>\n",
       "      <td>normal_inflammation</td>\n",
       "      <td>normal_inflammation</td>\n",
       "      <td>IC-CX-00001_</td>\n",
       "      <td>3</td>\n",
       "      <td>paeds_protocol</td>\n",
       "      <td>train</td>\n",
       "    </tr>\n",
       "    <tr>\n",
       "      <th>3</th>\n",
       "      <td>2358</td>\n",
       "      <td>IC-CX-00003-01.isyntax</td>\n",
       "      <td>IC-CX-00003</td>\n",
       "      <td>Cervical</td>\n",
       "      <td>high_grade</td>\n",
       "      <td>cin2</td>\n",
       "      <td>IC-CX-00004_</td>\n",
       "      <td>1</td>\n",
       "      <td>routine_H&amp;E</td>\n",
       "      <td>train</td>\n",
       "    </tr>\n",
       "    <tr>\n",
       "      <th>4</th>\n",
       "      <td>2596</td>\n",
       "      <td>IC-CX-00004-01.isyntax</td>\n",
       "      <td>IC-CX-00004</td>\n",
       "      <td>Cervical</td>\n",
       "      <td>normal_inflammation</td>\n",
       "      <td>normal_inflammation</td>\n",
       "      <td>IC-CX-00005_</td>\n",
       "      <td>3</td>\n",
       "      <td>paeds_protocol</td>\n",
       "      <td>train</td>\n",
       "    </tr>\n",
       "    <tr>\n",
       "      <th>5</th>\n",
       "      <td>3832</td>\n",
       "      <td>IC-CX-00005-01.isyntax</td>\n",
       "      <td>IC-CX-00005</td>\n",
       "      <td>Cervical</td>\n",
       "      <td>malignant</td>\n",
       "      <td>cgin</td>\n",
       "      <td>IC-CX-00006_</td>\n",
       "      <td>5</td>\n",
       "      <td>neuro_(hand_staining_protocol)</td>\n",
       "      <td>train</td>\n",
       "    </tr>\n",
       "    <tr>\n",
       "      <th>8</th>\n",
       "      <td>2881</td>\n",
       "      <td>IC-CX-00010-01.isyntax</td>\n",
       "      <td>IC-CX-00010</td>\n",
       "      <td>Cervical</td>\n",
       "      <td>high_grade</td>\n",
       "      <td>cin3</td>\n",
       "      <td>IC-CX-00009_</td>\n",
       "      <td>7</td>\n",
       "      <td>muscle_(hand_staining_protocol)</td>\n",
       "      <td>train</td>\n",
       "    </tr>\n",
       "  </tbody>\n",
       "</table>\n",
       "</div>"
      ],
      "text/plain": [
       "     ID          Image Filename      StudyID    Sample             Category  \\\n",
       "0  4719  IC-CX-00001-01.isyntax  IC-CX-00001  Cervical  normal_inflammation   \n",
       "3  2358  IC-CX-00003-01.isyntax  IC-CX-00003  Cervical           high_grade   \n",
       "4  2596  IC-CX-00004-01.isyntax  IC-CX-00004  Cervical  normal_inflammation   \n",
       "5  3832  IC-CX-00005-01.isyntax  IC-CX-00005  Cervical            malignant   \n",
       "8  2881  IC-CX-00010-01.isyntax  IC-CX-00010  Cervical           high_grade   \n",
       "\n",
       "           subCategory     BiobankID  StainingSiteID  \\\n",
       "0  normal_inflammation  IC-CX-00001_               3   \n",
       "3                 cin2  IC-CX-00004_               1   \n",
       "4  normal_inflammation  IC-CX-00005_               3   \n",
       "5                 cgin  IC-CX-00006_               5   \n",
       "8                 cin3  IC-CX-00009_               7   \n",
       "\n",
       "                  StainingProtocol train/valid/test  \n",
       "0                   paeds_protocol            train  \n",
       "3                      routine_H&E            train  \n",
       "4                   paeds_protocol            train  \n",
       "5   neuro_(hand_staining_protocol)            train  \n",
       "8  muscle_(hand_staining_protocol)            train  "
      ]
     },
     "execution_count": 4,
     "metadata": {},
     "output_type": "execute_result"
    }
   ],
   "source": [
    "cervical_train = cervical[cervical['train/valid/test']=='train']\n",
    "print('Total number of cervical train cases :{}'.format(len(cervical_train)))\n",
    "cervical_train.head()"
   ]
  },
  {
   "cell_type": "code",
   "execution_count": 5,
   "metadata": {},
   "outputs": [
    {
     "name": "stdout",
     "output_type": "stream",
     "text": [
      "Total number of cervical test cases :845\n"
     ]
    },
    {
     "data": {
      "text/html": [
       "<div>\n",
       "<style scoped>\n",
       "    .dataframe tbody tr th:only-of-type {\n",
       "        vertical-align: middle;\n",
       "    }\n",
       "\n",
       "    .dataframe tbody tr th {\n",
       "        vertical-align: top;\n",
       "    }\n",
       "\n",
       "    .dataframe thead th {\n",
       "        text-align: right;\n",
       "    }\n",
       "</style>\n",
       "<table border=\"1\" class=\"dataframe\">\n",
       "  <thead>\n",
       "    <tr style=\"text-align: right;\">\n",
       "      <th></th>\n",
       "      <th>ID</th>\n",
       "      <th>Image Filename</th>\n",
       "      <th>StudyID</th>\n",
       "      <th>Sample</th>\n",
       "      <th>Category</th>\n",
       "      <th>subCategory</th>\n",
       "      <th>BiobankID</th>\n",
       "      <th>StainingSiteID</th>\n",
       "      <th>StainingProtocol</th>\n",
       "      <th>train/valid/test</th>\n",
       "    </tr>\n",
       "  </thead>\n",
       "  <tbody>\n",
       "    <tr>\n",
       "      <th>1</th>\n",
       "      <td>2396</td>\n",
       "      <td>IC-CX-00002-01.isyntax</td>\n",
       "      <td>IC-CX-00002</td>\n",
       "      <td>Cervical</td>\n",
       "      <td>malignant</td>\n",
       "      <td>other</td>\n",
       "      <td>IC-CX-00002_</td>\n",
       "      <td>2</td>\n",
       "      <td>routine_H&amp;E</td>\n",
       "      <td>test</td>\n",
       "    </tr>\n",
       "    <tr>\n",
       "      <th>2</th>\n",
       "      <td>2586</td>\n",
       "      <td>IC-CX-00002-02.isyntax</td>\n",
       "      <td>IC-CX-00002</td>\n",
       "      <td>Cervical</td>\n",
       "      <td>malignant</td>\n",
       "      <td>other</td>\n",
       "      <td>IC-CX-00003_</td>\n",
       "      <td>7</td>\n",
       "      <td>muscle_(hand_staining_protocol)</td>\n",
       "      <td>test</td>\n",
       "    </tr>\n",
       "    <tr>\n",
       "      <th>6</th>\n",
       "      <td>5195</td>\n",
       "      <td>IC-CX-00006-02.isyntax</td>\n",
       "      <td>IC-CX-00006</td>\n",
       "      <td>Cervical</td>\n",
       "      <td>low_grade</td>\n",
       "      <td>hpv</td>\n",
       "      <td>IC-CX-00007_</td>\n",
       "      <td>8</td>\n",
       "      <td>muscle_(hand_staining_protocol)</td>\n",
       "      <td>test</td>\n",
       "    </tr>\n",
       "    <tr>\n",
       "      <th>7</th>\n",
       "      <td>511</td>\n",
       "      <td>IC-CX-00008-01.isyntax</td>\n",
       "      <td>IC-CX-00008</td>\n",
       "      <td>Cervical</td>\n",
       "      <td>low_grade</td>\n",
       "      <td>cin1</td>\n",
       "      <td>IC-CX-00008_</td>\n",
       "      <td>8</td>\n",
       "      <td>muscle_(hand_staining_protocol)</td>\n",
       "      <td>test</td>\n",
       "    </tr>\n",
       "    <tr>\n",
       "      <th>10</th>\n",
       "      <td>2612</td>\n",
       "      <td>IC-CX-00012-01.isyntax</td>\n",
       "      <td>IC-CX-00012</td>\n",
       "      <td>Cervical</td>\n",
       "      <td>high_grade</td>\n",
       "      <td>cin2</td>\n",
       "      <td>IC-CX-00011_</td>\n",
       "      <td>6</td>\n",
       "      <td>neuro_(hand_staining_protocol)</td>\n",
       "      <td>test</td>\n",
       "    </tr>\n",
       "  </tbody>\n",
       "</table>\n",
       "</div>"
      ],
      "text/plain": [
       "      ID          Image Filename      StudyID    Sample    Category  \\\n",
       "1   2396  IC-CX-00002-01.isyntax  IC-CX-00002  Cervical   malignant   \n",
       "2   2586  IC-CX-00002-02.isyntax  IC-CX-00002  Cervical   malignant   \n",
       "6   5195  IC-CX-00006-02.isyntax  IC-CX-00006  Cervical   low_grade   \n",
       "7    511  IC-CX-00008-01.isyntax  IC-CX-00008  Cervical   low_grade   \n",
       "10  2612  IC-CX-00012-01.isyntax  IC-CX-00012  Cervical  high_grade   \n",
       "\n",
       "   subCategory     BiobankID  StainingSiteID                 StainingProtocol  \\\n",
       "1        other  IC-CX-00002_               2                      routine_H&E   \n",
       "2        other  IC-CX-00003_               7  muscle_(hand_staining_protocol)   \n",
       "6          hpv  IC-CX-00007_               8  muscle_(hand_staining_protocol)   \n",
       "7         cin1  IC-CX-00008_               8  muscle_(hand_staining_protocol)   \n",
       "10        cin2  IC-CX-00011_               6   neuro_(hand_staining_protocol)   \n",
       "\n",
       "   train/valid/test  \n",
       "1              test  \n",
       "2              test  \n",
       "6              test  \n",
       "7              test  \n",
       "10             test  "
      ]
     },
     "execution_count": 5,
     "metadata": {},
     "output_type": "execute_result"
    }
   ],
   "source": [
    "cervical_test = cervical[cervical['train/valid/test']=='test']\n",
    "print('Total number of cervical test cases :{}'.format(len(cervical_test)))\n",
    "cervical_test.head()"
   ]
  },
  {
   "cell_type": "markdown",
   "metadata": {},
   "source": [
    "## Check the whole Cervical Data"
   ]
  },
  {
   "cell_type": "code",
   "execution_count": 6,
   "metadata": {},
   "outputs": [
    {
     "name": "stdout",
     "output_type": "stream",
     "text": [
      "Cervical Data Main Categories Count:\n"
     ]
    },
    {
     "data": {
      "text/plain": [
       "low_grade              714\n",
       "normal_inflammation    644\n",
       "high_grade             629\n",
       "malignant              616\n",
       "Name: Category, dtype: int64"
      ]
     },
     "execution_count": 6,
     "metadata": {},
     "output_type": "execute_result"
    }
   ],
   "source": [
    "#number of each categories in cervical data\n",
    "print('Cervical Data Main Categories Count:')\n",
    "cervical['Category'].value_counts()"
   ]
  },
  {
   "cell_type": "code",
   "execution_count": 7,
   "metadata": {},
   "outputs": [
    {
     "name": "stdout",
     "output_type": "stream",
     "text": [
      "Cervical Data Sub Categories Count:\n"
     ]
    },
    {
     "data": {
      "text/plain": [
       "normal_inflammation    644\n",
       "cin1                   363\n",
       "hpv                    351\n",
       "cin2                   331\n",
       "squamous_carcinoma     303\n",
       "cin3                   298\n",
       "adenocarcinoma         126\n",
       "cgin                   100\n",
       "other                   87\n",
       "Name: subCategory, dtype: int64"
      ]
     },
     "execution_count": 7,
     "metadata": {},
     "output_type": "execute_result"
    }
   ],
   "source": [
    "#number of each sub-categories in cervical data\n",
    "print('Cervical Data Sub Categories Count:')\n",
    "cervical['subCategory'].value_counts()"
   ]
  },
  {
   "cell_type": "code",
   "execution_count": 8,
   "metadata": {},
   "outputs": [
    {
     "name": "stdout",
     "output_type": "stream",
     "text": [
      "Cervical Data Staining Sites Count:\n"
     ]
    },
    {
     "data": {
      "text/plain": [
       "7    330\n",
       "5    329\n",
       "2    329\n",
       "8    328\n",
       "3    324\n",
       "6    322\n",
       "4    321\n",
       "1    320\n",
       "Name: StainingSiteID, dtype: int64"
      ]
     },
     "execution_count": 8,
     "metadata": {},
     "output_type": "execute_result"
    }
   ],
   "source": [
    "#check the balance of cervical data over staining labs\n",
    "print('Cervical Data Staining Sites Count:')\n",
    "cervical['StainingSiteID'].value_counts()"
   ]
  },
  {
   "cell_type": "markdown",
   "metadata": {},
   "source": [
    "## Check the cervical train set"
   ]
  },
  {
   "cell_type": "code",
   "execution_count": 9,
   "metadata": {},
   "outputs": [
    {
     "name": "stdout",
     "output_type": "stream",
     "text": [
      "Cervical Train Data Main Categories Count:\n"
     ]
    },
    {
     "data": {
      "text/plain": [
       "low_grade              491\n",
       "high_grade             433\n",
       "normal_inflammation    418\n",
       "malignant              416\n",
       "Name: Category, dtype: int64"
      ]
     },
     "execution_count": 9,
     "metadata": {},
     "output_type": "execute_result"
    }
   ],
   "source": [
    "#number of each categories in cervical train set\n",
    "print('Cervical Train Data Main Categories Count:')\n",
    "cervical_train['Category'].value_counts()"
   ]
  },
  {
   "cell_type": "code",
   "execution_count": 10,
   "metadata": {},
   "outputs": [
    {
     "name": "stdout",
     "output_type": "stream",
     "text": [
      "Cervical Train Data subCategories Count:\n"
     ]
    },
    {
     "data": {
      "text/plain": [
       "normal_inflammation    418\n",
       "cin1                   261\n",
       "hpv                    230\n",
       "cin2                   226\n",
       "cin3                   207\n",
       "squamous_carcinoma     204\n",
       "adenocarcinoma          90\n",
       "cgin                    65\n",
       "other                   57\n",
       "Name: subCategory, dtype: int64"
      ]
     },
     "execution_count": 10,
     "metadata": {},
     "output_type": "execute_result"
    }
   ],
   "source": [
    "#number of each sub-categories in cervical train set\n",
    "print('Cervical Train Data subCategories Count:')\n",
    "cervical_train['subCategory'].value_counts()"
   ]
  },
  {
   "cell_type": "code",
   "execution_count": 11,
   "metadata": {},
   "outputs": [
    {
     "name": "stdout",
     "output_type": "stream",
     "text": [
      "Cervical Train Data stain labs Count:\n"
     ]
    },
    {
     "data": {
      "text/plain": [
       "7    297\n",
       "5    296\n",
       "2    296\n",
       "3    292\n",
       "4    289\n",
       "1    288\n",
       "Name: StainingSiteID, dtype: int64"
      ]
     },
     "execution_count": 11,
     "metadata": {},
     "output_type": "execute_result"
    }
   ],
   "source": [
    "#check if the cervical train data is balanced over staining sites\n",
    "print('Cervical Train Data stain labs Count:')\n",
    "cervical_train['StainingSiteID'].value_counts()"
   ]
  },
  {
   "cell_type": "markdown",
   "metadata": {},
   "source": [
    "## Check the cervical test set"
   ]
  },
  {
   "cell_type": "code",
   "execution_count": 12,
   "metadata": {},
   "outputs": [
    {
     "name": "stdout",
     "output_type": "stream",
     "text": [
      "Cervical Test Data Main Categories Count:\n"
     ]
    },
    {
     "data": {
      "text/plain": [
       "normal_inflammation    226\n",
       "low_grade              223\n",
       "malignant              200\n",
       "high_grade             196\n",
       "Name: Category, dtype: int64"
      ]
     },
     "execution_count": 12,
     "metadata": {},
     "output_type": "execute_result"
    }
   ],
   "source": [
    "#number of each categories in cervical test set\n",
    "print('Cervical Test Data Main Categories Count:')\n",
    "cervical_test['Category'].value_counts()"
   ]
  },
  {
   "cell_type": "code",
   "execution_count": 13,
   "metadata": {},
   "outputs": [
    {
     "name": "stdout",
     "output_type": "stream",
     "text": [
      "Cervical Test Data Sub Categories Count:\n"
     ]
    },
    {
     "data": {
      "text/plain": [
       "normal_inflammation    226\n",
       "hpv                    121\n",
       "cin2                   105\n",
       "cin1                   102\n",
       "squamous_carcinoma      99\n",
       "cin3                    91\n",
       "adenocarcinoma          36\n",
       "cgin                    35\n",
       "other                   30\n",
       "Name: subCategory, dtype: int64"
      ]
     },
     "execution_count": 13,
     "metadata": {},
     "output_type": "execute_result"
    }
   ],
   "source": [
    "#number of each sub-categories in cervical test set\n",
    "print('Cervical Test Data Sub Categories Count:')\n",
    "cervical_test['subCategory'].value_counts()"
   ]
  },
  {
   "cell_type": "code",
   "execution_count": 14,
   "metadata": {},
   "outputs": [
    {
     "name": "stdout",
     "output_type": "stream",
     "text": [
      "Cervical Test Data stain labs Count:\n"
     ]
    },
    {
     "data": {
      "text/plain": [
       "8    328\n",
       "6    322\n",
       "7     33\n",
       "5     33\n",
       "2     33\n",
       "4     32\n",
       "3     32\n",
       "1     32\n",
       "Name: StainingSiteID, dtype: int64"
      ]
     },
     "execution_count": 14,
     "metadata": {},
     "output_type": "execute_result"
    }
   ],
   "source": [
    "#check if the cervical testdata is balanced over staining sites\n",
    "print('Cervical Test Data stain labs Count:')\n",
    "cervical_test['StainingSiteID'].value_counts()"
   ]
  },
  {
   "cell_type": "markdown",
   "metadata": {},
   "source": [
    "## find the name of train samples based on each sub-category"
   ]
  },
  {
   "cell_type": "code",
   "execution_count": 15,
   "metadata": {},
   "outputs": [
    {
     "data": {
      "text/plain": [
       "230"
      ]
     },
     "execution_count": 15,
     "metadata": {},
     "output_type": "execute_result"
    }
   ],
   "source": [
    "cervical_train_hpv_samples_df = cervical_train[cervical_train['subCategory']=='hpv']\n",
    "cervical_train_hpv_filenames = cervical_train_hpv_samples_df['Image Filename']\n",
    "cervical_train_hpv_filenames.to_csv('/home/mahnaz/iCAIRD_DATA_ANALYSIS/FileNames/cervical/train/hpv_files.csv')\n",
    "len(cervical_train_hpv_filenames)"
   ]
  },
  {
   "cell_type": "code",
   "execution_count": 16,
   "metadata": {},
   "outputs": [
    {
     "data": {
      "text/plain": [
       "121"
      ]
     },
     "execution_count": 16,
     "metadata": {},
     "output_type": "execute_result"
    }
   ],
   "source": [
    "cervical_test_hpv_samples_df = cervical_test[cervical_test['subCategory']=='hpv']\n",
    "cervical_test_hpv_filenames = cervical_test_hpv_samples_df['Image Filename']\n",
    "cervical_test_hpv_filenames.to_csv('/home/mahnaz/iCAIRD_DATA_ANALYSIS/FileNames/cervical/test/hpv_files.csv')\n",
    "len(cervical_test_hpv_filenames)"
   ]
  },
  {
   "cell_type": "code",
   "execution_count": 17,
   "metadata": {},
   "outputs": [
    {
     "data": {
      "text/plain": [
       "261"
      ]
     },
     "execution_count": 17,
     "metadata": {},
     "output_type": "execute_result"
    }
   ],
   "source": [
    "cervical_train_cin1_samples_df = cervical_train[cervical_train['subCategory']=='cin1']\n",
    "cervical_train_cin1_filenames = cervical_train_cin1_samples_df['Image Filename']\n",
    "cervical_train_cin1_filenames.to_csv('/home/mahnaz/iCAIRD_DATA_ANALYSIS/FileNames/cervical/train/cin1_files.csv')\n",
    "len(cervical_train_cin1_filenames)"
   ]
  },
  {
   "cell_type": "code",
   "execution_count": 18,
   "metadata": {},
   "outputs": [
    {
     "data": {
      "text/plain": [
       "102"
      ]
     },
     "execution_count": 18,
     "metadata": {},
     "output_type": "execute_result"
    }
   ],
   "source": [
    "cervical_test_cin1_samples_df = cervical_test[cervical_test['subCategory']=='cin1']\n",
    "cervical_test_cin1_filenames = cervical_test_cin1_samples_df['Image Filename']\n",
    "cervical_test_cin1_filenames.to_csv('/home/mahnaz/iCAIRD_DATA_ANALYSIS/FileNames/cervical/test/cin1_files.csv')\n",
    "len(cervical_test_cin1_filenames)"
   ]
  },
  {
   "cell_type": "code",
   "execution_count": 19,
   "metadata": {},
   "outputs": [
    {
     "data": {
      "text/plain": [
       "226"
      ]
     },
     "execution_count": 19,
     "metadata": {},
     "output_type": "execute_result"
    }
   ],
   "source": [
    "cervical_train_cin2_samples_df = cervical_train[cervical_train['subCategory']=='cin2']\n",
    "cervical_train_cin2_filenames = cervical_train_cin2_samples_df['Image Filename']\n",
    "cervical_train_cin2_filenames.to_csv('/home/mahnaz/iCAIRD_DATA_ANALYSIS/FileNames/cervical/train/cin2_files.csv')\n",
    "len(cervical_train_cin2_filenames)"
   ]
  },
  {
   "cell_type": "code",
   "execution_count": 20,
   "metadata": {},
   "outputs": [
    {
     "data": {
      "text/plain": [
       "105"
      ]
     },
     "execution_count": 20,
     "metadata": {},
     "output_type": "execute_result"
    }
   ],
   "source": [
    "cervical_test_cin2_samples_df = cervical_test[cervical_test['subCategory']=='cin2']\n",
    "cervical_test_cin2_filenames = cervical_test_cin2_samples_df['Image Filename']\n",
    "cervical_test_cin2_filenames.to_csv('/home/mahnaz/iCAIRD_DATA_ANALYSIS/FileNames/cervical/test/cin2_files.csv')\n",
    "len(cervical_test_cin2_filenames)"
   ]
  },
  {
   "cell_type": "code",
   "execution_count": 21,
   "metadata": {},
   "outputs": [
    {
     "data": {
      "text/plain": [
       "207"
      ]
     },
     "execution_count": 21,
     "metadata": {},
     "output_type": "execute_result"
    }
   ],
   "source": [
    "cervical_train_cin3_samples_df = cervical_train[cervical_train['subCategory']=='cin3']\n",
    "cervical_train_cin3_filenames = cervical_train_cin3_samples_df['Image Filename']\n",
    "cervical_train_cin3_filenames.to_csv('/home/mahnaz/iCAIRD_DATA_ANALYSIS/FileNames/cervical/train/cin3_files.csv')\n",
    "len(cervical_train_cin3_filenames)"
   ]
  },
  {
   "cell_type": "code",
   "execution_count": 22,
   "metadata": {},
   "outputs": [
    {
     "data": {
      "text/plain": [
       "91"
      ]
     },
     "execution_count": 22,
     "metadata": {},
     "output_type": "execute_result"
    }
   ],
   "source": [
    "cervical_test_cin3_samples_df = cervical_test[cervical_test['subCategory']=='cin3']\n",
    "cervical_test_cin3_filenames = cervical_test_cin3_samples_df['Image Filename']\n",
    "cervical_test_cin3_filenames.to_csv('/home/mahnaz/iCAIRD_DATA_ANALYSIS/FileNames/cervical/test/cin3_files.csv')\n",
    "len(cervical_test_cin3_filenames)"
   ]
  },
  {
   "cell_type": "code",
   "execution_count": 23,
   "metadata": {},
   "outputs": [
    {
     "data": {
      "text/plain": [
       "65"
      ]
     },
     "execution_count": 23,
     "metadata": {},
     "output_type": "execute_result"
    }
   ],
   "source": [
    "cervical_train_cgin_samples_df = cervical_train[cervical_train['subCategory']=='cgin']\n",
    "cervical_train_cgin_filenames = cervical_train_cgin_samples_df['Image Filename']\n",
    "cervical_train_cgin_filenames.to_csv('/home/mahnaz/iCAIRD_DATA_ANALYSIS/FileNames/cervical/train/cgin_files.csv')\n",
    "len(cervical_train_cgin_filenames)"
   ]
  },
  {
   "cell_type": "code",
   "execution_count": 24,
   "metadata": {},
   "outputs": [
    {
     "data": {
      "text/plain": [
       "35"
      ]
     },
     "execution_count": 24,
     "metadata": {},
     "output_type": "execute_result"
    }
   ],
   "source": [
    "cervical_test_cgin_samples_df = cervical_test[cervical_test['subCategory']=='cgin']\n",
    "cervical_test_cgin_filenames = cervical_test_cgin_samples_df['Image Filename']\n",
    "cervical_test_cgin_filenames.to_csv('/home/mahnaz/iCAIRD_DATA_ANALYSIS/FileNames/cervical/test/cgin_files.csv')\n",
    "len(cervical_test_cgin_filenames)"
   ]
  },
  {
   "cell_type": "code",
   "execution_count": 25,
   "metadata": {},
   "outputs": [
    {
     "data": {
      "text/plain": [
       "57"
      ]
     },
     "execution_count": 25,
     "metadata": {},
     "output_type": "execute_result"
    }
   ],
   "source": [
    "cervical_train_other_samples_df = cervical_train[cervical_train['subCategory']=='other']\n",
    "cervical_train_other_filenames = cervical_train_other_samples_df['Image Filename']\n",
    "cervical_train_other_filenames.to_csv('/home/mahnaz/iCAIRD_DATA_ANALYSIS/FileNames/cervical/train/other_files.csv')\n",
    "len(cervical_train_other_filenames)"
   ]
  },
  {
   "cell_type": "code",
   "execution_count": 26,
   "metadata": {},
   "outputs": [
    {
     "data": {
      "text/plain": [
       "30"
      ]
     },
     "execution_count": 26,
     "metadata": {},
     "output_type": "execute_result"
    }
   ],
   "source": [
    "cervical_test_other_samples_df = cervical_test[cervical_test['subCategory']=='other']\n",
    "cervical_test_other_filenames = cervical_test_other_samples_df['Image Filename']\n",
    "cervical_test_other_filenames.to_csv('/home/mahnaz/iCAIRD_DATA_ANALYSIS/FileNames/cervical/test/other_files.csv')\n",
    "len(cervical_test_other_filenames)"
   ]
  },
  {
   "cell_type": "code",
   "execution_count": 27,
   "metadata": {},
   "outputs": [
    {
     "data": {
      "text/plain": [
       "204"
      ]
     },
     "execution_count": 27,
     "metadata": {},
     "output_type": "execute_result"
    }
   ],
   "source": [
    "cervical_train_squamouscarcinoma_samples_df = cervical_train[cervical_train['subCategory']=='squamous_carcinoma']\n",
    "cervical_train_squamouscarcinoma_filenames = cervical_train_squamouscarcinoma_samples_df['Image Filename']\n",
    "cervical_train_squamouscarcinoma_filenames.to_csv('/home/mahnaz/iCAIRD_DATA_ANALYSIS/FileNames/cervical/train/squamouscarcinoma_files.csv')\n",
    "len(cervical_train_squamouscarcinoma_filenames)"
   ]
  },
  {
   "cell_type": "code",
   "execution_count": 28,
   "metadata": {},
   "outputs": [
    {
     "data": {
      "text/plain": [
       "99"
      ]
     },
     "execution_count": 28,
     "metadata": {},
     "output_type": "execute_result"
    }
   ],
   "source": [
    "cervical_test_squamouscarcinoma_samples_df = cervical_test[cervical_test['subCategory']=='squamous_carcinoma']\n",
    "cervical_test_squamouscarcinoma_filenames = cervical_test_squamouscarcinoma_samples_df['Image Filename']\n",
    "cervical_test_squamouscarcinoma_filenames.to_csv('/home/mahnaz/iCAIRD_DATA_ANALYSIS/FileNames/cervical/test/squamouscarcinoma_files.csv')\n",
    "len(cervical_test_squamouscarcinoma_filenames)"
   ]
  },
  {
   "cell_type": "code",
   "execution_count": 29,
   "metadata": {},
   "outputs": [
    {
     "data": {
      "text/plain": [
       "90"
      ]
     },
     "execution_count": 29,
     "metadata": {},
     "output_type": "execute_result"
    }
   ],
   "source": [
    "cervical_train_adenocarcinoma_samples_df = cervical_train[cervical_train['subCategory']=='adenocarcinoma']\n",
    "cervical_train_adenocarcinoma_filenames = cervical_train_adenocarcinoma_samples_df['Image Filename']\n",
    "cervical_train_adenocarcinoma_filenames.to_csv('/home/mahnaz/iCAIRD_DATA_ANALYSIS/FileNames/cervical/train/adenocarcinoma.csv')\n",
    "len(cervical_train_adenocarcinoma_filenames)"
   ]
  },
  {
   "cell_type": "code",
   "execution_count": 30,
   "metadata": {},
   "outputs": [
    {
     "data": {
      "text/plain": [
       "36"
      ]
     },
     "execution_count": 30,
     "metadata": {},
     "output_type": "execute_result"
    }
   ],
   "source": [
    "cervical_test_adenocarcinoma_samples_df = cervical_test[cervical_test['subCategory']=='adenocarcinoma']\n",
    "cervical_test_adenocarcinoma_filenames = cervical_test_adenocarcinoma_samples_df['Image Filename']\n",
    "cervical_test_adenocarcinoma_filenames.to_csv('/home/mahnaz/iCAIRD_DATA_ANALYSIS/FileNames/cervical/test/adenocarcinoma.csv')\n",
    "len(cervical_test_adenocarcinoma_filenames)"
   ]
  },
  {
   "cell_type": "code",
   "execution_count": 31,
   "metadata": {},
   "outputs": [
    {
     "data": {
      "text/plain": [
       "418"
      ]
     },
     "execution_count": 31,
     "metadata": {},
     "output_type": "execute_result"
    }
   ],
   "source": [
    "cervical_train_normal_inflammation_samples_df = cervical_train[cervical_train['subCategory']=='normal_inflammation']\n",
    "cervical_train_normal_inflammation_filenames = cervical_train_normal_inflammation_samples_df['Image Filename']\n",
    "cervical_train_normal_inflammation_filenames.to_csv('/home/mahnaz/iCAIRD_DATA_ANALYSIS/FileNames/cervical/train/inflammation.csv')\n",
    "len(cervical_train_normal_inflammation_filenames)"
   ]
  },
  {
   "cell_type": "code",
   "execution_count": 32,
   "metadata": {},
   "outputs": [
    {
     "data": {
      "text/plain": [
       "226"
      ]
     },
     "execution_count": 32,
     "metadata": {},
     "output_type": "execute_result"
    }
   ],
   "source": [
    "cervical_test_normal_inflammation_samples_df = cervical_test[cervical_test['subCategory']=='normal_inflammation']\n",
    "cervical_test_normal_inflammation_filenames = cervical_test_normal_inflammation_samples_df['Image Filename']\n",
    "cervical_test_normal_inflammation_filenames.to_csv('/home/mahnaz/iCAIRD_DATA_ANALYSIS/FileNames/cervical/test/inflammation.csv')\n",
    "len(cervical_test_normal_inflammation_filenames)"
   ]
  },
  {
   "cell_type": "code",
   "execution_count": null,
   "metadata": {},
   "outputs": [],
   "source": []
  }
 ],
 "metadata": {
  "kernelspec": {
   "display_name": "repath",
   "language": "python",
   "name": "repath"
  },
  "language_info": {
   "codemirror_mode": {
    "name": "ipython",
    "version": 3
   },
   "file_extension": ".py",
   "mimetype": "text/x-python",
   "name": "python",
   "nbconvert_exporter": "python",
   "pygments_lexer": "ipython3",
   "version": "3.6.12"
  }
 },
 "nbformat": 4,
 "nbformat_minor": 4
}
