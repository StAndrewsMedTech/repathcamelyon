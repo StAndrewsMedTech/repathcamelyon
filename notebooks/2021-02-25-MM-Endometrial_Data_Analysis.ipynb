{
 "cells": [
  {
   "cell_type": "code",
   "execution_count": 1,
   "metadata": {},
   "outputs": [],
   "source": [
    "import pandas as pd"
   ]
  },
  {
   "cell_type": "code",
   "execution_count": 2,
   "metadata": {},
   "outputs": [
    {
     "data": {
      "text/html": [
       "<div>\n",
       "<style scoped>\n",
       "    .dataframe tbody tr th:only-of-type {\n",
       "        vertical-align: middle;\n",
       "    }\n",
       "\n",
       "    .dataframe tbody tr th {\n",
       "        vertical-align: top;\n",
       "    }\n",
       "\n",
       "    .dataframe thead th {\n",
       "        text-align: right;\n",
       "    }\n",
       "</style>\n",
       "<table border=\"1\" class=\"dataframe\">\n",
       "  <thead>\n",
       "    <tr style=\"text-align: right;\">\n",
       "      <th></th>\n",
       "      <th>ID</th>\n",
       "      <th>Image Filename</th>\n",
       "      <th>StudyID</th>\n",
       "      <th>Sample</th>\n",
       "      <th>Category</th>\n",
       "      <th>subCategory</th>\n",
       "      <th>BiobankID</th>\n",
       "      <th>StainingSiteID</th>\n",
       "      <th>StainingProtocol</th>\n",
       "      <th>train/valid/test</th>\n",
       "    </tr>\n",
       "  </thead>\n",
       "  <tbody>\n",
       "    <tr>\n",
       "      <th>0</th>\n",
       "      <td>2520</td>\n",
       "      <td>IC-EN-00001-01.isyntax</td>\n",
       "      <td>IC-EN-00001</td>\n",
       "      <td>Endometrial</td>\n",
       "      <td>Other/benign</td>\n",
       "      <td>Menstrual</td>\n",
       "      <td>IC-EN-00001</td>\n",
       "      <td>3</td>\n",
       "      <td>paeds protocol</td>\n",
       "      <td>train</td>\n",
       "    </tr>\n",
       "    <tr>\n",
       "      <th>1</th>\n",
       "      <td>3814</td>\n",
       "      <td>IC-EN-00003-01.isyntax</td>\n",
       "      <td>IC-EN-00003</td>\n",
       "      <td>Endometrial</td>\n",
       "      <td>Other/benign</td>\n",
       "      <td>Secretory</td>\n",
       "      <td>IC-EN-00003</td>\n",
       "      <td>3</td>\n",
       "      <td>paeds protocol</td>\n",
       "      <td>train</td>\n",
       "    </tr>\n",
       "    <tr>\n",
       "      <th>2</th>\n",
       "      <td>2653</td>\n",
       "      <td>IC-EN-00004-01.isyntax</td>\n",
       "      <td>IC-EN-00004</td>\n",
       "      <td>Endometrial</td>\n",
       "      <td>Other/benign</td>\n",
       "      <td>Secretory</td>\n",
       "      <td>IC-EN-00004</td>\n",
       "      <td>1</td>\n",
       "      <td>routine H&amp;E</td>\n",
       "      <td>train</td>\n",
       "    </tr>\n",
       "    <tr>\n",
       "      <th>3</th>\n",
       "      <td>1164</td>\n",
       "      <td>IC-EN-00005-01.isyntax</td>\n",
       "      <td>IC-EN-00005</td>\n",
       "      <td>Endometrial</td>\n",
       "      <td>Other/benign</td>\n",
       "      <td>Menstrual</td>\n",
       "      <td>IC-EN-00005</td>\n",
       "      <td>8</td>\n",
       "      <td>muscle (hand staining protocol)</td>\n",
       "      <td>test</td>\n",
       "    </tr>\n",
       "    <tr>\n",
       "      <th>4</th>\n",
       "      <td>4193</td>\n",
       "      <td>IC-EN-00006-01.isyntax</td>\n",
       "      <td>IC-EN-00006</td>\n",
       "      <td>Endometrial</td>\n",
       "      <td>Other/benign</td>\n",
       "      <td>Innactive/atrophic</td>\n",
       "      <td>IC-EN-00006</td>\n",
       "      <td>1</td>\n",
       "      <td>routine H&amp;E</td>\n",
       "      <td>test</td>\n",
       "    </tr>\n",
       "  </tbody>\n",
       "</table>\n",
       "</div>"
      ],
      "text/plain": [
       "     ID          Image Filename      StudyID       Sample      Category  \\\n",
       "0  2520  IC-EN-00001-01.isyntax  IC-EN-00001  Endometrial  Other/benign   \n",
       "1  3814  IC-EN-00003-01.isyntax  IC-EN-00003  Endometrial  Other/benign   \n",
       "2  2653  IC-EN-00004-01.isyntax  IC-EN-00004  Endometrial  Other/benign   \n",
       "3  1164  IC-EN-00005-01.isyntax  IC-EN-00005  Endometrial  Other/benign   \n",
       "4  4193  IC-EN-00006-01.isyntax  IC-EN-00006  Endometrial  Other/benign   \n",
       "\n",
       "          subCategory     BiobankID  StainingSiteID  \\\n",
       "0           Menstrual  IC-EN-00001                3   \n",
       "1           Secretory  IC-EN-00003                3   \n",
       "2           Secretory  IC-EN-00004                1   \n",
       "3           Menstrual  IC-EN-00005                8   \n",
       "4  Innactive/atrophic  IC-EN-00006                1   \n",
       "\n",
       "                  StainingProtocol train/valid/test  \n",
       "0                   paeds protocol            train  \n",
       "1                   paeds protocol            train  \n",
       "2                      routine H&E            train  \n",
       "3  muscle (hand staining protocol)             test  \n",
       "4                      routine H&E             test  "
      ]
     },
     "execution_count": 2,
     "metadata": {},
     "output_type": "execute_result"
    }
   ],
   "source": [
    "#read cervical data\n",
    "endo = pd.read_csv('/home/mahnaz/iCAIRD_DATA_ANALYSIS/iCAIRD_Endometrial_Data.csv')\n",
    "endo.head()"
   ]
  },
  {
   "cell_type": "code",
   "execution_count": 3,
   "metadata": {},
   "outputs": [
    {
     "name": "stdout",
     "output_type": "stream",
     "text": [
      "Total number of endometrial train cases :1989\n"
     ]
    },
    {
     "data": {
      "text/html": [
       "<div>\n",
       "<style scoped>\n",
       "    .dataframe tbody tr th:only-of-type {\n",
       "        vertical-align: middle;\n",
       "    }\n",
       "\n",
       "    .dataframe tbody tr th {\n",
       "        vertical-align: top;\n",
       "    }\n",
       "\n",
       "    .dataframe thead th {\n",
       "        text-align: right;\n",
       "    }\n",
       "</style>\n",
       "<table border=\"1\" class=\"dataframe\">\n",
       "  <thead>\n",
       "    <tr style=\"text-align: right;\">\n",
       "      <th></th>\n",
       "      <th>ID</th>\n",
       "      <th>Image Filename</th>\n",
       "      <th>StudyID</th>\n",
       "      <th>Sample</th>\n",
       "      <th>Category</th>\n",
       "      <th>subCategory</th>\n",
       "      <th>BiobankID</th>\n",
       "      <th>StainingSiteID</th>\n",
       "      <th>StainingProtocol</th>\n",
       "      <th>train/valid/test</th>\n",
       "    </tr>\n",
       "  </thead>\n",
       "  <tbody>\n",
       "    <tr>\n",
       "      <th>0</th>\n",
       "      <td>2520</td>\n",
       "      <td>IC-EN-00001-01.isyntax</td>\n",
       "      <td>IC-EN-00001</td>\n",
       "      <td>Endometrial</td>\n",
       "      <td>Other/benign</td>\n",
       "      <td>Menstrual</td>\n",
       "      <td>IC-EN-00001</td>\n",
       "      <td>3</td>\n",
       "      <td>paeds protocol</td>\n",
       "      <td>train</td>\n",
       "    </tr>\n",
       "    <tr>\n",
       "      <th>1</th>\n",
       "      <td>3814</td>\n",
       "      <td>IC-EN-00003-01.isyntax</td>\n",
       "      <td>IC-EN-00003</td>\n",
       "      <td>Endometrial</td>\n",
       "      <td>Other/benign</td>\n",
       "      <td>Secretory</td>\n",
       "      <td>IC-EN-00003</td>\n",
       "      <td>3</td>\n",
       "      <td>paeds protocol</td>\n",
       "      <td>train</td>\n",
       "    </tr>\n",
       "    <tr>\n",
       "      <th>2</th>\n",
       "      <td>2653</td>\n",
       "      <td>IC-EN-00004-01.isyntax</td>\n",
       "      <td>IC-EN-00004</td>\n",
       "      <td>Endometrial</td>\n",
       "      <td>Other/benign</td>\n",
       "      <td>Secretory</td>\n",
       "      <td>IC-EN-00004</td>\n",
       "      <td>1</td>\n",
       "      <td>routine H&amp;E</td>\n",
       "      <td>train</td>\n",
       "    </tr>\n",
       "    <tr>\n",
       "      <th>5</th>\n",
       "      <td>4053</td>\n",
       "      <td>IC-EN-00007-01.isyntax</td>\n",
       "      <td>IC-EN-00007</td>\n",
       "      <td>Endometrial</td>\n",
       "      <td>Malignant</td>\n",
       "      <td>Adenocarcinoma</td>\n",
       "      <td>IC-EN-00007</td>\n",
       "      <td>2</td>\n",
       "      <td>routine H&amp;E</td>\n",
       "      <td>train</td>\n",
       "    </tr>\n",
       "    <tr>\n",
       "      <th>7</th>\n",
       "      <td>5268</td>\n",
       "      <td>IC-EN-00009-01.isyntax</td>\n",
       "      <td>IC-EN-00009</td>\n",
       "      <td>Endometrial</td>\n",
       "      <td>Insufficient</td>\n",
       "      <td>Insufficient</td>\n",
       "      <td>IC-EN-00009</td>\n",
       "      <td>5</td>\n",
       "      <td>neuro (hand staining protocol)</td>\n",
       "      <td>train</td>\n",
       "    </tr>\n",
       "  </tbody>\n",
       "</table>\n",
       "</div>"
      ],
      "text/plain": [
       "     ID          Image Filename      StudyID       Sample      Category  \\\n",
       "0  2520  IC-EN-00001-01.isyntax  IC-EN-00001  Endometrial  Other/benign   \n",
       "1  3814  IC-EN-00003-01.isyntax  IC-EN-00003  Endometrial  Other/benign   \n",
       "2  2653  IC-EN-00004-01.isyntax  IC-EN-00004  Endometrial  Other/benign   \n",
       "5  4053  IC-EN-00007-01.isyntax  IC-EN-00007  Endometrial     Malignant   \n",
       "7  5268  IC-EN-00009-01.isyntax  IC-EN-00009  Endometrial  Insufficient   \n",
       "\n",
       "      subCategory     BiobankID  StainingSiteID  \\\n",
       "0       Menstrual  IC-EN-00001                3   \n",
       "1       Secretory  IC-EN-00003                3   \n",
       "2       Secretory  IC-EN-00004                1   \n",
       "5  Adenocarcinoma  IC-EN-00007                2   \n",
       "7    Insufficient  IC-EN-00009                5   \n",
       "\n",
       "                 StainingProtocol train/valid/test  \n",
       "0                  paeds protocol            train  \n",
       "1                  paeds protocol            train  \n",
       "2                     routine H&E            train  \n",
       "5                     routine H&E            train  \n",
       "7  neuro (hand staining protocol)            train  "
      ]
     },
     "execution_count": 3,
     "metadata": {},
     "output_type": "execute_result"
    }
   ],
   "source": [
    "endo_train = endo[endo['train/valid/test']=='train']\n",
    "print('Total number of endometrial train cases :{}'.format(len(endo_train)))\n",
    "endo_train.head()"
   ]
  },
  {
   "cell_type": "code",
   "execution_count": 4,
   "metadata": {},
   "outputs": [
    {
     "name": "stdout",
     "output_type": "stream",
     "text": [
      "Total number of endometrial test cases :959\n"
     ]
    },
    {
     "data": {
      "text/html": [
       "<div>\n",
       "<style scoped>\n",
       "    .dataframe tbody tr th:only-of-type {\n",
       "        vertical-align: middle;\n",
       "    }\n",
       "\n",
       "    .dataframe tbody tr th {\n",
       "        vertical-align: top;\n",
       "    }\n",
       "\n",
       "    .dataframe thead th {\n",
       "        text-align: right;\n",
       "    }\n",
       "</style>\n",
       "<table border=\"1\" class=\"dataframe\">\n",
       "  <thead>\n",
       "    <tr style=\"text-align: right;\">\n",
       "      <th></th>\n",
       "      <th>ID</th>\n",
       "      <th>Image Filename</th>\n",
       "      <th>StudyID</th>\n",
       "      <th>Sample</th>\n",
       "      <th>Category</th>\n",
       "      <th>subCategory</th>\n",
       "      <th>BiobankID</th>\n",
       "      <th>StainingSiteID</th>\n",
       "      <th>StainingProtocol</th>\n",
       "      <th>train/valid/test</th>\n",
       "    </tr>\n",
       "  </thead>\n",
       "  <tbody>\n",
       "    <tr>\n",
       "      <th>3</th>\n",
       "      <td>1164</td>\n",
       "      <td>IC-EN-00005-01.isyntax</td>\n",
       "      <td>IC-EN-00005</td>\n",
       "      <td>Endometrial</td>\n",
       "      <td>Other/benign</td>\n",
       "      <td>Menstrual</td>\n",
       "      <td>IC-EN-00005</td>\n",
       "      <td>8</td>\n",
       "      <td>muscle (hand staining protocol)</td>\n",
       "      <td>test</td>\n",
       "    </tr>\n",
       "    <tr>\n",
       "      <th>4</th>\n",
       "      <td>4193</td>\n",
       "      <td>IC-EN-00006-01.isyntax</td>\n",
       "      <td>IC-EN-00006</td>\n",
       "      <td>Endometrial</td>\n",
       "      <td>Other/benign</td>\n",
       "      <td>Innactive/atrophic</td>\n",
       "      <td>IC-EN-00006</td>\n",
       "      <td>1</td>\n",
       "      <td>routine H&amp;E</td>\n",
       "      <td>test</td>\n",
       "    </tr>\n",
       "    <tr>\n",
       "      <th>6</th>\n",
       "      <td>1912</td>\n",
       "      <td>IC-EN-00008-01.isyntax</td>\n",
       "      <td>IC-EN-00008</td>\n",
       "      <td>Endometrial</td>\n",
       "      <td>Other/benign</td>\n",
       "      <td>Secretory</td>\n",
       "      <td>IC-EN-00008</td>\n",
       "      <td>6</td>\n",
       "      <td>neuro (hand staining protocol)</td>\n",
       "      <td>test</td>\n",
       "    </tr>\n",
       "    <tr>\n",
       "      <th>8</th>\n",
       "      <td>4394</td>\n",
       "      <td>IC-EN-00010-01.isyntax</td>\n",
       "      <td>IC-EN-00010</td>\n",
       "      <td>Endometrial</td>\n",
       "      <td>Other/benign</td>\n",
       "      <td>Proliferative</td>\n",
       "      <td>IC-EN-00010</td>\n",
       "      <td>6</td>\n",
       "      <td>neuro (hand staining protocol)</td>\n",
       "      <td>test</td>\n",
       "    </tr>\n",
       "    <tr>\n",
       "      <th>13</th>\n",
       "      <td>5282</td>\n",
       "      <td>IC-EN-00016-01.isyntax</td>\n",
       "      <td>IC-EN-00016</td>\n",
       "      <td>Endometrial</td>\n",
       "      <td>Malignant</td>\n",
       "      <td>Adenocarcinoma</td>\n",
       "      <td>IC-EN-00016</td>\n",
       "      <td>6</td>\n",
       "      <td>neuro (hand staining protocol)</td>\n",
       "      <td>test</td>\n",
       "    </tr>\n",
       "  </tbody>\n",
       "</table>\n",
       "</div>"
      ],
      "text/plain": [
       "      ID          Image Filename      StudyID       Sample      Category  \\\n",
       "3   1164  IC-EN-00005-01.isyntax  IC-EN-00005  Endometrial  Other/benign   \n",
       "4   4193  IC-EN-00006-01.isyntax  IC-EN-00006  Endometrial  Other/benign   \n",
       "6   1912  IC-EN-00008-01.isyntax  IC-EN-00008  Endometrial  Other/benign   \n",
       "8   4394  IC-EN-00010-01.isyntax  IC-EN-00010  Endometrial  Other/benign   \n",
       "13  5282  IC-EN-00016-01.isyntax  IC-EN-00016  Endometrial     Malignant   \n",
       "\n",
       "           subCategory     BiobankID  StainingSiteID  \\\n",
       "3            Menstrual  IC-EN-00005                8   \n",
       "4   Innactive/atrophic  IC-EN-00006                1   \n",
       "6            Secretory  IC-EN-00008                6   \n",
       "8        Proliferative  IC-EN-00010                6   \n",
       "13      Adenocarcinoma  IC-EN-00016                6   \n",
       "\n",
       "                   StainingProtocol train/valid/test  \n",
       "3   muscle (hand staining protocol)             test  \n",
       "4                       routine H&E             test  \n",
       "6    neuro (hand staining protocol)             test  \n",
       "8    neuro (hand staining protocol)             test  \n",
       "13   neuro (hand staining protocol)             test  "
      ]
     },
     "execution_count": 4,
     "metadata": {},
     "output_type": "execute_result"
    }
   ],
   "source": [
    "endo_test = endo[endo['train/valid/test']=='test']\n",
    "print('Total number of endometrial test cases :{}'.format(len(endo_test)))\n",
    "endo_test.head()"
   ]
  },
  {
   "cell_type": "markdown",
   "metadata": {},
   "source": [
    "## Check the whole Endometrial data"
   ]
  },
  {
   "cell_type": "code",
   "execution_count": 5,
   "metadata": {},
   "outputs": [
    {
     "name": "stdout",
     "output_type": "stream",
     "text": [
      "Endometrial Data Main Categories Count:\n"
     ]
    },
    {
     "data": {
      "text/plain": [
       "Other/benign    1850\n",
       "Malignant        917\n",
       "Insufficient     180\n",
       "Name: Category, dtype: int64"
      ]
     },
     "execution_count": 5,
     "metadata": {},
     "output_type": "execute_result"
    }
   ],
   "source": [
    "#number of each categories in Endometrial data\n",
    "print('Endometrial Data Main Categories Count:')\n",
    "endo['Category'].value_counts()"
   ]
  },
  {
   "cell_type": "code",
   "execution_count": 6,
   "metadata": {},
   "outputs": [
    {
     "name": "stdout",
     "output_type": "stream",
     "text": [
      "Endometrial Data Sub Categories Count:\n"
     ]
    },
    {
     "data": {
      "text/plain": [
       "Adenocarcinoma             530\n",
       "Innactive/atrophic         377\n",
       "Menstrual                  374\n",
       "Proliferative              373\n",
       "Secretory                  367\n",
       "Hormonal                   359\n",
       "Hyperplasia with atypia    256\n",
       "Insufficient               180\n",
       "Carcinosarcoma              91\n",
       "Sarcoma                     27\n",
       "Other                       13\n",
       "Name: subCategory, dtype: int64"
      ]
     },
     "execution_count": 6,
     "metadata": {},
     "output_type": "execute_result"
    }
   ],
   "source": [
    "#number of each sub-categories in Endometrial data\n",
    "print('Endometrial Data Sub Categories Count:')\n",
    "endo['subCategory'].value_counts()"
   ]
  },
  {
   "cell_type": "code",
   "execution_count": 7,
   "metadata": {},
   "outputs": [
    {
     "name": "stdout",
     "output_type": "stream",
     "text": [
      "Endometrial Data Staining Sites Count:\n"
     ]
    },
    {
     "data": {
      "text/plain": [
       "6    375\n",
       "4    373\n",
       "2    370\n",
       "1    369\n",
       "5    368\n",
       "3    367\n",
       "7    363\n",
       "8    363\n",
       "Name: StainingSiteID, dtype: int64"
      ]
     },
     "execution_count": 7,
     "metadata": {},
     "output_type": "execute_result"
    }
   ],
   "source": [
    "#check the balance of Endometrial data over staining labs\n",
    "print('Endometrial Data Staining Sites Count:')\n",
    "endo['StainingSiteID'].value_counts()"
   ]
  },
  {
   "cell_type": "markdown",
   "metadata": {},
   "source": [
    "## Check Endometrial Train Data"
   ]
  },
  {
   "cell_type": "code",
   "execution_count": 8,
   "metadata": {},
   "outputs": [
    {
     "name": "stdout",
     "output_type": "stream",
     "text": [
      "Endometrial Train Data Main Categories Count:\n"
     ]
    },
    {
     "data": {
      "text/plain": [
       "Other/benign    1234\n",
       "Malignant        634\n",
       "Insufficient     121\n",
       "Name: Category, dtype: int64"
      ]
     },
     "execution_count": 8,
     "metadata": {},
     "output_type": "execute_result"
    }
   ],
   "source": [
    "#number of each categories in Endometrial Train data\n",
    "print('Endometrial Train Data Main Categories Count:')\n",
    "endo_train['Category'].value_counts()"
   ]
  },
  {
   "cell_type": "code",
   "execution_count": 9,
   "metadata": {},
   "outputs": [
    {
     "name": "stdout",
     "output_type": "stream",
     "text": [
      "Endometrial Train Data sub Categories Count:\n"
     ]
    },
    {
     "data": {
      "text/plain": [
       "Adenocarcinoma             358\n",
       "Innactive/atrophic         254\n",
       "Secretory                  251\n",
       "Proliferative              251\n",
       "Menstrual                  249\n",
       "Hormonal                   229\n",
       "Hyperplasia with atypia    178\n",
       "Insufficient               121\n",
       "Carcinosarcoma              65\n",
       "Sarcoma                     22\n",
       "Other                       11\n",
       "Name: subCategory, dtype: int64"
      ]
     },
     "execution_count": 9,
     "metadata": {},
     "output_type": "execute_result"
    }
   ],
   "source": [
    "#number of each sub-categories in Endometrial Train data\n",
    "print('Endometrial Train Data sub Categories Count:')\n",
    "endo_train['subCategory'].value_counts()"
   ]
  },
  {
   "cell_type": "code",
   "execution_count": 10,
   "metadata": {},
   "outputs": [
    {
     "name": "stdout",
     "output_type": "stream",
     "text": [
      "Endometrial Train Data Staining Sites Count:\n"
     ]
    },
    {
     "data": {
      "text/plain": [
       "4    336\n",
       "2    333\n",
       "1    332\n",
       "5    331\n",
       "3    330\n",
       "7    327\n",
       "Name: StainingSiteID, dtype: int64"
      ]
     },
     "execution_count": 10,
     "metadata": {},
     "output_type": "execute_result"
    }
   ],
   "source": [
    "#check the balance of Train Endometrial data over staining labs\n",
    "print('Endometrial Train Data Staining Sites Count:')\n",
    "endo_train['StainingSiteID'].value_counts()"
   ]
  },
  {
   "cell_type": "markdown",
   "metadata": {},
   "source": [
    "## Check Endometrial Test Data"
   ]
  },
  {
   "cell_type": "code",
   "execution_count": 11,
   "metadata": {},
   "outputs": [
    {
     "name": "stdout",
     "output_type": "stream",
     "text": [
      "Endometrial Test Data Main Categories Count:\n"
     ]
    },
    {
     "data": {
      "text/plain": [
       "Other/benign    616\n",
       "Malignant       283\n",
       "Insufficient     59\n",
       "Name: Category, dtype: int64"
      ]
     },
     "execution_count": 11,
     "metadata": {},
     "output_type": "execute_result"
    }
   ],
   "source": [
    "#number of each categories in Endometrial Test data\n",
    "print('Endometrial Test Data Main Categories Count:')\n",
    "endo_test['Category'].value_counts()"
   ]
  },
  {
   "cell_type": "code",
   "execution_count": 12,
   "metadata": {},
   "outputs": [
    {
     "name": "stdout",
     "output_type": "stream",
     "text": [
      "Endometrial Test Data sub Categories Count:\n"
     ]
    },
    {
     "data": {
      "text/plain": [
       "Adenocarcinoma             172\n",
       "Hormonal                   130\n",
       "Menstrual                  125\n",
       "Innactive/atrophic         123\n",
       "Proliferative              122\n",
       "Secretory                  116\n",
       "Hyperplasia with atypia     78\n",
       "Insufficient                59\n",
       "Carcinosarcoma              26\n",
       "Sarcoma                      5\n",
       "Other                        2\n",
       "Name: subCategory, dtype: int64"
      ]
     },
     "execution_count": 12,
     "metadata": {},
     "output_type": "execute_result"
    }
   ],
   "source": [
    "#number of each sub-categories in Endometrial Test data\n",
    "print('Endometrial Test Data sub Categories Count:')\n",
    "endo_test['subCategory'].value_counts()"
   ]
  },
  {
   "cell_type": "code",
   "execution_count": 13,
   "metadata": {},
   "outputs": [
    {
     "name": "stdout",
     "output_type": "stream",
     "text": [
      "Endometrial Test Data Staining Sites Count:\n"
     ]
    },
    {
     "data": {
      "text/plain": [
       "6    375\n",
       "8    363\n",
       "5     37\n",
       "4     37\n",
       "3     37\n",
       "2     37\n",
       "1     37\n",
       "7     36\n",
       "Name: StainingSiteID, dtype: int64"
      ]
     },
     "execution_count": 13,
     "metadata": {},
     "output_type": "execute_result"
    }
   ],
   "source": [
    "#check the balance of Test Endometrial data over staining labs\n",
    "print('Endometrial Test Data Staining Sites Count:')\n",
    "endo_test['StainingSiteID'].value_counts()"
   ]
  },
  {
   "cell_type": "markdown",
   "metadata": {},
   "source": [
    "## find the name of train samples based on each sub-category"
   ]
  },
  {
   "cell_type": "code",
   "execution_count": 14,
   "metadata": {},
   "outputs": [
    {
     "data": {
      "text/plain": [
       "358"
      ]
     },
     "execution_count": 14,
     "metadata": {},
     "output_type": "execute_result"
    }
   ],
   "source": [
    "endo_train_adenocarcinoma_samples_df = endo_train[endo_train['subCategory']=='Adenocarcinoma']\n",
    "endo_train_adenocarcinoma_filenames = endo_train_adenocarcinoma_samples_df['Image Filename']\n",
    "len(endo_train_adenocarcinoma_filenames)"
   ]
  },
  {
   "cell_type": "code",
   "execution_count": 15,
   "metadata": {},
   "outputs": [
    {
     "data": {
      "text/plain": [
       "254"
      ]
     },
     "execution_count": 15,
     "metadata": {},
     "output_type": "execute_result"
    }
   ],
   "source": [
    "endo_train_innactive_samples_df = endo_train[endo_train['subCategory']=='Innactive/atrophic']\n",
    "endo_train_innactive_filenames = endo_train_innactive_samples_df['Image Filename']\n",
    "len(endo_train_innactive_filenames)\n",
    " "
   ]
  },
  {
   "cell_type": "code",
   "execution_count": 16,
   "metadata": {},
   "outputs": [
    {
     "data": {
      "text/plain": [
       "229"
      ]
     },
     "execution_count": 16,
     "metadata": {},
     "output_type": "execute_result"
    }
   ],
   "source": [
    "endo_train_hormonal_samples_df = endo_train[endo_train['subCategory']=='Hormonal']\n",
    "endo_train_hormonal_filenames = endo_train_hormonal_samples_df['Image Filename']\n",
    "len(endo_train_hormonal_filenames)\n",
    " "
   ]
  },
  {
   "cell_type": "code",
   "execution_count": 17,
   "metadata": {},
   "outputs": [
    {
     "data": {
      "text/plain": [
       "251"
      ]
     },
     "execution_count": 17,
     "metadata": {},
     "output_type": "execute_result"
    }
   ],
   "source": [
    "endo_train_secretory_samples_df = endo_train[endo_train['subCategory']=='Secretory']\n",
    "endo_train_secretory_filenames = endo_train_secretory_samples_df['Image Filename']\n",
    "len(endo_train_secretory_filenames)\n",
    " "
   ]
  },
  {
   "cell_type": "code",
   "execution_count": 18,
   "metadata": {},
   "outputs": [
    {
     "data": {
      "text/plain": [
       "251"
      ]
     },
     "execution_count": 18,
     "metadata": {},
     "output_type": "execute_result"
    }
   ],
   "source": [
    "endo_train_Proliferative_samples_df = endo_train[endo_train['subCategory']=='Proliferative']\n",
    "endo_train_Proliferative_filenames = endo_train_Proliferative_samples_df['Image Filename']\n",
    "len(endo_train_Proliferative_filenames)\n"
   ]
  },
  {
   "cell_type": "code",
   "execution_count": 19,
   "metadata": {},
   "outputs": [
    {
     "data": {
      "text/plain": [
       "249"
      ]
     },
     "execution_count": 19,
     "metadata": {},
     "output_type": "execute_result"
    }
   ],
   "source": [
    "endo_train_Menstrual_samples_df = endo_train[endo_train['subCategory']=='Menstrual']\n",
    "endo_train_Menstrual_filenames = endo_train_Menstrual_samples_df['Image Filename']\n",
    "len(endo_train_Menstrual_filenames)"
   ]
  },
  {
   "cell_type": "code",
   "execution_count": 20,
   "metadata": {},
   "outputs": [
    {
     "data": {
      "text/plain": [
       "178"
      ]
     },
     "execution_count": 20,
     "metadata": {},
     "output_type": "execute_result"
    }
   ],
   "source": [
    "endo_train_Hyperplasia_samples_df = endo_train[endo_train['subCategory']=='Hyperplasia with atypia']\n",
    "endo_train_Hyperplasia_filenames = endo_train_Hyperplasia_samples_df['Image Filename']\n",
    "len(endo_train_Hyperplasia_filenames)"
   ]
  },
  {
   "cell_type": "code",
   "execution_count": 21,
   "metadata": {},
   "outputs": [
    {
     "data": {
      "text/plain": [
       "121"
      ]
     },
     "execution_count": 21,
     "metadata": {},
     "output_type": "execute_result"
    }
   ],
   "source": [
    "endo_train_Insufficient_samples_df = endo_train[endo_train['subCategory']=='Insufficient']\n",
    "endo_train_Insufficient_filenames = endo_train_Insufficient_samples_df['Image Filename']\n",
    "len(endo_train_Insufficient_filenames)\n"
   ]
  },
  {
   "cell_type": "code",
   "execution_count": 22,
   "metadata": {},
   "outputs": [
    {
     "data": {
      "text/plain": [
       "65"
      ]
     },
     "execution_count": 22,
     "metadata": {},
     "output_type": "execute_result"
    }
   ],
   "source": [
    "endo_train_Carcinosarcoma_samples_df = endo_train[endo_train['subCategory']=='Carcinosarcoma']\n",
    "endo_train_Carcinosarcoma_filenames = endo_train_Carcinosarcoma_samples_df['Image Filename']\n",
    "len(endo_train_Carcinosarcoma_filenames)"
   ]
  },
  {
   "cell_type": "code",
   "execution_count": 23,
   "metadata": {},
   "outputs": [
    {
     "data": {
      "text/plain": [
       "22"
      ]
     },
     "execution_count": 23,
     "metadata": {},
     "output_type": "execute_result"
    }
   ],
   "source": [
    "endo_train_Sarcoma_samples_df = endo_train[endo_train['subCategory']=='Sarcoma']\n",
    "endo_train_Sarcoma_filenames = endo_train_Sarcoma_samples_df['Image Filename']\n",
    "len(endo_train_Sarcoma_filenames)\n"
   ]
  },
  {
   "cell_type": "code",
   "execution_count": 24,
   "metadata": {},
   "outputs": [
    {
     "data": {
      "text/plain": [
       "11"
      ]
     },
     "execution_count": 24,
     "metadata": {},
     "output_type": "execute_result"
    }
   ],
   "source": [
    "endo_train_Other_samples_df = endo_train[endo_train['subCategory']=='Other']\n",
    "endo_train_Other_filenames = endo_train_Other_samples_df['Image Filename']\n",
    "len(endo_train_Other_filenames)      "
   ]
  },
  {
   "cell_type": "markdown",
   "metadata": {},
   "source": [
    "## Find the name of test samples based on each sub-category"
   ]
  },
  {
   "cell_type": "code",
   "execution_count": 25,
   "metadata": {},
   "outputs": [
    {
     "data": {
      "text/plain": [
       "172"
      ]
     },
     "execution_count": 25,
     "metadata": {},
     "output_type": "execute_result"
    }
   ],
   "source": [
    "endo_test_adenocarcinoma_samples_df = endo_test[endo_test['subCategory']=='Adenocarcinoma']\n",
    "endo_test_adenocarcinoma_filenames = endo_test_adenocarcinoma_samples_df['Image Filename']\n",
    "len(endo_test_adenocarcinoma_filenames)\n"
   ]
  },
  {
   "cell_type": "code",
   "execution_count": 26,
   "metadata": {},
   "outputs": [
    {
     "data": {
      "text/plain": [
       "123"
      ]
     },
     "execution_count": 26,
     "metadata": {},
     "output_type": "execute_result"
    }
   ],
   "source": [
    "endo_test_innactive_samples_df = endo_test[endo_test['subCategory']=='Innactive/atrophic']\n",
    "endo_test_innactive_filenames = endo_test_innactive_samples_df['Image Filename']\n",
    "len(endo_test_innactive_filenames)\n",
    " "
   ]
  },
  {
   "cell_type": "code",
   "execution_count": 27,
   "metadata": {},
   "outputs": [
    {
     "data": {
      "text/plain": [
       "130"
      ]
     },
     "execution_count": 27,
     "metadata": {},
     "output_type": "execute_result"
    }
   ],
   "source": [
    "endo_test_hormonal_samples_df = endo_test[endo_test['subCategory']=='Hormonal']\n",
    "endo_test_hormonal_filenames = endo_test_hormonal_samples_df['Image Filename']\n",
    "len(endo_test_hormonal_filenames)\n",
    " "
   ]
  },
  {
   "cell_type": "code",
   "execution_count": 28,
   "metadata": {},
   "outputs": [
    {
     "data": {
      "text/plain": [
       "116"
      ]
     },
     "execution_count": 28,
     "metadata": {},
     "output_type": "execute_result"
    }
   ],
   "source": [
    "endo_test_secretory_samples_df = endo_test[endo_test['subCategory']=='Secretory']\n",
    "endo_test_secretory_filenames = endo_test_secretory_samples_df['Image Filename']\n",
    "len(endo_test_secretory_filenames)\n",
    " "
   ]
  },
  {
   "cell_type": "code",
   "execution_count": 29,
   "metadata": {},
   "outputs": [
    {
     "data": {
      "text/plain": [
       "122"
      ]
     },
     "execution_count": 29,
     "metadata": {},
     "output_type": "execute_result"
    }
   ],
   "source": [
    "endo_test_Proliferative_samples_df = endo_test[endo_test['subCategory']=='Proliferative']\n",
    "endo_test_Proliferative_filenames = endo_test_Proliferative_samples_df['Image Filename']\n",
    "len(endo_test_Proliferative_filenames)"
   ]
  },
  {
   "cell_type": "code",
   "execution_count": 30,
   "metadata": {},
   "outputs": [
    {
     "data": {
      "text/plain": [
       "125"
      ]
     },
     "execution_count": 30,
     "metadata": {},
     "output_type": "execute_result"
    }
   ],
   "source": [
    "endo_test_Menstrual_samples_df = endo_test[endo_test['subCategory']=='Menstrual']\n",
    "endo_test_Menstrual_filenames = endo_test_Menstrual_samples_df['Image Filename']\n",
    "len(endo_test_Menstrual_filenames)\n"
   ]
  },
  {
   "cell_type": "code",
   "execution_count": 31,
   "metadata": {},
   "outputs": [
    {
     "data": {
      "text/plain": [
       "78"
      ]
     },
     "execution_count": 31,
     "metadata": {},
     "output_type": "execute_result"
    }
   ],
   "source": [
    "endo_test_Hyperplasia_samples_df = endo_test[endo_test['subCategory']=='Hyperplasia with atypia']\n",
    "endo_test_Hyperplasia_filenames = endo_test_Hyperplasia_samples_df['Image Filename']\n",
    "len(endo_test_Hyperplasia_filenames)\n"
   ]
  },
  {
   "cell_type": "code",
   "execution_count": 32,
   "metadata": {},
   "outputs": [
    {
     "data": {
      "text/plain": [
       "59"
      ]
     },
     "execution_count": 32,
     "metadata": {},
     "output_type": "execute_result"
    }
   ],
   "source": [
    "endo_test_Insufficient_samples_df = endo_test[endo_test['subCategory']=='Insufficient']\n",
    "endo_test_Insufficient_filenames = endo_test_Insufficient_samples_df['Image Filename']\n",
    "len(endo_test_Insufficient_filenames)"
   ]
  },
  {
   "cell_type": "code",
   "execution_count": 33,
   "metadata": {},
   "outputs": [
    {
     "data": {
      "text/plain": [
       "26"
      ]
     },
     "execution_count": 33,
     "metadata": {},
     "output_type": "execute_result"
    }
   ],
   "source": [
    "endo_test_Carcinosarcoma_samples_df = endo_test[endo_test['subCategory']=='Carcinosarcoma']\n",
    "endo_test_Carcinosarcoma_filenames = endo_test_Carcinosarcoma_samples_df['Image Filename']\n",
    "len(endo_test_Carcinosarcoma_filenames)\n"
   ]
  },
  {
   "cell_type": "code",
   "execution_count": 34,
   "metadata": {},
   "outputs": [
    {
     "data": {
      "text/plain": [
       "5"
      ]
     },
     "execution_count": 34,
     "metadata": {},
     "output_type": "execute_result"
    }
   ],
   "source": [
    "endo_test_Sarcoma_samples_df = endo_test[endo_test['subCategory']=='Sarcoma']\n",
    "endo_test_Sarcoma_filenames = endo_test_Sarcoma_samples_df['Image Filename']\n",
    "len(endo_test_Sarcoma_filenames)\n"
   ]
  },
  {
   "cell_type": "code",
   "execution_count": 35,
   "metadata": {},
   "outputs": [
    {
     "data": {
      "text/plain": [
       "2"
      ]
     },
     "execution_count": 35,
     "metadata": {},
     "output_type": "execute_result"
    }
   ],
   "source": [
    "endo_test_Other_samples_df = endo_test[endo_test['subCategory']=='Other']\n",
    "endo_test_Other_filenames = endo_test_Other_samples_df['Image Filename']\n",
    "len(endo_test_Other_filenames)      "
   ]
  },
  {
   "cell_type": "code",
   "execution_count": null,
   "metadata": {},
   "outputs": [],
   "source": []
  }
 ],
 "metadata": {
  "kernelspec": {
   "display_name": "repath",
   "language": "python",
   "name": "repath"
  },
  "language_info": {
   "codemirror_mode": {
    "name": "ipython",
    "version": 3
   },
   "file_extension": ".py",
   "mimetype": "text/x-python",
   "name": "python",
   "nbconvert_exporter": "python",
   "pygments_lexer": "ipython3",
   "version": "3.6.12"
  }
 },
 "nbformat": 4,
 "nbformat_minor": 4
}
