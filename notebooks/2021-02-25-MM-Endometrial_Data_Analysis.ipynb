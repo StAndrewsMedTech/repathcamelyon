{
 "cells": [
  {
   "cell_type": "code",
   "execution_count": 1,
   "metadata": {},
   "outputs": [],
   "source": [
    "import pandas as pd"
   ]
  },
  {
   "cell_type": "code",
   "execution_count": 2,
   "metadata": {},
   "outputs": [
    {
     "data": {
      "text/html": [
       "<div>\n",
       "<style scoped>\n",
       "    .dataframe tbody tr th:only-of-type {\n",
       "        vertical-align: middle;\n",
       "    }\n",
       "\n",
       "    .dataframe tbody tr th {\n",
       "        vertical-align: top;\n",
       "    }\n",
       "\n",
       "    .dataframe thead th {\n",
       "        text-align: right;\n",
       "    }\n",
       "</style>\n",
       "<table border=\"1\" class=\"dataframe\">\n",
       "  <thead>\n",
       "    <tr style=\"text-align: right;\">\n",
       "      <th></th>\n",
       "      <th>ID</th>\n",
       "      <th>Image Filename</th>\n",
       "      <th>StudyID</th>\n",
       "      <th>Sample</th>\n",
       "      <th>Category</th>\n",
       "      <th>subCategory</th>\n",
       "      <th>BiobankID</th>\n",
       "      <th>StainingSiteID</th>\n",
       "      <th>StainingProtocol</th>\n",
       "      <th>train/valid/test</th>\n",
       "    </tr>\n",
       "  </thead>\n",
       "  <tbody>\n",
       "    <tr>\n",
       "      <th>0</th>\n",
       "      <td>2520</td>\n",
       "      <td>IC-EN-00001-01.isyntax</td>\n",
       "      <td>IC-EN-00001</td>\n",
       "      <td>Endometrial</td>\n",
       "      <td>other_benign</td>\n",
       "      <td>menstrual</td>\n",
       "      <td>IC-EN-00001_</td>\n",
       "      <td>3</td>\n",
       "      <td>paeds_protocol</td>\n",
       "      <td>train</td>\n",
       "    </tr>\n",
       "    <tr>\n",
       "      <th>1</th>\n",
       "      <td>3814</td>\n",
       "      <td>IC-EN-00003-01.isyntax</td>\n",
       "      <td>IC-EN-00003</td>\n",
       "      <td>Endometrial</td>\n",
       "      <td>other_benign</td>\n",
       "      <td>secretory</td>\n",
       "      <td>IC-EN-00003_</td>\n",
       "      <td>3</td>\n",
       "      <td>paeds_protocol</td>\n",
       "      <td>train</td>\n",
       "    </tr>\n",
       "    <tr>\n",
       "      <th>2</th>\n",
       "      <td>2653</td>\n",
       "      <td>IC-EN-00004-01.isyntax</td>\n",
       "      <td>IC-EN-00004</td>\n",
       "      <td>Endometrial</td>\n",
       "      <td>other_benign</td>\n",
       "      <td>secretory</td>\n",
       "      <td>IC-EN-00004_</td>\n",
       "      <td>1</td>\n",
       "      <td>routine_H&amp;E</td>\n",
       "      <td>train</td>\n",
       "    </tr>\n",
       "    <tr>\n",
       "      <th>3</th>\n",
       "      <td>1164</td>\n",
       "      <td>IC-EN-00005-01.isyntax</td>\n",
       "      <td>IC-EN-00005</td>\n",
       "      <td>Endometrial</td>\n",
       "      <td>other_benign</td>\n",
       "      <td>menstrual</td>\n",
       "      <td>IC-EN-00005_</td>\n",
       "      <td>8</td>\n",
       "      <td>muscle_(hand_staining_protocol)</td>\n",
       "      <td>test</td>\n",
       "    </tr>\n",
       "    <tr>\n",
       "      <th>4</th>\n",
       "      <td>4193</td>\n",
       "      <td>IC-EN-00006-01.isyntax</td>\n",
       "      <td>IC-EN-00006</td>\n",
       "      <td>Endometrial</td>\n",
       "      <td>other_benign</td>\n",
       "      <td>innactive_atrophic</td>\n",
       "      <td>IC-EN-00006_</td>\n",
       "      <td>1</td>\n",
       "      <td>routine_H&amp;E</td>\n",
       "      <td>train</td>\n",
       "    </tr>\n",
       "  </tbody>\n",
       "</table>\n",
       "</div>"
      ],
      "text/plain": [
       "     ID          Image Filename      StudyID       Sample      Category  \\\n",
       "0  2520  IC-EN-00001-01.isyntax  IC-EN-00001  Endometrial  other_benign   \n",
       "1  3814  IC-EN-00003-01.isyntax  IC-EN-00003  Endometrial  other_benign   \n",
       "2  2653  IC-EN-00004-01.isyntax  IC-EN-00004  Endometrial  other_benign   \n",
       "3  1164  IC-EN-00005-01.isyntax  IC-EN-00005  Endometrial  other_benign   \n",
       "4  4193  IC-EN-00006-01.isyntax  IC-EN-00006  Endometrial  other_benign   \n",
       "\n",
       "          subCategory     BiobankID  StainingSiteID  \\\n",
       "0           menstrual  IC-EN-00001_               3   \n",
       "1           secretory  IC-EN-00003_               3   \n",
       "2           secretory  IC-EN-00004_               1   \n",
       "3           menstrual  IC-EN-00005_               8   \n",
       "4  innactive_atrophic  IC-EN-00006_               1   \n",
       "\n",
       "                  StainingProtocol train/valid/test  \n",
       "0                   paeds_protocol            train  \n",
       "1                   paeds_protocol            train  \n",
       "2                      routine_H&E            train  \n",
       "3  muscle_(hand_staining_protocol)             test  \n",
       "4                      routine_H&E            train  "
      ]
     },
     "execution_count": 2,
     "metadata": {},
     "output_type": "execute_result"
    }
   ],
   "source": [
    "#read cervical data\n",
    "endo = pd.read_csv('/home/mahnaz/iCAIRD_DATA_ANALYSIS/iCAIRD_Endometrial_Data.csv')\n",
    "endo.head()"
   ]
  },
  {
   "cell_type": "code",
   "execution_count": 3,
   "metadata": {},
   "outputs": [
    {
     "name": "stdout",
     "output_type": "stream",
     "text": [
      "Total number of endometrial train cases :1989\n"
     ]
    },
    {
     "data": {
      "text/html": [
       "<div>\n",
       "<style scoped>\n",
       "    .dataframe tbody tr th:only-of-type {\n",
       "        vertical-align: middle;\n",
       "    }\n",
       "\n",
       "    .dataframe tbody tr th {\n",
       "        vertical-align: top;\n",
       "    }\n",
       "\n",
       "    .dataframe thead th {\n",
       "        text-align: right;\n",
       "    }\n",
       "</style>\n",
       "<table border=\"1\" class=\"dataframe\">\n",
       "  <thead>\n",
       "    <tr style=\"text-align: right;\">\n",
       "      <th></th>\n",
       "      <th>ID</th>\n",
       "      <th>Image Filename</th>\n",
       "      <th>StudyID</th>\n",
       "      <th>Sample</th>\n",
       "      <th>Category</th>\n",
       "      <th>subCategory</th>\n",
       "      <th>BiobankID</th>\n",
       "      <th>StainingSiteID</th>\n",
       "      <th>StainingProtocol</th>\n",
       "      <th>train/valid/test</th>\n",
       "    </tr>\n",
       "  </thead>\n",
       "  <tbody>\n",
       "    <tr>\n",
       "      <th>0</th>\n",
       "      <td>2520</td>\n",
       "      <td>IC-EN-00001-01.isyntax</td>\n",
       "      <td>IC-EN-00001</td>\n",
       "      <td>Endometrial</td>\n",
       "      <td>other_benign</td>\n",
       "      <td>menstrual</td>\n",
       "      <td>IC-EN-00001_</td>\n",
       "      <td>3</td>\n",
       "      <td>paeds_protocol</td>\n",
       "      <td>train</td>\n",
       "    </tr>\n",
       "    <tr>\n",
       "      <th>1</th>\n",
       "      <td>3814</td>\n",
       "      <td>IC-EN-00003-01.isyntax</td>\n",
       "      <td>IC-EN-00003</td>\n",
       "      <td>Endometrial</td>\n",
       "      <td>other_benign</td>\n",
       "      <td>secretory</td>\n",
       "      <td>IC-EN-00003_</td>\n",
       "      <td>3</td>\n",
       "      <td>paeds_protocol</td>\n",
       "      <td>train</td>\n",
       "    </tr>\n",
       "    <tr>\n",
       "      <th>2</th>\n",
       "      <td>2653</td>\n",
       "      <td>IC-EN-00004-01.isyntax</td>\n",
       "      <td>IC-EN-00004</td>\n",
       "      <td>Endometrial</td>\n",
       "      <td>other_benign</td>\n",
       "      <td>secretory</td>\n",
       "      <td>IC-EN-00004_</td>\n",
       "      <td>1</td>\n",
       "      <td>routine_H&amp;E</td>\n",
       "      <td>train</td>\n",
       "    </tr>\n",
       "    <tr>\n",
       "      <th>4</th>\n",
       "      <td>4193</td>\n",
       "      <td>IC-EN-00006-01.isyntax</td>\n",
       "      <td>IC-EN-00006</td>\n",
       "      <td>Endometrial</td>\n",
       "      <td>other_benign</td>\n",
       "      <td>innactive_atrophic</td>\n",
       "      <td>IC-EN-00006_</td>\n",
       "      <td>1</td>\n",
       "      <td>routine_H&amp;E</td>\n",
       "      <td>train</td>\n",
       "    </tr>\n",
       "    <tr>\n",
       "      <th>5</th>\n",
       "      <td>4053</td>\n",
       "      <td>IC-EN-00007-01.isyntax</td>\n",
       "      <td>IC-EN-00007</td>\n",
       "      <td>Endometrial</td>\n",
       "      <td>malignant</td>\n",
       "      <td>adenocarcinoma</td>\n",
       "      <td>IC-EN-00007_</td>\n",
       "      <td>2</td>\n",
       "      <td>routine_H&amp;E</td>\n",
       "      <td>train</td>\n",
       "    </tr>\n",
       "  </tbody>\n",
       "</table>\n",
       "</div>"
      ],
      "text/plain": [
       "     ID          Image Filename      StudyID       Sample      Category  \\\n",
       "0  2520  IC-EN-00001-01.isyntax  IC-EN-00001  Endometrial  other_benign   \n",
       "1  3814  IC-EN-00003-01.isyntax  IC-EN-00003  Endometrial  other_benign   \n",
       "2  2653  IC-EN-00004-01.isyntax  IC-EN-00004  Endometrial  other_benign   \n",
       "4  4193  IC-EN-00006-01.isyntax  IC-EN-00006  Endometrial  other_benign   \n",
       "5  4053  IC-EN-00007-01.isyntax  IC-EN-00007  Endometrial     malignant   \n",
       "\n",
       "          subCategory     BiobankID  StainingSiteID StainingProtocol  \\\n",
       "0           menstrual  IC-EN-00001_               3   paeds_protocol   \n",
       "1           secretory  IC-EN-00003_               3   paeds_protocol   \n",
       "2           secretory  IC-EN-00004_               1      routine_H&E   \n",
       "4  innactive_atrophic  IC-EN-00006_               1      routine_H&E   \n",
       "5      adenocarcinoma  IC-EN-00007_               2      routine_H&E   \n",
       "\n",
       "  train/valid/test  \n",
       "0            train  \n",
       "1            train  \n",
       "2            train  \n",
       "4            train  \n",
       "5            train  "
      ]
     },
     "execution_count": 3,
     "metadata": {},
     "output_type": "execute_result"
    }
   ],
   "source": [
    "endo_train = endo[endo['train/valid/test']=='train']\n",
    "print('Total number of endometrial train cases :{}'.format(len(endo_train)))\n",
    "endo_train.head()"
   ]
  },
  {
   "cell_type": "code",
   "execution_count": 4,
   "metadata": {},
   "outputs": [
    {
     "name": "stdout",
     "output_type": "stream",
     "text": [
      "Total number of endometrial test cases :959\n"
     ]
    },
    {
     "data": {
      "text/html": [
       "<div>\n",
       "<style scoped>\n",
       "    .dataframe tbody tr th:only-of-type {\n",
       "        vertical-align: middle;\n",
       "    }\n",
       "\n",
       "    .dataframe tbody tr th {\n",
       "        vertical-align: top;\n",
       "    }\n",
       "\n",
       "    .dataframe thead th {\n",
       "        text-align: right;\n",
       "    }\n",
       "</style>\n",
       "<table border=\"1\" class=\"dataframe\">\n",
       "  <thead>\n",
       "    <tr style=\"text-align: right;\">\n",
       "      <th></th>\n",
       "      <th>ID</th>\n",
       "      <th>Image Filename</th>\n",
       "      <th>StudyID</th>\n",
       "      <th>Sample</th>\n",
       "      <th>Category</th>\n",
       "      <th>subCategory</th>\n",
       "      <th>BiobankID</th>\n",
       "      <th>StainingSiteID</th>\n",
       "      <th>StainingProtocol</th>\n",
       "      <th>train/valid/test</th>\n",
       "    </tr>\n",
       "  </thead>\n",
       "  <tbody>\n",
       "    <tr>\n",
       "      <th>3</th>\n",
       "      <td>1164</td>\n",
       "      <td>IC-EN-00005-01.isyntax</td>\n",
       "      <td>IC-EN-00005</td>\n",
       "      <td>Endometrial</td>\n",
       "      <td>other_benign</td>\n",
       "      <td>menstrual</td>\n",
       "      <td>IC-EN-00005_</td>\n",
       "      <td>8</td>\n",
       "      <td>muscle_(hand_staining_protocol)</td>\n",
       "      <td>test</td>\n",
       "    </tr>\n",
       "    <tr>\n",
       "      <th>6</th>\n",
       "      <td>1912</td>\n",
       "      <td>IC-EN-00008-01.isyntax</td>\n",
       "      <td>IC-EN-00008</td>\n",
       "      <td>Endometrial</td>\n",
       "      <td>other_benign</td>\n",
       "      <td>secretory</td>\n",
       "      <td>IC-EN-00008_</td>\n",
       "      <td>6</td>\n",
       "      <td>neuro_(hand_staining_protocol)</td>\n",
       "      <td>test</td>\n",
       "    </tr>\n",
       "    <tr>\n",
       "      <th>8</th>\n",
       "      <td>4394</td>\n",
       "      <td>IC-EN-00010-01.isyntax</td>\n",
       "      <td>IC-EN-00010</td>\n",
       "      <td>Endometrial</td>\n",
       "      <td>other_benign</td>\n",
       "      <td>proliferative</td>\n",
       "      <td>IC-EN-00010_</td>\n",
       "      <td>6</td>\n",
       "      <td>neuro_(hand_staining_protocol)</td>\n",
       "      <td>test</td>\n",
       "    </tr>\n",
       "    <tr>\n",
       "      <th>13</th>\n",
       "      <td>5282</td>\n",
       "      <td>IC-EN-00016-01.isyntax</td>\n",
       "      <td>IC-EN-00016</td>\n",
       "      <td>Endometrial</td>\n",
       "      <td>malignant</td>\n",
       "      <td>adenocarcinoma</td>\n",
       "      <td>IC-EN-00016_</td>\n",
       "      <td>6</td>\n",
       "      <td>neuro_(hand_staining_protocol)</td>\n",
       "      <td>test</td>\n",
       "    </tr>\n",
       "    <tr>\n",
       "      <th>26</th>\n",
       "      <td>4524</td>\n",
       "      <td>IC-EN-00030-01.isyntax</td>\n",
       "      <td>IC-EN-00030</td>\n",
       "      <td>Endometrial</td>\n",
       "      <td>malignant</td>\n",
       "      <td>adenocarcinoma</td>\n",
       "      <td>IC-EN-00030_</td>\n",
       "      <td>8</td>\n",
       "      <td>muscle_(hand_staining_protocol)</td>\n",
       "      <td>test</td>\n",
       "    </tr>\n",
       "  </tbody>\n",
       "</table>\n",
       "</div>"
      ],
      "text/plain": [
       "      ID          Image Filename      StudyID       Sample      Category  \\\n",
       "3   1164  IC-EN-00005-01.isyntax  IC-EN-00005  Endometrial  other_benign   \n",
       "6   1912  IC-EN-00008-01.isyntax  IC-EN-00008  Endometrial  other_benign   \n",
       "8   4394  IC-EN-00010-01.isyntax  IC-EN-00010  Endometrial  other_benign   \n",
       "13  5282  IC-EN-00016-01.isyntax  IC-EN-00016  Endometrial     malignant   \n",
       "26  4524  IC-EN-00030-01.isyntax  IC-EN-00030  Endometrial     malignant   \n",
       "\n",
       "       subCategory     BiobankID  StainingSiteID  \\\n",
       "3        menstrual  IC-EN-00005_               8   \n",
       "6        secretory  IC-EN-00008_               6   \n",
       "8    proliferative  IC-EN-00010_               6   \n",
       "13  adenocarcinoma  IC-EN-00016_               6   \n",
       "26  adenocarcinoma  IC-EN-00030_               8   \n",
       "\n",
       "                   StainingProtocol train/valid/test  \n",
       "3   muscle_(hand_staining_protocol)             test  \n",
       "6    neuro_(hand_staining_protocol)             test  \n",
       "8    neuro_(hand_staining_protocol)             test  \n",
       "13   neuro_(hand_staining_protocol)             test  \n",
       "26  muscle_(hand_staining_protocol)             test  "
      ]
     },
     "execution_count": 4,
     "metadata": {},
     "output_type": "execute_result"
    }
   ],
   "source": [
    "endo_test = endo[endo['train/valid/test']=='test']\n",
    "print('Total number of endometrial test cases :{}'.format(len(endo_test)))\n",
    "endo_test.head()"
   ]
  },
  {
   "cell_type": "markdown",
   "metadata": {},
   "source": [
    "## Check the whole Endometrial data"
   ]
  },
  {
   "cell_type": "code",
   "execution_count": 5,
   "metadata": {},
   "outputs": [
    {
     "name": "stdout",
     "output_type": "stream",
     "text": [
      "Endometrial Data Main Categories Count:\n"
     ]
    },
    {
     "data": {
      "text/plain": [
       "other_benign    1850\n",
       "malignant        917\n",
       "insufficient     180\n",
       "Name: Category, dtype: int64"
      ]
     },
     "execution_count": 5,
     "metadata": {},
     "output_type": "execute_result"
    }
   ],
   "source": [
    "#number of each categories in Endometrial data\n",
    "print('Endometrial Data Main Categories Count:')\n",
    "endo['Category'].value_counts()"
   ]
  },
  {
   "cell_type": "code",
   "execution_count": 6,
   "metadata": {},
   "outputs": [
    {
     "name": "stdout",
     "output_type": "stream",
     "text": [
      "Endometrial Data Sub Categories Count:\n"
     ]
    },
    {
     "data": {
      "text/plain": [
       "adenocarcinoma        530\n",
       "innactive_atrophic    377\n",
       "menstrual             374\n",
       "proliferative         373\n",
       "secretory             367\n",
       "hormonal              359\n",
       "hyperplasia           256\n",
       "insufficient          180\n",
       "carcinosarcoma         91\n",
       "sarcoma                27\n",
       "other                  13\n",
       "Name: subCategory, dtype: int64"
      ]
     },
     "execution_count": 6,
     "metadata": {},
     "output_type": "execute_result"
    }
   ],
   "source": [
    "#number of each sub-categories in Endometrial data\n",
    "print('Endometrial Data Sub Categories Count:')\n",
    "endo['subCategory'].value_counts()"
   ]
  },
  {
   "cell_type": "code",
   "execution_count": 7,
   "metadata": {},
   "outputs": [
    {
     "name": "stdout",
     "output_type": "stream",
     "text": [
      "Endometrial Data Staining Sites Count:\n"
     ]
    },
    {
     "data": {
      "text/plain": [
       "6    375\n",
       "4    373\n",
       "2    370\n",
       "1    369\n",
       "5    368\n",
       "3    367\n",
       "7    363\n",
       "8    363\n",
       "Name: StainingSiteID, dtype: int64"
      ]
     },
     "execution_count": 7,
     "metadata": {},
     "output_type": "execute_result"
    }
   ],
   "source": [
    "#check the balance of Endometrial data over staining labs\n",
    "print('Endometrial Data Staining Sites Count:')\n",
    "endo['StainingSiteID'].value_counts()"
   ]
  },
  {
   "cell_type": "markdown",
   "metadata": {},
   "source": [
    "## Check Endometrial Train Data"
   ]
  },
  {
   "cell_type": "code",
   "execution_count": 8,
   "metadata": {},
   "outputs": [
    {
     "name": "stdout",
     "output_type": "stream",
     "text": [
      "Endometrial Train Data Main Categories Count:\n"
     ]
    },
    {
     "data": {
      "text/plain": [
       "other_benign    1234\n",
       "malignant        634\n",
       "insufficient     121\n",
       "Name: Category, dtype: int64"
      ]
     },
     "execution_count": 8,
     "metadata": {},
     "output_type": "execute_result"
    }
   ],
   "source": [
    "#number of each categories in Endometrial Train data\n",
    "print('Endometrial Train Data Main Categories Count:')\n",
    "endo_train['Category'].value_counts()"
   ]
  },
  {
   "cell_type": "code",
   "execution_count": 9,
   "metadata": {},
   "outputs": [
    {
     "name": "stdout",
     "output_type": "stream",
     "text": [
      "Endometrial Train Data sub Categories Count:\n"
     ]
    },
    {
     "data": {
      "text/plain": [
       "adenocarcinoma        355\n",
       "innactive_atrophic    262\n",
       "secretory             250\n",
       "menstrual             250\n",
       "proliferative         247\n",
       "hormonal              225\n",
       "hyperplasia           190\n",
       "insufficient          121\n",
       "carcinosarcoma         60\n",
       "sarcoma                20\n",
       "other                   9\n",
       "Name: subCategory, dtype: int64"
      ]
     },
     "execution_count": 9,
     "metadata": {},
     "output_type": "execute_result"
    }
   ],
   "source": [
    "#number of each sub-categories in Endometrial Train data\n",
    "print('Endometrial Train Data sub Categories Count:')\n",
    "endo_train['subCategory'].value_counts()"
   ]
  },
  {
   "cell_type": "code",
   "execution_count": 10,
   "metadata": {},
   "outputs": [
    {
     "name": "stdout",
     "output_type": "stream",
     "text": [
      "Endometrial Train Data Staining Sites Count:\n"
     ]
    },
    {
     "data": {
      "text/plain": [
       "4    336\n",
       "2    333\n",
       "1    332\n",
       "5    331\n",
       "3    330\n",
       "7    327\n",
       "Name: StainingSiteID, dtype: int64"
      ]
     },
     "execution_count": 10,
     "metadata": {},
     "output_type": "execute_result"
    }
   ],
   "source": [
    "#check the balance of Train Endometrial data over staining labs\n",
    "print('Endometrial Train Data Staining Sites Count:')\n",
    "endo_train['StainingSiteID'].value_counts()"
   ]
  },
  {
   "cell_type": "markdown",
   "metadata": {},
   "source": [
    "## Check Endometrial Test Data"
   ]
  },
  {
   "cell_type": "code",
   "execution_count": 11,
   "metadata": {},
   "outputs": [
    {
     "name": "stdout",
     "output_type": "stream",
     "text": [
      "Endometrial Test Data Main Categories Count:\n"
     ]
    },
    {
     "data": {
      "text/plain": [
       "other_benign    616\n",
       "malignant       283\n",
       "insufficient     59\n",
       "Name: Category, dtype: int64"
      ]
     },
     "execution_count": 11,
     "metadata": {},
     "output_type": "execute_result"
    }
   ],
   "source": [
    "#number of each categories in Endometrial Test data\n",
    "print('Endometrial Test Data Main Categories Count:')\n",
    "endo_test['Category'].value_counts()"
   ]
  },
  {
   "cell_type": "code",
   "execution_count": 12,
   "metadata": {},
   "outputs": [
    {
     "name": "stdout",
     "output_type": "stream",
     "text": [
      "Endometrial Test Data sub Categories Count:\n"
     ]
    },
    {
     "data": {
      "text/plain": [
       "adenocarcinoma        175\n",
       "hormonal              134\n",
       "proliferative         126\n",
       "menstrual             124\n",
       "secretory             117\n",
       "innactive_atrophic    115\n",
       "hyperplasia            66\n",
       "insufficient           59\n",
       "carcinosarcoma         31\n",
       "sarcoma                 7\n",
       "other                   4\n",
       "Name: subCategory, dtype: int64"
      ]
     },
     "execution_count": 12,
     "metadata": {},
     "output_type": "execute_result"
    }
   ],
   "source": [
    "#number of each sub-categories in Endometrial Test data\n",
    "print('Endometrial Test Data sub Categories Count:')\n",
    "endo_test['subCategory'].value_counts()"
   ]
  },
  {
   "cell_type": "code",
   "execution_count": 13,
   "metadata": {},
   "outputs": [
    {
     "name": "stdout",
     "output_type": "stream",
     "text": [
      "Endometrial Test Data Staining Sites Count:\n"
     ]
    },
    {
     "data": {
      "text/plain": [
       "6    375\n",
       "8    363\n",
       "5     37\n",
       "4     37\n",
       "3     37\n",
       "2     37\n",
       "1     37\n",
       "7     36\n",
       "Name: StainingSiteID, dtype: int64"
      ]
     },
     "execution_count": 13,
     "metadata": {},
     "output_type": "execute_result"
    }
   ],
   "source": [
    "#check the balance of Test Endometrial data over staining labs\n",
    "print('Endometrial Test Data Staining Sites Count:')\n",
    "endo_test['StainingSiteID'].value_counts()"
   ]
  },
  {
   "cell_type": "markdown",
   "metadata": {},
   "source": [
    "## find the name of train samples based on each sub-category"
   ]
  },
  {
   "cell_type": "code",
   "execution_count": 14,
   "metadata": {},
   "outputs": [
    {
     "data": {
      "text/plain": [
       "355"
      ]
     },
     "execution_count": 14,
     "metadata": {},
     "output_type": "execute_result"
    }
   ],
   "source": [
    "endo_train_adenocarcinoma_samples_df = endo_train[endo_train['subCategory']=='adenocarcinoma']\n",
    "endo_train_adenocarcinoma_filenames = endo_train_adenocarcinoma_samples_df['Image Filename']\n",
    "endo_train_adenocarcinoma_filenames.to_csv('/home/mahnaz/iCAIRD_DATA_ANALYSIS/FileNames/endometrial/train/adenocarcinoma.csv')\n",
    "len(endo_train_adenocarcinoma_filenames)"
   ]
  },
  {
   "cell_type": "code",
   "execution_count": 15,
   "metadata": {},
   "outputs": [
    {
     "data": {
      "text/plain": [
       "262"
      ]
     },
     "execution_count": 15,
     "metadata": {},
     "output_type": "execute_result"
    }
   ],
   "source": [
    "endo_train_innactive_samples_df = endo_train[endo_train['subCategory']=='innactive_atrophic']\n",
    "endo_train_innactive_filenames = endo_train_innactive_samples_df['Image Filename']\n",
    "endo_train_innactive_filenames.to_csv('/home/mahnaz/iCAIRD_DATA_ANALYSIS/FileNames/endometrial/train/innactive.csv')\n",
    "len(endo_train_innactive_filenames)\n",
    " "
   ]
  },
  {
   "cell_type": "code",
   "execution_count": 16,
   "metadata": {},
   "outputs": [
    {
     "data": {
      "text/plain": [
       "225"
      ]
     },
     "execution_count": 16,
     "metadata": {},
     "output_type": "execute_result"
    }
   ],
   "source": [
    "endo_train_hormonal_samples_df = endo_train[endo_train['subCategory']=='hormonal']\n",
    "endo_train_hormonal_filenames = endo_train_hormonal_samples_df['Image Filename']\n",
    "endo_train_hormonal_filenames.to_csv('/home/mahnaz/iCAIRD_DATA_ANALYSIS/FileNames/endometrial/train/hormonal.csv')\n",
    "len(endo_train_hormonal_filenames)\n",
    " "
   ]
  },
  {
   "cell_type": "code",
   "execution_count": 17,
   "metadata": {},
   "outputs": [
    {
     "data": {
      "text/plain": [
       "250"
      ]
     },
     "execution_count": 17,
     "metadata": {},
     "output_type": "execute_result"
    }
   ],
   "source": [
    "endo_train_secretory_samples_df = endo_train[endo_train['subCategory']=='secretory']\n",
    "endo_train_secretory_filenames = endo_train_secretory_samples_df['Image Filename']\n",
    "endo_train_secretory_filenames.to_csv('/home/mahnaz/iCAIRD_DATA_ANALYSIS/FileNames/endometrial/train/secretory.csv')\n",
    "len(endo_train_secretory_filenames)\n",
    " "
   ]
  },
  {
   "cell_type": "code",
   "execution_count": 18,
   "metadata": {},
   "outputs": [
    {
     "data": {
      "text/plain": [
       "247"
      ]
     },
     "execution_count": 18,
     "metadata": {},
     "output_type": "execute_result"
    }
   ],
   "source": [
    "endo_train_Proliferative_samples_df = endo_train[endo_train['subCategory']=='proliferative']\n",
    "endo_train_Proliferative_filenames = endo_train_Proliferative_samples_df['Image Filename']\n",
    "endo_train_Proliferative_filenames.to_csv('/home/mahnaz/iCAIRD_DATA_ANALYSIS/FileNames/endometrial/train/proliferative.csv')\n",
    "len(endo_train_Proliferative_filenames)\n"
   ]
  },
  {
   "cell_type": "code",
   "execution_count": 19,
   "metadata": {},
   "outputs": [
    {
     "data": {
      "text/plain": [
       "250"
      ]
     },
     "execution_count": 19,
     "metadata": {},
     "output_type": "execute_result"
    }
   ],
   "source": [
    "endo_train_Menstrual_samples_df = endo_train[endo_train['subCategory']=='menstrual']\n",
    "endo_train_Menstrual_filenames = endo_train_Menstrual_samples_df['Image Filename']\n",
    "endo_train_Menstrual_filenames.to_csv('/home/mahnaz/iCAIRD_DATA_ANALYSIS/FileNames/endometrial/train/menstrual.csv')\n",
    "len(endo_train_Menstrual_filenames)"
   ]
  },
  {
   "cell_type": "code",
   "execution_count": 20,
   "metadata": {},
   "outputs": [
    {
     "data": {
      "text/plain": [
       "190"
      ]
     },
     "execution_count": 20,
     "metadata": {},
     "output_type": "execute_result"
    }
   ],
   "source": [
    "endo_train_Hyperplasia_samples_df = endo_train[endo_train['subCategory']=='hyperplasia']\n",
    "endo_train_Hyperplasia_filenames = endo_train_Hyperplasia_samples_df['Image Filename']\n",
    "endo_train_Hyperplasia_filenames.to_csv('/home/mahnaz/iCAIRD_DATA_ANALYSIS/FileNames/endometrial/train/hyperplasia.csv')\n",
    "len(endo_train_Hyperplasia_filenames)"
   ]
  },
  {
   "cell_type": "code",
   "execution_count": 21,
   "metadata": {},
   "outputs": [
    {
     "data": {
      "text/plain": [
       "0"
      ]
     },
     "execution_count": 21,
     "metadata": {},
     "output_type": "execute_result"
    }
   ],
   "source": [
    "endo_train_Insufficient_samples_df = endo_train[endo_train['subCategory']=='Insufficient']\n",
    "endo_train_Insufficient_filenames = endo_train_Insufficient_samples_df['Image Filename']\n",
    "endo_train_Insufficient_filenames.to_csv('/home/mahnaz/iCAIRD_DATA_ANALYSIS/FileNames/endometrial/train/insufficient.csv')\n",
    "len(endo_train_Insufficient_filenames)\n"
   ]
  },
  {
   "cell_type": "code",
   "execution_count": 22,
   "metadata": {},
   "outputs": [
    {
     "data": {
      "text/plain": [
       "60"
      ]
     },
     "execution_count": 22,
     "metadata": {},
     "output_type": "execute_result"
    }
   ],
   "source": [
    "endo_train_Carcinosarcoma_samples_df = endo_train[endo_train['subCategory']=='carcinosarcoma']\n",
    "endo_train_Carcinosarcoma_filenames = endo_train_Carcinosarcoma_samples_df['Image Filename']\n",
    "endo_train_Carcinosarcoma_filenames.to_csv('/home/mahnaz/iCAIRD_DATA_ANALYSIS/FileNames/endometrial/train/Carcinosarcoma.csv')\n",
    "len(endo_train_Carcinosarcoma_filenames)"
   ]
  },
  {
   "cell_type": "code",
   "execution_count": 23,
   "metadata": {},
   "outputs": [
    {
     "data": {
      "text/plain": [
       "20"
      ]
     },
     "execution_count": 23,
     "metadata": {},
     "output_type": "execute_result"
    }
   ],
   "source": [
    "endo_train_Sarcoma_samples_df = endo_train[endo_train['subCategory']=='sarcoma']\n",
    "endo_train_Sarcoma_filenames = endo_train_Sarcoma_samples_df['Image Filename']\n",
    "endo_train_Sarcoma_filenames.to_csv('/home/mahnaz/iCAIRD_DATA_ANALYSIS/FileNames/endometrial/train/sarcoma.csv')\n",
    "len(endo_train_Sarcoma_filenames)\n"
   ]
  },
  {
   "cell_type": "code",
   "execution_count": 24,
   "metadata": {},
   "outputs": [
    {
     "data": {
      "text/plain": [
       "9"
      ]
     },
     "execution_count": 24,
     "metadata": {},
     "output_type": "execute_result"
    }
   ],
   "source": [
    "endo_train_Other_samples_df = endo_train[endo_train['subCategory']=='other']\n",
    "endo_train_Other_filenames = endo_train_Other_samples_df['Image Filename']\n",
    "endo_train_Other_filenames.to_csv('/home/mahnaz/iCAIRD_DATA_ANALYSIS/FileNames/endometrial/train/other.csv')\n",
    "len(endo_train_Other_filenames)      "
   ]
  },
  {
   "cell_type": "markdown",
   "metadata": {},
   "source": [
    "## Find the name of test samples based on each sub-category"
   ]
  },
  {
   "cell_type": "code",
   "execution_count": 25,
   "metadata": {},
   "outputs": [
    {
     "data": {
      "text/plain": [
       "175"
      ]
     },
     "execution_count": 25,
     "metadata": {},
     "output_type": "execute_result"
    }
   ],
   "source": [
    "endo_test_adenocarcinoma_samples_df = endo_test[endo_test['subCategory']=='adenocarcinoma']\n",
    "endo_test_adenocarcinoma_filenames = endo_test_adenocarcinoma_samples_df['Image Filename']\n",
    "endo_test_adenocarcinoma_filenames.to_csv('/home/mahnaz/iCAIRD_DATA_ANALYSIS/FileNames/endometrial/test/adenocarcinoma.csv')\n",
    "len(endo_test_adenocarcinoma_filenames)\n"
   ]
  },
  {
   "cell_type": "code",
   "execution_count": 26,
   "metadata": {},
   "outputs": [
    {
     "data": {
      "text/plain": [
       "115"
      ]
     },
     "execution_count": 26,
     "metadata": {},
     "output_type": "execute_result"
    }
   ],
   "source": [
    "endo_test_innactive_samples_df = endo_test[endo_test['subCategory']=='innactive_atrophic']\n",
    "endo_test_innactive_filenames = endo_test_innactive_samples_df['Image Filename']\n",
    "endo_test_innactive_filenames.to_csv('/home/mahnaz/iCAIRD_DATA_ANALYSIS/FileNames/endometrial/test/innactive.csv')\n",
    "len(endo_test_innactive_filenames)\n",
    " "
   ]
  },
  {
   "cell_type": "code",
   "execution_count": 27,
   "metadata": {},
   "outputs": [
    {
     "data": {
      "text/plain": [
       "134"
      ]
     },
     "execution_count": 27,
     "metadata": {},
     "output_type": "execute_result"
    }
   ],
   "source": [
    "endo_test_hormonal_samples_df = endo_test[endo_test['subCategory']=='hormonal']\n",
    "endo_test_hormonal_filenames = endo_test_hormonal_samples_df['Image Filename']\n",
    "endo_test_hormonal_filenames.to_csv('/home/mahnaz/iCAIRD_DATA_ANALYSIS/FileNames/endometrial/test/hormonal.csv')\n",
    "len(endo_test_hormonal_filenames)\n",
    " "
   ]
  },
  {
   "cell_type": "code",
   "execution_count": 28,
   "metadata": {},
   "outputs": [
    {
     "data": {
      "text/plain": [
       "117"
      ]
     },
     "execution_count": 28,
     "metadata": {},
     "output_type": "execute_result"
    }
   ],
   "source": [
    "endo_test_secretory_samples_df = endo_test[endo_test['subCategory']=='secretory']\n",
    "endo_test_secretory_filenames = endo_test_secretory_samples_df['Image Filename']\n",
    "endo_test_secretory_filenames.to_csv('/home/mahnaz/iCAIRD_DATA_ANALYSIS/FileNames/endometrial/test/secretory.csv')\n",
    "len(endo_test_secretory_filenames)\n",
    " "
   ]
  },
  {
   "cell_type": "code",
   "execution_count": 29,
   "metadata": {},
   "outputs": [
    {
     "data": {
      "text/plain": [
       "126"
      ]
     },
     "execution_count": 29,
     "metadata": {},
     "output_type": "execute_result"
    }
   ],
   "source": [
    "endo_test_Proliferative_samples_df = endo_test[endo_test['subCategory']=='proliferative']\n",
    "endo_test_Proliferative_filenames = endo_test_Proliferative_samples_df['Image Filename']\n",
    "endo_test_Proliferative_filenames.to_csv('/home/mahnaz/iCAIRD_DATA_ANALYSIS/FileNames/endometrial/test/proliferative.csv')\n",
    "len(endo_test_Proliferative_filenames)"
   ]
  },
  {
   "cell_type": "code",
   "execution_count": 30,
   "metadata": {},
   "outputs": [
    {
     "data": {
      "text/plain": [
       "124"
      ]
     },
     "execution_count": 30,
     "metadata": {},
     "output_type": "execute_result"
    }
   ],
   "source": [
    "endo_test_Menstrual_samples_df = endo_test[endo_test['subCategory']=='menstrual']\n",
    "endo_test_Menstrual_filenames = endo_test_Menstrual_samples_df['Image Filename']\n",
    "endo_test_Menstrual_filenames.to_csv('/home/mahnaz/iCAIRD_DATA_ANALYSIS/FileNames/endometrial/test/menstrual.csv')\n",
    "len(endo_test_Menstrual_filenames)\n"
   ]
  },
  {
   "cell_type": "code",
   "execution_count": 31,
   "metadata": {},
   "outputs": [
    {
     "data": {
      "text/plain": [
       "66"
      ]
     },
     "execution_count": 31,
     "metadata": {},
     "output_type": "execute_result"
    }
   ],
   "source": [
    "endo_test_Hyperplasia_samples_df = endo_test[endo_test['subCategory']=='hyperplasia']\n",
    "endo_test_Hyperplasia_filenames = endo_test_Hyperplasia_samples_df['Image Filename']\n",
    "endo_test_Hyperplasia_filenames.to_csv('/home/mahnaz/iCAIRD_DATA_ANALYSIS/FileNames/endometrial/test/hyperplasia.csv')\n",
    "len(endo_test_Hyperplasia_filenames)\n"
   ]
  },
  {
   "cell_type": "code",
   "execution_count": 32,
   "metadata": {},
   "outputs": [
    {
     "data": {
      "text/plain": [
       "59"
      ]
     },
     "execution_count": 32,
     "metadata": {},
     "output_type": "execute_result"
    }
   ],
   "source": [
    "endo_test_Insufficient_samples_df = endo_test[endo_test['subCategory']=='insufficient']\n",
    "endo_test_Insufficient_filenames = endo_test_Insufficient_samples_df['Image Filename']\n",
    "endo_test_Insufficient_filenames.to_csv('/home/mahnaz/iCAIRD_DATA_ANALYSIS/FileNames/endometrial/test/insufficient.csv')\n",
    "len(endo_test_Insufficient_filenames)"
   ]
  },
  {
   "cell_type": "code",
   "execution_count": 33,
   "metadata": {},
   "outputs": [
    {
     "data": {
      "text/plain": [
       "31"
      ]
     },
     "execution_count": 33,
     "metadata": {},
     "output_type": "execute_result"
    }
   ],
   "source": [
    "endo_test_Carcinosarcoma_samples_df = endo_test[endo_test['subCategory']=='carcinosarcoma']\n",
    "endo_test_Carcinosarcoma_filenames = endo_test_Carcinosarcoma_samples_df['Image Filename']\n",
    "endo_test_Carcinosarcoma_filenames.to_csv('/home/mahnaz/iCAIRD_DATA_ANALYSIS/FileNames/endometrial/test/carcinosarcoma.csv')\n",
    "len(endo_test_Carcinosarcoma_filenames)\n"
   ]
  },
  {
   "cell_type": "code",
   "execution_count": 34,
   "metadata": {},
   "outputs": [
    {
     "data": {
      "text/plain": [
       "7"
      ]
     },
     "execution_count": 34,
     "metadata": {},
     "output_type": "execute_result"
    }
   ],
   "source": [
    "endo_test_Sarcoma_samples_df = endo_test[endo_test['subCategory']=='sarcoma']\n",
    "endo_test_Sarcoma_filenames = endo_test_Sarcoma_samples_df['Image Filename']\n",
    "endo_test_Sarcoma_filenames.to_csv('/home/mahnaz/iCAIRD_DATA_ANALYSIS/FileNames/endometrial/test/sarcoma.csv')\n",
    "len(endo_test_Sarcoma_filenames)\n"
   ]
  },
  {
   "cell_type": "code",
   "execution_count": 35,
   "metadata": {},
   "outputs": [
    {
     "data": {
      "text/plain": [
       "4"
      ]
     },
     "execution_count": 35,
     "metadata": {},
     "output_type": "execute_result"
    }
   ],
   "source": [
    "endo_test_Other_samples_df = endo_test[endo_test['subCategory']=='other']\n",
    "endo_test_Other_filenames = endo_test_Other_samples_df['Image Filename']\n",
    "endo_test_Other_filenames.to_csv('/home/mahnaz/iCAIRD_DATA_ANALYSIS/FileNames/endometrial/test/other.csv')\n",
    "len(endo_test_Other_filenames)      "
   ]
  },
  {
   "cell_type": "code",
   "execution_count": null,
   "metadata": {},
   "outputs": [],
   "source": []
  }
 ],
 "metadata": {
  "kernelspec": {
   "display_name": "repath",
   "language": "python",
   "name": "repath"
  },
  "language_info": {
   "codemirror_mode": {
    "name": "ipython",
    "version": 3
   },
   "file_extension": ".py",
   "mimetype": "text/x-python",
   "name": "python",
   "nbconvert_exporter": "python",
   "pygments_lexer": "ipython3",
   "version": "3.6.12"
  }
 },
 "nbformat": 4,
 "nbformat_minor": 4
}
