{
 "cells": [
  {
   "cell_type": "markdown",
   "metadata": {},
   "source": [
    "# Patch Classification Training"
   ]
  },
  {
   "cell_type": "code",
   "execution_count": null,
   "metadata": {},
   "outputs": [],
   "source": []
  },
  {
   "cell_type": "markdown",
   "metadata": {},
   "source": [
    "### Part 1: Find all the patches in the small training set of Camelyon16"
   ]
  },
  {
   "cell_type": "code",
   "execution_count": 14,
   "metadata": {},
   "outputs": [
    {
     "name": "stdout",
     "output_type": "stream",
     "text": [
      "indexing patient_000_node_0.tif\n",
      "indexing patient_000_node_1.tif\n",
      "indexing patient_000_node_2.tif\n",
      "indexing patient_000_node_3.tif\n",
      "indexing patient_000_node_4.tif\n",
      "indexing patient_001_node_0.tif\n",
      "indexing patient_001_node_1.tif\n",
      "indexing patient_001_node_2.tif\n",
      "indexing patient_001_node_3.tif\n",
      "indexing patient_001_node_4.tif\n",
      "indexing patient_002_node_0.tif\n",
      "indexing patient_002_node_1.tif\n",
      "indexing patient_002_node_2.tif\n",
      "indexing patient_002_node_3.tif\n",
      "indexing patient_002_node_4.tif\n",
      "indexing patient_003_node_0.tif\n",
      "indexing patient_003_node_1.tif\n",
      "indexing patient_003_node_2.tif\n",
      "indexing patient_003_node_3.tif\n",
      "indexing patient_003_node_4.tif\n",
      "indexing patient_004_node_0.tif\n",
      "indexing patient_004_node_1.tif\n",
      "indexing patient_004_node_2.tif\n",
      "indexing patient_004_node_3.tif\n",
      "indexing patient_004_node_4.tif\n",
      "indexing patient_005_node_0.tif\n",
      "indexing patient_005_node_1.tif\n",
      "indexing patient_005_node_2.tif\n",
      "indexing patient_005_node_3.tif\n",
      "indexing patient_005_node_4.tif\n",
      "indexing patient_006_node_0.tif\n",
      "indexing patient_006_node_1.tif\n",
      "indexing patient_006_node_2.tif\n",
      "indexing patient_006_node_3.tif\n",
      "indexing patient_006_node_4.tif\n",
      "indexing patient_007_node_0.tif\n",
      "indexing patient_007_node_1.tif\n",
      "indexing patient_007_node_2.tif\n",
      "indexing patient_007_node_3.tif\n",
      "indexing patient_007_node_4.tif\n",
      "indexing patient_008_node_0.tif\n",
      "indexing patient_008_node_1.tif\n",
      "indexing patient_008_node_2.tif\n",
      "indexing patient_008_node_3.tif\n",
      "indexing patient_008_node_4.tif\n",
      "indexing patient_009_node_0.tif\n",
      "indexing patient_009_node_1.tif\n",
      "indexing patient_009_node_2.tif\n",
      "indexing patient_009_node_3.tif\n",
      "indexing patient_009_node_4.tif\n",
      "indexing patient_010_node_0.tif\n",
      "indexing patient_010_node_1.tif\n",
      "indexing patient_010_node_2.tif\n",
      "indexing patient_010_node_3.tif\n",
      "indexing patient_010_node_4.tif\n",
      "indexing patient_011_node_0.tif\n",
      "indexing patient_011_node_1.tif\n",
      "indexing patient_011_node_2.tif\n",
      "indexing patient_011_node_3.tif\n",
      "indexing patient_011_node_4.tif\n",
      "indexing patient_012_node_0.tif\n",
      "indexing patient_012_node_1.tif\n",
      "indexing patient_012_node_2.tif\n",
      "indexing patient_012_node_3.tif\n",
      "indexing patient_012_node_4.tif\n",
      "indexing patient_013_node_0.tif\n",
      "indexing patient_013_node_1.tif\n",
      "indexing patient_013_node_2.tif\n",
      "indexing patient_013_node_3.tif\n",
      "indexing patient_013_node_4.tif\n",
      "indexing patient_014_node_0.tif\n",
      "indexing patient_014_node_1.tif\n",
      "indexing patient_014_node_2.tif\n",
      "indexing patient_014_node_3.tif\n",
      "indexing patient_014_node_4.tif\n",
      "indexing patient_015_node_0.tif\n",
      "indexing patient_015_node_1.tif\n",
      "indexing patient_015_node_2.tif\n",
      "indexing patient_015_node_3.tif\n",
      "indexing patient_015_node_4.tif\n",
      "indexing patient_016_node_0.tif\n",
      "indexing patient_016_node_1.tif\n",
      "indexing patient_016_node_2.tif\n",
      "indexing patient_016_node_3.tif\n",
      "indexing patient_016_node_4.tif\n",
      "indexing patient_017_node_0.tif\n",
      "indexing patient_017_node_1.tif\n",
      "indexing patient_017_node_2.tif\n",
      "indexing patient_017_node_3.tif\n",
      "indexing patient_017_node_4.tif\n",
      "indexing patient_018_node_0.tif\n",
      "indexing patient_018_node_1.tif\n",
      "indexing patient_018_node_2.tif\n",
      "indexing patient_018_node_3.tif\n",
      "indexing patient_018_node_4.tif\n",
      "indexing patient_019_node_0.tif\n",
      "indexing patient_019_node_1.tif\n",
      "indexing patient_019_node_2.tif\n",
      "indexing patient_019_node_3.tif\n",
      "indexing patient_019_node_4.tif\n",
      "indexing patient_020_node_0.tif\n",
      "indexing patient_020_node_1.tif\n",
      "indexing patient_020_node_2.tif\n",
      "indexing patient_020_node_3.tif\n",
      "indexing patient_020_node_4.tif\n",
      "indexing patient_021_node_0.tif\n",
      "indexing patient_021_node_1.tif\n",
      "indexing patient_021_node_2.tif\n",
      "indexing patient_021_node_3.tif\n",
      "indexing patient_021_node_4.tif\n",
      "indexing patient_022_node_0.tif\n",
      "indexing patient_022_node_1.tif\n",
      "indexing patient_022_node_2.tif\n",
      "indexing patient_022_node_3.tif\n",
      "indexing patient_022_node_4.tif\n",
      "indexing patient_023_node_0.tif\n",
      "indexing patient_023_node_1.tif\n",
      "indexing patient_023_node_2.tif\n",
      "indexing patient_023_node_3.tif\n",
      "indexing patient_023_node_4.tif\n",
      "indexing patient_024_node_0.tif\n",
      "indexing patient_024_node_1.tif\n",
      "indexing patient_024_node_2.tif\n",
      "indexing patient_024_node_3.tif\n",
      "indexing patient_024_node_4.tif\n",
      "indexing patient_025_node_0.tif\n",
      "indexing patient_025_node_1.tif\n",
      "indexing patient_025_node_2.tif\n",
      "indexing patient_025_node_3.tif\n",
      "indexing patient_025_node_4.tif\n",
      "indexing patient_026_node_0.tif\n",
      "indexing patient_026_node_1.tif\n",
      "indexing patient_026_node_2.tif\n",
      "indexing patient_026_node_3.tif\n",
      "indexing patient_026_node_4.tif\n",
      "indexing patient_027_node_0.tif\n",
      "indexing patient_027_node_1.tif\n",
      "indexing patient_027_node_2.tif\n",
      "indexing patient_027_node_3.tif\n",
      "indexing patient_027_node_4.tif\n",
      "indexing patient_028_node_0.tif\n",
      "indexing patient_028_node_1.tif\n",
      "indexing patient_028_node_2.tif\n",
      "indexing patient_028_node_3.tif\n",
      "indexing patient_028_node_4.tif\n",
      "indexing patient_029_node_0.tif\n",
      "indexing patient_029_node_1.tif\n",
      "indexing patient_029_node_2.tif\n",
      "indexing patient_029_node_3.tif\n",
      "indexing patient_029_node_4.tif\n",
      "indexing patient_030_node_0.tif\n",
      "indexing patient_030_node_1.tif\n",
      "indexing patient_030_node_2.tif\n",
      "indexing patient_030_node_3.tif\n",
      "indexing patient_030_node_4.tif\n",
      "indexing patient_031_node_0.tif\n",
      "indexing patient_031_node_1.tif\n",
      "indexing patient_031_node_2.tif\n",
      "indexing patient_031_node_3.tif\n",
      "indexing patient_031_node_4.tif\n",
      "indexing patient_032_node_0.tif\n",
      "indexing patient_032_node_1.tif\n",
      "indexing patient_032_node_2.tif\n",
      "indexing patient_032_node_3.tif\n",
      "indexing patient_032_node_4.tif\n",
      "indexing patient_033_node_0.tif\n",
      "indexing patient_033_node_1.tif\n",
      "indexing patient_033_node_2.tif\n",
      "indexing patient_033_node_3.tif\n",
      "indexing patient_033_node_4.tif\n",
      "indexing patient_034_node_0.tif\n",
      "indexing patient_034_node_1.tif\n"
     ]
    },
    {
     "ename": "KeyboardInterrupt",
     "evalue": "",
     "output_type": "error",
     "traceback": [
      "\u001b[0;31m---------------------------------------------------------------------------\u001b[0m",
      "\u001b[0;31mKeyboardInterrupt\u001b[0m                         Traceback (most recent call last)",
      "\u001b[0;32m<ipython-input-14-7afcaec127dd>\u001b[0m in \u001b[0;36m<module>\u001b[0;34m\u001b[0m\n\u001b[1;32m      8\u001b[0m \u001b[0mtissue_detector\u001b[0m \u001b[0;34m=\u001b[0m \u001b[0mTissueDetectorGreyScale\u001b[0m\u001b[0;34m(\u001b[0m\u001b[0;34m)\u001b[0m\u001b[0;34m\u001b[0m\u001b[0;34m\u001b[0m\u001b[0m\n\u001b[1;32m      9\u001b[0m \u001b[0mpatch_finder\u001b[0m \u001b[0;34m=\u001b[0m \u001b[0mGridPatchFinder\u001b[0m\u001b[0;34m(\u001b[0m\u001b[0;36m7\u001b[0m\u001b[0;34m,\u001b[0m \u001b[0;36m0\u001b[0m\u001b[0;34m,\u001b[0m \u001b[0;36m256\u001b[0m\u001b[0;34m,\u001b[0m \u001b[0;36m256\u001b[0m\u001b[0;34m)\u001b[0m\u001b[0;34m\u001b[0m\u001b[0;34m\u001b[0m\u001b[0m\n\u001b[0;32m---> 10\u001b[0;31m \u001b[0mtrain_patches17\u001b[0m \u001b[0;34m=\u001b[0m \u001b[0mSlidesIndex\u001b[0m\u001b[0;34m.\u001b[0m\u001b[0mindex_dataset\u001b[0m\u001b[0;34m(\u001b[0m\u001b[0mtrain_data17\u001b[0m\u001b[0;34m,\u001b[0m \u001b[0mtissue_detector\u001b[0m\u001b[0;34m,\u001b[0m \u001b[0mpatch_finder\u001b[0m\u001b[0;34m)\u001b[0m\u001b[0;34m\u001b[0m\u001b[0;34m\u001b[0m\u001b[0m\n\u001b[0m\u001b[1;32m     11\u001b[0m \u001b[0mtrain_patches17\u001b[0m\u001b[0;34m.\u001b[0m\u001b[0msummary\u001b[0m\u001b[0;34m(\u001b[0m\u001b[0;34m)\u001b[0m\u001b[0;34m\u001b[0m\u001b[0;34m\u001b[0m\u001b[0m\n",
      "\u001b[0;32m~/repath/repath/preprocess/patching/patch_index.py\u001b[0m in \u001b[0;36mindex_dataset\u001b[0;34m(cls, dataset, tissue_detector, patch_finder)\u001b[0m\n\u001b[1;32m    177\u001b[0m     \u001b[0;34m@\u001b[0m\u001b[0mclassmethod\u001b[0m\u001b[0;34m\u001b[0m\u001b[0;34m\u001b[0m\u001b[0m\n\u001b[1;32m    178\u001b[0m     \u001b[0;32mdef\u001b[0m \u001b[0mindex_dataset\u001b[0m\u001b[0;34m(\u001b[0m\u001b[0mcls\u001b[0m\u001b[0;34m,\u001b[0m \u001b[0mdataset\u001b[0m\u001b[0;34m:\u001b[0m \u001b[0mDataset\u001b[0m\u001b[0;34m,\u001b[0m \u001b[0mtissue_detector\u001b[0m\u001b[0;34m:\u001b[0m \u001b[0mTissueDetector\u001b[0m\u001b[0;34m,\u001b[0m \u001b[0mpatch_finder\u001b[0m\u001b[0;34m:\u001b[0m \u001b[0mPatchFinder\u001b[0m\u001b[0;34m)\u001b[0m \u001b[0;34m->\u001b[0m \u001b[0;34m'SlidesIndex'\u001b[0m\u001b[0;34m:\u001b[0m\u001b[0;34m\u001b[0m\u001b[0;34m\u001b[0m\u001b[0m\n\u001b[0;32m--> 179\u001b[0;31m         \u001b[0mpatchsets\u001b[0m \u001b[0;34m=\u001b[0m \u001b[0;34m[\u001b[0m\u001b[0mSlidePatchSet\u001b[0m\u001b[0;34m.\u001b[0m\u001b[0mindex_slide\u001b[0m\u001b[0;34m(\u001b[0m\u001b[0midx\u001b[0m\u001b[0;34m,\u001b[0m \u001b[0mdataset\u001b[0m\u001b[0;34m,\u001b[0m \u001b[0mtissue_detector\u001b[0m\u001b[0;34m,\u001b[0m \u001b[0mpatch_finder\u001b[0m\u001b[0;34m)\u001b[0m \u001b[0;32mfor\u001b[0m \u001b[0midx\u001b[0m \u001b[0;32min\u001b[0m \u001b[0mrange\u001b[0m\u001b[0;34m(\u001b[0m\u001b[0mlen\u001b[0m\u001b[0;34m(\u001b[0m\u001b[0mdataset\u001b[0m\u001b[0;34m)\u001b[0m\u001b[0;34m)\u001b[0m\u001b[0;34m]\u001b[0m\u001b[0;34m\u001b[0m\u001b[0;34m\u001b[0m\u001b[0m\n\u001b[0m\u001b[1;32m    180\u001b[0m         \u001b[0;32mreturn\u001b[0m \u001b[0mcls\u001b[0m\u001b[0;34m(\u001b[0m\u001b[0mdataset\u001b[0m\u001b[0;34m,\u001b[0m \u001b[0mpatchsets\u001b[0m\u001b[0;34m)\u001b[0m\u001b[0;34m\u001b[0m\u001b[0;34m\u001b[0m\u001b[0m\n\u001b[1;32m    181\u001b[0m \u001b[0;34m\u001b[0m\u001b[0m\n",
      "\u001b[0;32m~/repath/repath/preprocess/patching/patch_index.py\u001b[0m in \u001b[0;36m<listcomp>\u001b[0;34m(.0)\u001b[0m\n\u001b[1;32m    177\u001b[0m     \u001b[0;34m@\u001b[0m\u001b[0mclassmethod\u001b[0m\u001b[0;34m\u001b[0m\u001b[0;34m\u001b[0m\u001b[0m\n\u001b[1;32m    178\u001b[0m     \u001b[0;32mdef\u001b[0m \u001b[0mindex_dataset\u001b[0m\u001b[0;34m(\u001b[0m\u001b[0mcls\u001b[0m\u001b[0;34m,\u001b[0m \u001b[0mdataset\u001b[0m\u001b[0;34m:\u001b[0m \u001b[0mDataset\u001b[0m\u001b[0;34m,\u001b[0m \u001b[0mtissue_detector\u001b[0m\u001b[0;34m:\u001b[0m \u001b[0mTissueDetector\u001b[0m\u001b[0;34m,\u001b[0m \u001b[0mpatch_finder\u001b[0m\u001b[0;34m:\u001b[0m \u001b[0mPatchFinder\u001b[0m\u001b[0;34m)\u001b[0m \u001b[0;34m->\u001b[0m \u001b[0;34m'SlidesIndex'\u001b[0m\u001b[0;34m:\u001b[0m\u001b[0;34m\u001b[0m\u001b[0;34m\u001b[0m\u001b[0m\n\u001b[0;32m--> 179\u001b[0;31m         \u001b[0mpatchsets\u001b[0m \u001b[0;34m=\u001b[0m \u001b[0;34m[\u001b[0m\u001b[0mSlidePatchSet\u001b[0m\u001b[0;34m.\u001b[0m\u001b[0mindex_slide\u001b[0m\u001b[0;34m(\u001b[0m\u001b[0midx\u001b[0m\u001b[0;34m,\u001b[0m \u001b[0mdataset\u001b[0m\u001b[0;34m,\u001b[0m \u001b[0mtissue_detector\u001b[0m\u001b[0;34m,\u001b[0m \u001b[0mpatch_finder\u001b[0m\u001b[0;34m)\u001b[0m \u001b[0;32mfor\u001b[0m \u001b[0midx\u001b[0m \u001b[0;32min\u001b[0m \u001b[0mrange\u001b[0m\u001b[0;34m(\u001b[0m\u001b[0mlen\u001b[0m\u001b[0;34m(\u001b[0m\u001b[0mdataset\u001b[0m\u001b[0;34m)\u001b[0m\u001b[0;34m)\u001b[0m\u001b[0;34m]\u001b[0m\u001b[0;34m\u001b[0m\u001b[0;34m\u001b[0m\u001b[0m\n\u001b[0m\u001b[1;32m    180\u001b[0m         \u001b[0;32mreturn\u001b[0m \u001b[0mcls\u001b[0m\u001b[0;34m(\u001b[0m\u001b[0mdataset\u001b[0m\u001b[0;34m,\u001b[0m \u001b[0mpatchsets\u001b[0m\u001b[0;34m)\u001b[0m\u001b[0;34m\u001b[0m\u001b[0;34m\u001b[0m\u001b[0m\n\u001b[1;32m    181\u001b[0m \u001b[0;34m\u001b[0m\u001b[0m\n",
      "\u001b[0;32m~/repath/repath/preprocess/patching/patch_index.py\u001b[0m in \u001b[0;36mindex_slide\u001b[0;34m(cls, slide_idx, dataset, tissue_detector, patch_finder)\u001b[0m\n\u001b[1;32m    156\u001b[0m             \u001b[0mscale_factor\u001b[0m \u001b[0;34m=\u001b[0m \u001b[0;36m2\u001b[0m \u001b[0;34m**\u001b[0m \u001b[0mpatch_finder\u001b[0m\u001b[0;34m.\u001b[0m\u001b[0mlabels_level\u001b[0m\u001b[0;34m\u001b[0m\u001b[0;34m\u001b[0m\u001b[0m\n\u001b[1;32m    157\u001b[0m             \u001b[0mlabels_image\u001b[0m \u001b[0;34m=\u001b[0m \u001b[0mannotations\u001b[0m\u001b[0;34m.\u001b[0m\u001b[0mrender\u001b[0m\u001b[0;34m(\u001b[0m\u001b[0mlabels_shape\u001b[0m\u001b[0;34m,\u001b[0m \u001b[0mscale_factor\u001b[0m\u001b[0;34m)\u001b[0m\u001b[0;34m\u001b[0m\u001b[0;34m\u001b[0m\u001b[0m\n\u001b[0;32m--> 158\u001b[0;31m             \u001b[0mtissue_mask\u001b[0m \u001b[0;34m=\u001b[0m \u001b[0mtissue_detector\u001b[0m\u001b[0;34m(\u001b[0m\u001b[0mslide\u001b[0m\u001b[0;34m.\u001b[0m\u001b[0mget_thumbnail\u001b[0m\u001b[0;34m(\u001b[0m\u001b[0mpatch_finder\u001b[0m\u001b[0;34m.\u001b[0m\u001b[0mlabels_level\u001b[0m\u001b[0;34m)\u001b[0m\u001b[0;34m)\u001b[0m\u001b[0;34m\u001b[0m\u001b[0;34m\u001b[0m\u001b[0m\n\u001b[0m\u001b[1;32m    159\u001b[0m             \u001b[0mlabels_image\u001b[0m\u001b[0;34m[\u001b[0m\u001b[0;34m~\u001b[0m\u001b[0mtissue_mask\u001b[0m\u001b[0;34m]\u001b[0m \u001b[0;34m=\u001b[0m \u001b[0;36m0\u001b[0m\u001b[0;34m\u001b[0m\u001b[0;34m\u001b[0m\u001b[0m\n\u001b[1;32m    160\u001b[0m             \u001b[0mdf\u001b[0m\u001b[0;34m,\u001b[0m \u001b[0mlevel\u001b[0m\u001b[0;34m,\u001b[0m \u001b[0msize\u001b[0m \u001b[0;34m=\u001b[0m \u001b[0mpatch_finder\u001b[0m\u001b[0;34m(\u001b[0m\u001b[0mlabels_image\u001b[0m\u001b[0;34m)\u001b[0m\u001b[0;34m\u001b[0m\u001b[0;34m\u001b[0m\u001b[0m\n",
      "\u001b[0;32m~/repath/repath/data/slides/slide.py\u001b[0m in \u001b[0;36mget_thumbnail\u001b[0;34m(self, level)\u001b[0m\n\u001b[1;32m     58\u001b[0m         \u001b[0msize\u001b[0m \u001b[0;34m=\u001b[0m \u001b[0mself\u001b[0m\u001b[0;34m.\u001b[0m\u001b[0mdimensions\u001b[0m\u001b[0;34m[\u001b[0m\u001b[0mlevel\u001b[0m\u001b[0;34m]\u001b[0m\u001b[0;34m\u001b[0m\u001b[0;34m\u001b[0m\u001b[0m\n\u001b[1;32m     59\u001b[0m         \u001b[0mregion\u001b[0m \u001b[0;34m=\u001b[0m \u001b[0mRegion\u001b[0m\u001b[0;34m(\u001b[0m\u001b[0mlevel\u001b[0m\u001b[0;34m=\u001b[0m\u001b[0mlevel\u001b[0m\u001b[0;34m,\u001b[0m \u001b[0mlocation\u001b[0m\u001b[0;34m=\u001b[0m\u001b[0;34m(\u001b[0m\u001b[0;36m0\u001b[0m\u001b[0;34m,\u001b[0m \u001b[0;36m0\u001b[0m\u001b[0;34m)\u001b[0m\u001b[0;34m,\u001b[0m \u001b[0msize\u001b[0m\u001b[0;34m=\u001b[0m\u001b[0msize\u001b[0m\u001b[0;34m)\u001b[0m\u001b[0;34m\u001b[0m\u001b[0;34m\u001b[0m\u001b[0m\n\u001b[0;32m---> 60\u001b[0;31m         \u001b[0mim\u001b[0m \u001b[0;34m=\u001b[0m \u001b[0mself\u001b[0m\u001b[0;34m.\u001b[0m\u001b[0mread_region\u001b[0m\u001b[0;34m(\u001b[0m\u001b[0mregion\u001b[0m\u001b[0;34m)\u001b[0m\u001b[0;34m\u001b[0m\u001b[0;34m\u001b[0m\u001b[0m\n\u001b[0m\u001b[1;32m     61\u001b[0m         \u001b[0mim\u001b[0m \u001b[0;34m=\u001b[0m \u001b[0mim\u001b[0m\u001b[0;34m.\u001b[0m\u001b[0mconvert\u001b[0m\u001b[0;34m(\u001b[0m\u001b[0;34m\"RGB\"\u001b[0m\u001b[0;34m)\u001b[0m\u001b[0;34m\u001b[0m\u001b[0;34m\u001b[0m\u001b[0m\n\u001b[1;32m     62\u001b[0m         \u001b[0mim\u001b[0m \u001b[0;34m=\u001b[0m \u001b[0mnp\u001b[0m\u001b[0;34m.\u001b[0m\u001b[0masarray\u001b[0m\u001b[0;34m(\u001b[0m\u001b[0mim\u001b[0m\u001b[0;34m)\u001b[0m\u001b[0;34m\u001b[0m\u001b[0;34m\u001b[0m\u001b[0m\n",
      "\u001b[0;32m~/repath/repath/data/slides/openslide.py\u001b[0m in \u001b[0;36mread_region\u001b[0;34m(self, region)\u001b[0m\n\u001b[1;32m     30\u001b[0m \u001b[0;34m\u001b[0m\u001b[0m\n\u001b[1;32m     31\u001b[0m     \u001b[0;32mdef\u001b[0m \u001b[0mread_region\u001b[0m\u001b[0;34m(\u001b[0m\u001b[0mself\u001b[0m\u001b[0;34m,\u001b[0m \u001b[0mregion\u001b[0m\u001b[0;34m:\u001b[0m \u001b[0mRegion\u001b[0m\u001b[0;34m)\u001b[0m \u001b[0;34m->\u001b[0m \u001b[0mImage\u001b[0m\u001b[0;34m:\u001b[0m\u001b[0;34m\u001b[0m\u001b[0;34m\u001b[0m\u001b[0m\n\u001b[0;32m---> 32\u001b[0;31m         \u001b[0;32mreturn\u001b[0m \u001b[0mself\u001b[0m\u001b[0;34m.\u001b[0m\u001b[0m_osr\u001b[0m\u001b[0;34m.\u001b[0m\u001b[0mread_region\u001b[0m\u001b[0;34m(\u001b[0m\u001b[0mregion\u001b[0m\u001b[0;34m.\u001b[0m\u001b[0mlocation\u001b[0m\u001b[0;34m,\u001b[0m \u001b[0mregion\u001b[0m\u001b[0;34m.\u001b[0m\u001b[0mlevel\u001b[0m\u001b[0;34m,\u001b[0m \u001b[0mregion\u001b[0m\u001b[0;34m.\u001b[0m\u001b[0msize\u001b[0m\u001b[0;34m)\u001b[0m\u001b[0;34m\u001b[0m\u001b[0;34m\u001b[0m\u001b[0m\n\u001b[0m\u001b[1;32m     33\u001b[0m \u001b[0;34m\u001b[0m\u001b[0m\n\u001b[1;32m     34\u001b[0m     \u001b[0;32mdef\u001b[0m \u001b[0mread_regions\u001b[0m\u001b[0;34m(\u001b[0m\u001b[0mself\u001b[0m\u001b[0;34m,\u001b[0m \u001b[0mregions\u001b[0m\u001b[0;34m:\u001b[0m \u001b[0mList\u001b[0m\u001b[0;34m[\u001b[0m\u001b[0mRegion\u001b[0m\u001b[0;34m]\u001b[0m\u001b[0;34m)\u001b[0m \u001b[0;34m->\u001b[0m \u001b[0mImage\u001b[0m\u001b[0;34m:\u001b[0m\u001b[0;34m\u001b[0m\u001b[0;34m\u001b[0m\u001b[0m\n",
      "\u001b[0;32m~/anaconda3/envs/repath/lib/python3.6/site-packages/openslide/__init__.py\u001b[0m in \u001b[0;36mread_region\u001b[0;34m(self, location, level, size)\u001b[0m\n\u001b[1;32m    227\u001b[0m         function is not premultiplied.\"\"\"\n\u001b[1;32m    228\u001b[0m         return lowlevel.read_region(self._osr, location[0], location[1],\n\u001b[0;32m--> 229\u001b[0;31m                 level, size[0], size[1])\n\u001b[0m\u001b[1;32m    230\u001b[0m \u001b[0;34m\u001b[0m\u001b[0m\n\u001b[1;32m    231\u001b[0m \u001b[0;34m\u001b[0m\u001b[0m\n",
      "\u001b[0;32m~/anaconda3/envs/repath/lib/python3.6/site-packages/openslide/lowlevel.py\u001b[0m in \u001b[0;36mread_region\u001b[0;34m(slide, x, y, level, w, h)\u001b[0m\n\u001b[1;32m    212\u001b[0m         \u001b[0;32mreturn\u001b[0m \u001b[0mPIL\u001b[0m\u001b[0;34m.\u001b[0m\u001b[0mImage\u001b[0m\u001b[0;34m.\u001b[0m\u001b[0mnew\u001b[0m\u001b[0;34m(\u001b[0m\u001b[0;34m'RGBA'\u001b[0m\u001b[0;34m,\u001b[0m \u001b[0;34m(\u001b[0m\u001b[0mw\u001b[0m\u001b[0;34m,\u001b[0m \u001b[0mh\u001b[0m\u001b[0;34m)\u001b[0m\u001b[0;34m)\u001b[0m\u001b[0;34m\u001b[0m\u001b[0;34m\u001b[0m\u001b[0m\n\u001b[1;32m    213\u001b[0m     \u001b[0mbuf\u001b[0m \u001b[0;34m=\u001b[0m \u001b[0;34m(\u001b[0m\u001b[0mw\u001b[0m \u001b[0;34m*\u001b[0m \u001b[0mh\u001b[0m \u001b[0;34m*\u001b[0m \u001b[0mc_uint32\u001b[0m\u001b[0;34m)\u001b[0m\u001b[0;34m(\u001b[0m\u001b[0;34m)\u001b[0m\u001b[0;34m\u001b[0m\u001b[0;34m\u001b[0m\u001b[0m\n\u001b[0;32m--> 214\u001b[0;31m     \u001b[0m_read_region\u001b[0m\u001b[0;34m(\u001b[0m\u001b[0mslide\u001b[0m\u001b[0;34m,\u001b[0m \u001b[0mbuf\u001b[0m\u001b[0;34m,\u001b[0m \u001b[0mx\u001b[0m\u001b[0;34m,\u001b[0m \u001b[0my\u001b[0m\u001b[0;34m,\u001b[0m \u001b[0mlevel\u001b[0m\u001b[0;34m,\u001b[0m \u001b[0mw\u001b[0m\u001b[0;34m,\u001b[0m \u001b[0mh\u001b[0m\u001b[0;34m)\u001b[0m\u001b[0;34m\u001b[0m\u001b[0;34m\u001b[0m\u001b[0m\n\u001b[0m\u001b[1;32m    215\u001b[0m     \u001b[0;32mreturn\u001b[0m \u001b[0m_load_image\u001b[0m\u001b[0;34m(\u001b[0m\u001b[0mbuf\u001b[0m\u001b[0;34m,\u001b[0m \u001b[0;34m(\u001b[0m\u001b[0mw\u001b[0m\u001b[0;34m,\u001b[0m \u001b[0mh\u001b[0m\u001b[0;34m)\u001b[0m\u001b[0;34m)\u001b[0m\u001b[0;34m\u001b[0m\u001b[0;34m\u001b[0m\u001b[0m\n\u001b[1;32m    216\u001b[0m \u001b[0;34m\u001b[0m\u001b[0m\n",
      "\u001b[0;32m~/anaconda3/envs/repath/lib/python3.6/site-packages/openslide/lowlevel.py\u001b[0m in \u001b[0;36m_check_error\u001b[0;34m(result, func, args)\u001b[0m\n\u001b[1;32m    146\u001b[0m \u001b[0;34m\u001b[0m\u001b[0m\n\u001b[1;32m    147\u001b[0m \u001b[0;31m# check if the library got into an error state after each library call\u001b[0m\u001b[0;34m\u001b[0m\u001b[0;34m\u001b[0m\u001b[0;34m\u001b[0m\u001b[0m\n\u001b[0;32m--> 148\u001b[0;31m \u001b[0;32mdef\u001b[0m \u001b[0m_check_error\u001b[0m\u001b[0;34m(\u001b[0m\u001b[0mresult\u001b[0m\u001b[0;34m,\u001b[0m \u001b[0mfunc\u001b[0m\u001b[0;34m,\u001b[0m \u001b[0margs\u001b[0m\u001b[0;34m)\u001b[0m\u001b[0;34m:\u001b[0m\u001b[0;34m\u001b[0m\u001b[0;34m\u001b[0m\u001b[0m\n\u001b[0m\u001b[1;32m    149\u001b[0m     \u001b[0merr\u001b[0m \u001b[0;34m=\u001b[0m \u001b[0mget_error\u001b[0m\u001b[0;34m(\u001b[0m\u001b[0margs\u001b[0m\u001b[0;34m[\u001b[0m\u001b[0;36m0\u001b[0m\u001b[0;34m]\u001b[0m\u001b[0;34m)\u001b[0m\u001b[0;34m\u001b[0m\u001b[0;34m\u001b[0m\u001b[0m\n\u001b[1;32m    150\u001b[0m     \u001b[0;32mif\u001b[0m \u001b[0merr\u001b[0m \u001b[0;32mis\u001b[0m \u001b[0;32mnot\u001b[0m \u001b[0;32mNone\u001b[0m\u001b[0;34m:\u001b[0m\u001b[0;34m\u001b[0m\u001b[0;34m\u001b[0m\u001b[0m\n",
      "\u001b[0;31mKeyboardInterrupt\u001b[0m: "
     ]
    }
   ],
   "source": [
    "import repath.data.datasets.camelyon17 as camelyon17\n",
    "from repath.preprocess.patching import GridPatchFinder\n",
    "from repath.preprocess.patching import SlidesIndex\n",
    "from repath.preprocess.tissue_detection import TissueDetectorGreyScale\n",
    "\n",
    "# index all the patches for the camelyon16 dataset\n",
    "train_data17 = camelyon17.training()\n",
    "tissue_detector = TissueDetectorGreyScale()\n",
    "patch_finder = GridPatchFinder(7, 0, 256, 256)\n",
    "train_patches17 = SlidesIndex.index_dataset(train_data17, tissue_detector, patch_finder)\n",
    "train_patches17.summary()"
   ]
  },
  {
   "cell_type": "code",
   "execution_count": null,
   "metadata": {},
   "outputs": [],
   "source": [
    "from repath.preprocess.sampling import split_camelyon17\n",
    "from repath.utils.paths import project_root\n",
    "\n",
    "experiment_name = \"example\"\n",
    "experiment_root = project_root() / \"experiments\" /  experiment_name\n",
    "\n",
    "train17, valid17 = split_camelyon17(train_patches17, 0.7)\n",
    "train17.save(experiment_root / \"train17_index\")\n",
    "valid17.save(experiment_root / \"valid17_index\")\n",
    "for sl in train17:\n",
    "    print(\"train\", sl.slide_idx)\n",
    "    \n",
    "for sl in valid17:\n",
    "    print(\"valid\", sl.slide_idx)"
   ]
  },
  {
   "cell_type": "code",
   "execution_count": null,
   "metadata": {},
   "outputs": [],
   "source": [
    "project_root()"
   ]
  },
  {
   "cell_type": "code",
   "execution_count": null,
   "metadata": {},
   "outputs": [],
   "source": [
    "from repath.preprocess.sampling import select_annotated\n",
    "\n",
    "train17 = select_annotated(train17)\n",
    "valid17 = select_annotated(valid17)"
   ]
  },
  {
   "cell_type": "code",
   "execution_count": null,
   "metadata": {},
   "outputs": [],
   "source": [
    "import repath.data.datasets.camelyon16 as camelyon16\n",
    "from repath.preprocess.patching import GridPatchFinder\n",
    "from repath.preprocess.patching import SlidesIndex\n",
    "from repath.preprocess.tissue_detection import TissueDetectorOTSU\n",
    "\n",
    "# index all the patches for the camelyon16 dataset\n",
    "train_data16 = camelyon16.training_small()\n",
    "tissue_detector = TissueDetectorOTSU()\n",
    "patch_finder = GridPatchFinder(7, 0, 256, 256)\n",
    "train_patches16 = SlidesIndex.index_dataset(train_data16, tissue_detector, patch_finder)\n",
    "train_patches16.summary()"
   ]
  },
  {
   "cell_type": "code",
   "execution_count": null,
   "metadata": {},
   "outputs": [],
   "source": [
    "from repath.preprocess.sampling import split_camelyon16\n",
    "\n",
    "train16, valid16 = split_camelyon16(train_patches16, 0.7)\n",
    "train16.save(experiment_root / \"train16_index\")\n",
    "valid16.save(experiment_root / \"valid16_index\")"
   ]
  },
  {
   "cell_type": "code",
   "execution_count": null,
   "metadata": {},
   "outputs": [],
   "source": [
    "from repath.preprocess.sampling import balanced_sample\n",
    "\n",
    "# do the train validate split\n",
    "train_samples = balanced_sample([train16, train17], 2800)\n",
    "valid_samples = balanced_sample([valid16, valid17], 1200)\n",
    "\n",
    "import numpy as np\n",
    "np.unique(train17.as_combined().patches_df.label)"
   ]
  },
  {
   "cell_type": "code",
   "execution_count": null,
   "metadata": {},
   "outputs": [],
   "source": [
    "# save out all the patches\n",
    "train_samples.save_patches(experiment_root / \"training_patches\")\n",
    "valid_samples.save_patches(experiment_root / \"validation_patches\")"
   ]
  },
  {
   "cell_type": "code",
   "execution_count": null,
   "metadata": {},
   "outputs": [],
   "source": []
  },
  {
   "cell_type": "code",
   "execution_count": null,
   "metadata": {},
   "outputs": [],
   "source": []
  },
  {
   "cell_type": "markdown",
   "metadata": {},
   "source": [
    "## Part 2: Train patch classifier"
   ]
  },
  {
   "cell_type": "code",
   "execution_count": 2,
   "metadata": {},
   "outputs": [],
   "source": []
  },
  {
   "cell_type": "code",
   "execution_count": 3,
   "metadata": {},
   "outputs": [],
   "source": []
  },
  {
   "cell_type": "code",
   "execution_count": 13,
   "metadata": {},
   "outputs": [
    {
     "name": "stdout",
     "output_type": "stream",
     "text": [
      "Annotation 1\n",
      "metastases\n",
      "Polygon\n",
      "<Element 'Coordinates' at 0x7fa6bd7cf3b8>\n",
      "[(69116.2969, 98458.2969), (68909.2969, 98291.5), (68690.7969, 98188.0), (68547.0, 98377.7969), (68679.2969, 98584.7969), (68754.0, 98803.3984), (68524.0, 98786.1016), (68460.7031, 99016.1016), (68558.5, 99240.3984), (68334.2031, 99188.7031), (68127.2031, 99056.3984), (68115.7031, 98803.3984), (67902.8984, 98918.3984), (67914.3984, 99148.3984), (68063.8984, 99332.5), (68178.8984, 99574.0), (68184.7031, 99809.7969), (67937.3984, 99884.6016), (67707.2969, 100023.0), (67580.7969, 100218.0), (67488.7969, 100471.0), (67396.7969, 100718.0), (67178.2031, 100828.0), (66930.8984, 100799.0), (66982.7031, 100563.0), (67224.2031, 100511.0), (67414.0, 100345.0), (67477.2969, 100109.0), (67299.0, 99959.2969), (67040.2031, 99947.7969), (66861.8984, 100126.0), (66631.8984, 100143.0), (66456.0, 100203.0), (66261.6016, 100348.0), (66016.5, 100270.0), (65887.1016, 100440.0), (65721.2031, 100582.0), (65655.8984, 100808.0), (65406.8984, 100903.0), (65209.3008, 101026.0), (65125.5, 101254.0), (65211.1016, 101470.0), (65159.0, 101585.0), (64983.3008, 101608.0), (64838.8984, 101741.0), (64760.1016, 102064.0), (64685.3008, 101853.0), (64550.6992, 101859.0), (64446.5, 101892.0), (64354.5, 102116.0), (64239.3984, 102317.0), (64423.5, 102473.0), (64546.0, 102505.0), (64605.6016, 102700.0), (64471.8008, 102826.0), (64416.8008, 102986.0), (64361.3984, 103228.0), (64250.8984, 103151.0), (64026.6016, 102984.0), (63825.3984, 102852.0), (63583.8008, 102835.0), (63359.5, 102898.0), (63135.1992, 102996.0), (62928.1992, 103117.0), (62749.8984, 103283.0), (62560.1016, 103427.0), (62427.8984, 103623.0), (62422.1016, 103870.0), (62473.8984, 104094.0), (62565.8984, 104324.0), (62703.8984, 104520.0), (62772.8984, 104779.0), (62939.6992, 104969.0), (63181.1992, 105015.0), (63422.8008, 105061.0), (63658.6016, 105084.0), (63808.1016, 104888.0), (63652.8008, 104681.0), (63583.8008, 104457.0), (63832.1016, 104455.0), (63900.5, 104285.0), (63998.3008, 104434.0), (64116.3984, 104521.0), (64274.3008, 104607.0), (64406.1992, 104871.0), (64584.3008, 104849.0), (64642.0, 104761.0), (64699.5, 104526.0), (64564.6016, 104266.0), (64268.1992, 104209.0), (64181.8984, 103939.0), (64291.1992, 103721.0), (64486.6992, 103559.0), (64587.1992, 103373.0), (64950.6992, 103729.0), (65051.8984, 103859.0), (65211.3984, 104025.0), (65464.3984, 104077.0), (65694.5, 104089.0), (65901.5, 103979.0), (66051.0, 103790.0), (66263.7969, 103922.0), (66424.7969, 104094.0), (66643.3984, 104244.0), (66890.7031, 104255.0), (66924.1016, 104030.0), (66538.3984, 103975.0), (66461.1016, 103819.0), (66565.7969, 103730.0), (66530.2031, 103453.0), (66667.2969, 103211.0), (66810.2031, 103059.0), (67017.2031, 102956.0), (67253.0, 102910.0), (67454.2969, 103042.0), (67695.7969, 103082.0), (67879.8984, 102915.0), (68058.1016, 102726.0), (68023.6016, 102455.0), (67966.1016, 102208.0), (68144.3984, 102041.0), (68104.2031, 101800.0), (67971.8984, 101604.0), (67908.6016, 101340.0), (68017.8984, 101121.0), (68196.2031, 100914.0), (68426.2031, 100839.0), (68656.2969, 100747.0), (68771.2969, 100523.0), (68938.1016, 100350.0), (69076.1016, 100132.0), (69294.6016, 100011.0), (69472.8984, 99844.2969), (69553.3984, 99614.2969), (69605.2031, 99367.0), (69656.8984, 99131.2031), (69628.2031, 98889.6016), (69513.2031, 98676.7969)]\n",
      "Annotation 2\n",
      "metastases\n",
      "Polygon\n",
      "<Element 'Coordinates' at 0x7fa6bd852ea8>\n",
      "[(65932.2031, 99863.5), (65870.7031, 99909.7031), (65849.5, 99990.5), (65922.6016, 100044.0), (66011.1016, 100039.0), (66030.2969, 99942.3984), (65999.5, 99867.3984)]\n"
     ]
    }
   ],
   "source": []
  }
 ],
 "metadata": {
  "kernelspec": {
   "display_name": "repath",
   "language": "python",
   "name": "repath"
  },
  "language_info": {
   "codemirror_mode": {
    "name": "ipython",
    "version": 3
   },
   "file_extension": ".py",
   "mimetype": "text/x-python",
   "name": "python",
   "nbconvert_exporter": "python",
   "pygments_lexer": "ipython3",
   "version": "3.6.9"
  }
 },
 "nbformat": 4,
 "nbformat_minor": 4
}
