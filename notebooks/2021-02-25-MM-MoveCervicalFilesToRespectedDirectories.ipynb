{
 "cells": [
  {
   "cell_type": "code",
   "execution_count": 1,
   "metadata": {},
   "outputs": [
    {
     "data": {
      "text/plain": [
       "9       IC-CX-00011-01.isyntax\n",
       "19      IC-CX-00024-01.isyntax\n",
       "32      IC-CX-00038-01.isyntax\n",
       "46      IC-CX-00054-01.isyntax\n",
       "54      IC-CX-00065-01.isyntax\n",
       "                 ...          \n",
       "2517    IC-CX-03044-01.isyntax\n",
       "2521    IC-CX-03048-01.isyntax\n",
       "2523    IC-CX-03050-01.isyntax\n",
       "2529    IC-CX-03057-01.isyntax\n",
       "2573    IC-CX-03105-01.isyntax\n",
       "Name: Image Filename, Length: 230, dtype: object"
      ]
     },
     "execution_count": 1,
     "metadata": {},
     "output_type": "execute_result"
    }
   ],
   "source": [
    "import shutil\n",
    "import os\n",
    "import pandas as pd\n",
    "    \n",
    "\n",
    "cervical = pd.read_csv('/home/mahnaz/iCAIRD_DATA_ANALYSIS/iCAIRD_Cervical_Data.csv')\n",
    "#1. move certvical train low_grade hpv files\n",
    "cervical_train_low_grade_hpv_df =  cervical[(cervical['train/valid/test']=='train') & (cervical['subCategory']=='hpv')]  \n",
    "cervical_train_low_grade_hpv_df_filenames = cervical_train_low_grade_hpv_df['Image Filename']\n",
    "source_dir = 'iCAIRD'\n",
    "target_dir = 'data/cervical/raw/training/low_grade/hpv'\n",
    "        \n",
    "for file_name in cervical_train_low_grade_hpv_df_filenames:\n",
    "    shutil.move(os.path.join(source_dir, file_name), target_dir)\n",
    "cervical_train_low_grade_hpv_df_filenames"
   ]
  },
  {
   "cell_type": "code",
   "execution_count": null,
   "metadata": {},
   "outputs": [],
   "source": [
    "#2. move  certvical train low_grade cin1 files\n",
    "cervical_train_low_grade_cin1_df =  cervical[(cervical['train/valid/test']=='train') & (cervical['subCategory']=='cin1')]  \n",
    "cervical_train_low_grade_cin1_df_filenames = cervical_train_low_grade_cin1_df['Image Filename']\n",
    "#move files\n",
    "source_dir = 'iCAIRD'\n",
    "target_dir = 'data/cervical/raw/training/low_grade/cin1'\n",
    "for file_name in cervical_train_low_grade_cin1_df_filenames:\n",
    "    print(file_name)\n",
    "    shutil.move(os.path.join(source_dir, file_name), target_dir)\n"
   ]
  },
  {
   "cell_type": "code",
   "execution_count": null,
   "metadata": {},
   "outputs": [],
   "source": [
    "#3. move certvical train high_grade cin2 files\n",
    "cervical_train_high_grade_cin2_df =  cervical[(cervical['train/valid/test']=='train') & (cervical['subCategory']=='cin2')]  \n",
    "cervical_train_high_grade_cin2_df_filenames = cervical_train_high_grade_cin2_df['Image Filename']\n",
    "#move files\n",
    "source_dir = 'iCAIRD'\n",
    "target_dir = 'data/cervical/raw/training/high_grade/cin2'\n",
    "for file_name in cervical_train_high_grade_cin2_df_filenames:\n",
    "    shutil.move(os.path.join(source_dir, file_name), target_dir)\n",
    "    \n",
    "\n"
   ]
  },
  {
   "cell_type": "code",
   "execution_count": null,
   "metadata": {},
   "outputs": [],
   "source": [
    "#4. move certvical train high_grade cin3 files\n",
    "cervical_train_high_grade_cin3_df =  cervical[(cervical['train/valid/test']=='train') & (cervical['subCategory']=='cin3')]  \n",
    "cervical_train_high_grade_cin3_df_filenames = cervical_train_high_grade_cin3_df['Image Filename']\n",
    "#move files\n",
    "source_dir = 'iCAIRD'\n",
    "target_dir = 'data/cervical/raw/training/high_grade/cin3'\n",
    "for file_name in cervical_train_high_grade_cin3_df_filenames:\n",
    "    shutil.move(os.path.join(source_dir, file_name), target_dir)\n",
    "    "
   ]
  },
  {
   "cell_type": "code",
   "execution_count": null,
   "metadata": {},
   "outputs": [],
   "source": [
    "#5. move certvical train malignant other files\n",
    "cervical_train_malignant_other_df =  cervical[(cervical['train/valid/test']=='train') & (cervical['subCategory']=='other')]  \n",
    "cervical_train_malignant_other_df_filenames = cervical_train_malignant_other_df['Image Filename']\n",
    "#move files\n",
    "source_dir = 'iCAIRD'\n",
    "target_dir = 'data/cervical/raw/training/malignant/other'\n",
    "for file_name in cervical_train_malignant_other_df_filenames:\n",
    "    shutil.move(os.path.join(source_dir, file_name), target_dir)\n",
    "\n"
   ]
  },
  {
   "cell_type": "code",
   "execution_count": null,
   "metadata": {},
   "outputs": [],
   "source": [
    "#6. move certvical train malignant cgin files\n",
    "cervical_train_malignant_cgin_df =  cervical[(cervical['train/valid/test']=='train') & (cervical['subCategory']=='cgin')]  \n",
    "cervical_train_malignant_cginr_df_filenames = cervical_train_malignant_cgin_df['Image Filename']\n",
    "#move files\n",
    "source_dir = 'iCAIRD'\n",
    "target_dir = 'data/cervical/raw/training/malignant/cgin'\n",
    "for file_name in cervical_train_malignant_cgin_df_filenames:\n",
    "    shutil.move(os.path.join(source_dir, file_name), target_dir)\n",
    "    "
   ]
  },
  {
   "cell_type": "code",
   "execution_count": null,
   "metadata": {},
   "outputs": [],
   "source": [
    "#7. move certvical train malignant adenocarcinoma files\n",
    "cervical_train_malignant_adeno_df =  cervical[(cervical['train/valid/test']=='train') & (cervical['subCategory']=='adenocarcinoma')]  \n",
    "cervical_train_malignant_adeno_df_filenames = cervical_train_malignant_adeno_df['Image Filename']\n",
    "#move files\n",
    "source_dir = 'iCAIRD'\n",
    "target_dir = 'data/cervical/raw/training/malignant/adenocarcinoma'\n",
    "for file_name in cervical_train_malignant_adeno_df_filenames:\n",
    "    shutil.move(os.path.join(source_dir, file_name), target_dir)\n",
    "    \n"
   ]
  },
  {
   "cell_type": "code",
   "execution_count": null,
   "metadata": {},
   "outputs": [],
   "source": [
    "#8. move certvical train malignant squamous_carcinoma files\n",
    "cervical_train_malignant_squamous_carcinoma_df =  cervical[(cervical['train/valid/test']=='train') & (cervical['subCategory']=='squamous_carcinoma')]  \n",
    "cervical_train_malignant_squamous_carcinoma_df_filenames = cervical_train_malignant_squamous_carcinoma_df['Image Filename']\n",
    "#move files\n",
    "source_dir = 'iCAIRD'\n",
    "target_dir = 'data/cervical/raw/training/malignant/squamous_carcinoma'\n",
    "for file_name in cervical_train_malignant_squamous_carcinoma_df_filenames:\n",
    "    shutil.move(os.path.join(source_dir, file_name), target_dir)\n",
    "    \n"
   ]
  },
  {
   "cell_type": "code",
   "execution_count": null,
   "metadata": {},
   "outputs": [],
   "source": [
    "#9. move certvical train normal_inflammation files\n",
    "cervical_train_normal_inflammation_df =  cervical[(cervical['train/valid/test']=='train') & (cervical['subCategory']=='normal_inflammation')]  \n",
    "cervical_train_normal_inflammation_df_filenames = cervical_train_normal_inflammation_df['Image Filename']\n",
    "#move files\n",
    "source_dir = 'iCAIRD'\n",
    "target_dir = 'data/cervical/raw/training/normal_inflammation'\n",
    "for file_name in cervical_train_normal_inflammation_df_filenames:\n",
    "    shutil.move(os.path.join(source_dir, file_name), target_dir)"
   ]
  },
  {
   "cell_type": "code",
   "execution_count": null,
   "metadata": {},
   "outputs": [],
   "source": [
    "#1. move certvical test low_grade hpv files\n",
    "cervical_test_low_grade_hpv_df =  cervical[(cervical['train/valid/test']=='test') & (cervical['subCategory']=='hpv')]  \n",
    "cervical_test_low_grade_hpv_df_filenames = cervical_test_low_grade_hpv_df['Image Filename']\n",
    "source_dir = 'iCAIRD'\n",
    "target_dir = 'data/cervical/raw/testing/low_grade/hpv'\n",
    "        \n",
    "for file_name in cervical_test_low_grade_hpv_df_filenames:\n",
    "    shutil.move(os.path.join(source_dir, file_name), target_dir)\n"
   ]
  },
  {
   "cell_type": "code",
   "execution_count": null,
   "metadata": {},
   "outputs": [],
   "source": [
    "#2. move  certvical test low_grade cin1 files\n",
    "cervical_test_low_grade_cin1_df =  cervical[(cervical['test/valid/test']=='test') & (cervical['subCategory']=='cin1')]  \n",
    "cervical_test_low_grade_cin1_df_filenames = cervical_test_low_grade_cin1_df['Image Filename']\n",
    "#move files\n",
    "source_dir = 'iCAIRD'\n",
    "target_dir = 'data/cervical/raw/testing/low_grade/cin1'\n",
    "for file_name in cervical_test_low_grade_cin1_df_filenames:\n",
    "    print(file_name)\n",
    "    shutil.move(os.path.join(source_dir, file_name), target_dir)"
   ]
  },
  {
   "cell_type": "code",
   "execution_count": null,
   "metadata": {},
   "outputs": [],
   "source": [
    "#3. move certvical test high_grade cin2 files\n",
    "cervical_test_high_grade_cin2_df =  cervical[(cervical['test/valid/test']=='test') & (cervical['subCategory']=='cin2')]  \n",
    "cervical_test_high_grade_cin2_df_filenames = cervical_test_high_grade_cin2_df['Image Filename']\n",
    "#move files\n",
    "source_dir = 'iCAIRD'\n",
    "target_dir = 'data/cervical/raw/testing/high_grade/cin2'\n",
    "for file_name in cervical_test_high_grade_cin2_df_filenames:\n",
    "    shutil.move(os.path.join(source_dir, file_name), target_dir)\n",
    "    \n"
   ]
  },
  {
   "cell_type": "code",
   "execution_count": null,
   "metadata": {},
   "outputs": [],
   "source": [
    "#4. move certvical test high_grade cin3 files\n",
    "cervical_test_high_grade_cin3_df =  cervical[(cervical['test/valid/test']=='test') & (cervical['subCategory']=='cin3')]  \n",
    "cervical_test_high_grade_cin3_df_filenames = cervical_test_high_grade_cin3_df['Image Filename']\n",
    "#move files\n",
    "source_dir = 'iCAIRD'\n",
    "target_dir = 'data/cervical/raw/testing/high_grade/cin3'\n",
    "for file_name in cervical_test_high_grade_cin3_df_filenames:\n",
    "    shutil.move(os.path.join(source_dir, file_name), target_dir)\n",
    "    "
   ]
  },
  {
   "cell_type": "code",
   "execution_count": null,
   "metadata": {},
   "outputs": [],
   "source": [
    "#5. move certvical test malignant other files\n",
    "cervical_test_malignant_other_df =  cervical[(cervical['test/valid/test']=='test') & (cervical['subCategory']=='other')]  \n",
    "cervical_test_malignant_other_df_filenames = cervical_test_malignant_other_df['Image Filename']\n",
    "#move files\n",
    "source_dir = 'iCAIRD'\n",
    "target_dir = 'data/cervical/raw/testing/malignant/other'\n",
    "for file_name in cervical_test_malignant_other_df_filenames:\n",
    "    shutil.move(os.path.join(source_dir, file_name), target_dir)\n",
    "\n"
   ]
  },
  {
   "cell_type": "code",
   "execution_count": null,
   "metadata": {},
   "outputs": [],
   "source": [
    "#6. move certvical test malignant cgin files\n",
    "cervical_test_malignant_cgin_df =  cervical[(cervical['test/valid/test']=='test') & (cervical['subCategory']=='cgin')]  \n",
    "cervical_test_malignant_cginr_df_filenames = cervical_test_malignant_cgin_df['Image Filename']\n",
    "#move files\n",
    "source_dir = 'iCAIRD'\n",
    "target_dir = 'data/cervical/raw/testing/malignant/cgin'\n",
    "for file_name in cervical_test_malignant_cgin_df_filenames:\n",
    "    shutil.move(os.path.join(source_dir, file_name), target_dir)\n",
    "    "
   ]
  },
  {
   "cell_type": "code",
   "execution_count": null,
   "metadata": {},
   "outputs": [],
   "source": [
    "#7. move certvical test malignant adenocarcinoma files\n",
    "cervical_test_malignant_adeno_df =  cervical[(cervical['test/valid/test']=='test') & (cervical['subCategory']=='adenocarcinoma')]  \n",
    "cervical_test_malignant_adeno_df_filenames = cervical_test_malignant_adeno_df['Image Filename']\n",
    "#move files\n",
    "source_dir = 'iCAIRD'\n",
    "target_dir = 'data/cervical/raw/testing/malignant/adenocarcinoma'\n",
    "for file_name in cervical_test_malignant_adeno_df_filenames:\n",
    "    shutil.move(os.path.join(source_dir, file_name), target_dir)\n",
    "    "
   ]
  },
  {
   "cell_type": "code",
   "execution_count": null,
   "metadata": {},
   "outputs": [],
   "source": [
    "#8. move certvical test malignant squamous_carcinoma files\n",
    "cervical_test_malignant_squamous_carcinoma_df =  cervical[(cervical['test/valid/test']=='test') & (cervical['subCategory']=='squamous_carcinoma')]  \n",
    "cervical_test_malignant_squamous_carcinoma_df_filenames = cervical_test_malignant_squamous_carcinoma_df['Image Filename']\n",
    "#move files\n",
    "source_dir = 'iCAIRD'\n",
    "target_dir = 'data/cervical/raw/testing/malignant/squamous_carcinoma'\n",
    "for file_name in cervical_test_malignant_squamous_carcinoma_df_filenames:\n",
    "    shutil.move(os.path.join(source_dir, file_name), target_dir)\n",
    "    "
   ]
  },
  {
   "cell_type": "code",
   "execution_count": null,
   "metadata": {},
   "outputs": [],
   "source": [
    "#9. move certvical test normal_inflammation files\n",
    "cervical_test_normal_inflammation_df =  cervical[(cervical['test/valid/test']=='test') & (cervical['subCategory']=='normal_inflammation')]  \n",
    "cervical_test_normal_inflammation_df_filenames = cervical_test_normal_inflammation_df['Image Filename']\n",
    "#move files\n",
    "source_dir = 'iCAIRD'\n",
    "target_dir = 'data/cervical/raw/testing/normal_inflammation'\n",
    "for file_name in cervical_test_normal_inflammation_df_filenames:\n",
    "    shutil.move(os.path.join(source_dir, file_name), target_dir)"
   ]
  }
 ],
 "metadata": {
  "kernelspec": {
   "display_name": "repath",
   "language": "python",
   "name": "repath"
  },
  "language_info": {
   "codemirror_mode": {
    "name": "ipython",
    "version": 3
   },
   "file_extension": ".py",
   "mimetype": "text/x-python",
   "name": "python",
   "nbconvert_exporter": "python",
   "pygments_lexer": "ipython3",
   "version": "3.6.12"
  }
 },
 "nbformat": 4,
 "nbformat_minor": 4
}
