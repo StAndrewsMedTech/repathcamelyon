{
 "cells": [
  {
   "cell_type": "code",
   "execution_count": 1,
   "metadata": {},
   "outputs": [
    {
     "name": "stdout",
     "output_type": "stream",
     "text": [
      "indexing IC-CX-00001-01.isyntax\n",
      "indexing IC-CX-00002-01.isyntax\n",
      "indexing IC-CX-00004-01.isyntax\n",
      "indexing IC-CX-00005-01.isyntax\n",
      "indexing IC-CX-00006-02.isyntax\n",
      "indexing IC-CX-00008-01.isyntax\n",
      "indexing IC-CX-00010-01.isyntax\n",
      "indexing IC-CX-00014-01.isyntax\n",
      "indexing IC-CX-00020-01.isyntax\n",
      "indexing IC-EN-02079-01.isyntax\n",
      "indexing IC-EN-02081-01.isyntax\n",
      "indexing IC-EN-02084-01.isyntax\n",
      "indexing IC-EN-02086-01.isyntax\n",
      "indexing IC-EN-02089-01.isyntax\n",
      "indexing IC-EN-02092-01.isyntax\n",
      "indexing IC-EN-02095-01.isyntax\n",
      "Saving /home/ubuntu/repath/experiments/tissue/Greyscale/truth/images/IC-CX-00001-01.csv\n",
      "Saving /home/ubuntu/repath/experiments/tissue/Greyscale/truth/images/IC-CX-00002-01.csv\n",
      "Saving /home/ubuntu/repath/experiments/tissue/Greyscale/truth/images/IC-CX-00004-01.csv\n",
      "Saving /home/ubuntu/repath/experiments/tissue/Greyscale/truth/images/IC-CX-00005-01.csv\n",
      "Saving /home/ubuntu/repath/experiments/tissue/Greyscale/truth/images/IC-CX-00006-02.csv\n",
      "Saving /home/ubuntu/repath/experiments/tissue/Greyscale/truth/images/IC-CX-00008-01.csv\n",
      "Saving /home/ubuntu/repath/experiments/tissue/Greyscale/truth/images/IC-CX-00010-01.csv\n",
      "Saving /home/ubuntu/repath/experiments/tissue/Greyscale/truth/images/IC-CX-00014-01.csv\n",
      "Saving /home/ubuntu/repath/experiments/tissue/Greyscale/truth/images/IC-CX-00020-01.csv\n",
      "Saving /home/ubuntu/repath/experiments/tissue/Greyscale/truth/images/IC-EN-02079-01.csv\n",
      "Saving /home/ubuntu/repath/experiments/tissue/Greyscale/truth/images/IC-EN-02081-01.csv\n",
      "Saving /home/ubuntu/repath/experiments/tissue/Greyscale/truth/images/IC-EN-02084-01.csv\n",
      "Saving /home/ubuntu/repath/experiments/tissue/Greyscale/truth/images/IC-EN-02086-01.csv\n",
      "Saving /home/ubuntu/repath/experiments/tissue/Greyscale/truth/images/IC-EN-02089-01.csv\n",
      "Saving /home/ubuntu/repath/experiments/tissue/Greyscale/truth/images/IC-EN-02092-01.csv\n",
      "Saving /home/ubuntu/repath/experiments/tissue/Greyscale/truth/images/IC-EN-02095-01.csv\n",
      "indexing IC-CX-00001-01.isyntax\n",
      "indexing IC-CX-00002-01.isyntax\n",
      "indexing IC-CX-00004-01.isyntax\n",
      "indexing IC-CX-00005-01.isyntax\n",
      "indexing IC-CX-00006-02.isyntax\n",
      "indexing IC-CX-00008-01.isyntax\n",
      "indexing IC-CX-00010-01.isyntax\n",
      "indexing IC-CX-00014-01.isyntax\n",
      "indexing IC-CX-00020-01.isyntax\n",
      "indexing IC-EN-02079-01.isyntax\n",
      "indexing IC-EN-02081-01.isyntax\n",
      "indexing IC-EN-02084-01.isyntax\n",
      "indexing IC-EN-02086-01.isyntax\n",
      "indexing IC-EN-02089-01.isyntax\n",
      "indexing IC-EN-02092-01.isyntax\n",
      "indexing IC-EN-02095-01.isyntax\n",
      "Saving /home/ubuntu/repath/experiments/tissue/Greyscale/tissue_detection/images/IC-CX-00001-01.csv\n",
      "Saving /home/ubuntu/repath/experiments/tissue/Greyscale/tissue_detection/images/IC-CX-00002-01.csv\n",
      "Saving /home/ubuntu/repath/experiments/tissue/Greyscale/tissue_detection/images/IC-CX-00004-01.csv\n",
      "Saving /home/ubuntu/repath/experiments/tissue/Greyscale/tissue_detection/images/IC-CX-00005-01.csv\n",
      "Saving /home/ubuntu/repath/experiments/tissue/Greyscale/tissue_detection/images/IC-CX-00006-02.csv\n",
      "Saving /home/ubuntu/repath/experiments/tissue/Greyscale/tissue_detection/images/IC-CX-00008-01.csv\n",
      "Saving /home/ubuntu/repath/experiments/tissue/Greyscale/tissue_detection/images/IC-CX-00010-01.csv\n",
      "Saving /home/ubuntu/repath/experiments/tissue/Greyscale/tissue_detection/images/IC-CX-00014-01.csv\n",
      "Saving /home/ubuntu/repath/experiments/tissue/Greyscale/tissue_detection/images/IC-CX-00020-01.csv\n",
      "Saving /home/ubuntu/repath/experiments/tissue/Greyscale/tissue_detection/images/IC-EN-02079-01.csv\n",
      "Saving /home/ubuntu/repath/experiments/tissue/Greyscale/tissue_detection/images/IC-EN-02081-01.csv\n",
      "Saving /home/ubuntu/repath/experiments/tissue/Greyscale/tissue_detection/images/IC-EN-02084-01.csv\n",
      "Saving /home/ubuntu/repath/experiments/tissue/Greyscale/tissue_detection/images/IC-EN-02086-01.csv\n",
      "Saving /home/ubuntu/repath/experiments/tissue/Greyscale/tissue_detection/images/IC-EN-02089-01.csv\n",
      "Saving /home/ubuntu/repath/experiments/tissue/Greyscale/tissue_detection/images/IC-EN-02092-01.csv\n",
      "Saving /home/ubuntu/repath/experiments/tissue/Greyscale/tissue_detection/images/IC-EN-02095-01.csv\n",
      "Accuracy: 0.92617, Recall: 0.70253, Precision: 0.96789\n",
      "TP: 677855, FP: 22490, FN: 287023, TN: 3204637\n",
      "images/IC-CX-00001-01.isyntax\n",
      "images/IC-CX-00002-01.isyntax\n",
      "images/IC-CX-00004-01.isyntax\n",
      "images/IC-CX-00005-01.isyntax\n",
      "images/IC-CX-00006-02.isyntax\n",
      "images/IC-CX-00008-01.isyntax\n",
      "images/IC-CX-00010-01.isyntax\n",
      "images/IC-CX-00014-01.isyntax\n",
      "images/IC-CX-00020-01.isyntax\n",
      "images/IC-EN-02079-01.isyntax\n",
      "images/IC-EN-02081-01.isyntax\n",
      "images/IC-EN-02084-01.isyntax\n",
      "images/IC-EN-02086-01.isyntax\n",
      "images/IC-EN-02089-01.isyntax\n",
      "images/IC-EN-02092-01.isyntax\n",
      "images/IC-EN-02095-01.isyntax\n"
     ]
    },
    {
     "data": {
      "image/png": "[encoded data removed]",
      "text/plain": [
       "<Figure size 576x576 with 1 Axes>"
      ]
     },
     "metadata": {
      "needs_background": "light"
     },
     "output_type": "display_data"
    }
   ],
   "source": [
    "from repath.experiments.tissuedet import *\n",
    "\n",
    "greyscale()"
   ]
  },
  {
   "cell_type": "code",
   "execution_count": 2,
   "metadata": {},
   "outputs": [
    {
     "name": "stdout",
     "output_type": "stream",
     "text": [
      "indexing IC-CX-00001-01.isyntax\n",
      "indexing IC-CX-00002-01.isyntax\n",
      "indexing IC-CX-00004-01.isyntax\n",
      "indexing IC-CX-00005-01.isyntax\n",
      "indexing IC-CX-00006-02.isyntax\n",
      "indexing IC-CX-00008-01.isyntax\n",
      "indexing IC-CX-00010-01.isyntax\n",
      "indexing IC-CX-00014-01.isyntax\n",
      "indexing IC-CX-00020-01.isyntax\n",
      "indexing IC-EN-02079-01.isyntax\n",
      "indexing IC-EN-02081-01.isyntax\n",
      "indexing IC-EN-02084-01.isyntax\n",
      "indexing IC-EN-02086-01.isyntax\n",
      "indexing IC-EN-02089-01.isyntax\n",
      "indexing IC-EN-02092-01.isyntax\n",
      "indexing IC-EN-02095-01.isyntax\n",
      "Saving /home/ubuntu/repath/experiments/tissue/Otsu/truth/images/IC-CX-00001-01.csv\n",
      "Saving /home/ubuntu/repath/experiments/tissue/Otsu/truth/images/IC-CX-00002-01.csv\n",
      "Saving /home/ubuntu/repath/experiments/tissue/Otsu/truth/images/IC-CX-00004-01.csv\n",
      "Saving /home/ubuntu/repath/experiments/tissue/Otsu/truth/images/IC-CX-00005-01.csv\n",
      "Saving /home/ubuntu/repath/experiments/tissue/Otsu/truth/images/IC-CX-00006-02.csv\n",
      "Saving /home/ubuntu/repath/experiments/tissue/Otsu/truth/images/IC-CX-00008-01.csv\n",
      "Saving /home/ubuntu/repath/experiments/tissue/Otsu/truth/images/IC-CX-00010-01.csv\n",
      "Saving /home/ubuntu/repath/experiments/tissue/Otsu/truth/images/IC-CX-00014-01.csv\n",
      "Saving /home/ubuntu/repath/experiments/tissue/Otsu/truth/images/IC-CX-00020-01.csv\n",
      "Saving /home/ubuntu/repath/experiments/tissue/Otsu/truth/images/IC-EN-02079-01.csv\n",
      "Saving /home/ubuntu/repath/experiments/tissue/Otsu/truth/images/IC-EN-02081-01.csv\n",
      "Saving /home/ubuntu/repath/experiments/tissue/Otsu/truth/images/IC-EN-02084-01.csv\n",
      "Saving /home/ubuntu/repath/experiments/tissue/Otsu/truth/images/IC-EN-02086-01.csv\n",
      "Saving /home/ubuntu/repath/experiments/tissue/Otsu/truth/images/IC-EN-02089-01.csv\n",
      "Saving /home/ubuntu/repath/experiments/tissue/Otsu/truth/images/IC-EN-02092-01.csv\n",
      "Saving /home/ubuntu/repath/experiments/tissue/Otsu/truth/images/IC-EN-02095-01.csv\n",
      "indexing IC-CX-00001-01.isyntax\n",
      "indexing IC-CX-00002-01.isyntax\n",
      "indexing IC-CX-00004-01.isyntax\n",
      "indexing IC-CX-00005-01.isyntax\n",
      "indexing IC-CX-00006-02.isyntax\n",
      "indexing IC-CX-00008-01.isyntax\n",
      "indexing IC-CX-00010-01.isyntax\n",
      "indexing IC-CX-00014-01.isyntax\n",
      "indexing IC-CX-00020-01.isyntax\n",
      "indexing IC-EN-02079-01.isyntax\n",
      "indexing IC-EN-02081-01.isyntax\n",
      "indexing IC-EN-02084-01.isyntax\n",
      "indexing IC-EN-02086-01.isyntax\n",
      "indexing IC-EN-02089-01.isyntax\n",
      "indexing IC-EN-02092-01.isyntax\n",
      "indexing IC-EN-02095-01.isyntax\n",
      "Saving /home/ubuntu/repath/experiments/tissue/Otsu/tissue_detection/images/IC-CX-00001-01.csv\n",
      "Saving /home/ubuntu/repath/experiments/tissue/Otsu/tissue_detection/images/IC-CX-00002-01.csv\n",
      "Saving /home/ubuntu/repath/experiments/tissue/Otsu/tissue_detection/images/IC-CX-00004-01.csv\n",
      "Saving /home/ubuntu/repath/experiments/tissue/Otsu/tissue_detection/images/IC-CX-00005-01.csv\n",
      "Saving /home/ubuntu/repath/experiments/tissue/Otsu/tissue_detection/images/IC-CX-00006-02.csv\n",
      "Saving /home/ubuntu/repath/experiments/tissue/Otsu/tissue_detection/images/IC-CX-00008-01.csv\n",
      "Saving /home/ubuntu/repath/experiments/tissue/Otsu/tissue_detection/images/IC-CX-00010-01.csv\n",
      "Saving /home/ubuntu/repath/experiments/tissue/Otsu/tissue_detection/images/IC-CX-00014-01.csv\n",
      "Saving /home/ubuntu/repath/experiments/tissue/Otsu/tissue_detection/images/IC-CX-00020-01.csv\n",
      "Saving /home/ubuntu/repath/experiments/tissue/Otsu/tissue_detection/images/IC-EN-02079-01.csv\n",
      "Saving /home/ubuntu/repath/experiments/tissue/Otsu/tissue_detection/images/IC-EN-02081-01.csv\n",
      "Saving /home/ubuntu/repath/experiments/tissue/Otsu/tissue_detection/images/IC-EN-02084-01.csv\n",
      "Saving /home/ubuntu/repath/experiments/tissue/Otsu/tissue_detection/images/IC-EN-02086-01.csv\n",
      "Saving /home/ubuntu/repath/experiments/tissue/Otsu/tissue_detection/images/IC-EN-02089-01.csv\n"
     ]
    },
    {
     "ename": "KeyboardInterrupt",
     "evalue": "",
     "output_type": "error",
     "traceback": [
      "\u001b[0;31m---------------------------------------------------------------------------\u001b[0m",
      "\u001b[0;31mKeyboardInterrupt\u001b[0m                         Traceback (most recent call last)",
      "\u001b[0;32m<ipython-input-2-d04e475b2ab7>\u001b[0m in \u001b[0;36m<module>\u001b[0;34m\u001b[0m\n\u001b[0;32m----> 1\u001b[0;31m \u001b[0motsu\u001b[0m\u001b[0;34m(\u001b[0m\u001b[0;34m)\u001b[0m\u001b[0;34m\u001b[0m\u001b[0;34m\u001b[0m\u001b[0m\n\u001b[0m",
      "\u001b[0;32m~/repath/repath/experiments/tissuedet.py\u001b[0m in \u001b[0;36motsu\u001b[0;34m()\u001b[0m\n\u001b[1;32m    170\u001b[0m \u001b[0;32mdef\u001b[0m \u001b[0motsu\u001b[0m\u001b[0;34m(\u001b[0m\u001b[0;34m)\u001b[0m \u001b[0;34m->\u001b[0m \u001b[0;32mNone\u001b[0m\u001b[0;34m:\u001b[0m\u001b[0;34m\u001b[0m\u001b[0;34m\u001b[0m\u001b[0m\n\u001b[1;32m    171\u001b[0m     \u001b[0mtissue_detector_test\u001b[0m \u001b[0;34m=\u001b[0m \u001b[0mTissueDetectorOTSU\u001b[0m\u001b[0;34m(\u001b[0m\u001b[0;34m)\u001b[0m\u001b[0;34m\u001b[0m\u001b[0;34m\u001b[0m\u001b[0m\n\u001b[0;32m--> 172\u001b[0;31m     \u001b[0mgeneric\u001b[0m\u001b[0;34m(\u001b[0m\u001b[0mtissue_detector_test\u001b[0m\u001b[0;34m,\u001b[0m \u001b[0;34m\"Otsu\"\u001b[0m\u001b[0;34m,\u001b[0m \u001b[0;36m7\u001b[0m\u001b[0;34m)\u001b[0m\u001b[0;34m\u001b[0m\u001b[0;34m\u001b[0m\u001b[0m\n\u001b[0m\u001b[1;32m    173\u001b[0m \u001b[0;34m\u001b[0m\u001b[0m\n\u001b[1;32m    174\u001b[0m \u001b[0;34m\u001b[0m\u001b[0m\n",
      "\u001b[0;32m~/repath/repath/experiments/tissuedet.py\u001b[0m in \u001b[0;36mgeneric\u001b[0;34m(tissue_detector_test, label, level_in)\u001b[0m\n\u001b[1;32m     38\u001b[0m     \u001b[0mtissue_patchsets_detected\u001b[0m \u001b[0;34m=\u001b[0m \u001b[0mSlidesIndex\u001b[0m\u001b[0;34m.\u001b[0m\u001b[0mindex_dataset_blank\u001b[0m\u001b[0;34m(\u001b[0m\u001b[0mtissue_dataset\u001b[0m\u001b[0;34m,\u001b[0m \u001b[0mtissue_detector_test\u001b[0m\u001b[0;34m,\u001b[0m \u001b[0mpatch_finder\u001b[0m\u001b[0;34m)\u001b[0m\u001b[0;34m\u001b[0m\u001b[0;34m\u001b[0m\u001b[0m\n\u001b[1;32m     39\u001b[0m     \u001b[0mdetection_dir\u001b[0m \u001b[0;34m=\u001b[0m \u001b[0mexperiment_root\u001b[0m \u001b[0;34m/\u001b[0m \u001b[0mlabel\u001b[0m \u001b[0;34m/\u001b[0m \u001b[0;34m'tissue_detection'\u001b[0m\u001b[0;34m\u001b[0m\u001b[0;34m\u001b[0m\u001b[0m\n\u001b[0;32m---> 40\u001b[0;31m     \u001b[0mtissue_patchsets_detected\u001b[0m\u001b[0;34m.\u001b[0m\u001b[0msave\u001b[0m\u001b[0;34m(\u001b[0m\u001b[0mdetection_dir\u001b[0m\u001b[0;34m)\u001b[0m\u001b[0;34m\u001b[0m\u001b[0;34m\u001b[0m\u001b[0m\n\u001b[0m\u001b[1;32m     41\u001b[0m     \u001b[0mtissue_patches_detected\u001b[0m \u001b[0;34m=\u001b[0m \u001b[0mCombinedIndex\u001b[0m\u001b[0;34m.\u001b[0m\u001b[0mfor_slide_indexes\u001b[0m\u001b[0;34m(\u001b[0m\u001b[0;34m[\u001b[0m\u001b[0mtissue_patchsets_detected\u001b[0m\u001b[0;34m]\u001b[0m\u001b[0;34m)\u001b[0m\u001b[0;34m\u001b[0m\u001b[0;34m\u001b[0m\u001b[0m\n\u001b[1;32m     42\u001b[0m \u001b[0;34m\u001b[0m\u001b[0m\n",
      "\u001b[0;32m~/repath/repath/preprocess/patching/patch_index.py\u001b[0m in \u001b[0;36msave\u001b[0;34m(self, output_dir)\u001b[0m\n\u001b[1;32m    360\u001b[0m             \u001b[0mcsv_path\u001b[0m\u001b[0;34m.\u001b[0m\u001b[0mparents\u001b[0m\u001b[0;34m[\u001b[0m\u001b[0;36m0\u001b[0m\u001b[0;34m]\u001b[0m\u001b[0;34m.\u001b[0m\u001b[0mmkdir\u001b[0m\u001b[0;34m(\u001b[0m\u001b[0mparents\u001b[0m\u001b[0;34m=\u001b[0m\u001b[0;32mTrue\u001b[0m\u001b[0;34m,\u001b[0m \u001b[0mexist_ok\u001b[0m\u001b[0;34m=\u001b[0m\u001b[0;32mTrue\u001b[0m\u001b[0;34m)\u001b[0m\u001b[0;34m\u001b[0m\u001b[0;34m\u001b[0m\u001b[0m\n\u001b[1;32m    361\u001b[0m             \u001b[0mprint\u001b[0m\u001b[0;34m(\u001b[0m\u001b[0;34mf\"Saving {csv_path}\"\u001b[0m\u001b[0;34m)\u001b[0m\u001b[0;34m\u001b[0m\u001b[0;34m\u001b[0m\u001b[0m\n\u001b[0;32m--> 362\u001b[0;31m             \u001b[0mps\u001b[0m\u001b[0;34m.\u001b[0m\u001b[0mpatches_df\u001b[0m\u001b[0;34m.\u001b[0m\u001b[0mto_csv\u001b[0m\u001b[0;34m(\u001b[0m\u001b[0mcsv_path\u001b[0m\u001b[0;34m,\u001b[0m \u001b[0mindex\u001b[0m\u001b[0;34m=\u001b[0m\u001b[0;32mFalse\u001b[0m\u001b[0;34m)\u001b[0m\u001b[0;34m\u001b[0m\u001b[0;34m\u001b[0m\u001b[0m\n\u001b[0m\u001b[1;32m    363\u001b[0m \u001b[0;34m\u001b[0m\u001b[0m\n\u001b[1;32m    364\u001b[0m             \u001b[0;31m# append information about slide to index\u001b[0m\u001b[0;34m\u001b[0m\u001b[0;34m\u001b[0m\u001b[0;34m\u001b[0m\u001b[0m\n",
      "\u001b[0;32m~/anaconda3/envs/repath/lib/python3.6/site-packages/pandas/core/generic.py\u001b[0m in \u001b[0;36mto_csv\u001b[0;34m(self, path_or_buf, sep, na_rep, float_format, columns, header, index, index_label, mode, encoding, compression, quoting, quotechar, line_terminator, chunksize, date_format, doublequote, escapechar, decimal, errors)\u001b[0m\n\u001b[1;32m   3168\u001b[0m             \u001b[0mdecimal\u001b[0m\u001b[0;34m=\u001b[0m\u001b[0mdecimal\u001b[0m\u001b[0;34m,\u001b[0m\u001b[0;34m\u001b[0m\u001b[0;34m\u001b[0m\u001b[0m\n\u001b[1;32m   3169\u001b[0m         )\n\u001b[0;32m-> 3170\u001b[0;31m         \u001b[0mformatter\u001b[0m\u001b[0;34m.\u001b[0m\u001b[0msave\u001b[0m\u001b[0;34m(\u001b[0m\u001b[0;34m)\u001b[0m\u001b[0;34m\u001b[0m\u001b[0;34m\u001b[0m\u001b[0m\n\u001b[0m\u001b[1;32m   3171\u001b[0m \u001b[0;34m\u001b[0m\u001b[0m\n\u001b[1;32m   3172\u001b[0m         \u001b[0;32mif\u001b[0m \u001b[0mpath_or_buf\u001b[0m \u001b[0;32mis\u001b[0m \u001b[0;32mNone\u001b[0m\u001b[0;34m:\u001b[0m\u001b[0;34m\u001b[0m\u001b[0;34m\u001b[0m\u001b[0m\n",
      "\u001b[0;32m~/anaconda3/envs/repath/lib/python3.6/site-packages/pandas/io/formats/csvs.py\u001b[0m in \u001b[0;36msave\u001b[0;34m(self)\u001b[0m\n\u001b[1;32m    204\u001b[0m             )\n\u001b[1;32m    205\u001b[0m \u001b[0;34m\u001b[0m\u001b[0m\n\u001b[0;32m--> 206\u001b[0;31m             \u001b[0mself\u001b[0m\u001b[0;34m.\u001b[0m\u001b[0m_save\u001b[0m\u001b[0;34m(\u001b[0m\u001b[0;34m)\u001b[0m\u001b[0;34m\u001b[0m\u001b[0;34m\u001b[0m\u001b[0m\n\u001b[0m\u001b[1;32m    207\u001b[0m \u001b[0;34m\u001b[0m\u001b[0m\n\u001b[1;32m    208\u001b[0m         \u001b[0;32mfinally\u001b[0m\u001b[0;34m:\u001b[0m\u001b[0;34m\u001b[0m\u001b[0;34m\u001b[0m\u001b[0m\n",
      "\u001b[0;32m~/anaconda3/envs/repath/lib/python3.6/site-packages/pandas/io/formats/csvs.py\u001b[0m in \u001b[0;36m_save\u001b[0;34m(self)\u001b[0m\n\u001b[1;32m    326\u001b[0m                 \u001b[0;32mbreak\u001b[0m\u001b[0;34m\u001b[0m\u001b[0;34m\u001b[0m\u001b[0m\n\u001b[1;32m    327\u001b[0m \u001b[0;34m\u001b[0m\u001b[0m\n\u001b[0;32m--> 328\u001b[0;31m             \u001b[0mself\u001b[0m\u001b[0;34m.\u001b[0m\u001b[0m_save_chunk\u001b[0m\u001b[0;34m(\u001b[0m\u001b[0mstart_i\u001b[0m\u001b[0;34m,\u001b[0m \u001b[0mend_i\u001b[0m\u001b[0;34m)\u001b[0m\u001b[0;34m\u001b[0m\u001b[0;34m\u001b[0m\u001b[0m\n\u001b[0m\u001b[1;32m    329\u001b[0m \u001b[0;34m\u001b[0m\u001b[0m\n\u001b[1;32m    330\u001b[0m     \u001b[0;32mdef\u001b[0m \u001b[0m_save_chunk\u001b[0m\u001b[0;34m(\u001b[0m\u001b[0mself\u001b[0m\u001b[0;34m,\u001b[0m \u001b[0mstart_i\u001b[0m\u001b[0;34m:\u001b[0m \u001b[0mint\u001b[0m\u001b[0;34m,\u001b[0m \u001b[0mend_i\u001b[0m\u001b[0;34m:\u001b[0m \u001b[0mint\u001b[0m\u001b[0;34m)\u001b[0m \u001b[0;34m->\u001b[0m \u001b[0;32mNone\u001b[0m\u001b[0;34m:\u001b[0m\u001b[0;34m\u001b[0m\u001b[0;34m\u001b[0m\u001b[0m\n",
      "\u001b[0;32m~/anaconda3/envs/repath/lib/python3.6/site-packages/pandas/io/formats/csvs.py\u001b[0m in \u001b[0;36m_save_chunk\u001b[0;34m(self, start_i, end_i)\u001b[0m\n\u001b[1;32m    360\u001b[0m         )\n\u001b[1;32m    361\u001b[0m \u001b[0;34m\u001b[0m\u001b[0m\n\u001b[0;32m--> 362\u001b[0;31m         \u001b[0mlibwriters\u001b[0m\u001b[0;34m.\u001b[0m\u001b[0mwrite_csv_rows\u001b[0m\u001b[0;34m(\u001b[0m\u001b[0mself\u001b[0m\u001b[0;34m.\u001b[0m\u001b[0mdata\u001b[0m\u001b[0;34m,\u001b[0m \u001b[0mix\u001b[0m\u001b[0;34m,\u001b[0m \u001b[0mself\u001b[0m\u001b[0;34m.\u001b[0m\u001b[0mnlevels\u001b[0m\u001b[0;34m,\u001b[0m \u001b[0mself\u001b[0m\u001b[0;34m.\u001b[0m\u001b[0mcols\u001b[0m\u001b[0;34m,\u001b[0m \u001b[0mself\u001b[0m\u001b[0;34m.\u001b[0m\u001b[0mwriter\u001b[0m\u001b[0;34m)\u001b[0m\u001b[0;34m\u001b[0m\u001b[0;34m\u001b[0m\u001b[0m\n\u001b[0m",
      "\u001b[0;32mpandas/_libs/writers.pyx\u001b[0m in \u001b[0;36mpandas._libs.writers.write_csv_rows\u001b[0;34m()\u001b[0m\n",
      "\u001b[0;31mKeyboardInterrupt\u001b[0m: "
     ]
    }
   ],
   "source": [
    "otsu()"
   ]
  },
  {
   "cell_type": "code",
   "execution_count": null,
   "metadata": {},
   "outputs": [],
   "source": [
    "from repath.experiments.tissuedet import *\n",
    "\n",
    "greyscale_closing()"
   ]
  },
  {
   "cell_type": "code",
   "execution_count": null,
   "metadata": {},
   "outputs": [],
   "source": []
  },
  {
   "cell_type": "code",
   "execution_count": null,
   "metadata": {},
   "outputs": [],
   "source": [
    "import repath.data.datasets.tissue as tissue\n",
    "from repath.preprocess.patching import GridPatchFinder, SlidesIndex, CombinedIndex\n",
    "from repath.preprocess.tissue_detection import TissueDetector, TissueDetectorGreyScale, TissueDetectorAll, TissueDetectorOTSU\n",
    "from repath.utils.metrics import conf_mat_plot_heatmap\n",
    "from repath.utils.paths import project_root\n",
    "from repath.utils.seeds import set_seed\n",
    "\n",
    "\"\"\"\n",
    "Global stuff\n",
    "\"\"\"\n",
    "experiment_name = \"tissue\"\n",
    "experiment_root = project_root() / \"experiments\" / experiment_name\n",
    "\n",
    "global_seed = 123"
   ]
  },
  {
   "cell_type": "code",
   "execution_count": null,
   "metadata": {},
   "outputs": [],
   "source": [
    "set_seed(global_seed)\n",
    "tissue_dataset = tissue.tissue()\n",
    "\n"
   ]
  },
  {
   "cell_type": "code",
   "execution_count": null,
   "metadata": {},
   "outputs": [],
   "source": [
    "tissue_dataset[0]"
   ]
  },
  {
   "cell_type": "code",
   "execution_count": null,
   "metadata": {},
   "outputs": [],
   "source": [
    "slide_path = tissue_dataset[0][0]\n",
    "slide_path"
   ]
  },
  {
   "cell_type": "code",
   "execution_count": null,
   "metadata": {},
   "outputs": [],
   "source": [
    "from repath.data.slides.isyntax import Slide\n",
    "\n",
    "with Slide(slide_path, 0) as slide:\n",
    "    thumb = slide.get_thumbnail(7)"
   ]
  },
  {
   "cell_type": "code",
   "execution_count": null,
   "metadata": {},
   "outputs": [],
   "source": [
    "from PIL import Image\n",
    "Image.fromarray(thumb)"
   ]
  },
  {
   "cell_type": "code",
   "execution_count": null,
   "metadata": {},
   "outputs": [],
   "source": []
  },
  {
   "cell_type": "code",
   "execution_count": null,
   "metadata": {},
   "outputs": [],
   "source": [
    "annotation_path = tissue_dataset[0][1]\n",
    "annotation_path"
   ]
  },
  {
   "cell_type": "code",
   "execution_count": null,
   "metadata": {},
   "outputs": [],
   "source": [
    "import numpy as np\n",
    "from repath.utils.convert import np_to_pil\n",
    "\n",
    "annotations = tissue_dataset.load_annotations(annotation_path).render((thumb.shape[0], thumb.shape[1]), 2**7)\n",
    "\n",
    "Image.fromarray(np.array(annotations*255, dtype=np.uint8))"
   ]
  },
  {
   "cell_type": "code",
   "execution_count": null,
   "metadata": {},
   "outputs": [],
   "source": [
    "annot_mask = np.array(annotations, dtype=np.bool)\n",
    "annot_mask = np.expand_dims(annot_mask, axis=-1)\n",
    "thumb_masked = np.where(annot_mask, thumb, 0)\n",
    "thumb_inverse = np.where(np.logical_not(annot_mask), thumb, 0)"
   ]
  },
  {
   "cell_type": "code",
   "execution_count": null,
   "metadata": {},
   "outputs": [],
   "source": [
    "Image.fromarray(thumb_masked)"
   ]
  },
  {
   "cell_type": "code",
   "execution_count": null,
   "metadata": {},
   "outputs": [],
   "source": [
    "Image.fromarray(thumb_inverse)"
   ]
  },
  {
   "cell_type": "code",
   "execution_count": null,
   "metadata": {},
   "outputs": [],
   "source": [
    "from repath.experiments.tissuedet import *\n",
    "\n",
    "greyscale()"
   ]
  },
  {
   "cell_type": "code",
   "execution_count": null,
   "metadata": {},
   "outputs": [],
   "source": [
    "base_dir = '/home/ubuntu/repath/experiments/tissue/Greyscale/'\n",
    "truth_index = pd.read_csv(base_dir + 'truth/index.csv')\n",
    "detection_index = pd.read_csv(base_dir + 'tissue_detection/index.csv')\n",
    "detection_index"
   ]
  },
  {
   "cell_type": "code",
   "execution_count": null,
   "metadata": {},
   "outputs": [],
   "source": [
    "idx = 0"
   ]
  },
  {
   "cell_type": "code",
   "execution_count": null,
   "metadata": {},
   "outputs": [],
   "source": [
    "true_patches = pd.read_csv(truth_index.csv_path[idx])\n",
    "detected_patches = pd.read_csv(detection_index.csv_path[idx])\n",
    "patch_size = detection_index.patch_size[idx]"
   ]
  },
  {
   "cell_type": "code",
   "execution_count": null,
   "metadata": {},
   "outputs": [],
   "source": [
    "true_patches['col'] = true_patches.x.divide(patch_size)\n",
    "true_patches['row'] = true_patches.y.divide(patch_size)\n",
    "detected_patches['col'] = detected_patches.x.divide(patch_size)\n",
    "detected_patches['row'] = detected_patches.y.divide(patch_size)\n",
    "true_patches"
   ]
  },
  {
   "cell_type": "code",
   "execution_count": null,
   "metadata": {},
   "outputs": [],
   "source": [
    "def to_thumbnail_tissue(df_in, col_name: str) -> np.array:\n",
    "    max_rows = int(np.max(df_in.row)) + 1\n",
    "    max_cols = int(np.max(df_in.col)) + 1\n",
    "\n",
    "    # create a blank thumbnail\n",
    "    thumbnail_out = np.zeros((max_rows, max_cols))\n",
    "    df_out = df_in[df_in[col_name] > 0]\n",
    "\n",
    "    # for each row in dataframe set the value of the pixel specified by row and column to the probability in clazz\n",
    "    for rw in range(df_out.shape[0]):\n",
    "        df_row = df_out.iloc[rw]\n",
    "        thumbnail_out[int(df_row.row), int(df_row.col)] = df_row[col_name]\n",
    "\n",
    "    return thumbnail_out"
   ]
  },
  {
   "cell_type": "code",
   "execution_count": null,
   "metadata": {},
   "outputs": [],
   "source": [
    "\n",
    "\n",
    "    "
   ]
  },
  {
   "cell_type": "code",
   "execution_count": null,
   "metadata": {},
   "outputs": [],
   "source": [
    "tiss_np = np.array(to_thumbnail_tissue(true_patches, 'label'), dtype=bool)\n",
    "dets_np = np.array(to_thumbnail_tissue(detected_patches, 'label'), dtype=bool)\n",
    "Image.fromarray(np.array(dets_np*255, dtype=np.uint8))"
   ]
  },
  {
   "cell_type": "code",
   "execution_count": null,
   "metadata": {},
   "outputs": [],
   "source": [
    "tp_arr = np.expand_dims(np.logical_and(tiss_np, dets_np), axis=-1)\n",
    "fp_arr = np.expand_dims(np.logical_and(np.logical_not(tiss_np), dets_np), axis=-1)\n",
    "fn_arr = np.expand_dims(np.logical_and(np.logical_not(dets_np), tiss_np), axis=-1)\n",
    "tn_arr = np.expand_dims(np.logical_and(np.logical_not(tiss_np), np.logical_not(dets_np)), axis=-1)\n",
    "\n",
    "color_result = np.zeros((tiss_np.shape[0], tiss_np.shape[1], 3))\n",
    "color_result = np.where(tp_arr, [255, 255, 255], color_result)\n",
    "color_result = np.where(fp_arr, [0, 0, 255], color_result)\n",
    "color_result = np.where(fn_arr, [255, 0, 0], color_result)\n",
    "color_result = np.where(tn_arr, [0, 0, 0], color_result)\n",
    "Image.fromarray(np.array(color_result, dtype=np.uint8))"
   ]
  },
  {
   "cell_type": "code",
   "execution_count": null,
   "metadata": {},
   "outputs": [],
   "source": [
    "def colour_slide_output(true_path, detection_path, patch_size):\n",
    "    def to_thumbnail_tissue(df_in, col_name: str) -> np.array:\n",
    "        max_rows = int(np.max(df_in.row)) + 1\n",
    "        max_cols = int(np.max(df_in.col)) + 1\n",
    "\n",
    "        # create a blank thumbnail\n",
    "        thumbnail_out = np.zeros((max_rows, max_cols))\n",
    "        df_out = df_in[df_in[col_name] > 0]\n",
    "\n",
    "        # for each row in dataframe set the value of the pixel specified by row and column to the probability in clazz\n",
    "        for rw in range(df_out.shape[0]):\n",
    "            df_row = df_out.iloc[rw]\n",
    "            thumbnail_out[int(df_row.row), int(df_row.col)] = df_row[col_name]\n",
    "\n",
    "        return thumbnail_out\n",
    "    \n",
    "    true_patches = pd.read_csv(true_path)\n",
    "    detected_patches = pd.read_csv(detection_path)\n",
    "    \n",
    "    # change x y from zero level positions to pthumbnail level size\n",
    "    true_patches['col'] = true_patches.x.divide(patch_size)\n",
    "    true_patches['row'] = true_patches.y.divide(patch_size)\n",
    "    detected_patches['col'] = detected_patches.x.divide(patch_size)\n",
    "    detected_patches['row'] = detected_patches.y.divide(patch_size)\n",
    "    \n",
    "    # create thumbnails from the patch indexes\n",
    "    tiss_np = np.array(to_thumbnail_tissue(true_patches, 'label'), dtype=bool)\n",
    "    dets_np = np.array(to_thumbnail_tissue(detected_patches, 'label'), dtype=bool)\n",
    "    \n",
    "    # work out tp, fp etc arrays\n",
    "    tp_arr = np.expand_dims(np.logical_and(tiss_np, dets_np), axis=-1)\n",
    "    fp_arr = np.expand_dims(np.logical_and(np.logical_not(tiss_np), dets_np), axis=-1)\n",
    "    fn_arr = np.expand_dims(np.logical_and(np.logical_not(dets_np), tiss_np), axis=-1)\n",
    "    tn_arr = np.expand_dims(np.logical_and(np.logical_not(tiss_np), np.logical_not(dets_np)), axis=-1)\n",
    "    \n",
    "    # create a coloured ouput array\n",
    "    color_result = np.zeros((tiss_np.shape[0], tiss_np.shape[1], 3))\n",
    "    color_result = np.where(tp_arr, [255, 255, 255], color_result)\n",
    "    color_result = np.where(fp_arr, [0, 0, 255], color_result)\n",
    "    color_result = np.where(fn_arr, [255, 0, 0], color_result)\n",
    "    color_result = np.where(tn_arr, [0, 0, 0], color_result)\n",
    "    \n",
    "    return color_result"
   ]
  },
  {
   "cell_type": "code",
   "execution_count": null,
   "metadata": {},
   "outputs": [],
   "source": [
    "thums_out = []\n",
    "\n",
    "for idx in range(truth_index.shape[0]):\n",
    "    true_path = truth_index.csv_path[idx]\n",
    "    print(true_path)\n",
    "    detection_path = detection_index.csv_path[idx]\n",
    "    patch_size = detection_index.patch_size[idx]\n",
    "    colour_thumb = colour_slide_output(true_path, detection_path, patch_size)\n",
    "    thums_out.append(colour_thumb)"
   ]
  },
  {
   "cell_type": "code",
   "execution_count": null,
   "metadata": {},
   "outputs": [],
   "source": [
    "Image.fromarray(np.array(thums_out[15], dtype=np.uint8))"
   ]
  },
  {
   "cell_type": "code",
   "execution_count": null,
   "metadata": {},
   "outputs": [],
   "source": [
    "from pathlib import Path\n",
    "true_path = truth_index.csv_path[0]\n",
    "Path(true_path).stem"
   ]
  },
  {
   "cell_type": "code",
   "execution_count": null,
   "metadata": {},
   "outputs": [],
   "source": [
    "def get_output_arrays(true_path, detection_path, patch_size):\n",
    "    def to_thumbnail_tissue(df_in, col_name: str) -> np.array:\n",
    "        max_rows = int(np.max(df_in.row)) + 1\n",
    "        max_cols = int(np.max(df_in.col)) + 1\n",
    "\n",
    "        # create a blank thumbnail\n",
    "        thumbnail_out = np.zeros((max_rows, max_cols))\n",
    "        df_out = df_in[df_in[col_name] > 0]\n",
    "\n",
    "        # for each row in dataframe set the value of the pixel specified by row and column to the probability in clazz\n",
    "        for rw in range(df_out.shape[0]):\n",
    "            df_row = df_out.iloc[rw]\n",
    "            thumbnail_out[int(df_row.row), int(df_row.col)] = df_row[col_name]\n",
    "\n",
    "        return thumbnail_out\n",
    "    \n",
    "    true_patches = pd.read_csv(true_path)\n",
    "    detected_patches = pd.read_csv(detection_path)\n",
    "    \n",
    "    # change x y from zero level positions to pthumbnail level size\n",
    "    true_patches['col'] = true_patches.x.divide(patch_size)\n",
    "    true_patches['row'] = true_patches.y.divide(patch_size)\n",
    "    detected_patches['col'] = detected_patches.x.divide(patch_size)\n",
    "    detected_patches['row'] = detected_patches.y.divide(patch_size)\n",
    "    \n",
    "    # create thumbnails from the patch indexes\n",
    "    tiss_np = np.array(to_thumbnail_tissue(true_patches, 'label'), dtype=bool)\n",
    "    dets_np = np.array(to_thumbnail_tissue(detected_patches, 'label'), dtype=bool)\n",
    "    \n",
    "    # work out tp, fp etc arrays\n",
    "    tp_arr = np.expand_dims(np.logical_and(tiss_np, dets_np), axis=-1)\n",
    "    fp_arr = np.expand_dims(np.logical_and(np.logical_not(tiss_np), dets_np), axis=-1)\n",
    "    fn_arr = np.expand_dims(np.logical_and(np.logical_not(dets_np), tiss_np), axis=-1)\n",
    "    tn_arr = np.expand_dims(np.logical_and(np.logical_not(tiss_np), np.logical_not(dets_np)), axis=-1)\n",
    "      \n",
    "    return tn_arr, fp_arr, fn_arr, tp_arr"
   ]
  },
  {
   "cell_type": "code",
   "execution_count": null,
   "metadata": {},
   "outputs": [],
   "source": [
    "tn_arr, fp_arr, fn_arr, tp_arr = get_output_arrays(truth_index.csv_path[0], detection_index.csv_path[0], 128)\n",
    "\n",
    "color_result = np.zeros((fp_arr.shape[0], fp_arr.shape[1], 3))\n",
    "color_result = np.where(fp_arr, [0, 0, 1], color_result)\n",
    "color_result = np.where(fn_arr, [1, 0, 0], color_result)\n",
    "\n",
    "Image.fromarray(np.array(color_result*255, dtype=np.uint8))"
   ]
  },
  {
   "cell_type": "code",
   "execution_count": null,
   "metadata": {},
   "outputs": [],
   "source": [
    "image = thumb\n",
    "\n",
    "# change pure black to pure white\n",
    "imager = image[:, :, 0] == 0\n",
    "imageg = image[:, :, 1] == 0\n",
    "imageb = image[:, :, 2] == 0\n",
    "image_mask = np.expand_dims(np.logical_and(np.logical_and(imager, imageg), imageb), axis=-1)\n",
    "image = np.where(image_mask, [255,255,255], image)\n",
    "image = np.array(image, dtype=np.uint8)"
   ]
  },
  {
   "cell_type": "code",
   "execution_count": null,
   "metadata": {},
   "outputs": [],
   "source": [
    "thumb_hsv = color.rgb2hsv(image)\n",
    "\n",
    "\n",
    "color_mask_hsv = color.rgb2hsv(color_result)\n",
    "\n",
    "thumb_hsv[..., 0] = color_mask_hsv[..., 0]\n",
    "thumb_hsv[..., 1] += color_mask_hsv[..., 1] * 0.7\n",
    "\n",
    "img_masked = color.hsv2rgb(thumb_hsv)\n",
    "\n",
    "Image.fromarray(np.array(img_masked*255, dtype=np.uint8))"
   ]
  },
  {
   "cell_type": "code",
   "execution_count": null,
   "metadata": {},
   "outputs": [],
   "source": []
  }
 ],
 "metadata": {
  "kernelspec": {
   "display_name": "repath",
   "language": "python",
   "name": "repath"
  },
  "language_info": {
   "codemirror_mode": {
    "name": "ipython",
    "version": 3
   },
   "file_extension": ".py",
   "mimetype": "text/x-python",
   "name": "python",
   "nbconvert_exporter": "python",
   "pygments_lexer": "ipython3",
   "version": "3.6.9"
  }
 },
 "nbformat": 4,
 "nbformat_minor": 4
}
