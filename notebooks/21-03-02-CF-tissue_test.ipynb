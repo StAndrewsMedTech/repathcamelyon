{
 "cells": [
  {
   "cell_type": "code",
   "execution_count": 9,
   "metadata": {},
   "outputs": [
    {
     "name": "stdout",
     "output_type": "stream",
     "text": [
      "indexing IC-CX-00001-01.isyntax\n",
      "indexing IC-CX-00002-01.isyntax\n",
      "indexing IC-CX-00004-01.isyntax\n",
      "indexing IC-CX-00005-01.isyntax\n",
      "indexing IC-CX-00006-02.isyntax\n",
      "indexing IC-CX-00008-01.isyntax\n",
      "indexing IC-CX-00010-01.isyntax\n",
      "indexing IC-CX-00014-01.isyntax\n",
      "indexing IC-CX-00020-01.isyntax\n",
      "indexing IC-EN-02079-01.isyntax\n",
      "indexing IC-EN-02081-01.isyntax\n",
      "indexing IC-EN-02084-01.isyntax\n",
      "indexing IC-EN-02086-01.isyntax\n",
      "indexing IC-EN-02089-01.isyntax\n",
      "indexing IC-EN-02092-01.isyntax\n",
      "indexing IC-EN-02095-01.isyntax\n",
      "indexing IC-CX-00001-01.isyntax\n"
     ]
    },
    {
     "ename": "IndexError",
     "evalue": "boolean index did not match indexed array along dimension 0; dimension is 428 but corresponding boolean dimension is 107",
     "output_type": "error",
     "traceback": [
      "\u001b[0;31m---------------------------------------------------------------------------\u001b[0m",
      "\u001b[0;31mIndexError\u001b[0m                                Traceback (most recent call last)",
      "\u001b[0;32m<ipython-input-9-ffd149721a45>\u001b[0m in \u001b[0;36m<module>\u001b[0;34m\u001b[0m\n\u001b[1;32m      9\u001b[0m \u001b[0mmorphology_transforms\u001b[0m \u001b[0;34m=\u001b[0m \u001b[0;34m[\u001b[0m\u001b[0mmorphology_transform1\u001b[0m\u001b[0;34m,\u001b[0m \u001b[0mmorphology_transform2\u001b[0m\u001b[0;34m,\u001b[0m \u001b[0mmorphology_transform3\u001b[0m\u001b[0;34m]\u001b[0m\u001b[0;34m\u001b[0m\u001b[0;34m\u001b[0m\u001b[0m\n\u001b[1;32m     10\u001b[0m \u001b[0mtissue_detector_test\u001b[0m \u001b[0;34m=\u001b[0m \u001b[0mTissueDetectorGreyScale\u001b[0m\u001b[0;34m(\u001b[0m\u001b[0mgrey_level\u001b[0m\u001b[0;34m=\u001b[0m\u001b[0;36m0.85\u001b[0m\u001b[0;34m,\u001b[0m \u001b[0mmorph_transform\u001b[0m \u001b[0;34m=\u001b[0m \u001b[0mmorphology_transforms\u001b[0m\u001b[0;34m)\u001b[0m\u001b[0;34m\u001b[0m\u001b[0;34m\u001b[0m\u001b[0m\n\u001b[0;32m---> 11\u001b[0;31m \u001b[0mcalc_tissue_conf_mat\u001b[0m\u001b[0;34m(\u001b[0m\u001b[0mtissue_detector_test\u001b[0m\u001b[0;34m,\u001b[0m \u001b[0;34m\"greyscale_maxpool\"\u001b[0m\u001b[0;34m,\u001b[0m \u001b[0mfinal_level\u001b[0m\u001b[0;34m,\u001b[0m \u001b[0mexperiment_root\u001b[0m\u001b[0;34m)\u001b[0m\u001b[0;34m\u001b[0m\u001b[0;34m\u001b[0m\u001b[0m\n\u001b[0m\u001b[1;32m     12\u001b[0m \u001b[0mget_output_images\u001b[0m\u001b[0;34m(\u001b[0m\u001b[0mtissue_detector_test\u001b[0m\u001b[0;34m,\u001b[0m \u001b[0;34m\"greyscale_maxpool\"\u001b[0m\u001b[0;34m,\u001b[0m \u001b[0mfinal_level\u001b[0m\u001b[0;34m,\u001b[0m \u001b[0mexperiment_root\u001b[0m\u001b[0;34m)\u001b[0m\u001b[0;34m\u001b[0m\u001b[0;34m\u001b[0m\u001b[0m\n\u001b[1;32m     13\u001b[0m \u001b[0mwrite_contours_to_file\u001b[0m\u001b[0;34m(\u001b[0m\u001b[0mtissue_detector_test\u001b[0m\u001b[0;34m,\u001b[0m \u001b[0;34m\"greyscale_maxpool\"\u001b[0m\u001b[0;34m,\u001b[0m \u001b[0mfinal_level\u001b[0m\u001b[0;34m,\u001b[0m \u001b[0mexperiment_root\u001b[0m\u001b[0;34m,\u001b[0m \u001b[0mlevel_out\u001b[0m\u001b[0;34m=\u001b[0m\u001b[0;36m0\u001b[0m\u001b[0;34m)\u001b[0m\u001b[0;34m\u001b[0m\u001b[0;34m\u001b[0m\u001b[0m\n",
      "\u001b[0;32m~/repath/repath/preprocess/tissue_detection/tissue_metrics.py\u001b[0m in \u001b[0;36mcalc_tissue_conf_mat\u001b[0;34m(tissue_detector_test, label, level_in, base_dir)\u001b[0m\n\u001b[1;32m     38\u001b[0m \u001b[0;34m\u001b[0m\u001b[0m\n\u001b[1;32m     39\u001b[0m     \u001b[0;31m# create blank slides with just tissue detector labels\u001b[0m\u001b[0;34m\u001b[0m\u001b[0;34m\u001b[0m\u001b[0;34m\u001b[0m\u001b[0m\n\u001b[0;32m---> 40\u001b[0;31m     \u001b[0mtissue_patchsets_detected\u001b[0m \u001b[0;34m=\u001b[0m \u001b[0mSlidesIndex\u001b[0m\u001b[0;34m.\u001b[0m\u001b[0mindex_dataset\u001b[0m\u001b[0;34m(\u001b[0m\u001b[0mtissue_dataset\u001b[0m\u001b[0;34m,\u001b[0m \u001b[0mtissue_detector_test\u001b[0m\u001b[0;34m,\u001b[0m \u001b[0mpatch_finder\u001b[0m\u001b[0;34m,\u001b[0m \u001b[0mnotblank\u001b[0m\u001b[0;34m=\u001b[0m\u001b[0;32mFalse\u001b[0m\u001b[0;34m)\u001b[0m\u001b[0;34m\u001b[0m\u001b[0;34m\u001b[0m\u001b[0m\n\u001b[0m\u001b[1;32m     41\u001b[0m     \u001b[0mtissue_patches_detected\u001b[0m \u001b[0;34m=\u001b[0m \u001b[0mCombinedIndex\u001b[0m\u001b[0;34m.\u001b[0m\u001b[0mfor_slide_indexes\u001b[0m\u001b[0;34m(\u001b[0m\u001b[0;34m[\u001b[0m\u001b[0mtissue_patchsets_detected\u001b[0m\u001b[0;34m]\u001b[0m\u001b[0;34m)\u001b[0m\u001b[0;34m\u001b[0m\u001b[0;34m\u001b[0m\u001b[0m\n\u001b[1;32m     42\u001b[0m \u001b[0;34m\u001b[0m\u001b[0m\n",
      "\u001b[0;32m~/repath/repath/preprocess/patching/patch_index.py\u001b[0m in \u001b[0;36mindex_dataset\u001b[0;34m(cls, dataset, tissue_detector, patch_finder, notblank)\u001b[0m\n\u001b[1;32m    260\u001b[0m             \u001b[0;34m[\u001b[0m\u001b[0mtype\u001b[0m\u001b[0;34m]\u001b[0m\u001b[0;34m:\u001b[0m \u001b[0;34m[\u001b[0m\u001b[0mdescription\u001b[0m\u001b[0;34m]\u001b[0m\u001b[0;34m\u001b[0m\u001b[0;34m\u001b[0m\u001b[0m\n\u001b[1;32m    261\u001b[0m         \"\"\"\n\u001b[0;32m--> 262\u001b[0;31m         \u001b[0mpatchsets\u001b[0m \u001b[0;34m=\u001b[0m \u001b[0;34m[\u001b[0m\u001b[0mSlidePatchSet\u001b[0m\u001b[0;34m.\u001b[0m\u001b[0mindex_slide\u001b[0m\u001b[0;34m(\u001b[0m\u001b[0midx\u001b[0m\u001b[0;34m,\u001b[0m \u001b[0mdataset\u001b[0m\u001b[0;34m,\u001b[0m \u001b[0mtissue_detector\u001b[0m\u001b[0;34m,\u001b[0m \u001b[0mpatch_finder\u001b[0m\u001b[0;34m,\u001b[0m \u001b[0mnotblank\u001b[0m\u001b[0;34m)\u001b[0m \u001b[0;32mfor\u001b[0m \u001b[0midx\u001b[0m \u001b[0;32min\u001b[0m \u001b[0mrange\u001b[0m\u001b[0;34m(\u001b[0m\u001b[0mlen\u001b[0m\u001b[0;34m(\u001b[0m\u001b[0mdataset\u001b[0m\u001b[0;34m)\u001b[0m\u001b[0;34m)\u001b[0m\u001b[0;34m]\u001b[0m\u001b[0;34m\u001b[0m\u001b[0;34m\u001b[0m\u001b[0m\n\u001b[0m\u001b[1;32m    263\u001b[0m         \u001b[0;32mreturn\u001b[0m \u001b[0mcls\u001b[0m\u001b[0;34m(\u001b[0m\u001b[0mdataset\u001b[0m\u001b[0;34m,\u001b[0m \u001b[0mpatchsets\u001b[0m\u001b[0;34m)\u001b[0m\u001b[0;34m\u001b[0m\u001b[0;34m\u001b[0m\u001b[0m\n\u001b[1;32m    264\u001b[0m \u001b[0;34m\u001b[0m\u001b[0m\n",
      "\u001b[0;32m~/repath/repath/preprocess/patching/patch_index.py\u001b[0m in \u001b[0;36m<listcomp>\u001b[0;34m(.0)\u001b[0m\n\u001b[1;32m    260\u001b[0m             \u001b[0;34m[\u001b[0m\u001b[0mtype\u001b[0m\u001b[0;34m]\u001b[0m\u001b[0;34m:\u001b[0m \u001b[0;34m[\u001b[0m\u001b[0mdescription\u001b[0m\u001b[0;34m]\u001b[0m\u001b[0;34m\u001b[0m\u001b[0;34m\u001b[0m\u001b[0m\n\u001b[1;32m    261\u001b[0m         \"\"\"\n\u001b[0;32m--> 262\u001b[0;31m         \u001b[0mpatchsets\u001b[0m \u001b[0;34m=\u001b[0m \u001b[0;34m[\u001b[0m\u001b[0mSlidePatchSet\u001b[0m\u001b[0;34m.\u001b[0m\u001b[0mindex_slide\u001b[0m\u001b[0;34m(\u001b[0m\u001b[0midx\u001b[0m\u001b[0;34m,\u001b[0m \u001b[0mdataset\u001b[0m\u001b[0;34m,\u001b[0m \u001b[0mtissue_detector\u001b[0m\u001b[0;34m,\u001b[0m \u001b[0mpatch_finder\u001b[0m\u001b[0;34m,\u001b[0m \u001b[0mnotblank\u001b[0m\u001b[0;34m)\u001b[0m \u001b[0;32mfor\u001b[0m \u001b[0midx\u001b[0m \u001b[0;32min\u001b[0m \u001b[0mrange\u001b[0m\u001b[0;34m(\u001b[0m\u001b[0mlen\u001b[0m\u001b[0;34m(\u001b[0m\u001b[0mdataset\u001b[0m\u001b[0;34m)\u001b[0m\u001b[0;34m)\u001b[0m\u001b[0;34m]\u001b[0m\u001b[0;34m\u001b[0m\u001b[0;34m\u001b[0m\u001b[0m\n\u001b[0m\u001b[1;32m    263\u001b[0m         \u001b[0;32mreturn\u001b[0m \u001b[0mcls\u001b[0m\u001b[0;34m(\u001b[0m\u001b[0mdataset\u001b[0m\u001b[0;34m,\u001b[0m \u001b[0mpatchsets\u001b[0m\u001b[0;34m)\u001b[0m\u001b[0;34m\u001b[0m\u001b[0;34m\u001b[0m\u001b[0m\n\u001b[1;32m    264\u001b[0m \u001b[0;34m\u001b[0m\u001b[0m\n",
      "\u001b[0;32m~/repath/repath/preprocess/patching/patch_index.py\u001b[0m in \u001b[0;36mindex_slide\u001b[0;34m(cls, slide_idx, dataset, tissue_detector, patch_finder, notblank)\u001b[0m\n\u001b[1;32m    234\u001b[0m                 \u001b[0mlabels_image\u001b[0m \u001b[0;34m=\u001b[0m \u001b[0mnp\u001b[0m\u001b[0;34m.\u001b[0m\u001b[0mones\u001b[0m\u001b[0;34m(\u001b[0m\u001b[0mlabels_shape\u001b[0m\u001b[0;34m)\u001b[0m\u001b[0;34m\u001b[0m\u001b[0;34m\u001b[0m\u001b[0m\n\u001b[1;32m    235\u001b[0m             \u001b[0mtissue_mask\u001b[0m \u001b[0;34m=\u001b[0m \u001b[0mtissue_detector\u001b[0m\u001b[0;34m(\u001b[0m\u001b[0mslide\u001b[0m\u001b[0;34m.\u001b[0m\u001b[0mget_thumbnail\u001b[0m\u001b[0;34m(\u001b[0m\u001b[0mpatch_finder\u001b[0m\u001b[0;34m.\u001b[0m\u001b[0mlabels_level\u001b[0m\u001b[0;34m)\u001b[0m\u001b[0;34m)\u001b[0m\u001b[0;34m\u001b[0m\u001b[0;34m\u001b[0m\u001b[0m\n\u001b[0;32m--> 236\u001b[0;31m             \u001b[0mlabels_image\u001b[0m\u001b[0;34m[\u001b[0m\u001b[0;34m~\u001b[0m\u001b[0mtissue_mask\u001b[0m\u001b[0;34m]\u001b[0m \u001b[0;34m=\u001b[0m \u001b[0;36m0\u001b[0m\u001b[0;34m\u001b[0m\u001b[0;34m\u001b[0m\u001b[0m\n\u001b[0m\u001b[1;32m    237\u001b[0m             \u001b[0mdf\u001b[0m\u001b[0;34m,\u001b[0m \u001b[0mlevel\u001b[0m\u001b[0;34m,\u001b[0m \u001b[0msize\u001b[0m \u001b[0;34m=\u001b[0m \u001b[0mpatch_finder\u001b[0m\u001b[0;34m(\u001b[0m\u001b[0mlabels_image\u001b[0m\u001b[0;34m,\u001b[0m \u001b[0mslide\u001b[0m\u001b[0;34m.\u001b[0m\u001b[0mdimensions\u001b[0m\u001b[0;34m[\u001b[0m\u001b[0mpatch_finder\u001b[0m\u001b[0;34m.\u001b[0m\u001b[0mpatch_level\u001b[0m\u001b[0;34m]\u001b[0m\u001b[0;34m)\u001b[0m\u001b[0;34m\u001b[0m\u001b[0;34m\u001b[0m\u001b[0m\n\u001b[1;32m    238\u001b[0m             \u001b[0mpatchset\u001b[0m \u001b[0;34m=\u001b[0m \u001b[0mcls\u001b[0m\u001b[0;34m(\u001b[0m\u001b[0mslide_idx\u001b[0m\u001b[0;34m,\u001b[0m \u001b[0mdataset\u001b[0m\u001b[0;34m,\u001b[0m \u001b[0msize\u001b[0m\u001b[0;34m,\u001b[0m \u001b[0mlevel\u001b[0m\u001b[0;34m,\u001b[0m \u001b[0mdf\u001b[0m\u001b[0;34m)\u001b[0m\u001b[0;34m\u001b[0m\u001b[0;34m\u001b[0m\u001b[0m\n",
      "\u001b[0;31mIndexError\u001b[0m: boolean index did not match indexed array along dimension 0; dimension is 428 but corresponding boolean dimension is 107"
     ]
    }
   ],
   "source": [
    "from repath.experiments.tissuedet import *\n",
    "\n",
    "set_seed(global_seed)\n",
    "detection_level = 5\n",
    "final_level = 7\n",
    "morphology_transform1 = MaxPoolTransform(level_in=detection_level, level_out=final_level)\n",
    "morphology_transform2 = SizedClosingTransform(level_in=final_level)\n",
    "morphology_transform3 = FillHolesTransform(level_in=final_level)\n",
    "morphology_transforms = [morphology_transform1, morphology_transform2, morphology_transform3]\n",
    "tissue_detector_test = TissueDetectorGreyScale(grey_level=0.85, morph_transform = morphology_transforms)\n",
    "calc_tissue_conf_mat(tissue_detector_test, \"greyscale_maxpool\", final_level, experiment_root)\n",
    "get_output_images(tissue_detector_test, \"greyscale_maxpool\", final_level, experiment_root)\n",
    "write_contours_to_file(tissue_detector_test, \"greyscale_maxpool\", final_level, experiment_root, level_out=0)"
   ]
  },
  {
   "cell_type": "code",
   "execution_count": null,
   "metadata": {},
   "outputs": [],
   "source": [
    "# path = project_root() / 'experiments' / 'tissue' / 'greyscale' / 'outline_output_images' / 'IC-CX-00001-01.jpg'\n",
    "path = project_root() / 'experiments' / 'tissue' / 'greyscale_fill_holes' / 'greyscale_fill_holes_confidence_matrix.png'\n",
    "\n",
    "from PIL import Image\n",
    "Image.open(path)"
   ]
  },
  {
   "cell_type": "code",
   "execution_count": null,
   "metadata": {},
   "outputs": [],
   "source": []
  },
  {
   "cell_type": "code",
   "execution_count": 22,
   "metadata": {},
   "outputs": [],
   "source": [
    "from repath.preprocess.tissue_detection import TissueDetectorGreyScale, SimpleClosingTransform, NullTransform, SizedClosingTransform, FillHolesTransform\n",
    "\n",
    "level_in=7\n",
    "\n",
    "morph_transform1 = SizedClosingTransform(level_in=level_in)\n",
    "morph_transform2 = FillHolesTransform(level_in=level_in)\n",
    "morph_transforms = [morph_transform1, morph_transform2]\n",
    "\n",
    "from repath.preprocess.tissue_detection import MedianBlur, GaussianBlur\n",
    "\n",
    "pre_transform1 = MedianBlur(filter_size=2)\n",
    "pre_transform2 = GaussianBlur(sigma=2)\n",
    "pre_transforms = [pre_transform1, pre_transform2]\n",
    "\n",
    "tissue_detector_test = TissueDetectorGreyScale(grey_level=0.85, morph_transform=morph_transforms)"
   ]
  },
  {
   "cell_type": "code",
   "execution_count": 12,
   "metadata": {},
   "outputs": [
    {
     "name": "stdout",
     "output_type": "stream",
     "text": [
      "images/IC-CX-00014-01.isyntax\n"
     ]
    }
   ],
   "source": [
    "from repath.experiments.tissuedet import *\n",
    "from repath.utils.export import convert_mask_to_json\n",
    "from repath.preprocess.tissue_detection.tissue_metrics import get_slide_output_masks, create_colour_output, create_overlay_output\n",
    "from repath.utils.geometry import Size\n",
    "\n",
    "level_in = 5\n",
    "datset = tissue.tissue()\n",
    "for idx, path in enumerate(datset.paths.slide[7:8]):\n",
    "    print(path)\n",
    "    annot_path = datset.paths.annotation.iloc[idx]\n",
    "    test_path = project_root() / datset.root / path\n",
    "    truth_path = project_root() / datset.root / annot_path\n",
    "    with datset.slide_cls(test_path) as slide:\n",
    "        thumb = slide.get_thumbnail(level_in)\n",
    "        tissue_mask_detected = tissue_detector(thumb)\n",
    "        if level_in >= len(slide.dimensions):\n",
    "            request_level = len(slide.dimensions) - 1\n",
    "            lev_diff = level_in - request_level\n",
    "            max_level_dim = slide.dimensions[-1]\n",
    "            requested_level_size = Size(max_level_dim.width // 2 ** lev_diff, max_level_dim.height // 2 ** lev_diff)\n",
    "            labels_shape = requested_level_size.as_shape()\n",
    "        else:\n",
    "            labels_shape = slide.dimensions[level_in].as_shape()\n",
    "        tissue_annotations = datset.load_annotations(truth_path)\n",
    "        scale_factor = 2 ** level_in\n",
    "        tissue_mask_annotated = tissue_annotations.render(labels_shape, scale_factor)\n",
    "        tn_arr, fp_arr, fn_arr, tp_arr = get_slide_output_masks(tissue_mask_annotated, tissue_mask_detected)\n",
    "        colour_thumb = create_colour_output(tn_arr, fp_arr, fn_arr, tp_arr)\n",
    "        #outline_thumb = create_overlay_output(thumb, tissue_mask_detected)"
   ]
  },
  {
   "cell_type": "code",
   "execution_count": 13,
   "metadata": {},
   "outputs": [
    {
     "data": {
      "image/png": "[encoded data removed]",
      "text/plain": [
       "<PIL.Image.Image image mode=L size=1458x1426 at 0x7F63A7262C50>"
      ]
     },
     "execution_count": 13,
     "metadata": {},
     "output_type": "execute_result"
    }
   ],
   "source": [
    "Image.fromarray(np.array(tissue_mask_detected*255, dtype=np.uint8))"
   ]
  },
  {
   "cell_type": "code",
   "execution_count": 16,
   "metadata": {},
   "outputs": [
    {
     "data": {
      "image/png": "[encoded data removed]",
      "text/plain": [
       "<PIL.Image.Image image mode=L size=1458x1426 at 0x7F63A75EB2B0>"
      ]
     },
     "execution_count": 16,
     "metadata": {},
     "output_type": "execute_result"
    }
   ],
   "source": [
    "import cv2\n",
    "\n",
    "blank_im = np.zeros(tissue_mask_detected.shape, dtype=np.uint8)\n",
    "contours, hierarchy = cv2.findContours(np.array(tissue_mask_detected, dtype=np.uint8), cv2.RETR_TREE, cv2.CHAIN_APPROX_SIMPLE)\n",
    "contour_im = cv2.drawContours(blank_im, contours, -1, [255,255,255], 20)\n",
    "Image.fromarray(np.array(contour_im, dtype=np.uint8))"
   ]
  },
  {
   "cell_type": "code",
   "execution_count": 18,
   "metadata": {},
   "outputs": [
    {
     "data": {
      "text/plain": [
       "107610"
      ]
     },
     "execution_count": 18,
     "metadata": {},
     "output_type": "execute_result"
    }
   ],
   "source": [
    "np.sum(contour_im > 0)"
   ]
  },
  {
   "cell_type": "code",
   "execution_count": null,
   "metadata": {},
   "outputs": [],
   "source": [
    "import cv2\n",
    "\n",
    "level_in=7\n",
    "level_out=7\n",
    "\n",
    "# convert to PIL image\n",
    "im_out = Image.fromarray(np.array(tissue_mask_detected*255, dtype=np.uint8))\n",
    "\n",
    "# calculate new image size\n",
    "level_diff = level_in - level_out\n",
    "size_diff = 2 ** level_diff\n",
    "new_size = (im_out.size[0] * size_diff, im_out.size[1] * size_diff)\n",
    "\n",
    "# resize image\n",
    "im_resize = im_out.resize(new_size, Image.BOX)\n",
    "\n",
    "contours, hierarchy = cv2.findContours(np.array(tissue_mask_detected, dtype=np.uint8), cv2.RETR_TREE, cv2.CHAIN_APPROX_SIMPLE)\n"
   ]
  },
  {
   "cell_type": "code",
   "execution_count": null,
   "metadata": {},
   "outputs": [],
   "source": [
    "has_parent = [ct > -1 for ct in hierarchy[0, :, 3]]\n",
    "hierarchy[0, has_parent, :]"
   ]
  },
  {
   "cell_type": "code",
   "execution_count": null,
   "metadata": {},
   "outputs": [],
   "source": [
    "has_child = [ct > -1 for ct in hierarchy[0, :, 2]]\n",
    "hierarchy[0, has_child, :]"
   ]
  },
  {
   "cell_type": "code",
   "execution_count": null,
   "metadata": {},
   "outputs": [],
   "source": [
    "no_parent_no_child = np.logical_and(np.logical_not(has_parent), np.logical_not(has_child))\n",
    "np.sum(no_parent_no_child)"
   ]
  },
  {
   "cell_type": "code",
   "execution_count": null,
   "metadata": {},
   "outputs": [],
   "source": [
    "parent_no_child = np.logical_and(has_parent, np.logical_not(has_child))\n",
    "np.sum(parent_no_child)"
   ]
  },
  {
   "cell_type": "code",
   "execution_count": null,
   "metadata": {},
   "outputs": [],
   "source": [
    "child_no_parent = np.logical_and(np.logical_not(has_parent), has_child)\n",
    "np.sum(child_no_parent)"
   ]
  },
  {
   "cell_type": "code",
   "execution_count": null,
   "metadata": {},
   "outputs": [],
   "source": [
    "parent_and_child = np.logical_and(has_parent, has_child)\n",
    "np.sum(parent_and_child)"
   ]
  },
  {
   "cell_type": "code",
   "execution_count": null,
   "metadata": {},
   "outputs": [],
   "source": [
    "hierarchy[0, parent_and_child, :]"
   ]
  },
  {
   "cell_type": "code",
   "execution_count": null,
   "metadata": {},
   "outputs": [],
   "source": [
    "parent_and_child_list = np.arange(len(contours))[parent_and_child]\n",
    "grandkids_mask = np.isin(hierarchy[0, :, 3], parent_and_child_list)\n"
   ]
  },
  {
   "cell_type": "code",
   "execution_count": null,
   "metadata": {},
   "outputs": [],
   "source": [
    "np.sum(np.logical_and(grandkids_mask, parent_no_child))"
   ]
  },
  {
   "cell_type": "code",
   "execution_count": null,
   "metadata": {},
   "outputs": [],
   "source": [
    "no_parent_no_child_list = np.arange(len(contours))[no_parent_no_child]\n",
    "grandkids_list = np.arange(len(contours))[grandkids_mask]\n",
    "parents_list = np.arange(len(contours))[child_no_parent]\n",
    "top_level_list = np.hstack((no_parent_no_child_list, grandkids_list, parents_list))\n"
   ]
  },
  {
   "cell_type": "code",
   "execution_count": null,
   "metadata": {},
   "outputs": [],
   "source": [
    "json_points = []\n",
    "\n",
    "for ct in top_level_list:\n",
    "    child_mask = hierarchy[0, :, 3] == ct\n",
    "    got_kids = np.sum(child_mask) > 0\n",
    "    if got_kids:\n",
    "        polygon1 = contours[ct]\n",
    "        pts = []\n",
    "        for pt in range(polygon1.shape[0]):\n",
    "            pnt = polygon1[pt][0].tolist()\n",
    "            pts.append(pnt)\n",
    "        json_polygon = [pts]\n",
    "        kids = np.array(contours, dtype=object)[np.arange(len(contours))[child_mask]]\n",
    "        for kid in kids:\n",
    "            pts = []\n",
    "            for pt in range(kid.shape[0]):\n",
    "                pnt = kid[pt][0].tolist()\n",
    "                pts.append(pnt)\n",
    "            json_polygon.append(pts)\n",
    "        json_points.append(json_polygon)\n",
    "    else:\n",
    "        pts = []\n",
    "        for pt in range(contours[ct].shape[0]):\n",
    "            pnt = contours[ct][pt][0].tolist()\n",
    "            pts.append(pnt)\n",
    "        json_points.append([pts])"
   ]
  },
  {
   "cell_type": "code",
   "execution_count": null,
   "metadata": {},
   "outputs": [],
   "source": [
    "npolys = [len(jp) for jp in json_points]\n",
    "np.array(npolys)[np.array(npolys) > 1]"
   ]
  },
  {
   "cell_type": "code",
   "execution_count": null,
   "metadata": {},
   "outputs": [],
   "source": [
    "len(npolys)"
   ]
  },
  {
   "cell_type": "code",
   "execution_count": null,
   "metadata": {},
   "outputs": [],
   "source": [
    "cnt"
   ]
  },
  {
   "cell_type": "markdown",
   "metadata": {},
   "source": [
    "# Get tissue not tissue patches for game"
   ]
  },
  {
   "cell_type": "code",
   "execution_count": 29,
   "metadata": {},
   "outputs": [
    {
     "ename": "NameError",
     "evalue": "name 'TissueDetector' is not defined",
     "output_type": "error",
     "traceback": [
      "\u001b[0;31m---------------------------------------------------------------------------\u001b[0m",
      "\u001b[0;31mNameError\u001b[0m                                 Traceback (most recent call last)",
      "\u001b[0;32m<ipython-input-29-62745bbad901>\u001b[0m in \u001b[0;36m<module>\u001b[0;34m\u001b[0m\n\u001b[1;32m      1\u001b[0m \u001b[0;32mimport\u001b[0m \u001b[0mcv2\u001b[0m\u001b[0;34m\u001b[0m\u001b[0;34m\u001b[0m\u001b[0m\n\u001b[1;32m      2\u001b[0m \u001b[0;34m\u001b[0m\u001b[0m\n\u001b[0;32m----> 3\u001b[0;31m \u001b[0;32mdef\u001b[0m \u001b[0mpatches_for_game\u001b[0m\u001b[0;34m(\u001b[0m\u001b[0mtissue_detector_test\u001b[0m\u001b[0;34m:\u001b[0m \u001b[0mTissueDetector\u001b[0m\u001b[0;34m,\u001b[0m \u001b[0mlabel\u001b[0m\u001b[0;34m:\u001b[0m \u001b[0mstr\u001b[0m\u001b[0;34m,\u001b[0m \u001b[0mlevel_in\u001b[0m\u001b[0;34m:\u001b[0m \u001b[0mint\u001b[0m\u001b[0;34m,\u001b[0m \u001b[0mbase_dir\u001b[0m\u001b[0;34m:\u001b[0m \u001b[0mPath\u001b[0m\u001b[0;34m)\u001b[0m \u001b[0;34m->\u001b[0m \u001b[0;32mNone\u001b[0m\u001b[0;34m:\u001b[0m\u001b[0;34m\u001b[0m\u001b[0;34m\u001b[0m\u001b[0m\n\u001b[0m\u001b[1;32m      4\u001b[0m     \"\"\"\n\u001b[1;32m      5\u001b[0m     \u001b[0mFor\u001b[0m \u001b[0ma\u001b[0m \u001b[0mtissue\u001b[0m \u001b[0mdetector\u001b[0m \u001b[0mthis\u001b[0m \u001b[0mgets\u001b[0m \u001b[0mtissue\u001b[0m \u001b[0mno\u001b[0m \u001b[0mtissue\u001b[0m \u001b[0mpatches\u001b[0m \u001b[0;32mfor\u001b[0m \u001b[0mgamification\u001b[0m \u001b[0mapp\u001b[0m\u001b[0;34m\u001b[0m\u001b[0;34m\u001b[0m\u001b[0m\n",
      "\u001b[0;31mNameError\u001b[0m: name 'TissueDetector' is not defined"
     ]
    }
   ],
   "source": [
    "import cv2\n",
    "\n",
    "def patches_for_game(tissue_detector_test: TissueDetector, label: str, level_in: int, base_dir: Path) -> None:\n",
    "    \"\"\"\n",
    "    For a tissue detector this gets tissue no tissue patches for gamification app\n",
    "    \n",
    "    Args:\n",
    "            tissue_detector_test (TissueDetector): A class of tissue detector to test\n",
    "            label (str): A label to add to filenames for naming output of this experiment\n",
    "            level_in (int): The level at which to carry out the tissue detection\n",
    "            best_dir (path): directory to write out data\n",
    "\n",
    "    \"\"\"\n",
    "    tissue_dataset = tissue.tissue()\n",
    "    psize = 2 ** level_in\n",
    "    patch_finder = GridPatchFinder(labels_level=level_in, patch_level=0, patch_size=psize, stride=psize, remove_background=False)\n",
    "\n",
    "    # create blank slides with just tissue detector labels\n",
    "    tissue_patchsets_detected = SlidesIndex.index_dataset(tissue_dataset, tissue_detector_test, patch_finder, notblank=False)\n",
    "\n",
    "    # find patches close to edges\n",
    "    tissue_patchsets_edges = find_patches_close_to_edge(tissue_dataset, tissue_patchsets_detected, tissue_detector_test)\n",
    "\n",
    "    # combine into one\n",
    "    tissue_patches_edges = CombinedIndex.for_slide_indexes([tissue_patchsets_edges])\n",
    "\n",
    "    # filter to get only edge patches\n",
    "    tissue_patches_edges.patches_df = tissue_patches_edges.patches_df[tissue_patches_edges.patches_df.edge_patch == True]\n",
    "\n",
    "    # get sample of tissue_patches\n",
    "    tissue_patches_sample = tissue_patches_edges.patches_df[tissue_patches_edges.patches_df.label == 1]\n",
    "    tissue_patches_sample = tissue_patches_sample.sample(n=1000, axis=0)\n",
    "\n",
    "    # get sample of non tissue_patches\n",
    "    non_tissue_patches_sample = tissue_patches_edges.patches_df[tissue_patches_edges.patches_df.label == 0]\n",
    "    non_tissue_patches_sample = non_tissue_patches_sample.sample(n=1000, axis=0)\n",
    "\n",
    "    # combine into one set\n",
    "    combined_sample = pd.concat((tissue_patches_sample, non_tissue_patches_sample), axis=0)\n",
    "    tissue_patches_edges.patches_df = combined_sample\n",
    "\n",
    "    # save patches\n",
    "    tissue_patches_edges.save_patches(output_dir=Path(project_root(),\"experiments\",\"tissue\",\"patches_for_game\"))\n",
    "\n"
   ]
  },
  {
   "cell_type": "code",
   "execution_count": 47,
   "metadata": {},
   "outputs": [],
   "source": [
    "def find_patches_close_to_edge(datset, slides_index, tissue_detector):\n",
    "\n",
    "    for sps in slides_index:\n",
    "        path = datset.paths.slide[sps.slide_idx]\n",
    "        test_path = test_path = project_root() / datset.root / path\n",
    "        with datset.slide_cls(test_path) as slide:\n",
    "            thumb = slide.get_thumbnail(level_in)\n",
    "        tissue_mask_detected = tissue_detector(thumb)\n",
    "        # find patches close to the contours of the image\n",
    "        blank_im = np.zeros(tissue_mask_detected.shape, dtype=np.uint8)\n",
    "        contours, hierarchy = cv2.findContours(np.array(tissue_mask_detected, dtype=np.uint8), cv2.RETR_TREE, cv2.CHAIN_APPROX_SIMPLE)\n",
    "        contour_im = cv2.drawContours(blank_im, contours, -1, [255,255,255], 20)\n",
    "        contour_im = contour_im > 0\n",
    "        df = to_frame_with_locations(contour_im, \"edge_patch\")\n",
    "        col_nams = sps.patches_df.columns.tolist()\n",
    "        col_nams.append(\"edge_patch\")\n",
    "        patches_df = pd.concat((sps.patches_df, df.iloc[:, 2:3]), axis=1, ignore_index=True)\n",
    "        patches_df.columns = col_nams\n",
    "        sps.patches_df = patches_df\n",
    "        \n",
    "    return slides_index"
   ]
  },
  {
   "cell_type": "code",
   "execution_count": 55,
   "metadata": {},
   "outputs": [
    {
     "name": "stdout",
     "output_type": "stream",
     "text": [
      "indexing IC-CX-00001-01.isyntax\n",
      "indexing IC-CX-00002-01.isyntax\n",
      "indexing IC-CX-00004-01.isyntax\n",
      "indexing IC-CX-00005-01.isyntax\n",
      "indexing IC-CX-00006-02.isyntax\n",
      "indexing IC-CX-00008-01.isyntax\n",
      "indexing IC-CX-00010-01.isyntax\n",
      "indexing IC-CX-00014-01.isyntax\n",
      "indexing IC-CX-00020-01.isyntax\n",
      "indexing IC-EN-02079-01.isyntax\n",
      "indexing IC-EN-02081-01.isyntax\n",
      "indexing IC-EN-02084-01.isyntax\n",
      "indexing IC-EN-02086-01.isyntax\n",
      "indexing IC-EN-02089-01.isyntax\n",
      "indexing IC-EN-02092-01.isyntax\n",
      "indexing IC-EN-02095-01.isyntax\n"
     ]
    }
   ],
   "source": [
    "tissue_dataset = tissue.tissue()\n",
    "psize = 2 ** level_in\n",
    "patch_finder = GridPatchFinder(labels_level=level_in, patch_level=0, patch_size=psize, stride=psize, remove_background=False)\n",
    "\n",
    "# create blank slides with just tissue detector labels\n",
    "tissue_patchsets_detected = SlidesIndex.index_dataset(tissue_dataset, tissue_detector_test, patch_finder, notblank=False)\n",
    "\n",
    "# find patches close to edges\n",
    "tissue_patchsets_edges = find_patches_close_to_edge(tissue_dataset, tissue_patchsets_detected, tissue_detector_test)\n",
    "\n",
    "# combine into one\n",
    "tissue_patches_edges = CombinedIndex.for_slide_indexes([tissue_patchsets_edges])\n",
    "\n",
    "# filter to get only edge patches\n",
    "tissue_patches_edges.patches_df = tissue_patches_edges.patches_df[tissue_patches_edges.patches_df.edge_patch == True]\n",
    "\n",
    "# get sample of tissue_patches\n",
    "tissue_patches_sample = tissue_patches_edges.patches_df[tissue_patches_edges.patches_df.label == 1]\n",
    "tissue_patches_sample = tissue_patches_sample.sample(n=1000, axis=0)\n",
    "\n",
    "# get sample of non tissue_patches\n",
    "non_tissue_patches_sample = tissue_patches_edges.patches_df[tissue_patches_edges.patches_df.label == 0]\n",
    "non_tissue_patches_sample = non_tissue_patches_sample.sample(n=1000, axis=0)\n",
    "\n",
    "# combine into one set\n",
    "combined_sample = pd.concat((tissue_patches_sample, non_tissue_patches_sample), axis=0)\n",
    "tissue_patches_edges.patches_df = combined_sample\n",
    "\n",
    "# save patches\n",
    "tissue_patches_edges.save_patches(output_dir=Path(project_root(),\"experiments\",\"tissue\",\"patches_for_game\"))"
   ]
  },
  {
   "cell_type": "code",
   "execution_count": 70,
   "metadata": {},
   "outputs": [
    {
     "name": "stdout",
     "output_type": "stream",
     "text": [
      "Writing patches for images/IC-CX-00001-01.isyntax\n",
      "Writing patches for images/IC-CX-00002-01.isyntax\n",
      "Writing patches for images/IC-CX-00004-01.isyntax\n",
      "Writing patches for images/IC-CX-00005-01.isyntax\n",
      "Writing patches for images/IC-CX-00006-02.isyntax\n",
      "Writing patches for images/IC-CX-00008-01.isyntax\n",
      "Writing patches for images/IC-CX-00010-01.isyntax\n",
      "Writing patches for images/IC-CX-00014-01.isyntax\n",
      "Writing patches for images/IC-CX-00020-01.isyntax\n",
      "Writing patches for images/IC-EN-02079-01.isyntax\n",
      "Writing patches for images/IC-EN-02081-01.isyntax\n",
      "Writing patches for images/IC-EN-02084-01.isyntax\n",
      "Writing patches for images/IC-EN-02086-01.isyntax\n",
      "Writing patches for images/IC-EN-02089-01.isyntax\n",
      "Writing patches for images/IC-EN-02092-01.isyntax\n",
      "Writing patches for images/IC-EN-02095-01.isyntax\n"
     ]
    }
   ],
   "source": [
    "\n"
   ]
  },
  {
   "cell_type": "code",
   "execution_count": 71,
   "metadata": {},
   "outputs": [
    {
     "data": {
      "image/png": "[encoded data removed]",
      "text/plain": [
       "<PIL.PngImagePlugin.PngImageFile image mode=RGB size=128x128 at 0x7F63A75EFA20>"
      ]
     },
     "execution_count": 71,
     "metadata": {},
     "output_type": "execute_result"
    }
   ],
   "source": [
    "path = project_root() / 'experiments' / 'tissue' / 'patches_for_game' / 'background' / 'images-IC-EN-02079-01.isy-40064-18048.png'\n",
    "\n",
    "from PIL import Image\n",
    "Image.open(path)"
   ]
  },
  {
   "cell_type": "code",
   "execution_count": 72,
   "metadata": {},
   "outputs": [
    {
     "data": {
      "image/png": "[encoded data removed]",
      "text/plain": [
       "<PIL.PngImagePlugin.PngImageFile image mode=RGB size=128x128 at 0x7F63A75EF160>"
      ]
     },
     "execution_count": 72,
     "metadata": {},
     "output_type": "execute_result"
    }
   ],
   "source": [
    "path = project_root() / 'experiments' / 'tissue' / 'patches_for_game' / 'tissue' / 'images-IC-EN-02092-01.isy-58880-19712.png'\n",
    "\n",
    "from PIL import Image\n",
    "Image.open(path)"
   ]
  },
  {
   "cell_type": "code",
   "execution_count": 46,
   "metadata": {},
   "outputs": [
    {
     "name": "stdout",
     "output_type": "stream",
     "text": [
      "           x      y  label  transform  edge_patch\n",
      "0          0      0    0.0          1       False\n",
      "1        128      0    0.0          1       False\n",
      "2        256      0    0.0          1       False\n",
      "3        384      0    0.0          1       False\n",
      "4        512      0    0.0          1       False\n",
      "...      ...    ...    ...        ...         ...\n",
      "72327  20992  54656    0.0          1       False\n",
      "72328  21120  54656    0.0          1       False\n",
      "72329  21248  54656    0.0          1       False\n",
      "72330  21376  54656    0.0          1       False\n",
      "72331  21504  54656    0.0          1       False\n",
      "\n",
      "[72332 rows x 5 columns]\n"
     ]
    }
   ],
   "source": []
  },
  {
   "cell_type": "code",
   "execution_count": null,
   "metadata": {},
   "outputs": [],
   "source": []
  },
  {
   "cell_type": "code",
   "execution_count": null,
   "metadata": {},
   "outputs": [],
   "source": []
  },
  {
   "cell_type": "code",
   "execution_count": null,
   "metadata": {},
   "outputs": [],
   "source": []
  },
  {
   "cell_type": "code",
   "execution_count": null,
   "metadata": {},
   "outputs": [],
   "source": []
  },
  {
   "cell_type": "code",
   "execution_count": null,
   "metadata": {},
   "outputs": [],
   "source": []
  },
  {
   "cell_type": "code",
   "execution_count": null,
   "metadata": {},
   "outputs": [],
   "source": []
  },
  {
   "cell_type": "code",
   "execution_count": null,
   "metadata": {},
   "outputs": [],
   "source": []
  },
  {
   "cell_type": "code",
   "execution_count": null,
   "metadata": {},
   "outputs": [],
   "source": []
  },
  {
   "cell_type": "code",
   "execution_count": null,
   "metadata": {},
   "outputs": [],
   "source": []
  },
  {
   "cell_type": "code",
   "execution_count": null,
   "metadata": {},
   "outputs": [],
   "source": []
  },
  {
   "cell_type": "code",
   "execution_count": null,
   "metadata": {},
   "outputs": [],
   "source": []
  },
  {
   "cell_type": "code",
   "execution_count": null,
   "metadata": {},
   "outputs": [],
   "source": []
  },
  {
   "cell_type": "code",
   "execution_count": null,
   "metadata": {},
   "outputs": [],
   "source": []
  },
  {
   "cell_type": "code",
   "execution_count": null,
   "metadata": {},
   "outputs": [],
   "source": []
  },
  {
   "cell_type": "code",
   "execution_count": null,
   "metadata": {},
   "outputs": [],
   "source": []
  },
  {
   "cell_type": "code",
   "execution_count": null,
   "metadata": {},
   "outputs": [],
   "source": []
  },
  {
   "cell_type": "code",
   "execution_count": null,
   "metadata": {},
   "outputs": [],
   "source": []
  },
  {
   "cell_type": "code",
   "execution_count": null,
   "metadata": {},
   "outputs": [],
   "source": []
  },
  {
   "cell_type": "code",
   "execution_count": null,
   "metadata": {},
   "outputs": [],
   "source": []
  },
  {
   "cell_type": "code",
   "execution_count": null,
   "metadata": {},
   "outputs": [],
   "source": []
  },
  {
   "cell_type": "code",
   "execution_count": null,
   "metadata": {},
   "outputs": [],
   "source": []
  },
  {
   "cell_type": "code",
   "execution_count": null,
   "metadata": {},
   "outputs": [],
   "source": []
  },
  {
   "cell_type": "code",
   "execution_count": null,
   "metadata": {},
   "outputs": [],
   "source": []
  },
  {
   "cell_type": "code",
   "execution_count": null,
   "metadata": {},
   "outputs": [],
   "source": []
  },
  {
   "cell_type": "code",
   "execution_count": null,
   "metadata": {},
   "outputs": [],
   "source": []
  },
  {
   "cell_type": "code",
   "execution_count": null,
   "metadata": {},
   "outputs": [],
   "source": [
    "\n",
    "\n",
    "    "
   ]
  },
  {
   "cell_type": "code",
   "execution_count": null,
   "metadata": {},
   "outputs": [],
   "source": []
  },
  {
   "cell_type": "code",
   "execution_count": null,
   "metadata": {},
   "outputs": [],
   "source": []
  },
  {
   "cell_type": "code",
   "execution_count": null,
   "metadata": {},
   "outputs": [],
   "source": []
  },
  {
   "cell_type": "code",
   "execution_count": null,
   "metadata": {},
   "outputs": [],
   "source": []
  },
  {
   "cell_type": "code",
   "execution_count": null,
   "metadata": {},
   "outputs": [],
   "source": []
  },
  {
   "cell_type": "code",
   "execution_count": null,
   "metadata": {},
   "outputs": [],
   "source": []
  },
  {
   "cell_type": "code",
   "execution_count": null,
   "metadata": {},
   "outputs": [],
   "source": []
  },
  {
   "cell_type": "code",
   "execution_count": null,
   "metadata": {},
   "outputs": [],
   "source": []
  },
  {
   "cell_type": "code",
   "execution_count": null,
   "metadata": {},
   "outputs": [],
   "source": []
  },
  {
   "cell_type": "code",
   "execution_count": null,
   "metadata": {},
   "outputs": [],
   "source": []
  },
  {
   "cell_type": "code",
   "execution_count": null,
   "metadata": {},
   "outputs": [],
   "source": []
  }
 ],
 "metadata": {
  "kernelspec": {
   "display_name": "repath",
   "language": "python",
   "name": "repath"
  },
  "language_info": {
   "codemirror_mode": {
    "name": "ipython",
    "version": 3
   },
   "file_extension": ".py",
   "mimetype": "text/x-python",
   "name": "python",
   "nbconvert_exporter": "python",
   "pygments_lexer": "ipython3",
   "version": "3.6.9"
  }
 },
 "nbformat": 4,
 "nbformat_minor": 4
}
