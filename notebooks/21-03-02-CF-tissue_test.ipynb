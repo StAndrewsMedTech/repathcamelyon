{
 "cells": [
  {
   "cell_type": "code",
   "execution_count": null,
   "metadata": {},
   "outputs": [],
   "source": [
    "from repath.experiments.tissuedet import *\n",
    "\n",
    "greyscale()\n",
    "otsu()\n",
    "greyscale_closing()"
   ]
  },
  {
   "cell_type": "code",
   "execution_count": null,
   "metadata": {},
   "outputs": [],
   "source": [
    "from repath.experiments.tissuedet import *\n",
    "\n",
    "greyscale_output_images()"
   ]
  },
  {
   "cell_type": "code",
   "execution_count": null,
   "metadata": {},
   "outputs": [],
   "source": [
    "path = project_root() / 'experiments' / 'tissue' / 'Greyscale' / 'colour_output_images' / 'IC-CX-00001-01.jpg'\n",
    "\n",
    "from PIL import Image\n",
    "Image.open(path)"
   ]
  },
  {
   "cell_type": "code",
   "execution_count": null,
   "metadata": {},
   "outputs": [],
   "source": [
    "from pathlib import Path\n",
    "\n",
    "import cv2\n",
    "import numpy as np\n",
    "from PIL import Image\n",
    "\n",
    "import repath.data.datasets.tissue as tissue\n",
    "from repath.preprocess.patching import GridPatchFinder, SlidesIndex, CombinedIndex\n",
    "from repath.preprocess.tissue_detection import TissueDetector, TissueDetectorAll\n",
    "from repath.utils.geometry import Size\n",
    "from repath.utils.metrics import conf_mat_plot_heatmap\n",
    "from repath.utils.paths import project_root\n",
    "\n",
    "\n",
    "from repath.preprocess.tissue_detection import TissueDetectorOTSU\n",
    "from repath.preprocess.tissue_detection.tissue_metrics import get_slide_output_masks, create_colour_output\n",
    "tissue_detector = TissueDetectorOTSU()\n",
    "base_dir = experiment_root\n",
    "label = 'Greyscale'\n",
    "level_in=7\n",
    "\n",
    "datset = tissue.tissue()\n",
    "tissue_detector_all = TissueDetectorAll()\n",
    "output_dir_colour = base_dir / label / 'colour_output_images'\n",
    "output_dir_colour.mkdir(parents=True, exist_ok=True)\n",
    "for idx, path in enumerate(datset.paths.slide[0:1]):\n",
    "    print(path)\n",
    "    annot_path = datset.paths.annotation.iloc[idx]\n",
    "    test_path = project_root() / datset.root / path\n",
    "    truth_path = project_root() / datset.root / annot_path\n",
    "    with datset.slide_cls(test_path) as slide:\n",
    "        thumb = slide.get_thumbnail(level_in)\n",
    "        tissue_mask_detected = tissue_detector(thumb)\n",
    "        if level_in >= len(slide.dimensions):\n",
    "            request_level = len(slide.dimensions) - 1\n",
    "            lev_diff = level_in - request_level\n",
    "            max_level_dim = slide.dimensions[-1]\n",
    "            requested_level_size = Size(max_level_dim.width // 2 ** lev_diff, max_level_dim.height // 2 ** lev_diff)\n",
    "            labels_shape = requested_level_size.as_shape()\n",
    "        else:\n",
    "            labels_shape = slide.dimensions[level_in].as_shape()\n",
    "        tissue_annotations = datset.load_annotations(truth_path)\n",
    "        scale_factor = 2 ** level_in\n",
    "        tissue_mask_annotated = tissue_annotations.render(labels_shape, scale_factor)\n",
    "        tn_arr, fp_arr, fn_arr, tp_arr = get_slide_output_masks(tissue_mask_annotated, tissue_mask_detected)\n",
    "        colour_thumb = create_colour_output(tn_arr, fp_arr, fn_arr, tp_arr)\n",
    "        outpath_colour = output_dir_colour / str(Path(test_path).stem + '.jpg')\n",
    "        colour_thumb.save(outpath_colour)"
   ]
  },
  {
   "cell_type": "code",
   "execution_count": null,
   "metadata": {},
   "outputs": [],
   "source": [
    "dets_mask = np.array(tissue_mask_detected*255, dtype=np.uint8)\n",
    "contours, hierarchy = cv2.findContours(dets_mask, cv2.RETR_TREE,cv2.CHAIN_APPROX_SIMPLE)\n",
    "img = cv2.drawContours(thumb, contours, -1, (0,255,0))"
   ]
  },
  {
   "cell_type": "code",
   "execution_count": null,
   "metadata": {},
   "outputs": [],
   "source": [
    "Image.fromarray(np.array(img, dtype=np.uint8))"
   ]
  },
  {
   "cell_type": "code",
   "execution_count": null,
   "metadata": {},
   "outputs": [],
   "source": [
    "import repath.data.datasets.tissue as tissue\n",
    "from repath.preprocess.patching import GridPatchFinder, SlidesIndex, CombinedIndex\n",
    "from repath.preprocess.tissue_detection import TissueDetector, TissueDetectorGreyScale, TissueDetectorAll, TissueDetectorOTSU\n",
    "from repath.utils.metrics import conf_mat_plot_heatmap\n",
    "from repath.utils.paths import project_root\n",
    "from repath.utils.seeds import set_seed\n",
    "\n",
    "\"\"\"\n",
    "Global stuff\n",
    "\"\"\"\n",
    "experiment_name = \"tissue\"\n",
    "experiment_root = project_root() / \"experiments\" / experiment_name\n",
    "\n",
    "global_seed = 123"
   ]
  },
  {
   "cell_type": "code",
   "execution_count": null,
   "metadata": {},
   "outputs": [],
   "source": [
    "set_seed(global_seed)\n",
    "tissue_dataset = tissue.tissue()\n",
    "\n"
   ]
  },
  {
   "cell_type": "code",
   "execution_count": null,
   "metadata": {},
   "outputs": [],
   "source": [
    "tissue_dataset[0]"
   ]
  },
  {
   "cell_type": "code",
   "execution_count": null,
   "metadata": {},
   "outputs": [],
   "source": [
    "slide_path = tissue_dataset[0][0]\n",
    "slide_path"
   ]
  },
  {
   "cell_type": "code",
   "execution_count": null,
   "metadata": {},
   "outputs": [],
   "source": [
    "from repath.data.slides.isyntax import Slide\n",
    "\n",
    "with Slide(slide_path, 0) as slide:\n",
    "    thumb = slide.get_thumbnail(7)"
   ]
  },
  {
   "cell_type": "code",
   "execution_count": null,
   "metadata": {},
   "outputs": [],
   "source": [
    "from PIL import Image\n",
    "Image.fromarray(thumb)"
   ]
  },
  {
   "cell_type": "code",
   "execution_count": null,
   "metadata": {},
   "outputs": [],
   "source": []
  },
  {
   "cell_type": "code",
   "execution_count": null,
   "metadata": {},
   "outputs": [],
   "source": [
    "annotation_path = tissue_dataset[0][1]\n",
    "annotation_path"
   ]
  },
  {
   "cell_type": "code",
   "execution_count": null,
   "metadata": {},
   "outputs": [],
   "source": [
    "import numpy as np\n",
    "from repath.utils.convert import np_to_pil\n",
    "\n",
    "annotations = tissue_dataset.load_annotations(annotation_path).render((thumb.shape[0], thumb.shape[1]), 2**7)\n",
    "\n",
    "Image.fromarray(np.array(annotations*255, dtype=np.uint8))"
   ]
  },
  {
   "cell_type": "code",
   "execution_count": null,
   "metadata": {},
   "outputs": [],
   "source": [
    "annot_mask = np.array(annotations, dtype=np.bool)\n",
    "annot_mask = np.expand_dims(annot_mask, axis=-1)\n",
    "thumb_masked = np.where(annot_mask, thumb, 0)\n",
    "thumb_inverse = np.where(np.logical_not(annot_mask), thumb, 0)"
   ]
  },
  {
   "cell_type": "code",
   "execution_count": null,
   "metadata": {},
   "outputs": [],
   "source": [
    "Image.fromarray(thumb_masked)"
   ]
  },
  {
   "cell_type": "code",
   "execution_count": null,
   "metadata": {},
   "outputs": [],
   "source": [
    "Image.fromarray(thumb_inverse)"
   ]
  },
  {
   "cell_type": "code",
   "execution_count": null,
   "metadata": {},
   "outputs": [],
   "source": [
    "from repath.experiments.tissuedet import *\n",
    "\n",
    "greyscale()"
   ]
  },
  {
   "cell_type": "code",
   "execution_count": null,
   "metadata": {},
   "outputs": [],
   "source": [
    "base_dir = '/home/ubuntu/repath/experiments/tissue/Greyscale/'\n",
    "truth_index = pd.read_csv(base_dir + 'truth/index.csv')\n",
    "detection_index = pd.read_csv(base_dir + 'tissue_detection/index.csv')\n",
    "detection_index"
   ]
  },
  {
   "cell_type": "code",
   "execution_count": null,
   "metadata": {},
   "outputs": [],
   "source": [
    "idx = 0"
   ]
  },
  {
   "cell_type": "code",
   "execution_count": null,
   "metadata": {},
   "outputs": [],
   "source": [
    "true_patches = pd.read_csv(truth_index.csv_path[idx])\n",
    "detected_patches = pd.read_csv(detection_index.csv_path[idx])\n",
    "patch_size = detection_index.patch_size[idx]"
   ]
  },
  {
   "cell_type": "code",
   "execution_count": null,
   "metadata": {},
   "outputs": [],
   "source": [
    "true_patches['col'] = true_patches.x.divide(patch_size)\n",
    "true_patches['row'] = true_patches.y.divide(patch_size)\n",
    "detected_patches['col'] = detected_patches.x.divide(patch_size)\n",
    "detected_patches['row'] = detected_patches.y.divide(patch_size)\n",
    "true_patches"
   ]
  },
  {
   "cell_type": "code",
   "execution_count": null,
   "metadata": {},
   "outputs": [],
   "source": [
    "def to_thumbnail_tissue(df_in, col_name: str) -> np.array:\n",
    "    max_rows = int(np.max(df_in.row)) + 1\n",
    "    max_cols = int(np.max(df_in.col)) + 1\n",
    "\n",
    "    # create a blank thumbnail\n",
    "    thumbnail_out = np.zeros((max_rows, max_cols))\n",
    "    df_out = df_in[df_in[col_name] > 0]\n",
    "\n",
    "    # for each row in dataframe set the value of the pixel specified by row and column to the probability in clazz\n",
    "    for rw in range(df_out.shape[0]):\n",
    "        df_row = df_out.iloc[rw]\n",
    "        thumbnail_out[int(df_row.row), int(df_row.col)] = df_row[col_name]\n",
    "\n",
    "    return thumbnail_out"
   ]
  },
  {
   "cell_type": "code",
   "execution_count": null,
   "metadata": {},
   "outputs": [],
   "source": [
    "\n",
    "\n",
    "    "
   ]
  },
  {
   "cell_type": "code",
   "execution_count": null,
   "metadata": {},
   "outputs": [],
   "source": [
    "tiss_np = np.array(to_thumbnail_tissue(true_patches, 'label'), dtype=bool)\n",
    "dets_np = np.array(to_thumbnail_tissue(detected_patches, 'label'), dtype=bool)\n",
    "Image.fromarray(np.array(dets_np*255, dtype=np.uint8))"
   ]
  },
  {
   "cell_type": "code",
   "execution_count": null,
   "metadata": {},
   "outputs": [],
   "source": [
    "tp_arr = np.expand_dims(np.logical_and(tiss_np, dets_np), axis=-1)\n",
    "fp_arr = np.expand_dims(np.logical_and(np.logical_not(tiss_np), dets_np), axis=-1)\n",
    "fn_arr = np.expand_dims(np.logical_and(np.logical_not(dets_np), tiss_np), axis=-1)\n",
    "tn_arr = np.expand_dims(np.logical_and(np.logical_not(tiss_np), np.logical_not(dets_np)), axis=-1)\n",
    "\n",
    "color_result = np.zeros((tiss_np.shape[0], tiss_np.shape[1], 3))\n",
    "color_result = np.where(tp_arr, [255, 255, 255], color_result)\n",
    "color_result = np.where(fp_arr, [0, 0, 255], color_result)\n",
    "color_result = np.where(fn_arr, [255, 0, 0], color_result)\n",
    "color_result = np.where(tn_arr, [0, 0, 0], color_result)\n",
    "Image.fromarray(np.array(color_result, dtype=np.uint8))"
   ]
  },
  {
   "cell_type": "code",
   "execution_count": null,
   "metadata": {},
   "outputs": [],
   "source": [
    "def colour_slide_output(true_path, detection_path, patch_size):\n",
    "    def to_thumbnail_tissue(df_in, col_name: str) -> np.array:\n",
    "        max_rows = int(np.max(df_in.row)) + 1\n",
    "        max_cols = int(np.max(df_in.col)) + 1\n",
    "\n",
    "        # create a blank thumbnail\n",
    "        thumbnail_out = np.zeros((max_rows, max_cols))\n",
    "        df_out = df_in[df_in[col_name] > 0]\n",
    "\n",
    "        # for each row in dataframe set the value of the pixel specified by row and column to the probability in clazz\n",
    "        for rw in range(df_out.shape[0]):\n",
    "            df_row = df_out.iloc[rw]\n",
    "            thumbnail_out[int(df_row.row), int(df_row.col)] = df_row[col_name]\n",
    "\n",
    "        return thumbnail_out\n",
    "    \n",
    "    true_patches = pd.read_csv(true_path)\n",
    "    detected_patches = pd.read_csv(detection_path)\n",
    "    \n",
    "    # change x y from zero level positions to pthumbnail level size\n",
    "    true_patches['col'] = true_patches.x.divide(patch_size)\n",
    "    true_patches['row'] = true_patches.y.divide(patch_size)\n",
    "    detected_patches['col'] = detected_patches.x.divide(patch_size)\n",
    "    detected_patches['row'] = detected_patches.y.divide(patch_size)\n",
    "    \n",
    "    # create thumbnails from the patch indexes\n",
    "    tiss_np = np.array(to_thumbnail_tissue(true_patches, 'label'), dtype=bool)\n",
    "    dets_np = np.array(to_thumbnail_tissue(detected_patches, 'label'), dtype=bool)\n",
    "    \n",
    "    # work out tp, fp etc arrays\n",
    "    tp_arr = np.expand_dims(np.logical_and(tiss_np, dets_np), axis=-1)\n",
    "    fp_arr = np.expand_dims(np.logical_and(np.logical_not(tiss_np), dets_np), axis=-1)\n",
    "    fn_arr = np.expand_dims(np.logical_and(np.logical_not(dets_np), tiss_np), axis=-1)\n",
    "    tn_arr = np.expand_dims(np.logical_and(np.logical_not(tiss_np), np.logical_not(dets_np)), axis=-1)\n",
    "    \n",
    "    # create a coloured ouput array\n",
    "    color_result = np.zeros((tiss_np.shape[0], tiss_np.shape[1], 3))\n",
    "    color_result = np.where(tp_arr, [255, 255, 255], color_result)\n",
    "    color_result = np.where(fp_arr, [0, 0, 255], color_result)\n",
    "    color_result = np.where(fn_arr, [255, 0, 0], color_result)\n",
    "    color_result = np.where(tn_arr, [0, 0, 0], color_result)\n",
    "    \n",
    "    return color_result"
   ]
  },
  {
   "cell_type": "code",
   "execution_count": null,
   "metadata": {},
   "outputs": [],
   "source": [
    "thums_out = []\n",
    "\n",
    "for idx in range(truth_index.shape[0]):\n",
    "    true_path = truth_index.csv_path[idx]\n",
    "    print(true_path)\n",
    "    detection_path = detection_index.csv_path[idx]\n",
    "    patch_size = detection_index.patch_size[idx]\n",
    "    colour_thumb = colour_slide_output(true_path, detection_path, patch_size)\n",
    "    thums_out.append(colour_thumb)"
   ]
  },
  {
   "cell_type": "code",
   "execution_count": null,
   "metadata": {},
   "outputs": [],
   "source": [
    "Image.fromarray(np.array(thums_out[15], dtype=np.uint8))"
   ]
  },
  {
   "cell_type": "code",
   "execution_count": null,
   "metadata": {},
   "outputs": [],
   "source": [
    "from pathlib import Path\n",
    "true_path = truth_index.csv_path[0]\n",
    "Path(true_path).stem"
   ]
  },
  {
   "cell_type": "code",
   "execution_count": null,
   "metadata": {},
   "outputs": [],
   "source": [
    "def get_output_arrays(true_path, detection_path, patch_size):\n",
    "    def to_thumbnail_tissue(df_in, col_name: str) -> np.array:\n",
    "        max_rows = int(np.max(df_in.row)) + 1\n",
    "        max_cols = int(np.max(df_in.col)) + 1\n",
    "\n",
    "        # create a blank thumbnail\n",
    "        thumbnail_out = np.zeros((max_rows, max_cols))\n",
    "        df_out = df_in[df_in[col_name] > 0]\n",
    "\n",
    "        # for each row in dataframe set the value of the pixel specified by row and column to the probability in clazz\n",
    "        for rw in range(df_out.shape[0]):\n",
    "            df_row = df_out.iloc[rw]\n",
    "            thumbnail_out[int(df_row.row), int(df_row.col)] = df_row[col_name]\n",
    "\n",
    "        return thumbnail_out\n",
    "    \n",
    "    true_patches = pd.read_csv(true_path)\n",
    "    detected_patches = pd.read_csv(detection_path)\n",
    "    \n",
    "    # change x y from zero level positions to pthumbnail level size\n",
    "    true_patches['col'] = true_patches.x.divide(patch_size)\n",
    "    true_patches['row'] = true_patches.y.divide(patch_size)\n",
    "    detected_patches['col'] = detected_patches.x.divide(patch_size)\n",
    "    detected_patches['row'] = detected_patches.y.divide(patch_size)\n",
    "    \n",
    "    # create thumbnails from the patch indexes\n",
    "    tiss_np = np.array(to_thumbnail_tissue(true_patches, 'label'), dtype=bool)\n",
    "    dets_np = np.array(to_thumbnail_tissue(detected_patches, 'label'), dtype=bool)\n",
    "    \n",
    "    # work out tp, fp etc arrays\n",
    "    tp_arr = np.expand_dims(np.logical_and(tiss_np, dets_np), axis=-1)\n",
    "    fp_arr = np.expand_dims(np.logical_and(np.logical_not(tiss_np), dets_np), axis=-1)\n",
    "    fn_arr = np.expand_dims(np.logical_and(np.logical_not(dets_np), tiss_np), axis=-1)\n",
    "    tn_arr = np.expand_dims(np.logical_and(np.logical_not(tiss_np), np.logical_not(dets_np)), axis=-1)\n",
    "      \n",
    "    return tn_arr, fp_arr, fn_arr, tp_arr"
   ]
  },
  {
   "cell_type": "code",
   "execution_count": null,
   "metadata": {},
   "outputs": [],
   "source": [
    "tn_arr, fp_arr, fn_arr, tp_arr = get_output_arrays(truth_index.csv_path[0], detection_index.csv_path[0], 128)\n",
    "\n",
    "color_result = np.zeros((fp_arr.shape[0], fp_arr.shape[1], 3))\n",
    "color_result = np.where(fp_arr, [0, 0, 1], color_result)\n",
    "color_result = np.where(fn_arr, [1, 0, 0], color_result)\n",
    "\n",
    "Image.fromarray(np.array(color_result*255, dtype=np.uint8))"
   ]
  },
  {
   "cell_type": "code",
   "execution_count": null,
   "metadata": {},
   "outputs": [],
   "source": [
    "image = thumb\n",
    "\n",
    "# change pure black to pure white\n",
    "imager = image[:, :, 0] == 0\n",
    "imageg = image[:, :, 1] == 0\n",
    "imageb = image[:, :, 2] == 0\n",
    "image_mask = np.expand_dims(np.logical_and(np.logical_and(imager, imageg), imageb), axis=-1)\n",
    "image = np.where(image_mask, [255,255,255], image)\n",
    "image = np.array(image, dtype=np.uint8)"
   ]
  },
  {
   "cell_type": "code",
   "execution_count": null,
   "metadata": {},
   "outputs": [],
   "source": [
    "thumb_hsv = color.rgb2hsv(image)\n",
    "\n",
    "\n",
    "color_mask_hsv = color.rgb2hsv(color_result)\n",
    "\n",
    "thumb_hsv[..., 0] = color_mask_hsv[..., 0]\n",
    "thumb_hsv[..., 1] += color_mask_hsv[..., 1] * 0.7\n",
    "\n",
    "img_masked = color.hsv2rgb(thumb_hsv)\n",
    "\n",
    "Image.fromarray(np.array(img_masked*255, dtype=np.uint8))"
   ]
  },
  {
   "cell_type": "code",
   "execution_count": null,
   "metadata": {},
   "outputs": [],
   "source": []
  }
 ],
 "metadata": {
  "kernelspec": {
   "display_name": "repath",
   "language": "python",
   "name": "repath"
  },
  "language_info": {
   "codemirror_mode": {
    "name": "ipython",
    "version": 3
   },
   "file_extension": ".py",
   "mimetype": "text/x-python",
   "name": "python",
   "nbconvert_exporter": "python",
   "pygments_lexer": "ipython3",
   "version": "3.6.9"
  }
 },
 "nbformat": 4,
 "nbformat_minor": 4
}
