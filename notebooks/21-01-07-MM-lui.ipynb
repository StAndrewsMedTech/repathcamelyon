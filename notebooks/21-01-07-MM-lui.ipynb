{
 "cells": [
  {
   "cell_type": "code",
   "execution_count": 1,
   "metadata": {},
   "outputs": [],
   "source": [
    "import pytorch_lightning as pl\n",
    "from pytorch_lightning.callbacks import ModelCheckpoint\n",
    "from pytorch_lightning.callbacks.early_stopping import EarlyStopping\n",
    "from pytorch_lightning import loggers as pl_loggers\n",
    "import torch\n",
    "import torch.nn.functional as F\n",
    "from torch.utils.data import DataLoader\n",
    "from torchvision.datasets import ImageFolder\n",
    "from torchvision.transforms import Compose, ToTensor, RandomCrop, RandomRotation, Normalize\n",
    "\n",
    "from repath.utils.paths import project_root\n",
    "import repath.data.datasets.camelyon16 as camelyon16\n",
    "from repath.preprocess.tissue_detection import TissueDetectorOTSU\n",
    "from repath.preprocess.patching import GridPatchFinder, SlidesIndex\n",
    "from repath.preprocess.sampling import split_camelyon16, balanced_sample\n",
    "from repath.preprocess.patching.apply_transform import ApplyTransforms, SingleTransform, LiuTransform\n",
    "from torchvision.models import Inception3\n"
   ]
  },
  {
   "cell_type": "code",
   "execution_count": 2,
   "metadata": {},
   "outputs": [],
   "source": [
    "experiment_name = \"liu\"\n",
    "experiment_root = project_root() / \"experiments\" / experiment_name\n",
    "tissue_detector = TissueDetectorOTSU()\n"
   ]
  },
  {
   "cell_type": "code",
   "execution_count": 3,
   "metadata": {},
   "outputs": [
    {
     "name": "stdout",
     "output_type": "stream",
     "text": [
      "indexing normal_038.tif\n",
      "indexing tumor_048.tif\n",
      "indexing normal_058.tif\n",
      "indexing normal_115.tif\n",
      "indexing tumor_111.tif\n",
      "indexing normal_136.tif\n",
      "indexing tumor_006.tif\n",
      "indexing tumor_090.tif\n",
      "indexing normal_129.tif\n",
      "indexing normal_027.tif\n",
      "indexing normal_052.tif\n",
      "indexing normal_082.tif\n"
     ]
    }
   ],
   "source": [
    "train_data = camelyon16.training_small()\n",
    "apply_transforms = LiuTransform(label = 2, num_transforms = 8)\n",
    "#apply_transforms = SingleTransform()\n",
    "#patch_finder = GridPatchFinder(labels_level=6, patch_level=0, patch_size=256, stride=256)\n",
    "patch_finder = GridPatchFinder(labels_level=7, patch_level=0, patch_size=128, stride=128, apply_transforms= apply_transforms)\n",
    "train_patches = SlidesIndex.index_dataset(train_data, tissue_detector, patch_finder)"
   ]
  },
  {
   "cell_type": "code",
   "execution_count": 4,
   "metadata": {},
   "outputs": [
    {
     "data": {
      "text/plain": [
       "<repath.preprocess.patching.patch_index.SlidesIndex at 0x7f3f0ca84c88>"
      ]
     },
     "execution_count": 4,
     "metadata": {},
     "output_type": "execute_result"
    }
   ],
   "source": [
    "train_patches"
   ]
  },
  {
   "cell_type": "code",
   "execution_count": 11,
   "metadata": {},
   "outputs": [
    {
     "data": {
      "text/html": [
       "<div>\n",
       "<style scoped>\n",
       "    .dataframe tbody tr th:only-of-type {\n",
       "        vertical-align: middle;\n",
       "    }\n",
       "\n",
       "    .dataframe tbody tr th {\n",
       "        vertical-align: top;\n",
       "    }\n",
       "\n",
       "    .dataframe thead th {\n",
       "        text-align: right;\n",
       "    }\n",
       "</style>\n",
       "<table border=\"1\" class=\"dataframe\">\n",
       "  <thead>\n",
       "    <tr style=\"text-align: right;\">\n",
       "      <th></th>\n",
       "      <th>x</th>\n",
       "      <th>y</th>\n",
       "      <th>label</th>\n",
       "      <th>transform</th>\n",
       "    </tr>\n",
       "  </thead>\n",
       "  <tbody>\n",
       "    <tr>\n",
       "      <th>204762</th>\n",
       "      <td>1280</td>\n",
       "      <td>34304</td>\n",
       "      <td>1</td>\n",
       "      <td>1</td>\n",
       "    </tr>\n",
       "    <tr>\n",
       "      <th>522746</th>\n",
       "      <td>21760</td>\n",
       "      <td>87552</td>\n",
       "      <td>1</td>\n",
       "      <td>1</td>\n",
       "    </tr>\n",
       "    <tr>\n",
       "      <th>522820</th>\n",
       "      <td>31232</td>\n",
       "      <td>87552</td>\n",
       "      <td>1</td>\n",
       "      <td>1</td>\n",
       "    </tr>\n",
       "    <tr>\n",
       "      <th>524349</th>\n",
       "      <td>31360</td>\n",
       "      <td>87808</td>\n",
       "      <td>1</td>\n",
       "      <td>1</td>\n",
       "    </tr>\n",
       "    <tr>\n",
       "      <th>524352</th>\n",
       "      <td>31744</td>\n",
       "      <td>87808</td>\n",
       "      <td>1</td>\n",
       "      <td>1</td>\n",
       "    </tr>\n",
       "    <tr>\n",
       "      <th>...</th>\n",
       "      <td>...</td>\n",
       "      <td>...</td>\n",
       "      <td>...</td>\n",
       "      <td>...</td>\n",
       "    </tr>\n",
       "    <tr>\n",
       "      <th>1435</th>\n",
       "      <td>34560</td>\n",
       "      <td>197760</td>\n",
       "      <td>2</td>\n",
       "      <td>4</td>\n",
       "    </tr>\n",
       "    <tr>\n",
       "      <th>1436</th>\n",
       "      <td>34560</td>\n",
       "      <td>197760</td>\n",
       "      <td>2</td>\n",
       "      <td>5</td>\n",
       "    </tr>\n",
       "    <tr>\n",
       "      <th>1437</th>\n",
       "      <td>34560</td>\n",
       "      <td>197760</td>\n",
       "      <td>2</td>\n",
       "      <td>6</td>\n",
       "    </tr>\n",
       "    <tr>\n",
       "      <th>1438</th>\n",
       "      <td>34560</td>\n",
       "      <td>197760</td>\n",
       "      <td>2</td>\n",
       "      <td>7</td>\n",
       "    </tr>\n",
       "    <tr>\n",
       "      <th>1439</th>\n",
       "      <td>34560</td>\n",
       "      <td>197760</td>\n",
       "      <td>2</td>\n",
       "      <td>8</td>\n",
       "    </tr>\n",
       "  </tbody>\n",
       "</table>\n",
       "<p>138393 rows × 4 columns</p>\n",
       "</div>"
      ],
      "text/plain": [
       "            x       y  label  transform\n",
       "204762   1280   34304      1          1\n",
       "522746  21760   87552      1          1\n",
       "522820  31232   87552      1          1\n",
       "524349  31360   87808      1          1\n",
       "524352  31744   87808      1          1\n",
       "...       ...     ...    ...        ...\n",
       "1435    34560  197760      2          4\n",
       "1436    34560  197760      2          5\n",
       "1437    34560  197760      2          6\n",
       "1438    34560  197760      2          7\n",
       "1439    34560  197760      2          8\n",
       "\n",
       "[138393 rows x 4 columns]"
      ]
     },
     "execution_count": 11,
     "metadata": {},
     "output_type": "execute_result"
    }
   ],
   "source": [
    "train_patches[1].patches_df"
   ]
  },
  {
   "cell_type": "code",
   "execution_count": 6,
   "metadata": {},
   "outputs": [
    {
     "data": {
      "text/plain": [
       "array([1])"
      ]
     },
     "execution_count": 6,
     "metadata": {},
     "output_type": "execute_result"
    }
   ],
   "source": [
    "import numpy as np\n",
    "np.unique(train_patches[2].patches_df.label)"
   ]
  },
  {
   "cell_type": "code",
   "execution_count": 7,
   "metadata": {},
   "outputs": [
    {
     "data": {
      "image/png": "[encoded data removed]",
      "text/plain": [
       "<PIL.Image.Image image mode=L size=1000x1000 at 0x7F3F0BCA0EB8>"
      ]
     },
     "execution_count": 7,
     "metadata": {},
     "output_type": "execute_result"
    }
   ],
   "source": [
    "annotation_path = project_root()/ train_data.root/ train_data.paths.annotation.iloc[7]\n",
    "annotations = train_data.load_annotations(annotation_path)\n",
    "\n",
    "arr = annotations.render([1000,1000], 256)\n",
    "\n",
    "from PIL import Image\n",
    "Image.fromarray(arr.astype('uint8')* 100)\n"
   ]
  },
  {
   "cell_type": "code",
   "execution_count": 8,
   "metadata": {},
   "outputs": [
    {
     "data": {
      "text/plain": [
       "PosixPath('/home/ubuntu/repath/data/camelyon16/raw/training/lesion_annotations/tumor_090.xml')"
      ]
     },
     "execution_count": 8,
     "metadata": {},
     "output_type": "execute_result"
    }
   ],
   "source": [
    "annotation_path"
   ]
  },
  {
   "cell_type": "code",
   "execution_count": 9,
   "metadata": {},
   "outputs": [
    {
     "data": {
      "text/html": [
       "<div>\n",
       "<style scoped>\n",
       "    .dataframe tbody tr th:only-of-type {\n",
       "        vertical-align: middle;\n",
       "    }\n",
       "\n",
       "    .dataframe tbody tr th {\n",
       "        vertical-align: top;\n",
       "    }\n",
       "\n",
       "    .dataframe thead th {\n",
       "        text-align: right;\n",
       "    }\n",
       "</style>\n",
       "<table border=\"1\" class=\"dataframe\">\n",
       "  <thead>\n",
       "    <tr style=\"text-align: right;\">\n",
       "      <th></th>\n",
       "      <th>x</th>\n",
       "      <th>y</th>\n",
       "      <th>label</th>\n",
       "      <th>transform</th>\n",
       "    </tr>\n",
       "  </thead>\n",
       "  <tbody>\n",
       "    <tr>\n",
       "      <th>123523</th>\n",
       "      <td>49536</td>\n",
       "      <td>13312</td>\n",
       "      <td>1</td>\n",
       "      <td>1</td>\n",
       "    </tr>\n",
       "    <tr>\n",
       "      <th>123525</th>\n",
       "      <td>49792</td>\n",
       "      <td>13312</td>\n",
       "      <td>1</td>\n",
       "      <td>1</td>\n",
       "    </tr>\n",
       "    <tr>\n",
       "      <th>124708</th>\n",
       "      <td>49664</td>\n",
       "      <td>13440</td>\n",
       "      <td>1</td>\n",
       "      <td>1</td>\n",
       "    </tr>\n",
       "    <tr>\n",
       "      <th>124709</th>\n",
       "      <td>49792</td>\n",
       "      <td>13440</td>\n",
       "      <td>1</td>\n",
       "      <td>1</td>\n",
       "    </tr>\n",
       "    <tr>\n",
       "      <th>125891</th>\n",
       "      <td>49536</td>\n",
       "      <td>13568</td>\n",
       "      <td>1</td>\n",
       "      <td>1</td>\n",
       "    </tr>\n",
       "    <tr>\n",
       "      <th>...</th>\n",
       "      <td>...</td>\n",
       "      <td>...</td>\n",
       "      <td>...</td>\n",
       "      <td>...</td>\n",
       "    </tr>\n",
       "    <tr>\n",
       "      <th>112147</th>\n",
       "      <td>38272</td>\n",
       "      <td>40448</td>\n",
       "      <td>2</td>\n",
       "      <td>4</td>\n",
       "    </tr>\n",
       "    <tr>\n",
       "      <th>112148</th>\n",
       "      <td>38272</td>\n",
       "      <td>40448</td>\n",
       "      <td>2</td>\n",
       "      <td>5</td>\n",
       "    </tr>\n",
       "    <tr>\n",
       "      <th>112149</th>\n",
       "      <td>38272</td>\n",
       "      <td>40448</td>\n",
       "      <td>2</td>\n",
       "      <td>6</td>\n",
       "    </tr>\n",
       "    <tr>\n",
       "      <th>112150</th>\n",
       "      <td>38272</td>\n",
       "      <td>40448</td>\n",
       "      <td>2</td>\n",
       "      <td>7</td>\n",
       "    </tr>\n",
       "    <tr>\n",
       "      <th>112151</th>\n",
       "      <td>38272</td>\n",
       "      <td>40448</td>\n",
       "      <td>2</td>\n",
       "      <td>8</td>\n",
       "    </tr>\n",
       "  </tbody>\n",
       "</table>\n",
       "<p>175856 rows × 4 columns</p>\n",
       "</div>"
      ],
      "text/plain": [
       "            x      y  label  transform\n",
       "123523  49536  13312      1          1\n",
       "123525  49792  13312      1          1\n",
       "124708  49664  13440      1          1\n",
       "124709  49792  13440      1          1\n",
       "125891  49536  13568      1          1\n",
       "...       ...    ...    ...        ...\n",
       "112147  38272  40448      2          4\n",
       "112148  38272  40448      2          5\n",
       "112149  38272  40448      2          6\n",
       "112150  38272  40448      2          7\n",
       "112151  38272  40448      2          8\n",
       "\n",
       "[175856 rows x 4 columns]"
      ]
     },
     "execution_count": 9,
     "metadata": {},
     "output_type": "execute_result"
    }
   ],
   "source": [
    "slide_path = project_root()/ train_data.root/ train_data.paths.slide.iloc[7]\n",
    "with train_data.slide_cls(slide_path) as slide:\n",
    "    labels_shape = slide.dimensions[patch_finder.labels_level].as_shape()\n",
    "    scale_factor = 2 ** patch_finder.labels_level\n",
    "    labels_image = annotations.render(labels_shape, scale_factor)\n",
    "    tissue_mask = tissue_detector(slide.get_thumbnail(patch_finder.labels_level))\n",
    "    labels_image[~tissue_mask] = 0\n",
    "    df, level, size = patch_finder(labels_image)\n",
    "df"
   ]
  },
  {
   "cell_type": "code",
   "execution_count": 10,
   "metadata": {},
   "outputs": [
    {
     "data": {
      "text/plain": [
       "array([1, 2])"
      ]
     },
     "execution_count": 10,
     "metadata": {},
     "output_type": "execute_result"
    }
   ],
   "source": [
    "np.unique(df.label)"
   ]
  },
  {
   "cell_type": "code",
   "execution_count": null,
   "metadata": {},
   "outputs": [],
   "source": []
  }
 ],
 "metadata": {
  "kernelspec": {
   "display_name": "repath",
   "language": "python",
   "name": "repath"
  },
  "language_info": {
   "codemirror_mode": {
    "name": "ipython",
    "version": 3
   },
   "file_extension": ".py",
   "mimetype": "text/x-python",
   "name": "python",
   "nbconvert_exporter": "python",
   "pygments_lexer": "ipython3",
   "version": "3.6.9"
  }
 },
 "nbformat": 4,
 "nbformat_minor": 4
}
