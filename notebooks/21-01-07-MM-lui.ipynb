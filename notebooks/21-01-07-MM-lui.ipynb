{
 "cells": [
  {
   "cell_type": "code",
   "execution_count": 1,
   "metadata": {},
   "outputs": [],
   "source": [
    "import pytorch_lightning as pl\n",
    "from pytorch_lightning.callbacks import ModelCheckpoint\n",
    "from pytorch_lightning.callbacks.early_stopping import EarlyStopping\n",
    "from pytorch_lightning import loggers as pl_loggers\n",
    "import torch\n",
    "import torch.nn.functional as F\n",
    "from torch.utils.data import DataLoader\n",
    "from torchvision.datasets import ImageFolder\n",
    "from torchvision.transforms import Compose, ToTensor, RandomCrop, RandomRotation, Normalize\n",
    "\n",
    "from repath.utils.paths import project_root\n",
    "import repath.data.datasets.camelyon16 as camelyon16\n",
    "from repath.preprocess.tissue_detection import TissueDetectorOTSU\n",
    "from repath.preprocess.patching import GridPatchFinder, SlidesIndex\n",
    "from repath.preprocess.sampling import split_camelyon16, balanced_sample\n",
    "from repath.preprocess.patching.apply_transform import ApplyTransforms, SingleTransform, LiuTransform\n",
    "from torchvision.models import Inception3\n"
   ]
  },
  {
   "cell_type": "code",
   "execution_count": 2,
   "metadata": {},
   "outputs": [],
   "source": [
    "experiment_name = \"liu\"\n",
    "experiment_root = project_root() / \"experiments\" / experiment_name\n",
    "tissue_detector = TissueDetectorOTSU()\n"
   ]
  },
  {
   "cell_type": "code",
   "execution_count": 3,
   "metadata": {},
   "outputs": [
    {
     "name": "stdout",
     "output_type": "stream",
     "text": [
      "indexing normal_038.tif\n",
      "indexing tumor_048.tif\n",
      "indexing normal_058.tif\n",
      "indexing normal_115.tif\n",
      "indexing tumor_111.tif\n",
      "indexing normal_136.tif\n",
      "indexing tumor_006.tif\n",
      "indexing tumor_090.tif\n",
      "indexing normal_129.tif\n",
      "indexing normal_027.tif\n",
      "indexing normal_052.tif\n",
      "indexing normal_082.tif\n"
     ]
    }
   ],
   "source": [
    "train_data = camelyon16.training_small()\n",
    "apply_transforms = LiuTransform(label = 2, num_transforms = 8)\n",
    "#apply_transforms = SingleTransform()\n",
    "patch_finder = GridPatchFinder(labels_level=6, patch_level=0, patch_size=256, stride=256)\n",
    "#patch_finder = GridPatchFinder(labels_level=7, patch_level=0, patch_size=128, stride=128, apply_transforms= apply_transforms)\n",
    "train_patches = SlidesIndex.index_dataset(train_data, tissue_detector, patch_finder)"
   ]
  },
  {
   "cell_type": "code",
   "execution_count": 4,
   "metadata": {},
   "outputs": [
    {
     "data": {
      "text/plain": [
       "<repath.preprocess.patching.patch_index.SlidesIndex at 0x7fda8a974748>"
      ]
     },
     "execution_count": 4,
     "metadata": {},
     "output_type": "execute_result"
    }
   ],
   "source": [
    "train_patches"
   ]
  },
  {
   "cell_type": "code",
   "execution_count": 13,
   "metadata": {},
   "outputs": [
    {
     "data": {
      "text/html": [
       "<div>\n",
       "<style scoped>\n",
       "    .dataframe tbody tr th:only-of-type {\n",
       "        vertical-align: middle;\n",
       "    }\n",
       "\n",
       "    .dataframe tbody tr th {\n",
       "        vertical-align: top;\n",
       "    }\n",
       "\n",
       "    .dataframe thead th {\n",
       "        text-align: right;\n",
       "    }\n",
       "</style>\n",
       "<table border=\"1\" class=\"dataframe\">\n",
       "  <thead>\n",
       "    <tr style=\"text-align: right;\">\n",
       "      <th></th>\n",
       "      <th>x</th>\n",
       "      <th>y</th>\n",
       "      <th>label</th>\n",
       "      <th>transform</th>\n",
       "    </tr>\n",
       "  </thead>\n",
       "  <tbody>\n",
       "    <tr>\n",
       "      <th>11244</th>\n",
       "      <td>42496</td>\n",
       "      <td>7424</td>\n",
       "      <td>1</td>\n",
       "      <td>1</td>\n",
       "    </tr>\n",
       "    <tr>\n",
       "      <th>44317</th>\n",
       "      <td>1280</td>\n",
       "      <td>29696</td>\n",
       "      <td>1</td>\n",
       "      <td>1</td>\n",
       "    </tr>\n",
       "    <tr>\n",
       "      <th>44699</th>\n",
       "      <td>1280</td>\n",
       "      <td>29952</td>\n",
       "      <td>1</td>\n",
       "      <td>1</td>\n",
       "    </tr>\n",
       "    <tr>\n",
       "      <th>45463</th>\n",
       "      <td>1280</td>\n",
       "      <td>30464</td>\n",
       "      <td>1</td>\n",
       "      <td>1</td>\n",
       "    </tr>\n",
       "    <tr>\n",
       "      <th>45845</th>\n",
       "      <td>1280</td>\n",
       "      <td>30720</td>\n",
       "      <td>1</td>\n",
       "      <td>1</td>\n",
       "    </tr>\n",
       "    <tr>\n",
       "      <th>...</th>\n",
       "      <td>...</td>\n",
       "      <td>...</td>\n",
       "      <td>...</td>\n",
       "      <td>...</td>\n",
       "    </tr>\n",
       "    <tr>\n",
       "      <th>321887</th>\n",
       "      <td>62208</td>\n",
       "      <td>215552</td>\n",
       "      <td>1</td>\n",
       "      <td>1</td>\n",
       "    </tr>\n",
       "    <tr>\n",
       "      <th>321992</th>\n",
       "      <td>89088</td>\n",
       "      <td>215552</td>\n",
       "      <td>1</td>\n",
       "      <td>1</td>\n",
       "    </tr>\n",
       "    <tr>\n",
       "      <th>321994</th>\n",
       "      <td>89600</td>\n",
       "      <td>215552</td>\n",
       "      <td>1</td>\n",
       "      <td>1</td>\n",
       "    </tr>\n",
       "    <tr>\n",
       "      <th>322018</th>\n",
       "      <td>95744</td>\n",
       "      <td>215552</td>\n",
       "      <td>1</td>\n",
       "      <td>1</td>\n",
       "    </tr>\n",
       "    <tr>\n",
       "      <th>322921</th>\n",
       "      <td>33536</td>\n",
       "      <td>216320</td>\n",
       "      <td>1</td>\n",
       "      <td>1</td>\n",
       "    </tr>\n",
       "  </tbody>\n",
       "</table>\n",
       "<p>40112 rows × 4 columns</p>\n",
       "</div>"
      ],
      "text/plain": [
       "            x       y  label  transform\n",
       "11244   42496    7424      1          1\n",
       "44317    1280   29696      1          1\n",
       "44699    1280   29952      1          1\n",
       "45463    1280   30464      1          1\n",
       "45845    1280   30720      1          1\n",
       "...       ...     ...    ...        ...\n",
       "321887  62208  215552      1          1\n",
       "321992  89088  215552      1          1\n",
       "321994  89600  215552      1          1\n",
       "322018  95744  215552      1          1\n",
       "322921  33536  216320      1          1\n",
       "\n",
       "[40112 rows x 4 columns]"
      ]
     },
     "execution_count": 13,
     "metadata": {},
     "output_type": "execute_result"
    }
   ],
   "source": [
    "train_patches[1].patches_df"
   ]
  },
  {
   "cell_type": "code",
   "execution_count": 16,
   "metadata": {},
   "outputs": [
    {
     "data": {
      "text/plain": [
       "array([1])"
      ]
     },
     "execution_count": 16,
     "metadata": {},
     "output_type": "execute_result"
    }
   ],
   "source": [
    "import numpy as np\n",
    "np.unique(train_patches[2].patches_df.label)"
   ]
  },
  {
   "cell_type": "code",
   "execution_count": 7,
   "metadata": {},
   "outputs": [
    {
     "data": {
      "image/png": "[encoded data removed]",
      "text/plain": [
       "<PIL.Image.Image image mode=L size=1000x1000 at 0x7FDA89C52DD8>"
      ]
     },
     "execution_count": 7,
     "metadata": {},
     "output_type": "execute_result"
    }
   ],
   "source": [
    "annotation_path = project_root()/ train_data.root/ train_data.paths.annotation.iloc[7]\n",
    "annotations = train_data.load_annotations(annotation_path)\n",
    "\n",
    "arr = annotations.render([1000,1000], 256)\n",
    "\n",
    "from PIL import Image\n",
    "Image.fromarray(arr.astype('uint8')* 100)\n"
   ]
  },
  {
   "cell_type": "code",
   "execution_count": 8,
   "metadata": {},
   "outputs": [
    {
     "data": {
      "text/plain": [
       "PosixPath('/home/ubuntu/repath/data/camelyon16/raw/training/lesion_annotations/tumor_090.xml')"
      ]
     },
     "execution_count": 8,
     "metadata": {},
     "output_type": "execute_result"
    }
   ],
   "source": [
    "annotation_path"
   ]
  },
  {
   "cell_type": "code",
   "execution_count": 11,
   "metadata": {},
   "outputs": [
    {
     "data": {
      "text/html": [
       "<div>\n",
       "<style scoped>\n",
       "    .dataframe tbody tr th:only-of-type {\n",
       "        vertical-align: middle;\n",
       "    }\n",
       "\n",
       "    .dataframe tbody tr th {\n",
       "        vertical-align: top;\n",
       "    }\n",
       "\n",
       "    .dataframe thead th {\n",
       "        text-align: right;\n",
       "    }\n",
       "</style>\n",
       "<table border=\"1\" class=\"dataframe\">\n",
       "  <thead>\n",
       "    <tr style=\"text-align: right;\">\n",
       "      <th></th>\n",
       "      <th>x</th>\n",
       "      <th>y</th>\n",
       "      <th>label</th>\n",
       "      <th>transform</th>\n",
       "    </tr>\n",
       "  </thead>\n",
       "  <tbody>\n",
       "    <tr>\n",
       "      <th>16418</th>\n",
       "      <td>111104</td>\n",
       "      <td>6912</td>\n",
       "      <td>1</td>\n",
       "      <td>1</td>\n",
       "    </tr>\n",
       "    <tr>\n",
       "      <th>28760</th>\n",
       "      <td>88064</td>\n",
       "      <td>12288</td>\n",
       "      <td>1</td>\n",
       "      <td>1</td>\n",
       "    </tr>\n",
       "    <tr>\n",
       "      <th>29944</th>\n",
       "      <td>88064</td>\n",
       "      <td>12800</td>\n",
       "      <td>1</td>\n",
       "      <td>1</td>\n",
       "    </tr>\n",
       "    <tr>\n",
       "      <th>30403</th>\n",
       "      <td>54016</td>\n",
       "      <td>13056</td>\n",
       "      <td>1</td>\n",
       "      <td>1</td>\n",
       "    </tr>\n",
       "    <tr>\n",
       "      <th>30535</th>\n",
       "      <td>87808</td>\n",
       "      <td>13056</td>\n",
       "      <td>1</td>\n",
       "      <td>1</td>\n",
       "    </tr>\n",
       "    <tr>\n",
       "      <th>...</th>\n",
       "      <td>...</td>\n",
       "      <td>...</td>\n",
       "      <td>...</td>\n",
       "      <td>...</td>\n",
       "    </tr>\n",
       "    <tr>\n",
       "      <th>256396</th>\n",
       "      <td>15360</td>\n",
       "      <td>110848</td>\n",
       "      <td>1</td>\n",
       "      <td>1</td>\n",
       "    </tr>\n",
       "    <tr>\n",
       "      <th>256397</th>\n",
       "      <td>15616</td>\n",
       "      <td>110848</td>\n",
       "      <td>1</td>\n",
       "      <td>1</td>\n",
       "    </tr>\n",
       "    <tr>\n",
       "      <th>256398</th>\n",
       "      <td>15872</td>\n",
       "      <td>110848</td>\n",
       "      <td>1</td>\n",
       "      <td>1</td>\n",
       "    </tr>\n",
       "    <tr>\n",
       "      <th>256399</th>\n",
       "      <td>16128</td>\n",
       "      <td>110848</td>\n",
       "      <td>1</td>\n",
       "      <td>1</td>\n",
       "    </tr>\n",
       "    <tr>\n",
       "      <th>256400</th>\n",
       "      <td>16384</td>\n",
       "      <td>110848</td>\n",
       "      <td>1</td>\n",
       "      <td>1</td>\n",
       "    </tr>\n",
       "  </tbody>\n",
       "</table>\n",
       "<p>28154 rows × 4 columns</p>\n",
       "</div>"
      ],
      "text/plain": [
       "             x       y  label  transform\n",
       "16418   111104    6912      1          1\n",
       "28760    88064   12288      1          1\n",
       "29944    88064   12800      1          1\n",
       "30403    54016   13056      1          1\n",
       "30535    87808   13056      1          1\n",
       "...        ...     ...    ...        ...\n",
       "256396   15360  110848      1          1\n",
       "256397   15616  110848      1          1\n",
       "256398   15872  110848      1          1\n",
       "256399   16128  110848      1          1\n",
       "256400   16384  110848      1          1\n",
       "\n",
       "[28154 rows x 4 columns]"
      ]
     },
     "execution_count": 11,
     "metadata": {},
     "output_type": "execute_result"
    }
   ],
   "source": [
    "slide_path = project_root()/ train_data.root/ train_data.paths.slide.iloc[7]\n",
    "with train_data.slide_cls(slide_path) as slide:\n",
    "    labels_shape = slide.dimensions[patch_finder.labels_level].as_shape()\n",
    "    scale_factor = 2 ** patch_finder.labels_level\n",
    "    labels_image = annotations.render(labels_shape, scale_factor)\n",
    "    tissue_mask = tissue_detector(slide.get_thumbnail(patch_finder.labels_level))\n",
    "    labels_image[~tissue_mask] = 0\n",
    "    df, level, size = patch_finder(labels_image)\n",
    "df"
   ]
  },
  {
   "cell_type": "code",
   "execution_count": 12,
   "metadata": {},
   "outputs": [
    {
     "data": {
      "text/plain": [
       "array([1, 2])"
      ]
     },
     "execution_count": 12,
     "metadata": {},
     "output_type": "execute_result"
    }
   ],
   "source": [
    "np.unique(df.label)"
   ]
  },
  {
   "cell_type": "code",
   "execution_count": null,
   "metadata": {},
   "outputs": [],
   "source": []
  }
 ],
 "metadata": {
  "kernelspec": {
   "display_name": "repath",
   "language": "python",
   "name": "repath"
  },
  "language_info": {
   "codemirror_mode": {
    "name": "ipython",
    "version": 3
   },
   "file_extension": ".py",
   "mimetype": "text/x-python",
   "name": "python",
   "nbconvert_exporter": "python",
   "pygments_lexer": "ipython3",
   "version": "3.6.9"
  }
 },
 "nbformat": 4,
 "nbformat_minor": 4
}
