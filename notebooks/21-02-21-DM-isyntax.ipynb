{
 "metadata": {
  "language_info": {
   "codemirror_mode": {
    "name": "ipython",
    "version": 3
   },
   "file_extension": ".py",
   "mimetype": "text/x-python",
   "name": "python",
   "nbconvert_exporter": "python",
   "pygments_lexer": "ipython3",
   "version": "3.6.9-final"
  },
  "orig_nbformat": 2,
  "kernelspec": {
   "name": "python3",
   "display_name": "Python 3.6.9 64-bit ('repath': conda)",
   "metadata": {
    "interpreter": {
     "hash": "01e26223d52b266acb87d0ea513bbfd0ecbb038896877a7f63f4fdcc03b28fd6"
    }
   }
  }
 },
 "nbformat": 4,
 "nbformat_minor": 2,
 "cells": [
  {
   "cell_type": "code",
   "execution_count": 1,
   "metadata": {},
   "outputs": [
    {
     "output_type": "error",
     "ename": "ModuleNotFoundError",
     "evalue": "No module named 'repath'",
     "traceback": [
      "\u001b[0;31m---------------------------------------------------------------------------\u001b[0m",
      "\u001b[0;31mModuleNotFoundError\u001b[0m                       Traceback (most recent call last)",
      "\u001b[0;32m<ipython-input-1-136c40e18c24>\u001b[0m in \u001b[0;36m<module>\u001b[0;34m\u001b[0m\n\u001b[0;32m----> 1\u001b[0;31m \u001b[0;32mfrom\u001b[0m \u001b[0mrepath\u001b[0m\u001b[0;34m.\u001b[0m\u001b[0mutils\u001b[0m\u001b[0;34m.\u001b[0m\u001b[0mpaths\u001b[0m \u001b[0;32mimport\u001b[0m \u001b[0mproject_root\u001b[0m\u001b[0;34m\u001b[0m\u001b[0;34m\u001b[0m\u001b[0m\n\u001b[0m\u001b[1;32m      2\u001b[0m \u001b[0;34m\u001b[0m\u001b[0m\n\u001b[1;32m      3\u001b[0m \u001b[0mslide_path\u001b[0m \u001b[0;34m=\u001b[0m \u001b[0mproject_root\u001b[0m\u001b[0;34m(\u001b[0m\u001b[0;34m)\u001b[0m \u001b[0;34m/\u001b[0m \u001b[0;34m'data'\u001b[0m \u001b[0;34m/\u001b[0m \u001b[0;34m'icaird_animal'\u001b[0m \u001b[0;34m/\u001b[0m \u001b[0;34m'raw'\u001b[0m \u001b[0;34m/\u001b[0m \u001b[0;34m'train'\u001b[0m \u001b[0;34m/\u001b[0m \u001b[0;34m'slides'\u001b[0m \u001b[0;34m/\u001b[0m\u001b[0;34m'0.isyntax'\u001b[0m\u001b[0;34m\u001b[0m\u001b[0;34m\u001b[0m\u001b[0m\n",
      "\u001b[0;31mModuleNotFoundError\u001b[0m: No module named 'repath'"
     ]
    }
   ],
   "source": [
    "from repath.utils.paths import project_root\n",
    "\n",
    "slide_path = project_root() / 'data' / 'icaird_animal' / 'raw' / 'train' / 'slides' /'0.isyntax'"
   ]
  },
  {
   "cell_type": "code",
   "execution_count": 13,
   "metadata": {},
   "outputs": [],
   "source": [
    "import repath.data.slides.libraries.pixelengine as pixelengine\n",
    "import repath.data.slides.libraries.softwarerendercontext as softwarerendercontext\n",
    "import repath.data.slides.libraries.softwarerenderbackend as softwarerenderbackend\n",
    "\n",
    "render_context = softwarerendercontext.SoftwareRenderContext()\n",
    "render_backend = softwarerenderbackend.SoftwareRenderBackend()\n",
    "pe = pixelengine.PixelEngine(render_backend, render_context)"
   ]
  },
  {
   "cell_type": "code",
   "execution_count": 14,
   "metadata": {},
   "outputs": [
    {
     "output_type": "execute_result",
     "data": {
      "text/plain": [
       "[64, 8640, 55904, 64960]"
      ]
     },
     "metadata": {},
     "execution_count": 14
    }
   ],
   "source": [
    "level = 5\n",
    "image_index = 0\n",
    "\n",
    "input = pe['in']\n",
    "input.open(str(slide_path))\n",
    "source_view = input.SourceView()\n",
    "envelopes = source_view.dataEnvelopes(level)\n",
    "rect = envelopes.asRectangles()[image_index]\n",
    "rect"
   ]
  },
  {
   "cell_type": "code",
   "execution_count": 15,
   "metadata": {},
   "outputs": [
    {
     "output_type": "execute_result",
     "data": {
      "text/plain": [
       "Point(x=64, y=55904)"
      ]
     },
     "metadata": {},
     "execution_count": 15
    }
   ],
   "source": [
    "from repath.utils.geometry import Point\n",
    "\n",
    "start_x, end_x, start_y, end_y = rect\n",
    "origin = Point(start_x, start_y)\n",
    "origin"
   ]
  },
  {
   "cell_type": "code",
   "execution_count": 16,
   "metadata": {},
   "outputs": [
    {
     "output_type": "execute_result",
     "data": {
      "text/plain": [
       "[1064, 1256, 56904, 1256, 5]"
      ]
     },
     "metadata": {},
     "execution_count": 16
    }
   ],
   "source": [
    "from typing import List\n",
    "\n",
    "from repath.utils.geometry import Size\n",
    "from repath.data.slides import Region\n",
    "\n",
    "def region_to_range(region: Region) -> List:\n",
    "    level, loc, size = region\n",
    "    range = [loc.x + origin.x, loc.x + size.width,\n",
    "             loc.y + origin.y, loc.y + size.height, level]\n",
    "    return range\n",
    "\n",
    "    level: int\n",
    "    location: Point\n",
    "    size: Size\n",
    "\n",
    "range = region_to_range(Region(5, Point(1000, 1000), Size(256, 256)))\n",
    "range"
   ]
  },
  {
   "cell_type": "code",
   "execution_count": null,
   "metadata": {},
   "outputs": [],
   "source": [
    "from concurrent import futures\n",
    "from multiprocessing import cpu_count\n",
    "\n",
    "in_regions = [Region(5, Point(1000, 1000), Size(256, 256)),\n",
    "              Region(5, Point(3000, 3000), Size(256, 256))]\n",
    "\n",
    "def get_region_size(reg):\n",
    "    x_start, x_end, y_start, y_end, lvl = reg.range\n",
    "    ranges = view.dimensionRanges(lvl)\n",
    "    # this calculation ensures that the width and height are on\n",
    "    # the pixel bounds for this level\n",
    "    w = int(1 + (x_end - x_start) / ranges[0][1])\n",
    "    h = int(1 + (y_end - y_start) / ranges[1][1])\n",
    "    return w, h\n",
    "\n",
    "def process_image(pixels, region_id, width, height):\n",
    "    print(f\"Processing region {region_id}\")\n",
    "\n",
    "ranges = [region_to_range(r) for r in regions]\n",
    "pe_regions = source_view.requestRegions(in_regions, envelopes,\n",
    "                                        True, [0,0,0],\n",
    "                                        pe.BufferType.RGB)\n",
    "jobs = []\n",
    "with futures.ThreadPoolExecutor(max_workers=cpu_count()) as executor:\n",
    "    while len(pe_regions) > 0:\n",
    "        regions_ready = pe.waitAny(pe_regions)\n",
    "        for region in regions_ready:\n",
    "            print(\"Processing region: {region}\")\n",
    "            region_idx = ranges.index(region.range)  # where the region is in the list\n",
    "            width, height = get_region_size(region)\n",
    "            buffer_size = width * height * samples_per_pixel\n",
    "            pixels = get_pixels(region, buffer_size)\n",
    "            pe_regions.remove(region)\n",
    "            jobs.append(executor.submit())\n",
    "\n",
    "futures.wait(jobs, return_when=futures.ALL_COMPLETED)\n",
    "\n",
    "images = read_regions(regions)"
   ]
  },
  {
   "cell_type": "code",
   "execution_count": null,
   "metadata": {},
   "outputs": [],
   "source": [
    "def read_regions(self, regions: List[Region]) -> List[Image]:\n",
    "\n",
    "    ranges = region_to_range()\n",
    "\n",
    "    pass"
   ]
  }
 ]
}