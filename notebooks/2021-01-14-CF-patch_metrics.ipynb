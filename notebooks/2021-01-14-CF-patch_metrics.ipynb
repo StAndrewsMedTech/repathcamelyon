{
 "cells": [
  {
   "cell_type": "code",
   "execution_count": 1,
   "metadata": {},
   "outputs": [],
   "source": [
    "from repath.utils.paths import project_root\n",
    "from repath.preprocess.patching import SlidesIndexResults\n",
    "import repath.data.datasets.camelyon16 as camelyon16\n",
    "import repath.data.datasets.camelyon17 as camelyon17"
   ]
  },
  {
   "cell_type": "code",
   "execution_count": 2,
   "metadata": {},
   "outputs": [],
   "source": [
    "experiment_name = \"lee\"\n",
    "experiment_root = project_root() / \"experiments\" / experiment_name"
   ]
  },
  {
   "cell_type": "code",
   "execution_count": 3,
   "metadata": {},
   "outputs": [],
   "source": [
    "input_dir16 = experiment_root / \"train_index16\" / \"pre_hnm_results\"\n",
    "input_dir17 = experiment_root / \"train_index17\" / \"pre_hnm_results\"\n",
    "\n",
    "results_dir_name = \"results\"\n",
    "heatmap_dir_name = \"heatmaps\"\n",
    "\n",
    "train_results16 = SlidesIndexResults.load_results_index(camelyon16.training(), input_dir16, results_dir_name,\n",
    "                                                        heatmap_dir_name)\n",
    "train_results17 = SlidesIndexResults.load_results_index(camelyon17.training(), input_dir17, results_dir_name,\n",
    "                                                        heatmap_dir_name)"
   ]
  },
  {
   "cell_type": "code",
   "execution_count": 4,
   "metadata": {},
   "outputs": [],
   "source": [
    "from pathlib import Path\n",
    "from typing import List\n",
    "\n",
    "import matplotlib.pyplot as plt\n",
    "import numpy as np\n",
    "import pandas as pd\n",
    "from sklearn.metrics import roc_curve, precision_recall_curve, auc, accuracy_score, confusion_matrix, cohen_kappa_score\n",
    "\n",
    "from repath.preprocess.patching import CombinedIndex\n",
    "from repath.utils.convert import remove_item_from_dict\n",
    "from repath.utils.metrics import conf_mat_raw, plotROC, plotROCCI, pre_re_curve, save_conf_mat_plot, save_conf_mat_plot_ci\n",
    "\n",
    "\n",
    "def calc_patch_level_metrics(patches_df: pd.DataFrame, poslabel: int = 2, posname: str = 'tumor', optimal_threshold: float = 0.5) -> pd.DataFrame:\n",
    "    # for posname column create a boolean mask of values greater than threshold (true means patch is detected as tumor)\n",
    "    posname_mask = np.greater_equal(patches_df[posname], optimal_threshold)\n",
    "    # get prediction for each patch which are either poslabel or 0\n",
    "    predictions = np.where(posname_mask, posname, 'other')\n",
    "    truenames = np.where(patches_df.label == poslabel, posname, 'other')\n",
    "    # calculate accuracy for poslabel\n",
    "    patch_accuracy = np.sum(truenames == predictions) / patches_df.shape[0]\n",
    "    # calculate number of true postives etc - not using scikit learn function as it is slow\n",
    "    tn, fp, fn, tp = conf_mat_raw(truenames, predictions,\n",
    "                                  labels=['other', posname]).ravel()\n",
    "    # calculate patch recall for poslabel\n",
    "    patch_recall = tp / (tp + fn)\n",
    "    # calculate patch specificity for poslabel\n",
    "    patch_specificity = tn / (tn + fp)\n",
    "    # calculate patch precision for poslabel\n",
    "    patch_precision = tp / (tp + fp)\n",
    "    # write results to list\n",
    "    patch_results_out = [patch_accuracy, tn, fp, fn, tp, patch_recall, patch_specificity, patch_precision]\n",
    "\n",
    "    return patch_results_out"
   ]
  },
  {
   "cell_type": "code",
   "execution_count": 5,
   "metadata": {},
   "outputs": [],
   "source": [
    "\n",
    "def patch_level_metrics(slide_results: List[SlidesIndexResults], save_dir: Path, data_title: str,\n",
    "                        posname: str = 'tumor', optimal_threshold: float = 0.5, \n",
    "                        ci: bool = False, nreps: int = 1000) -> pd.DataFrame:\n",
    "    # check save directory exists if not make it\n",
    "    save_dir.mkdir(parents=True, exist_ok=True)\n",
    "    \n",
    "    # combine into one set of patches\n",
    "    all_patches = CombinedIndex.for_slide_indexes(slide_results) \n",
    "    \n",
    "    # remove background from dict and get number that corresponds to poslabel\n",
    "    # assumes all label dicts are same for multiple datasets so just uses the first one in list\n",
    "    class_labels = remove_item_from_dict(all_patches.datasets[0].labels, 'background')\n",
    "    poslabel = class_labels[posname]\n",
    "\n",
    "    # get one number summaries\n",
    "    patch_results_out = calc_patch_level_metrics(all_patches.patches_df, poslabel, posname, optimal_threshold)\n",
    "\n",
    "    # use precision recall from scikit - calculates every threshold\n",
    "    patch_precisions, patch_recalls, patch_thresholds = precision_recall_curve(all_patches.patches_df.label,\n",
    "                                                                               all_patches.patches_df[posname],\n",
    "                                                                               pos_label=poslabel)\n",
    "    # calculate pr auc\n",
    "    patch_pr_auc = auc(patch_recalls, patch_precisions)\n",
    "    # add to list of results\n",
    "    patch_results_out.append(patch_pr_auc)\n",
    "    \n",
    "    # write out precision recall curve - without CI csv and png\n",
    "    patch_curve = pd.DataFrame(list(zip(patch_precisions, patch_recalls, patch_thresholds)), \n",
    "                               columns=['patch_precisions', 'patch_recalls', 'patch_thresholds'])\n",
    "    patch_curve.to_csv(save_dir / 'patch_pr_curve.csv', index=False)\n",
    "    title_pr = \"Patch Classification Precision-Recall Curve for \\n\" + data_title\n",
    "    pr_curve_plt = plotROC(patch_recalls, patch_precisions, patch_pr_auc, title_pr, 'Recall', 'Precision')\n",
    "    pr_curve_plt.savefig(save_dir/ \"patch_pr_curve.png\")\n",
    "\n",
    "    # convert list to dataframe with row name - results\n",
    "    col_names = ['accuracy', 'tn', 'fp', 'fn', 'tp', 'recall', 'specificity', 'precision', 'auc']\n",
    "    patch_results_out = pd.DataFrame(np.reshape(patch_results_out, (1, len(patch_results_out))), columns=col_names)\n",
    "    patch_results_out.index = ['results']\n",
    "    \n",
    "    # create confidence matrix plot and write out\n",
    "    title_cm = \"Patch Classification Confusion Matrix for \\n\" + data_title\n",
    "    save_conf_mat_plot(patch_results_out[['tn', 'fp', 'fn', 'tp']], ['normal', 'tumor'], title_cm, save_dir)\n",
    "\n",
    "    if ci:\n",
    "        # create empty list to store results this will be end up as a list of list\n",
    "        # more efficient to convert list of lists to pandas dataframe once than append row by row\n",
    "        patch_ci = []\n",
    "        # will calculate precision at a specified set of recall levels, this will be the same length for each sample\n",
    "        # if used precision_recall_curve recalls and length would vary due to different numbers of thresholds\n",
    "        nrecall_levs = 1001\n",
    "        # create empty numpy array for storing precisions\n",
    "        precisions1000 = np.empty((nreps, nrecall_levs))\n",
    "        # set recall levels\n",
    "        recall_levels = np.linspace(0.0, 1.0, nrecall_levs)\n",
    "        for rep in range(nreps):\n",
    "            print(rep)\n",
    "            # create bootstrap sample\n",
    "            sample_patches = all_patches.patches_df.sample(frac=1.0, replace=True)\n",
    "            # get one number summaries\n",
    "            ci_results = calc_patch_level_metrics(sample_patches, poslabel, posname, optimal_threshold)\n",
    "            # get precisions and store\n",
    "            pre1000 = pre_re_curve(sample_patches.label.to_numpy(), sample_patches[posname].to_numpy(), poslabel, recall_levels)\n",
    "            precisions1000[rep, :] = pre1000\n",
    "            # get pr auc\n",
    "            ci_pr_auc = auc(recall_levels[1:], pre1000[1:])\n",
    "            # append to this set of results\n",
    "            ci_results.append(ci_pr_auc)\n",
    "            # append ci_results to create list of lists of ci_results\n",
    "            patch_ci.append(ci_results)\n",
    " \n",
    "        # convert list of lists to a dataframe\n",
    "        patch_ci_df = pd.DataFrame(patch_ci, columns=col_names)\n",
    "\n",
    "        # name to rows to give sample numbers\n",
    "        patch_ci_df.index = ['sample_' + str(x) for x in range(nreps)]\n",
    "        # create confidence intervals for each \n",
    "        patch_results_out_ci = patch_ci_df.quantile([0.025, 0.975])\n",
    "        # rename rows of dataframe\n",
    "        patch_results_out_ci.index = ['ci_lower_bound', 'ci_upper_bound']\n",
    "\n",
    "        # concatenate results to give results, confidence interval then all samples\n",
    "        patch_results_out = pd.concat((patch_results_out, patch_results_out_ci, patch_ci_df), axis=0)\n",
    "\n",
    "        # create confidence interval for precision recall curve\n",
    "        precisions_ci = np.quantile(precisions1000, [0.025, 0.975], axis=0)\n",
    "        # create dataframe with precision recall curve confidence interval\n",
    "        patch_curve_ci = pd.DataFrame(np.hstack((precisions_ci.T, np.reshape(recall_levels, (1001, 1)))),\n",
    "                                      columns=['patch_precisions_lower', 'patch_precisions_upper', 'patch_recalls'])\n",
    "        # write out precision recall curve confidence interval\n",
    "        patch_curve_ci.to_csv(save_dir / 'patch_pr_curve_ci.csv', index=False)\n",
    "\n",
    "        # create pr curve with confidence interval\n",
    "        title_pr = \"Patch Classification Precision-Recall Curve for \\n\" + data_title\n",
    "        pr_curve_plt = plotROCCI(patch_recalls, patch_precisions, recall_levels, precisions_ci, patch_pr_auc,\n",
    "                                 patch_results_out_ci.auc.to_list(), title_pr, 'Recall', 'Precision')\n",
    "        pr_curve_plt.savefig(save_dir / \"patch_pr_curve_ci.png\")\n",
    "\n",
    "        # create confidence matrix plot with confidence interval and write out\n",
    "        title_cm = \"Patch Classification Confusion Matrix for \\n\" + data_title\n",
    "        save_conf_mat_plot_ci(patch_results_out[['tn', 'fp', 'fn', 'tp']], ['normal', 'tumor'], title_cm, save_dir)\n",
    "\n",
    "    # write out patch summary result dataframe\n",
    "    patch_results_out.to_csv(save_dir / 'patch_results.csv')\n",
    "\n"
   ]
  },
  {
   "cell_type": "code",
   "execution_count": 6,
   "metadata": {},
   "outputs": [],
   "source": [
    "train_outdir16 = experiment_root / \"train_index16\" / \"pre_hnm_results\" / \"patch_level_results\""
   ]
  },
  {
   "cell_type": "code",
   "execution_count": 7,
   "metadata": {},
   "outputs": [],
   "source": [
    "data_title = \"lee experiment pre hnm model Camelyon1617 training dataset\""
   ]
  },
  {
   "cell_type": "code",
   "execution_count": 8,
   "metadata": {},
   "outputs": [],
   "source": [
    "#patch_level_metrics([train_results16], train_outdir16, data_title, 'tumor', 0.5, True, 50)"
   ]
  },
  {
   "cell_type": "code",
   "execution_count": 9,
   "metadata": {},
   "outputs": [],
   "source": [
    "train_results17_annotated = train_results17.select_annotated()"
   ]
  },
  {
   "cell_type": "code",
   "execution_count": 10,
   "metadata": {},
   "outputs": [
    {
     "data": {
      "text/plain": [
       "310"
      ]
     },
     "execution_count": 10,
     "metadata": {},
     "output_type": "execute_result"
    }
   ],
   "source": [
    "len(train_results17)"
   ]
  },
  {
   "cell_type": "code",
   "execution_count": 11,
   "metadata": {},
   "outputs": [
    {
     "data": {
      "text/plain": [
       "31"
      ]
     },
     "execution_count": 11,
     "metadata": {},
     "output_type": "execute_result"
    }
   ],
   "source": [
    "len(train_results17_annotated)"
   ]
  },
  {
   "cell_type": "code",
   "execution_count": 13,
   "metadata": {},
   "outputs": [
    {
     "name": "stdout",
     "output_type": "stream",
     "text": [
      "0\n"
     ]
    },
    {
     "name": "stderr",
     "output_type": "stream",
     "text": [
      "/home/ubuntu/repath/repath/utils/metrics.py:32: RuntimeWarning: invalid value encountered in true_divide\n",
      "  precisions = np.divide(tps, np.add(tps, fps))\n"
     ]
    },
    {
     "name": "stdout",
     "output_type": "stream",
     "text": [
      "1\n"
     ]
    },
    {
     "name": "stderr",
     "output_type": "stream",
     "text": [
      "/home/ubuntu/repath/repath/utils/metrics.py:32: RuntimeWarning: invalid value encountered in true_divide\n",
      "  precisions = np.divide(tps, np.add(tps, fps))\n"
     ]
    },
    {
     "name": "stdout",
     "output_type": "stream",
     "text": [
      "2\n"
     ]
    },
    {
     "name": "stderr",
     "output_type": "stream",
     "text": [
      "/home/ubuntu/repath/repath/utils/metrics.py:32: RuntimeWarning: invalid value encountered in true_divide\n",
      "  precisions = np.divide(tps, np.add(tps, fps))\n"
     ]
    },
    {
     "name": "stdout",
     "output_type": "stream",
     "text": [
      "3\n"
     ]
    },
    {
     "name": "stderr",
     "output_type": "stream",
     "text": [
      "/home/ubuntu/repath/repath/utils/metrics.py:32: RuntimeWarning: invalid value encountered in true_divide\n",
      "  precisions = np.divide(tps, np.add(tps, fps))\n"
     ]
    },
    {
     "name": "stdout",
     "output_type": "stream",
     "text": [
      "4\n"
     ]
    },
    {
     "name": "stderr",
     "output_type": "stream",
     "text": [
      "/home/ubuntu/repath/repath/utils/metrics.py:32: RuntimeWarning: invalid value encountered in true_divide\n",
      "  precisions = np.divide(tps, np.add(tps, fps))\n"
     ]
    },
    {
     "name": "stdout",
     "output_type": "stream",
     "text": [
      "5\n"
     ]
    },
    {
     "name": "stderr",
     "output_type": "stream",
     "text": [
      "/home/ubuntu/repath/repath/utils/metrics.py:32: RuntimeWarning: invalid value encountered in true_divide\n",
      "  precisions = np.divide(tps, np.add(tps, fps))\n"
     ]
    },
    {
     "name": "stdout",
     "output_type": "stream",
     "text": [
      "6\n"
     ]
    },
    {
     "name": "stderr",
     "output_type": "stream",
     "text": [
      "/home/ubuntu/repath/repath/utils/metrics.py:32: RuntimeWarning: invalid value encountered in true_divide\n",
      "  precisions = np.divide(tps, np.add(tps, fps))\n"
     ]
    },
    {
     "name": "stdout",
     "output_type": "stream",
     "text": [
      "7\n"
     ]
    },
    {
     "name": "stderr",
     "output_type": "stream",
     "text": [
      "/home/ubuntu/repath/repath/utils/metrics.py:32: RuntimeWarning: invalid value encountered in true_divide\n",
      "  precisions = np.divide(tps, np.add(tps, fps))\n"
     ]
    },
    {
     "name": "stdout",
     "output_type": "stream",
     "text": [
      "8\n"
     ]
    },
    {
     "name": "stderr",
     "output_type": "stream",
     "text": [
      "/home/ubuntu/repath/repath/utils/metrics.py:32: RuntimeWarning: invalid value encountered in true_divide\n",
      "  precisions = np.divide(tps, np.add(tps, fps))\n"
     ]
    },
    {
     "name": "stdout",
     "output_type": "stream",
     "text": [
      "9\n"
     ]
    },
    {
     "name": "stderr",
     "output_type": "stream",
     "text": [
      "/home/ubuntu/repath/repath/utils/metrics.py:32: RuntimeWarning: invalid value encountered in true_divide\n",
      "  precisions = np.divide(tps, np.add(tps, fps))\n"
     ]
    },
    {
     "name": "stdout",
     "output_type": "stream",
     "text": [
      "10\n"
     ]
    },
    {
     "name": "stderr",
     "output_type": "stream",
     "text": [
      "/home/ubuntu/repath/repath/utils/metrics.py:32: RuntimeWarning: divide by zero encountered in true_divide\n",
      "  precisions = np.divide(tps, np.add(tps, fps))\n"
     ]
    },
    {
     "name": "stdout",
     "output_type": "stream",
     "text": [
      "11\n"
     ]
    },
    {
     "name": "stderr",
     "output_type": "stream",
     "text": [
      "/home/ubuntu/repath/repath/utils/metrics.py:32: RuntimeWarning: invalid value encountered in true_divide\n",
      "  precisions = np.divide(tps, np.add(tps, fps))\n"
     ]
    },
    {
     "name": "stdout",
     "output_type": "stream",
     "text": [
      "12\n"
     ]
    },
    {
     "name": "stderr",
     "output_type": "stream",
     "text": [
      "/home/ubuntu/repath/repath/utils/metrics.py:32: RuntimeWarning: divide by zero encountered in true_divide\n",
      "  precisions = np.divide(tps, np.add(tps, fps))\n"
     ]
    },
    {
     "name": "stdout",
     "output_type": "stream",
     "text": [
      "13\n"
     ]
    },
    {
     "name": "stderr",
     "output_type": "stream",
     "text": [
      "/home/ubuntu/repath/repath/utils/metrics.py:32: RuntimeWarning: invalid value encountered in true_divide\n",
      "  precisions = np.divide(tps, np.add(tps, fps))\n"
     ]
    },
    {
     "name": "stdout",
     "output_type": "stream",
     "text": [
      "14\n"
     ]
    },
    {
     "name": "stderr",
     "output_type": "stream",
     "text": [
      "/home/ubuntu/repath/repath/utils/metrics.py:32: RuntimeWarning: invalid value encountered in true_divide\n",
      "  precisions = np.divide(tps, np.add(tps, fps))\n"
     ]
    },
    {
     "name": "stdout",
     "output_type": "stream",
     "text": [
      "15\n"
     ]
    },
    {
     "name": "stderr",
     "output_type": "stream",
     "text": [
      "/home/ubuntu/repath/repath/utils/metrics.py:32: RuntimeWarning: invalid value encountered in true_divide\n",
      "  precisions = np.divide(tps, np.add(tps, fps))\n"
     ]
    },
    {
     "name": "stdout",
     "output_type": "stream",
     "text": [
      "16\n"
     ]
    },
    {
     "name": "stderr",
     "output_type": "stream",
     "text": [
      "/home/ubuntu/repath/repath/utils/metrics.py:32: RuntimeWarning: invalid value encountered in true_divide\n",
      "  precisions = np.divide(tps, np.add(tps, fps))\n"
     ]
    },
    {
     "name": "stdout",
     "output_type": "stream",
     "text": [
      "17\n"
     ]
    },
    {
     "name": "stderr",
     "output_type": "stream",
     "text": [
      "/home/ubuntu/repath/repath/utils/metrics.py:32: RuntimeWarning: invalid value encountered in true_divide\n",
      "  precisions = np.divide(tps, np.add(tps, fps))\n"
     ]
    },
    {
     "name": "stdout",
     "output_type": "stream",
     "text": [
      "18\n"
     ]
    },
    {
     "name": "stderr",
     "output_type": "stream",
     "text": [
      "/home/ubuntu/repath/repath/utils/metrics.py:32: RuntimeWarning: divide by zero encountered in true_divide\n",
      "  precisions = np.divide(tps, np.add(tps, fps))\n"
     ]
    },
    {
     "name": "stdout",
     "output_type": "stream",
     "text": [
      "19\n"
     ]
    },
    {
     "name": "stderr",
     "output_type": "stream",
     "text": [
      "/home/ubuntu/repath/repath/utils/metrics.py:32: RuntimeWarning: invalid value encountered in true_divide\n",
      "  precisions = np.divide(tps, np.add(tps, fps))\n"
     ]
    },
    {
     "name": "stdout",
     "output_type": "stream",
     "text": [
      "20\n"
     ]
    },
    {
     "name": "stderr",
     "output_type": "stream",
     "text": [
      "/home/ubuntu/repath/repath/utils/metrics.py:32: RuntimeWarning: invalid value encountered in true_divide\n",
      "  precisions = np.divide(tps, np.add(tps, fps))\n"
     ]
    },
    {
     "name": "stdout",
     "output_type": "stream",
     "text": [
      "21\n"
     ]
    },
    {
     "name": "stderr",
     "output_type": "stream",
     "text": [
      "/home/ubuntu/repath/repath/utils/metrics.py:32: RuntimeWarning: invalid value encountered in true_divide\n",
      "  precisions = np.divide(tps, np.add(tps, fps))\n"
     ]
    },
    {
     "name": "stdout",
     "output_type": "stream",
     "text": [
      "22\n"
     ]
    },
    {
     "name": "stderr",
     "output_type": "stream",
     "text": [
      "/home/ubuntu/repath/repath/utils/metrics.py:32: RuntimeWarning: invalid value encountered in true_divide\n",
      "  precisions = np.divide(tps, np.add(tps, fps))\n"
     ]
    },
    {
     "name": "stdout",
     "output_type": "stream",
     "text": [
      "23\n"
     ]
    },
    {
     "name": "stderr",
     "output_type": "stream",
     "text": [
      "/home/ubuntu/repath/repath/utils/metrics.py:32: RuntimeWarning: invalid value encountered in true_divide\n",
      "  precisions = np.divide(tps, np.add(tps, fps))\n"
     ]
    },
    {
     "name": "stdout",
     "output_type": "stream",
     "text": [
      "24\n"
     ]
    },
    {
     "name": "stderr",
     "output_type": "stream",
     "text": [
      "/home/ubuntu/repath/repath/utils/metrics.py:32: RuntimeWarning: invalid value encountered in true_divide\n",
      "  precisions = np.divide(tps, np.add(tps, fps))\n"
     ]
    },
    {
     "name": "stdout",
     "output_type": "stream",
     "text": [
      "25\n"
     ]
    },
    {
     "name": "stderr",
     "output_type": "stream",
     "text": [
      "/home/ubuntu/repath/repath/utils/metrics.py:32: RuntimeWarning: divide by zero encountered in true_divide\n",
      "  precisions = np.divide(tps, np.add(tps, fps))\n"
     ]
    },
    {
     "name": "stdout",
     "output_type": "stream",
     "text": [
      "26\n"
     ]
    },
    {
     "name": "stderr",
     "output_type": "stream",
     "text": [
      "/home/ubuntu/repath/repath/utils/metrics.py:32: RuntimeWarning: divide by zero encountered in true_divide\n",
      "  precisions = np.divide(tps, np.add(tps, fps))\n"
     ]
    },
    {
     "name": "stdout",
     "output_type": "stream",
     "text": [
      "27\n"
     ]
    },
    {
     "name": "stderr",
     "output_type": "stream",
     "text": [
      "/home/ubuntu/repath/repath/utils/metrics.py:32: RuntimeWarning: invalid value encountered in true_divide\n",
      "  precisions = np.divide(tps, np.add(tps, fps))\n"
     ]
    },
    {
     "name": "stdout",
     "output_type": "stream",
     "text": [
      "28\n"
     ]
    },
    {
     "name": "stderr",
     "output_type": "stream",
     "text": [
      "/home/ubuntu/repath/repath/utils/metrics.py:32: RuntimeWarning: invalid value encountered in true_divide\n",
      "  precisions = np.divide(tps, np.add(tps, fps))\n"
     ]
    },
    {
     "name": "stdout",
     "output_type": "stream",
     "text": [
      "29\n"
     ]
    },
    {
     "name": "stderr",
     "output_type": "stream",
     "text": [
      "/home/ubuntu/repath/repath/utils/metrics.py:32: RuntimeWarning: invalid value encountered in true_divide\n",
      "  precisions = np.divide(tps, np.add(tps, fps))\n"
     ]
    },
    {
     "name": "stdout",
     "output_type": "stream",
     "text": [
      "30\n"
     ]
    },
    {
     "name": "stderr",
     "output_type": "stream",
     "text": [
      "/home/ubuntu/repath/repath/utils/metrics.py:32: RuntimeWarning: invalid value encountered in true_divide\n",
      "  precisions = np.divide(tps, np.add(tps, fps))\n"
     ]
    },
    {
     "name": "stdout",
     "output_type": "stream",
     "text": [
      "31\n"
     ]
    },
    {
     "name": "stderr",
     "output_type": "stream",
     "text": [
      "/home/ubuntu/repath/repath/utils/metrics.py:32: RuntimeWarning: invalid value encountered in true_divide\n",
      "  precisions = np.divide(tps, np.add(tps, fps))\n"
     ]
    },
    {
     "name": "stdout",
     "output_type": "stream",
     "text": [
      "32\n"
     ]
    },
    {
     "name": "stderr",
     "output_type": "stream",
     "text": [
      "/home/ubuntu/repath/repath/utils/metrics.py:32: RuntimeWarning: invalid value encountered in true_divide\n",
      "  precisions = np.divide(tps, np.add(tps, fps))\n"
     ]
    },
    {
     "name": "stdout",
     "output_type": "stream",
     "text": [
      "33\n"
     ]
    },
    {
     "name": "stderr",
     "output_type": "stream",
     "text": [
      "/home/ubuntu/repath/repath/utils/metrics.py:32: RuntimeWarning: invalid value encountered in true_divide\n",
      "  precisions = np.divide(tps, np.add(tps, fps))\n"
     ]
    },
    {
     "name": "stdout",
     "output_type": "stream",
     "text": [
      "34\n"
     ]
    },
    {
     "name": "stderr",
     "output_type": "stream",
     "text": [
      "/home/ubuntu/repath/repath/utils/metrics.py:32: RuntimeWarning: invalid value encountered in true_divide\n",
      "  precisions = np.divide(tps, np.add(tps, fps))\n"
     ]
    },
    {
     "name": "stdout",
     "output_type": "stream",
     "text": [
      "35\n"
     ]
    },
    {
     "name": "stderr",
     "output_type": "stream",
     "text": [
      "/home/ubuntu/repath/repath/utils/metrics.py:32: RuntimeWarning: invalid value encountered in true_divide\n",
      "  precisions = np.divide(tps, np.add(tps, fps))\n"
     ]
    },
    {
     "name": "stdout",
     "output_type": "stream",
     "text": [
      "36\n"
     ]
    },
    {
     "name": "stderr",
     "output_type": "stream",
     "text": [
      "/home/ubuntu/repath/repath/utils/metrics.py:32: RuntimeWarning: invalid value encountered in true_divide\n",
      "  precisions = np.divide(tps, np.add(tps, fps))\n"
     ]
    },
    {
     "name": "stdout",
     "output_type": "stream",
     "text": [
      "37\n"
     ]
    },
    {
     "name": "stderr",
     "output_type": "stream",
     "text": [
      "/home/ubuntu/repath/repath/utils/metrics.py:32: RuntimeWarning: divide by zero encountered in true_divide\n",
      "  precisions = np.divide(tps, np.add(tps, fps))\n"
     ]
    },
    {
     "name": "stdout",
     "output_type": "stream",
     "text": [
      "38\n"
     ]
    },
    {
     "name": "stderr",
     "output_type": "stream",
     "text": [
      "/home/ubuntu/repath/repath/utils/metrics.py:32: RuntimeWarning: divide by zero encountered in true_divide\n",
      "  precisions = np.divide(tps, np.add(tps, fps))\n"
     ]
    },
    {
     "name": "stdout",
     "output_type": "stream",
     "text": [
      "39\n"
     ]
    },
    {
     "name": "stderr",
     "output_type": "stream",
     "text": [
      "/home/ubuntu/repath/repath/utils/metrics.py:32: RuntimeWarning: invalid value encountered in true_divide\n",
      "  precisions = np.divide(tps, np.add(tps, fps))\n"
     ]
    },
    {
     "name": "stdout",
     "output_type": "stream",
     "text": [
      "40\n"
     ]
    },
    {
     "name": "stderr",
     "output_type": "stream",
     "text": [
      "/home/ubuntu/repath/repath/utils/metrics.py:32: RuntimeWarning: invalid value encountered in true_divide\n",
      "  precisions = np.divide(tps, np.add(tps, fps))\n"
     ]
    },
    {
     "name": "stdout",
     "output_type": "stream",
     "text": [
      "41\n"
     ]
    },
    {
     "name": "stderr",
     "output_type": "stream",
     "text": [
      "/home/ubuntu/repath/repath/utils/metrics.py:32: RuntimeWarning: invalid value encountered in true_divide\n",
      "  precisions = np.divide(tps, np.add(tps, fps))\n"
     ]
    },
    {
     "name": "stdout",
     "output_type": "stream",
     "text": [
      "42\n"
     ]
    },
    {
     "name": "stderr",
     "output_type": "stream",
     "text": [
      "/home/ubuntu/repath/repath/utils/metrics.py:32: RuntimeWarning: invalid value encountered in true_divide\n",
      "  precisions = np.divide(tps, np.add(tps, fps))\n"
     ]
    },
    {
     "name": "stdout",
     "output_type": "stream",
     "text": [
      "43\n"
     ]
    },
    {
     "name": "stderr",
     "output_type": "stream",
     "text": [
      "/home/ubuntu/repath/repath/utils/metrics.py:32: RuntimeWarning: divide by zero encountered in true_divide\n",
      "  precisions = np.divide(tps, np.add(tps, fps))\n"
     ]
    },
    {
     "name": "stdout",
     "output_type": "stream",
     "text": [
      "44\n"
     ]
    },
    {
     "name": "stderr",
     "output_type": "stream",
     "text": [
      "/home/ubuntu/repath/repath/utils/metrics.py:32: RuntimeWarning: divide by zero encountered in true_divide\n",
      "  precisions = np.divide(tps, np.add(tps, fps))\n"
     ]
    },
    {
     "name": "stdout",
     "output_type": "stream",
     "text": [
      "45\n"
     ]
    },
    {
     "name": "stderr",
     "output_type": "stream",
     "text": [
      "/home/ubuntu/repath/repath/utils/metrics.py:32: RuntimeWarning: invalid value encountered in true_divide\n",
      "  precisions = np.divide(tps, np.add(tps, fps))\n"
     ]
    },
    {
     "name": "stdout",
     "output_type": "stream",
     "text": [
      "46\n"
     ]
    },
    {
     "name": "stderr",
     "output_type": "stream",
     "text": [
      "/home/ubuntu/repath/repath/utils/metrics.py:32: RuntimeWarning: invalid value encountered in true_divide\n",
      "  precisions = np.divide(tps, np.add(tps, fps))\n"
     ]
    },
    {
     "name": "stdout",
     "output_type": "stream",
     "text": [
      "47\n"
     ]
    },
    {
     "name": "stderr",
     "output_type": "stream",
     "text": [
      "/home/ubuntu/repath/repath/utils/metrics.py:32: RuntimeWarning: invalid value encountered in true_divide\n",
      "  precisions = np.divide(tps, np.add(tps, fps))\n"
     ]
    },
    {
     "name": "stdout",
     "output_type": "stream",
     "text": [
      "48\n"
     ]
    },
    {
     "name": "stderr",
     "output_type": "stream",
     "text": [
      "/home/ubuntu/repath/repath/utils/metrics.py:32: RuntimeWarning: invalid value encountered in true_divide\n",
      "  precisions = np.divide(tps, np.add(tps, fps))\n"
     ]
    },
    {
     "name": "stdout",
     "output_type": "stream",
     "text": [
      "49\n"
     ]
    },
    {
     "name": "stderr",
     "output_type": "stream",
     "text": [
      "/home/ubuntu/repath/repath/utils/metrics.py:32: RuntimeWarning: invalid value encountered in true_divide\n",
      "  precisions = np.divide(tps, np.add(tps, fps))\n"
     ]
    },
    {
     "data": {
      "image/png": "[encoded data removed]",
      "text/plain": [
       "<Figure size 432x288 with 1 Axes>"
      ]
     },
     "metadata": {
      "needs_background": "light"
     },
     "output_type": "display_data"
    },
    {
     "data": {
      "image/png": "[encoded data removed]",
      "text/plain": [
       "<Figure size 432x288 with 1 Axes>"
      ]
     },
     "metadata": {
      "needs_background": "light"
     },
     "output_type": "display_data"
    },
    {
     "data": {
      "image/png": "[encoded data removed]",
      "text/plain": [
       "<Figure size 432x288 with 1 Axes>"
      ]
     },
     "metadata": {
      "needs_background": "light"
     },
     "output_type": "display_data"
    },
    {
     "data": {
      "image/png": "[encoded data removed]",
      "text/plain": [
       "<Figure size 432x288 with 1 Axes>"
      ]
     },
     "metadata": {
      "needs_background": "light"
     },
     "output_type": "display_data"
    }
   ],
   "source": [
    "patch_level_metrics([train_results16, train_results17_annotated], train_outdir16, data_title, 'tumor', 0.5, True, 50)"
   ]
  },
  {
   "cell_type": "code",
   "execution_count": 14,
   "metadata": {},
   "outputs": [],
   "source": [
    "img_paths = project_root() / 'experiments' / 'liu' / 'training_patches' / 'normal'"
   ]
  },
  {
   "cell_type": "code",
   "execution_count": 15,
   "metadata": {},
   "outputs": [],
   "source": [
    "import os\n",
    "\n",
    "img_list = os.listdir(img_paths)"
   ]
  },
  {
   "cell_type": "code",
   "execution_count": 16,
   "metadata": {},
   "outputs": [
    {
     "data": {
      "text/plain": [
       "'normal-normal_093-60032-140928.png'"
      ]
     },
     "execution_count": 16,
     "metadata": {},
     "output_type": "execute_result"
    }
   ],
   "source": [
    "img_list[0]"
   ]
  },
  {
   "cell_type": "code",
   "execution_count": 17,
   "metadata": {},
   "outputs": [
    {
     "data": {
      "image/png": "[encoded data removed]",
      "text/plain": [
       "<PIL.PngImagePlugin.PngImageFile image mode=RGBA size=128x128 at 0x7F907D230D68>"
      ]
     },
     "execution_count": 17,
     "metadata": {},
     "output_type": "execute_result"
    }
   ],
   "source": [
    "from PIL import Image\n",
    "\n",
    "im = Image.open(img_paths / img_list[0])\n",
    "\n",
    "im"
   ]
  },
  {
   "cell_type": "code",
   "execution_count": 19,
   "metadata": {},
   "outputs": [
    {
     "data": {
      "text/plain": [
       "(128, 128)"
      ]
     },
     "execution_count": 19,
     "metadata": {},
     "output_type": "execute_result"
    }
   ],
   "source": [
    "im.size"
   ]
  },
  {
   "cell_type": "code",
   "execution_count": null,
   "metadata": {},
   "outputs": [],
   "source": []
  },
  {
   "cell_type": "code",
   "execution_count": null,
   "metadata": {},
   "outputs": [],
   "source": []
  },
  {
   "cell_type": "code",
   "execution_count": null,
   "metadata": {},
   "outputs": [],
   "source": []
  },
  {
   "cell_type": "code",
   "execution_count": null,
   "metadata": {},
   "outputs": [],
   "source": []
  },
  {
   "cell_type": "code",
   "execution_count": null,
   "metadata": {},
   "outputs": [],
   "source": []
  },
  {
   "cell_type": "code",
   "execution_count": null,
   "metadata": {},
   "outputs": [],
   "source": []
  },
  {
   "cell_type": "code",
   "execution_count": null,
   "metadata": {},
   "outputs": [],
   "source": []
  },
  {
   "cell_type": "code",
   "execution_count": null,
   "metadata": {},
   "outputs": [],
   "source": []
  },
  {
   "cell_type": "code",
   "execution_count": null,
   "metadata": {},
   "outputs": [],
   "source": []
  },
  {
   "cell_type": "code",
   "execution_count": null,
   "metadata": {},
   "outputs": [],
   "source": []
  },
  {
   "cell_type": "code",
   "execution_count": null,
   "metadata": {},
   "outputs": [],
   "source": []
  },
  {
   "cell_type": "code",
   "execution_count": null,
   "metadata": {},
   "outputs": [],
   "source": []
  },
  {
   "cell_type": "code",
   "execution_count": null,
   "metadata": {},
   "outputs": [],
   "source": []
  },
  {
   "cell_type": "code",
   "execution_count": null,
   "metadata": {},
   "outputs": [],
   "source": []
  },
  {
   "cell_type": "code",
   "execution_count": null,
   "metadata": {},
   "outputs": [],
   "source": [
    "\n"
   ]
  }
 ],
 "metadata": {
  "kernelspec": {
   "display_name": "repath",
   "language": "python",
   "name": "repath"
  },
  "language_info": {
   "codemirror_mode": {
    "name": "ipython",
    "version": 3
   },
   "file_extension": ".py",
   "mimetype": "text/x-python",
   "name": "python",
   "nbconvert_exporter": "python",
   "pygments_lexer": "ipython3",
   "version": "3.6.9"
  }
 },
 "nbformat": 4,
 "nbformat_minor": 4
}
